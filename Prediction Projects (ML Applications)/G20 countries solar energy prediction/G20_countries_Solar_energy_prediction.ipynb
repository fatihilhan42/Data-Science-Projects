{
 "cells": [
  {
   "cell_type": "code",
   "execution_count": 2,
   "metadata": {},
   "outputs": [],
   "source": [
    "import pandas as pd"
   ]
  },
  {
   "cell_type": "code",
   "execution_count": 3,
   "metadata": {},
   "outputs": [],
   "source": [
    "# Load the data into a pandas dataframe\n",
    "df = pd.read_csv("Dataset/G20_Solar_energy.csv\")"
   ]
  },
  {
   "cell_type": "code",
   "execution_count": 5,
   "metadata": {},
   "outputs": [
    {
     "data": {
      "text/plain": [
       "Index(['Country', 'Code', 'Year', 'Electricity_prod_TWh', 'Annual_change_TWh',\n",
       "       'Solar_growth_pct'],\n",
       "      dtype='object')"
      ]
     },
     "execution_count": 5,
     "metadata": {},
     "output_type": "execute_result"
    }
   ],
   "source": [
    "df.columns"
   ]
  },
  {
   "cell_type": "code",
   "execution_count": 6,
   "metadata": {},
   "outputs": [
    {
     "data": {
      "text/html": [
       "<div>\n",
       "<style scoped>\n",
       "    .dataframe tbody tr th:only-of-type {\n",
       "        vertical-align: middle;\n",
       "    }\n",
       "\n",
       "    .dataframe tbody tr th {\n",
       "        vertical-align: top;\n",
       "    }\n",
       "\n",
       "    .dataframe thead th {\n",
       "        text-align: right;\n",
       "    }\n",
       "</style>\n",
       "<table border=\"1\" class=\"dataframe\">\n",
       "  <thead>\n",
       "    <tr style=\"text-align: right;\">\n",
       "      <th></th>\n",
       "      <th>Country</th>\n",
       "      <th>Code</th>\n",
       "      <th>Year</th>\n",
       "      <th>Electricity_prod_TWh</th>\n",
       "      <th>Annual_change_TWh</th>\n",
       "      <th>Solar_growth_pct</th>\n",
       "    </tr>\n",
       "  </thead>\n",
       "  <tbody>\n",
       "    <tr>\n",
       "      <th>0</th>\n",
       "      <td>Argentina</td>\n",
       "      <td>ARG</td>\n",
       "      <td>1999</td>\n",
       "      <td>0.000026</td>\n",
       "      <td>0.000027</td>\n",
       "      <td>52.941166</td>\n",
       "    </tr>\n",
       "    <tr>\n",
       "      <th>1</th>\n",
       "      <td>Argentina</td>\n",
       "      <td>ARG</td>\n",
       "      <td>2000</td>\n",
       "      <td>0.000000</td>\n",
       "      <td>0.000029</td>\n",
       "      <td>38.461540</td>\n",
       "    </tr>\n",
       "    <tr>\n",
       "      <th>2</th>\n",
       "      <td>Argentina</td>\n",
       "      <td>ARG</td>\n",
       "      <td>2001</td>\n",
       "      <td>0.000000</td>\n",
       "      <td>0.000020</td>\n",
       "      <td>19.444443</td>\n",
       "    </tr>\n",
       "    <tr>\n",
       "      <th>3</th>\n",
       "      <td>Argentina</td>\n",
       "      <td>ARG</td>\n",
       "      <td>2002</td>\n",
       "      <td>0.000000</td>\n",
       "      <td>0.000011</td>\n",
       "      <td>9.302330</td>\n",
       "    </tr>\n",
       "    <tr>\n",
       "      <th>4</th>\n",
       "      <td>Argentina</td>\n",
       "      <td>ARG</td>\n",
       "      <td>2003</td>\n",
       "      <td>0.000000</td>\n",
       "      <td>0.000051</td>\n",
       "      <td>38.297867</td>\n",
       "    </tr>\n",
       "  </tbody>\n",
       "</table>\n",
       "</div>"
      ],
      "text/plain": [
       "     Country Code  Year  Electricity_prod_TWh  Annual_change_TWh  \\\n",
       "0  Argentina  ARG  1999              0.000026           0.000027   \n",
       "1  Argentina  ARG  2000              0.000000           0.000029   \n",
       "2  Argentina  ARG  2001              0.000000           0.000020   \n",
       "3  Argentina  ARG  2002              0.000000           0.000011   \n",
       "4  Argentina  ARG  2003              0.000000           0.000051   \n",
       "\n",
       "   Solar_growth_pct  \n",
       "0         52.941166  \n",
       "1         38.461540  \n",
       "2         19.444443  \n",
       "3          9.302330  \n",
       "4         38.297867  "
      ]
     },
     "execution_count": 6,
     "metadata": {},
     "output_type": "execute_result"
    }
   ],
   "source": [
    "df.head()"
   ]
  },
  {
   "cell_type": "code",
   "execution_count": 8,
   "metadata": {},
   "outputs": [
    {
     "name": "stdout",
     "output_type": "stream",
     "text": [
      "<class 'pandas.core.frame.DataFrame'>\n",
      "RangeIndex: 464 entries, 0 to 463\n",
      "Data columns (total 6 columns):\n",
      " #   Column                Non-Null Count  Dtype  \n",
      "---  ------                --------------  -----  \n",
      " 0   Country               464 non-null    object \n",
      " 1   Code                  464 non-null    object \n",
      " 2   Year                  464 non-null    int64  \n",
      " 3   Electricity_prod_TWh  464 non-null    float64\n",
      " 4   Annual_change_TWh     464 non-null    float64\n",
      " 5   Solar_growth_pct      464 non-null    float64\n",
      "dtypes: float64(3), int64(1), object(2)\n",
      "memory usage: 21.9+ KB\n"
     ]
    }
   ],
   "source": [
    "df.info()"
   ]
  },
  {
   "cell_type": "code",
   "execution_count": null,
   "metadata": {},
   "outputs": [],
   "source": [
    "import pandas as pd\n",
    "from statsmodels.tsa.arima.model import ARIMA\n",
    "\n",
    "# Load the data\n",
    "df = pd.read_csv(\"D:/G-PYTHON/Data science portfolyo projects/Solar Energy prediction projects/Dataset/G20_Solar_energy.csv\")\n",
    "\n",
    "# Group data by country\n",
    "grouped = df.groupby('Country')\n",
    "\n",
    "# Fit an ARIMA model for each country\n",
    "forecasts = []\n",
    "for country, data in grouped:\n",
    "    model = ARIMA(data['Electricity_prod_TWh'], order=(1,1,1))\n",
    "    results = model.fit()\n",
    "\n",
    "    # Generate forecast for 2022 to 2100\n",
    "    future_years = range(2022, 2101)\n",
    "    forecast = results.forecast(steps=len(future_years))\n",
    "\n",
    "    # Create a dataframe of the forecast\n",
    "    forecast_df = pd.DataFrame({\n",
    "        'Country': [country] * len(future_years),\n",
    "        'Code': [data.iloc[0]['Code']] * len(future_years),\n",
    "        'Year': future_years,\n",
    "        'Electricity_prod_TWh': forecast,\n",
    "        'Annual_change_TWh': [data['Annual_change_TWh'].mean()] * len(future_years),\n",
    "        'Solar_growth_pct': [data['Solar_growth_pct'].mean()] * len(future_years)\n",
    "        \n",
    "    })\n",
    "    forecasts.append(forecast_df)\n",
    "\n",
    "# Combine all forecasts into a single dataframe\n",
    "forecast_df = pd.concat(forecasts, ignore_index=True)\n",
    "\n",
    "# Save the forecast to a CSV file\n",
    "forecast_df.to_csv('forecast.csv', index=False)\n"
   ]
  }
 ],
 "metadata": {
  "kernelspec": {
   "display_name": "base",
   "language": "python",
   "name": "python3"
  },
  "language_info": {
   "codemirror_mode": {
    "name": "ipython",
    "version": 3
   },
   "file_extension": ".py",
   "mimetype": "text/x-python",
   "name": "python",
   "nbconvert_exporter": "python",
   "pygments_lexer": "ipython3",
   "version": "3.10.6"
  },
  "orig_nbformat": 4
 },
 "nbformat": 4,
 "nbformat_minor": 2
}
