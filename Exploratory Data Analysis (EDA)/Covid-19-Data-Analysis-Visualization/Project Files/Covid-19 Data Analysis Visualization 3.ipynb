{
 "cells": [
  {
   "cell_type": "markdown",
   "metadata": {},
   "source": [
    "# New Cases and No. of Countries"
   ]
  },
  {
   "cell_type": "code",
   "execution_count": null,
   "metadata": {},
   "outputs": [],
   "source": [
    "# import\n",
    "import plotly.express as px\n",
    "import plotly.graph_objects as go\n",
    "import plotly.figure_factory as ff\n",
    "from plotly.subplots import make_subplots\n",
    "\n",
    "import folium\n",
    "\n",
    "import pandas as pd \n",
    "import numpy as np\n",
    "import matplotlib.pyplot as plt\n",
    "\n",
    "%matplotlib inline\n",
    "\n",
    "import math \n",
    "import random\n",
    "from datetime import timedelta\n",
    "\n",
    "import warnings \n",
    "warnings.filterwarnings('ignore')\n",
    "\n",
    "# color pallette \n",
    "cnf = '#393e46'\n",
    "dth = '#ff2e63'\n",
    "rec = '#9ACD32'\n",
    "act = '#fe9801'"
   ]
  },
  {
   "cell_type": "code",
   "execution_count": null,
   "metadata": {},
   "outputs": [],
   "source": [
    "import plotly as py\n",
    "py.offline.init_notebook_mode(connected=True)"
   ]
  },
  {
   "cell_type": "code",
   "execution_count": null,
   "metadata": {},
   "outputs": [],
   "source": [
    "import os"
   ]
  },
  {
   "cell_type": "code",
   "execution_count": null,
   "metadata": {},
   "outputs": [],
   "source": [
    "try:\n",
    "    os.system(\"rm - rf Covid-19-Preprocessed-Dataset\")\n",
    "except:\n",
    "    print(\"File does not exist\")"
   ]
  },
  {
   "cell_type": "code",
   "execution_count": null,
   "metadata": {},
   "outputs": [],
   "source": [
    "!git clone https://github.com/laxmimerit/Covid-19-Preprocessed-Dataset"
   ]
  },
  {
   "cell_type": "code",
   "execution_count": null,
   "metadata": {},
   "outputs": [],
   "source": [
    "df = pd.read_csv('Covid-19-Preprocessed-Dataset/preprocessed/covid_19_data_cleaned.csv', parse_dates=['Date'])\n",
    "country_daywise= pd.read_csv('Covid-19-Preprocessed-Dataset/preprocessed/country_daywise.csv', parse_dates=['Date'])\n",
    "countrywise = pd.read_csv('Covid-19-Preprocessed-Dataset/preprocessed/countrywise.csv')\n",
    "daywise = pd.read_csv('Covid-19-Preprocessed-Dataset/preprocessed/daywise.csv', parse_dates=['Date'])"
   ]
  },
  {
   "cell_type": "code",
   "execution_count": null,
   "metadata": {},
   "outputs": [],
   "source": [
    "df['Date']= pd.to_datetime(df['Date'])\n",
    "df.info()"
   ]
  },
  {
   "cell_type": "code",
   "execution_count": null,
   "metadata": {},
   "outputs": [],
   "source": [
    "df['Province/State']= df['Province/State'].fillna(\"\")\n",
    "df.tail()"
   ]
  },
  {
   "cell_type": "code",
   "execution_count": null,
   "metadata": {},
   "outputs": [],
   "source": [
    "fig_c = px.bar(daywise, x = 'Date', y = 'Confirmed', color_discrete_sequence = [act])\n",
    "fig_d = px.bar(daywise, x = 'Date', y = 'No. of Countries', color_discrete_sequence = [dth])\n",
    "\n",
    "fig = make_subplots(rows = 1, cols = 2, shared_xaxes=False, horizontal_spacing=0.1,\n",
    "                    subplot_titles=('No. of New Cases per Day', 'No. of Countries'))\n",
    "\n",
    "fig.add_trace(fig_c['data'][0], row = 1, col = 1)\n",
    "fig.add_trace(fig_d['data'][0], row = 1, col = 2)\n",
    "\n",
    "fig.show()"
   ]
  },
  {
   "cell_type": "markdown",
   "metadata": {},
   "source": [
    "# Top 15 Countries Case Analysis"
   ]
  },
  {
   "cell_type": "code",
   "execution_count": null,
   "metadata": {},
   "outputs": [],
   "source": [
    "countrywise.columns"
   ]
  },
  {
   "cell_type": "code",
   "execution_count": null,
   "metadata": {},
   "outputs": [],
   "source": [
    "top = 20\n",
    "\n",
    "fig_c = px.bar(countrywise.sort_values('Confirmed').tail(top), x='Confirmed', y ='Country',\n",
    "               text = 'Confirmed', orientation = 'h', color_discrete_sequence=[cnf])\n",
    "fig_d = px.bar(countrywise.sort_values('Deaths').tail(top), x='Deaths', y ='Country',\n",
    "               text = 'Deaths', orientation = 'h', color_discrete_sequence=[dth])\n",
    "\n",
    "\n",
    "fig_a = px.bar(countrywise.sort_values('Active').tail(top), x = 'Active', y = 'Country',\n",
    "               text= 'Active', orientation='h', color_discrete_sequence=[act])\n",
    "fig_r = px.bar(countrywise.sort_values('Recovered').tail(top), x = 'Recovered', y = 'Country',\n",
    "               text= 'Recovered', orientation='h', color_discrete_sequence=[rec])\n",
    "\n",
    "\n",
    "fig_dc = px.bar(countrywise.sort_values('Deaths / 100 Cases'). tail(top), x = 'Deaths / 100 Cases',y = 'Country',\n",
    "                text = 'Deaths / 100 Cases', orientation = 'h', color_discrete_sequence=['#f84351'])\n",
    "fig_rc = px.bar(countrywise.sort_values('Recovered / 100 Cases'). tail(top), x = 'Recovered / 100 Cases',y = 'Country',\n",
    "                text = 'Recovered / 100 Cases', orientation = 'h', color_discrete_sequence=['#a45398'])\n",
    "\n",
    "\n",
    "fig_nc = px.bar(countrywise.sort_values('New Cases'). tail(top), x = 'New Cases',y = 'Country',\n",
    "                text = 'New Cases', orientation = 'h', color_discrete_sequence=['#f84351'])\n",
    "temp = countrywise[countrywise['Population']>1000000]\n",
    "fig_p = px.bar(countrywise.sort_values('Cases / Million People'). tail(top), x = 'Cases / Million People',y = 'Country',\n",
    "                text = 'Cases / Million People', orientation = 'h', color_discrete_sequence=['#b40398'])\n",
    "\n",
    "fig_wc = px.bar(countrywise.sort_values('1 week change'). tail(top), x = '1 week change',y = 'Country',\n",
    "                text = '1 week change', orientation = 'h', color_discrete_sequence=['#c04041'])\n",
    "temp = countrywise[countrywise['Confirmed']>100]\n",
    "fig_wi = px.bar(countrywise.sort_values('1 week % increase'). tail(top), x = '1 week % increase',y = 'Country',\n",
    "                text = '1 week % increase', orientation = 'h', color_discrete_sequence=['#b00398'])\n",
    "\n",
    "\n",
    "\n",
    "\n",
    "\n",
    "\n",
    "fig = make_subplots(rows = 5 , cols = 2, shared_xaxes = False, horizontal_spacing=0.2,\n",
    "                    vertical_spacing =.05,\n",
    "                    subplot_titles = ('Confirmed Cases', 'Deaths Reported', 'Active Cases','Recovered Cases',\n",
    "                                      'Deaths / 100 Cases','Recovered / 100 Cases','New Cases','Cases / Million People',\n",
    "                                       '1 week change', '1 week % increase'))\n",
    "\n",
    "fig.add_trace(fig_c['data'][0], row = 1, col = 1)\n",
    "fig.add_trace(fig_d['data'][0], row = 1, col = 2)\n",
    "\n",
    "fig.add_trace(fig_a['data'][0], row = 2, col = 1)\n",
    "fig.add_trace(fig_r['data'][0], row = 2, col = 2)\n",
    "\n",
    "fig.add_trace(fig_dc['data'][0], row = 3, col = 1)\n",
    "fig.add_trace(fig_rc['data'][0], row = 3, col = 2)\n",
    "\n",
    "fig.add_trace(fig_nc['data'][0], row = 4, col = 1)\n",
    "fig.add_trace(fig_p['data'][0], row = 4, col = 2)\n",
    "\n",
    "fig.add_trace(fig_wc['data'][0], row = 5, col = 1)\n",
    "fig.add_trace(fig_wi['data'][0], row = 5, col = 2)\n",
    "\n",
    "\n",
    "\n",
    "\n",
    "\n",
    "fig.update_layout(height = 4000)\n",
    "fig.show()"
   ]
  },
  {
   "cell_type": "markdown",
   "metadata": {},
   "source": [
    "#Since the number of recoveries as of August 5 is not included in the data set, it appears as 0 as of August 5, 2021, which has improved in the graphics and tables."
   ]
  },
  {
   "cell_type": "markdown",
   "metadata": {},
   "source": [
    "# Save Static Plots"
   ]
  },
  {
   "cell_type": "code",
   "execution_count": null,
   "metadata": {},
   "outputs": [],
   "source": [
    "# install\n",
    "# conda install -c plotly plotly-orca=1.2.1 psutil requests"
   ]
  },
  {
   "cell_type": "code",
   "execution_count": null,
   "metadata": {},
   "outputs": [],
   "source": [
    "if not os.path.exists('images'):\n",
    "    os.mkdir('images')"
   ]
  },
  {
   "cell_type": "code",
   "execution_count": null,
   "metadata": {},
   "outputs": [],
   "source": [
    "fig.write_image('images/fig.png')"
   ]
  },
  {
   "cell_type": "code",
   "execution_count": null,
   "metadata": {},
   "outputs": [],
   "source": [
    "fig.write_image('images/fig.jpeg')"
   ]
  },
  {
   "cell_type": "code",
   "execution_count": null,
   "metadata": {},
   "outputs": [],
   "source": [
    "fig.write_image('images/fig.pdf')"
   ]
  },
  {
   "cell_type": "markdown",
   "metadata": {},
   "source": [
    "# Scatter Plot for Deaths vs Confirmed Cases"
   ]
  },
  {
   "cell_type": "code",
   "execution_count": null,
   "metadata": {},
   "outputs": [],
   "source": [
    "countrywise.sort_values('Deaths', ascending=False).iloc[:15, :]"
   ]
  },
  {
   "cell_type": "markdown",
   "metadata": {},
   "source": [
    "#Since the number of recoveries as of August 5 is not included in the data set, it appears as 0 as of August 5, 2021, which has improved in the graphics and tables."
   ]
  },
  {
   "cell_type": "code",
   "execution_count": null,
   "metadata": {},
   "outputs": [],
   "source": [
    "top = 20\n",
    "fig = px.scatter(countrywise.sort_values('Deaths', ascending=False).head(top),\n",
    "                 x ='Confirmed', y='Deaths', color = 'Country', size = 'Confirmed', height = 700,\n",
    "                 text = 'Country', log_x= True, log_y = True, title = 'Deaths vs Confirmed Cases (Cases are on log10 scale)')\n",
    "fig.update_traces(textposition = 'top center')\n",
    "fig.update_layout(showlegend = True)\n",
    "fig.update_layout(xaxis_rangeslider_visible = True)"
   ]
  },
  {
   "cell_type": "code",
   "execution_count": null,
   "metadata": {},
   "outputs": [],
   "source": [
    "countrywise.sort_values('Deaths', ascending=False).head(15)"
   ]
  },
  {
   "cell_type": "markdown",
   "metadata": {},
   "source": [
    "# Confirmed, Deaths, New Cases vs Country and Date"
   ]
  },
  {
   "cell_type": "markdown",
   "metadata": {},
   "source": [
    "# Bar Plot"
   ]
  },
  {
   "cell_type": "code",
   "execution_count": null,
   "metadata": {},
   "outputs": [],
   "source": [
    "fig = px.bar(country_daywise, x = 'Date', y = 'Confirmed', color = 'Country', height = 600,\n",
    "            title = 'Confirmed', color_discrete_sequence=px.colors.cyclical.mygbm)\n",
    "\n",
    "#fig.show()"
   ]
  },
  {
   "cell_type": "code",
   "execution_count": null,
   "metadata": {},
   "outputs": [],
   "source": [
    "fig = px.bar(country_daywise, x = 'Date', y = 'Deaths', color = 'Country', height = 600,\n",
    "            title = 'Deaths', color_discrete_sequence=px.colors.cyclical.mygbm)\n",
    "\n",
    "#fig.show()"
   ]
  },
  {
   "cell_type": "code",
   "execution_count": null,
   "metadata": {},
   "outputs": [],
   "source": [
    "fig = px.bar(country_daywise, x = 'Date', y = 'Recovered', color = 'Country', height = 600,\n",
    "            title = 'Recovered', color_discrete_sequence=px.colors.cyclical.mygbm)\n",
    "\n",
    "#fig.show()"
   ]
  },
  {
   "cell_type": "code",
   "execution_count": null,
   "metadata": {},
   "outputs": [],
   "source": [
    "fig = px.bar(country_daywise, x = 'Date', y = 'New Cases', color = 'Country', height = 600,\n",
    "            title = 'New Cases', color_discrete_sequence=px.colors.cyclical.mygbm)\n",
    "\n",
    "#fig.show()"
   ]
  },
  {
   "cell_type": "markdown",
   "metadata": {},
   "source": [
    "# Line Plot"
   ]
  },
  {
   "cell_type": "code",
   "execution_count": null,
   "metadata": {},
   "outputs": [],
   "source": [
    "fig = px.line(country_daywise, x = 'Date', y = 'Confirmed', color = 'Country', height = 600,\n",
    "            title = 'Confirmed', color_discrete_sequence=px.colors.cyclical.mygbm)\n",
    "fig.show()"
   ]
  },
  {
   "cell_type": "code",
   "execution_count": null,
   "metadata": {},
   "outputs": [],
   "source": [
    "fig = px.line(country_daywise, x = 'Date', y = 'Deaths', color = 'Country', height = 600,\n",
    "            title = 'Deaths', color_discrete_sequence=px.colors.cyclical.mygbm)\n",
    "fig.show()"
   ]
  },
  {
   "cell_type": "code",
   "execution_count": null,
   "metadata": {},
   "outputs": [],
   "source": [
    "fig = px.line(country_daywise, x = 'Date', y = 'Recovered', color = 'Country', height = 600,\n",
    "            title = 'Recovered', color_discrete_sequence=px.colors.cyclical.mygbm)\n",
    "fig.show()"
   ]
  },
  {
   "cell_type": "markdown",
   "metadata": {},
   "source": [
    "#Since the number of recoveries as of August 5 is not included in the data set, it appears as 0 as of August 5, 2021, which has improved in the graphics and tables."
   ]
  },
  {
   "cell_type": "markdown",
   "metadata": {},
   "source": [
    "# Growth Rate after 100 Cases"
   ]
  },
  {
   "cell_type": "code",
   "execution_count": null,
   "metadata": {},
   "outputs": [],
   "source": [
    "df.head()"
   ]
  },
  {
   "cell_type": "code",
   "execution_count": null,
   "metadata": {},
   "outputs": [],
   "source": [
    "gt_100 = country_daywise[country_daywise['Confirmed']>100]['Country'].unique()\n",
    "temp = df[df['Country'].isin(gt_100)]\n",
    "\n",
    "temp = temp.groupby(['Country', 'Date'])['Confirmed'].sum().reset_index()\n",
    "temp = temp[temp['Confirmed']>100]\n",
    "\n",
    "min_date = temp.groupby('Country')['Date'].min().reset_index()\n",
    "min_date.columns = ['Country', 'Min Date']\n",
    "\n",
    "\n",
    "from_100th_case = pd.merge(temp,min_date, on = 'Country')\n",
    "from_100th_case['N days'] = (from_100th_case['Date'] - from_100th_case['Min Date']).dt.days\n",
    "from_100th_case"
   ]
  },
  {
   "cell_type": "code",
   "execution_count": null,
   "metadata": {},
   "outputs": [],
   "source": [
    "df['Country'].isin(gt_100)"
   ]
  },
  {
   "cell_type": "code",
   "execution_count": null,
   "metadata": {},
   "outputs": [],
   "source": [
    "gt_100 = country_daywise[country_daywise['Confirmed']>100]['Country'].unique()\n",
    "temp = df[df['Country'].isin(gt_100)]\n",
    "\n",
    "temp = temp.groupby(['Country', 'Date'])['Confirmed'].sum().reset_index()\n",
    "temp = temp[temp['Confirmed']>100]\n",
    "\n",
    "min_date = temp.groupby('Country')['Date'].min().reset_index()\n",
    "min_date.columns = ['Country', 'Min Date']\n",
    "\n",
    "\n",
    "from_100th_case = pd.merge(temp,min_date, on = 'Country')\n",
    "from_100th_case['N days'] = (from_100th_case['Date'] - from_100th_case['Min Date']).dt.days\n",
    "\n",
    "fig = px.line(from_100th_case, x = 'N days', y = 'Confirmed', color = 'Country', title = 'N days from 100 case', height = 600)\n",
    "fig.show()"
   ]
  },
  {
   "cell_type": "markdown",
   "metadata": {},
   "source": [
    "# Growth Rate after 1000 Cases"
   ]
  },
  {
   "cell_type": "code",
   "execution_count": null,
   "metadata": {},
   "outputs": [],
   "source": [
    "gt_1000 = country_daywise[country_daywise['Confirmed']>1000]['Country'].unique()\n",
    "temp = df[df['Country'].isin(gt_1000)]\n",
    "\n",
    "temp = temp.groupby(['Country', 'Date'])['Confirmed'].sum().reset_index()\n",
    "temp = temp[temp['Confirmed']>1000]\n",
    "\n",
    "min_date = temp.groupby('Country')['Date'].min().reset_index()\n",
    "min_date.columns = ['Country', 'Min Date']\n",
    "\n",
    "\n",
    "from_1000th_case = pd.merge(temp,min_date, on = 'Country')\n",
    "from_1000th_case['N days'] = (from_1000th_case['Date'] - from_1000th_case['Min Date']).dt.days\n",
    "\n",
    "fig = px.line(from_1000th_case, x = 'N days', y = 'Confirmed', color = 'Country', title = 'N days from 1000 case', height = 600)\n",
    "fig.show()"
   ]
  },
  {
   "cell_type": "markdown",
   "metadata": {},
   "source": [
    "# Growth Rate after 10000 Cases"
   ]
  },
  {
   "cell_type": "code",
   "execution_count": null,
   "metadata": {},
   "outputs": [],
   "source": [
    "gt_10000 = country_daywise[country_daywise['Confirmed']>10000]['Country'].unique()\n",
    "temp = df[df['Country'].isin(gt_10000)]\n",
    "\n",
    "temp = temp.groupby(['Country', 'Date'])['Confirmed'].sum().reset_index()\n",
    "temp = temp[temp['Confirmed']>10000]\n",
    "\n",
    "min_date = temp.groupby('Country')['Date'].min().reset_index()\n",
    "min_date.columns = ['Country', 'Min Date']\n",
    "\n",
    "\n",
    "from_10000th_case = pd.merge(temp,min_date, on = 'Country')\n",
    "from_10000th_case['N days'] = (from_10000th_case['Date'] - from_10000th_case['Min Date']).dt.days\n",
    "\n",
    "fig = px.line(from_10000th_case, x = 'N days', y = 'Confirmed', color = 'Country', title = 'N days from 10000 case', height = 600)\n",
    "fig.show()"
   ]
  },
  {
   "cell_type": "markdown",
   "metadata": {},
   "source": [
    "# Growth Rate after 100k Cases"
   ]
  },
  {
   "cell_type": "code",
   "execution_count": null,
   "metadata": {},
   "outputs": [],
   "source": [
    "gt_100000 = country_daywise[country_daywise['Confirmed']>100000]['Country'].unique()\n",
    "temp = df[df['Country'].isin(gt_100000)]\n",
    "\n",
    "temp = temp.groupby(['Country', 'Date'])['Confirmed'].sum().reset_index()\n",
    "temp = temp[temp['Confirmed']>100000]\n",
    "\n",
    "min_date = temp.groupby('Country')['Date'].min().reset_index()\n",
    "min_date.columns = ['Country', 'Min Date']\n",
    "\n",
    "\n",
    "from_100000th_case = pd.merge(temp,min_date, on = 'Country')\n",
    "from_100000th_case['N days'] = (from_100000th_case['Date'] - from_100000th_case['Min Date']).dt.days\n",
    "\n",
    "fig = px.line(from_100000th_case, x = 'N days', y = 'Confirmed', color = 'Country', title = 'N days from 100000 case', height = 600)\n",
    "fig.show()"
   ]
  },
  {
   "cell_type": "markdown",
   "metadata": {},
   "source": [
    "# Tree Map Analysis"
   ]
  },
  {
   "cell_type": "markdown",
   "metadata": {},
   "source": [
    "# Confirmed Cases"
   ]
  },
  {
   "cell_type": "code",
   "execution_count": null,
   "metadata": {},
   "outputs": [],
   "source": [
    "full_latest = df[df['Date'] == max (df['Date'])]\n",
    "\n",
    "\n",
    "fig = px.treemap(full_latest.sort_values(by = 'Confirmed', ascending = False).reset_index(drop = True),\n",
    "                 path = ['Country', 'Province/State'], values = 'Confirmed', height = 700,\n",
    "                 title = 'Number of Confirmed Cases',\n",
    "                  color_discrete_sequence = px.colors.qualitative.Dark2)\n",
    "\n",
    "fig.data[0].textinfo = 'label+text+value'\n",
    "fig.show()"
   ]
  },
  {
   "cell_type": "markdown",
   "metadata": {},
   "source": [
    "# Deaths Cases"
   ]
  },
  {
   "cell_type": "code",
   "execution_count": null,
   "metadata": {},
   "outputs": [],
   "source": [
    "full_latest = df[df['Date'] == max(df['Date'])]\n",
    "\n",
    "fig = px.treemap(full_latest.sort_values(by = 'Deaths', ascending = False).reset_index(drop = True),\n",
    "                 path = ['Country', 'Province/State'], values = 'Deaths', height = 700,\n",
    "                 title = 'Number of Deaths Cases',\n",
    "                  color_discrete_sequence = px.colors.qualitative.Dark2)\n",
    "\n",
    "fig.data[0].textinfo = 'label+text+value'\n",
    "fig.show()"
   ]
  },
  {
   "cell_type": "markdown",
   "metadata": {},
   "source": [
    "# First and Last Case Report Time"
   ]
  },
  {
   "cell_type": "code",
   "execution_count": null,
   "metadata": {},
   "outputs": [],
   "source": [
    "first_date = df[df['Confirmed']>0]\n",
    "first_date = first_date.groupby('Country')['Date'].agg(['min']).reset_index()\n",
    "\n",
    "last_date = df.groupby(['Country', 'Date'])['Confirmed', 'Deaths', 'Recovered']\n",
    "last_date = last_date.sum().diff().reset_index()\n",
    "last_date"
   ]
  },
  {
   "cell_type": "markdown",
   "metadata": {},
   "source": [
    "#Since the number of recoveries as of August 5 is not included in the data set, it appears as 0 as of August 5, 2021, which has improved in the graphics and tables."
   ]
  },
  {
   "cell_type": "code",
   "execution_count": null,
   "metadata": {},
   "outputs": [],
   "source": [
    "first_date = df[df['Confirmed']>0]\n",
    "first_date = first_date.groupby('Country')['Date'].agg(['min']).reset_index()\n",
    "\n",
    "last_date = df.groupby(['Country', 'Date'])['Confirmed', 'Deaths', 'Recovered']\n",
    "last_date = last_date.sum().diff().reset_index()\n",
    "\n",
    "mask = (last_date['Country'] != last_date['Country'].shift(1))\n",
    "\n",
    "last_date.loc[mask, 'Confirmed'] = np.nan\n",
    "last_date.loc[mask, 'Deaths'] = np.nan\n",
    "last_date.loc[mask, 'Recovered'] = np.nan\n",
    "\n",
    "last_date = last_date[last_date['Confirmed']> 0]\n",
    "last_date = last_date.groupby('Country')['Date'].agg(['max']).reset_index()\n",
    "\n",
    "first_last = pd.concat([first_date, last_date['max']], axis = 1)\n",
    "first_last['max'] = first_last['max'] + timedelta(days=1)\n",
    "\n",
    "first_last['Days'] = first_last['max'] - first_last['min']\n",
    "first_last['Task'] = first_last['Country']\n",
    "\n",
    "first_last.columns = ['Country', 'Start', 'Finish', 'Days', 'Task']\n",
    "\n",
    "first_last = first_last.sort_values('Days')\n",
    "\n",
    "\n",
    "colors = ['#' + ''.join([random.choice('0123456789ABCDEF') for j in range(6)]) for i in range(len(first_last))]\n",
    "\n",
    "fig = ff.create_gantt(first_last, index_col = 'Country', colors = colors, show_colorbar = False,\n",
    "                      bar_width=0.2, showgrid_x = True, showgrid_y = True, height = 2500)\n",
    "\n",
    "fig.show()"
   ]
  },
  {
   "cell_type": "markdown",
   "metadata": {},
   "source": [
    "# Confirmed Cases Country and Day wise"
   ]
  },
  {
   "cell_type": "code",
   "execution_count": null,
   "metadata": {},
   "outputs": [],
   "source": [
    "country_daywise.head()"
   ]
  },
  {
   "cell_type": "code",
   "execution_count": null,
   "metadata": {},
   "outputs": [],
   "source": [
    "temp = country_daywise.groupby(['Country', 'Date'])['Confirmed'].sum().reset_index()\n",
    "temp = temp[temp['Country'].isin(gt_10000)]\n",
    "\n",
    "countries = temp['Country'].unique()\n",
    "\n",
    "ncols = 3\n",
    "nrows = math.ceil(len(countries)/ncols)\n",
    "\n",
    "fig = make_subplots(rows=nrows, cols = ncols, shared_xaxes = False, subplot_titles=countries)\n",
    "\n",
    "\n",
    "for ind, country in enumerate(countries):\n",
    "    row = int((ind/ncols)+1)\n",
    "    col = int((ind%ncols)+1)\n",
    "    fig.add_trace(go.Bar(x = temp['Date'], y = temp.loc[temp['Country']==country, 'Confirmed'], name= country), row = row, col = col)\n",
    "    \n",
    "fig.update_layout(height=4000, title_text = 'Confirmed Cases in Each Country')\n",
    "fig.update_layout(showlegend = False)\n",
    "fig.show()\n"
   ]
  },
  {
   "cell_type": "markdown",
   "metadata": {},
   "source": [
    "# Covid-19 vs Other Similar Epidemics"
   ]
  },
  {
   "cell_type": "code",
   "execution_count": null,
   "metadata": {},
   "outputs": [],
   "source": [
    "full_latest"
   ]
  },
  {
   "cell_type": "code",
   "execution_count": null,
   "metadata": {},
   "outputs": [],
   "source": [
    "# Wikipedia Source\n",
    "\n",
    "epidemics = pd.DataFrame({\n",
    "    \n",
    "    'epidemic' : ['COVID-19', 'SARS', 'EBOLA',  'MERS', 'H1N1'],\n",
    "    'start_year' : [2019,2002,2013,2012,2009],\n",
    "    'end_year' : [2020, 2004,2016,2020,2010],\n",
    "    'Confirmed' : [full_latest['Confirmed'].sum(),8422,28646,2519,6724149],\n",
    "    'Deaths' : [full_latest['Deaths'].sum(),813,1323,866,19654]\n",
    "})\n",
    "\n",
    "epidemics['mortality'] = round((epidemics['Deaths']/epidemics['Confirmed'])*100,2)\n",
    "\n",
    "epidemics.head()"
   ]
  },
  {
   "cell_type": "code",
   "execution_count": null,
   "metadata": {},
   "outputs": [],
   "source": [
    "temp = epidemics.melt(id_vars = 'epidemic', value_vars=['Confirmed', 'Deaths','mortality'],\n",
    "                     var_name = 'Case', value_name = 'Value')\n",
    "\n",
    "fig = px.bar(temp, x = 'epidemic', y= 'Value', color = 'epidemic', text = 'Value', facet_col = 'Case',\n",
    "            color_discrete_sequence=px.colors.qualitative.Bold)\n",
    "\n",
    "\n",
    "fig.update_traces(textposition = 'outside')\n",
    "fig.update_layout(uniformtext_minsize = 8, uniformtext_mode = 'hide')\n",
    "fig.update_yaxes(showticklabels = False)\n",
    "fig.layout.yaxis2.update(matches = None)\n",
    "fig.layout.yaxis3.update(matches = None)\n",
    "fig.show()"
   ]
  }
 ],
 "metadata": {
  "kernelspec": {
   "display_name": "Python 3",
   "language": "python",
   "name": "python3"
  },
  "language_info": {
   "codemirror_mode": {
    "name": "ipython",
    "version": 3
   },
   "file_extension": ".py",
   "mimetype": "text/x-python",
   "name": "python",
   "nbconvert_exporter": "python",
   "pygments_lexer": "ipython3",
   "version": "3.8.5"
  }
 },
 "nbformat": 4,
 "nbformat_minor": 4
}
