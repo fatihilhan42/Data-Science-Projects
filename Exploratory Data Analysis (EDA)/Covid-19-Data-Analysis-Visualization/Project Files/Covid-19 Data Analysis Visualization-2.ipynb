{
 "cells": [
  {
   "cell_type": "markdown",
   "id": "2d27bacb",
   "metadata": {},
   "source": [
    "# Total Cases on Ships"
   ]
  },
  {
   "cell_type": "code",
   "execution_count": null,
   "id": "d8aed42d",
   "metadata": {},
   "outputs": [],
   "source": [
    "#imports\n",
    "import plotly.express as px\n",
    "import plotly.graph_objects as go\n",
    "import plotly.figure_factory as ff\n",
    "from plotly.subplots import make_subplots\n",
    "\n",
    "import folium\n",
    "\n",
    "import pandas as pd \n",
    "import numpy as np\n",
    "import matplotlib.pyplot as plt \n",
    "\n",
    "%matplotlib inline\n",
    "\n",
    "import math\n",
    "import random\n",
    "from datetime import timedelta \n",
    "\n",
    "import warnings\n",
    "warnings.filterwarnings('ignore')\n",
    "\n",
    "#color pallette \n",
    "cnf = '#393e46'\n",
    "dth = '#ff2e63'\n",
    "rec = '#21bf73'\n",
    "act = '#fe9801'"
   ]
  },
  {
   "cell_type": "code",
   "execution_count": null,
   "id": "9c4cf027",
   "metadata": {},
   "outputs": [],
   "source": [
    "import plotly as py \n",
    "py.offline.init_notebook_mode(connected = True)"
   ]
  },
  {
   "cell_type": "code",
   "execution_count": null,
   "id": "24ced9df",
   "metadata": {},
   "outputs": [],
   "source": [
    "import os"
   ]
  },
  {
   "cell_type": "code",
   "execution_count": null,
   "id": "83bfc5a7",
   "metadata": {},
   "outputs": [],
   "source": [
    "try:\n",
    "    os.system(\"rm -rf Covid-19-Preprocessed-Dataset\")\n",
    "except:\n",
    "    print('File does not exist')"
   ]
  },
  {
   "cell_type": "code",
   "execution_count": null,
   "id": "d4954475",
   "metadata": {},
   "outputs": [],
   "source": [
    "!git clone https://github.com/laxmimerit/Covid-19-Preprocessed-Dataset"
   ]
  },
  {
   "cell_type": "code",
   "execution_count": null,
   "id": "48c58914",
   "metadata": {},
   "outputs": [],
   "source": [
    "df = pd.read_csv('Covid-19-Preprocessed-Dataset/preprocessed/covid_19_data_cleaned.csv',parse_dates=['Date'])\n",
    "\n",
    "country_daywise = pd.read_csv('Covid-19-Preprocessed-Dataset/preprocessed/country_daywise.csv',parse_dates=['Date'])\n",
    "countrywise = pd.read_csv('Covid-19-Preprocessed-Dataset/preprocessed/countrywise.csv')\n",
    "daywise = pd.read_csv('Covid-19-Preprocessed-Dataset/preprocessed/daywise.csv',parse_dates=['Date'])"
   ]
  },
  {
   "cell_type": "code",
   "execution_count": null,
   "id": "ecff9465",
   "metadata": {},
   "outputs": [],
   "source": [
    "df['Province/State'] = df['Province/State'].fillna(\"\")\n",
    "df.head()"
   ]
  },
  {
   "cell_type": "code",
   "execution_count": null,
   "id": "4c0ede92",
   "metadata": {},
   "outputs": [],
   "source": [
    "# Ships \n",
    "# ======\n",
    "\n",
    "ship_rows = df['Province/State'].str.contains('Grand Princess') | df['Province/State'].str.contains('Diamond Princess') | df['Country'].str.contains('Grand Princess') | df['Country'].str.contains('Diamond Princess') | df['Country'].str.contains('MS Zaandam')\n",
    "ship = df[ship_rows]\n",
    "\n",
    "df = df[~ship_rows]"
   ]
  },
  {
   "cell_type": "code",
   "execution_count": null,
   "id": "9b55a239",
   "metadata": {},
   "outputs": [],
   "source": [
    "ship_latest = ship[ship['Date'] == max(ship['Date'])]\n",
    "ship_latest"
   ]
  },
  {
   "cell_type": "code",
   "execution_count": null,
   "id": "d23e8376",
   "metadata": {},
   "outputs": [],
   "source": [
    "ship_latest.style.background_gradient(cmap = 'Pastel1_r')"
   ]
  },
  {
   "cell_type": "markdown",
   "id": "bda9613a",
   "metadata": {},
   "source": [
    "# Cases Over The Time with Area Plot"
   ]
  },
  {
   "cell_type": "code",
   "execution_count": null,
   "id": "52c86f1b",
   "metadata": {},
   "outputs": [],
   "source": [
    "temp = df.groupby('Date')['Confirmed', 'Deaths', 'Recovered', 'Active'].sum().reset_index\n",
    "#temp = temp[temp['Date']==max(temp['Date'])].reset_index(drop = True)\n",
    "#temp"
   ]
  },
  {
   "cell_type": "code",
   "execution_count": null,
   "id": "21ca6b4f",
   "metadata": {},
   "outputs": [],
   "source": [
    "tm = df.melt(id_vars = 'Date', value_vars = ['Active', 'Deaths', 'Recovered'])\n",
    "fig = px.treemap(tm , path = ['variable'], values= 'value', height = 250, width = 800, color_discrete_sequence=[act, rec, dth])\n",
    "fig.data[0].textinfo = 'label+text+value'\n",
    "fig.show()"
   ]
  },
  {
   "cell_type": "code",
   "execution_count": null,
   "id": "2ef3da3c",
   "metadata": {},
   "outputs": [],
   "source": [
    "temp = df.groupby('Date').mean()\n",
    "temp"
   ]
  },
  {
   "cell_type": "code",
   "execution_count": null,
   "id": "0d696390",
   "metadata": {},
   "outputs": [],
   "source": [
    "temp = df.groupby('Date')['Recovered', 'Deaths', 'Active'].sum()\n",
    "temp"
   ]
  },
  {
   "cell_type": "code",
   "execution_count": null,
   "id": "e17cdfd0",
   "metadata": {},
   "outputs": [],
   "source": [
    "temp = df.groupby('Date')['Recovered', 'Deaths', 'Active'].sum().reset_index()\n",
    "temp = df.melt(id_vars = 'Date', value_vars = ['Recovered', 'Deaths', 'Active'], var_name = 'Case', value_name = 'Count')\n",
    "temp"
   ]
  },
  {
   "cell_type": "markdown",
   "id": "45cdd2d8",
   "metadata": {},
   "source": [
    "Since the number of recoveries as of August 5 is not included in the data set, it appears as 0 as of August 5, 2021, which has improved in the graphics and tables."
   ]
  },
  {
   "cell_type": "code",
   "execution_count": null,
   "id": "4b9494c0",
   "metadata": {},
   "outputs": [],
   "source": [
    "temp = df.groupby('Date')['Recovered', 'Deaths', 'Active'].sum().reset_index()\n",
    "temp = df.melt(id_vars = 'Date', value_vars = ['Recovered', 'Deaths', 'Active'], var_name = 'Case', value_name = 'Count')\n",
    "fig = px.area(temp, x = 'Date', y = 'Count', color = 'Case', height = 600, title = 'Cases over time', color_discrete_sequence=[rec, dth, act])\n",
    "\n",
    "fig.update_layout(xaxis_rangeslider_visible=True)\n",
    "fig.show()"
   ]
  },
  {
   "cell_type": "markdown",
   "id": "75568785",
   "metadata": {},
   "source": [
    "# Folium Maps"
   ]
  },
  {
   "cell_type": "code",
   "execution_count": null,
   "id": "5293ab9e",
   "metadata": {},
   "outputs": [],
   "source": [
    "temp = df[df['Date']==max(df['Date'])]\n",
    "temp"
   ]
  },
  {
   "cell_type": "code",
   "execution_count": null,
   "id": "6cf26b0b",
   "metadata": {},
   "outputs": [],
   "source": [
    "temp = df[df['Date']== max (df['Date'])]\n",
    "\n",
    "m= folium.Map(location=[0,0], tiles = 'cartodbpositron', min_zoom = 1, max_zoom=4, zoom_start=1 )\n",
    "\n",
    "for i in range(0, len(temp)):\n",
    "    folium.Circle(location=[temp.iloc[i]['Lat'], temp.iloc[i]['Long']], color = 'crimson', fill = 'crimson',\n",
    "                 toolip = '<li><bold> Country:  ' + str(temp.iloc[i]['Country'])+ \n",
    "                           '<li><bold> Province : '+ str(temp.iloc[i]['Province/State'])+\n",
    "                          '<li><bold> Confirmed:  ' + str(temp.iloc[i]['Confirmed'])+\n",
    "                          '<li><bold> Deaths:  ' + str(temp.iloc[i]['Deaths']),\n",
    "                 radius = int(temp.iloc[i]['Confirmed'])**0.5).add_to(m)\n",
    "m"
   ]
  },
  {
   "cell_type": "markdown",
   "id": "697cce48",
   "metadata": {},
   "source": [
    "# Confirmed Cases with Choropleth Map"
   ]
  },
  {
   "cell_type": "code",
   "execution_count": null,
   "id": "d80831d8",
   "metadata": {},
   "outputs": [],
   "source": [
    "country_daywise.head()"
   ]
  },
  {
   "cell_type": "code",
   "execution_count": null,
   "id": "62e90b8f",
   "metadata": {},
   "outputs": [],
   "source": [
    "fig = px.choropleth(country_daywise, locations= 'Country', locationmode='country names', color = country_daywise['Confirmed'],\n",
    "                   hover_name = 'Country', animation_frame=country_daywise['Date'].dt.strftime('%Y-%m-%d'),\n",
    "                   title='Cases over time', color_continuous_scale=px.colors.sequential.Inferno)\n",
    "fig.update(layout_coloraxis_showscale = True)\n",
    "fig.show()"
   ]
  },
  {
   "cell_type": "markdown",
   "id": "d8c8eaca",
   "metadata": {},
   "source": [
    "# Deaths and Recoveries per 100 Cases"
   ]
  },
  {
   "cell_type": "code",
   "execution_count": null,
   "id": "5a340f7b",
   "metadata": {},
   "outputs": [],
   "source": [
    "daywise.head()"
   ]
  },
  {
   "cell_type": "code",
   "execution_count": null,
   "id": "23cf5a77",
   "metadata": {},
   "outputs": [],
   "source": [
    "fig_c = px.bar(daywise, x = 'Date', y = 'Confirmed', color_discrete_sequence=[act])\n",
    "fig_d = px.bar(daywise, x = 'Date', y = 'Deaths', color_discrete_sequence=[dth])\n",
    "\n",
    "fig = make_subplots(rows = 1, cols = 2, shared_xaxes=False, horizontal_spacing=0.1,\n",
    "                   subplot_titles=('Confirmed Cases','Death Cases'))\n",
    "\n",
    "fig.add_trace(fig_c['data'][0], row = 1, col = 1)\n",
    "fig.add_trace(fig_d['data'][0], row = 1, col = 2)\n",
    "\n",
    "fig.update_layout(height = 480)\n",
    "\n",
    "fig.show()"
   ]
  },
  {
   "cell_type": "markdown",
   "id": "c1867770",
   "metadata": {},
   "source": [
    "# Confirmed and Death Cases with Static Colormap"
   ]
  },
  {
   "cell_type": "code",
   "execution_count": null,
   "id": "3b02106d",
   "metadata": {},
   "outputs": [],
   "source": [
    "fig_c = px.choropleth(countrywise, locations='Country',locationmode='country names',\n",
    "                     color = np.log(countrywise['Confirmed']), hover_name = 'Country',\n",
    "                     hover_data = ['Confirmed'])\n",
    "temp= countrywise[countrywise['Deaths']>0]\n",
    "fig_d = px.choropleth(temp, locations='Country',locationmode='country names',\n",
    "                     color = np.log(temp['Deaths']), hover_name = 'Country',\n",
    "                     hover_data = ['Deaths'])\n",
    "\n",
    "fig = make_subplots(rows = 1, cols = 2, subplot_titles= ['Confirmed','Deaths'],\n",
    "                   specs = [[{'type': 'choropleth'},{'type':'choropleth'}]])\n",
    "\n",
    "fig.add_trace(fig_c['data'][0], row = 1, col = 1)\n",
    "fig.add_trace(fig_d['data'][0], row = 1, col = 2)\n",
    "\n",
    "fig.show()"
   ]
  },
  {
   "cell_type": "code",
   "execution_count": null,
   "id": "d4f6e361",
   "metadata": {},
   "outputs": [],
   "source": [
    "daywise.columns"
   ]
  },
  {
   "cell_type": "code",
   "execution_count": null,
   "id": "d7366e44",
   "metadata": {},
   "outputs": [],
   "source": [
    "fig1 = px.line(daywise, x = 'Date', y = 'Deaths / 100 Cases', color_discrete_sequence=[dth])\n",
    "fig2 = px.line(daywise, x = 'Date', y = 'Recovered / 100 Cases', color_discrete_sequence=[rec])\n",
    "fig3 = px.line(daywise, x = 'Date', y = 'Deaths / 100 Recovered', color_discrete_sequence=[dth])\n",
    "\n",
    "fig = make_subplots(rows = 1, cols = 3, shared_xaxes=False,\n",
    "                   subplot_titles=('Deaths / 100 Cases', 'Recovered / 100 Cases','Deaths / 100 Recovered'))\n",
    "\n",
    "fig.add_trace(fig1['data'][0], row = 1, col = 1)\n",
    "fig.add_trace(fig2['data'][0], row = 1, col = 2)\n",
    "fig.add_trace(fig3['data'][0], row = 1, col = 3)\n",
    "\n",
    "fig.update_layout(height = 400)\n",
    "fig.show()"
   ]
  }
 ],
 "metadata": {
  "kernelspec": {
   "display_name": "Python 3 (ipykernel)",
   "language": "python",
   "name": "python3"
  },
  "language_info": {
   "codemirror_mode": {
    "name": "ipython",
    "version": 3
   },
   "file_extension": ".py",
   "mimetype": "text/x-python",
   "name": "python",
   "nbconvert_exporter": "python",
   "pygments_lexer": "ipython3",
   "version": "3.9.7"
  }
 },
 "nbformat": 4,
 "nbformat_minor": 5
}
