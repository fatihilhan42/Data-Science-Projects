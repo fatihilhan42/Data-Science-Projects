{
 "cells": [
  {
   "cell_type": "markdown",
   "id": "078a7292",
   "metadata": {},
   "source": [
    "### 1. Giriş"
   ]
  },
  {
   "cell_type": "markdown",
   "id": "184ae80b",
   "metadata": {},
   "source": [
    "Cristiano Ronaldo dos Santos Aveiro, Premier Lig Takımı Manchester United'ta forvet olarak oynayan ve Portekiz milli takımının kaptanlığını yapan Portekizli profesyonel bir futbolcudur. "
   ]
  },
  {
   "cell_type": "markdown",
   "id": "6765acd8",
   "metadata": {},
   "source": [
    "Current team: Portugal national football team (#7 / Forward) Trending\n",
    "\n",
    "Born: February 5, 1985 (age 37 years), Hospital Dr. Nélio Mendonça, Funchal, Portugal\n",
    "\n",
    "Height: 1.87 m\n",
    "Partner: Georgina Rodríguez (2017–)\n",
    "Salary: 26.52 million GBP (2022)\n",
    "Children: Cristiano Ronaldo Jr., Alana Martina dos Santos Aveiro, Eva Maria Dos Santos, Mateo Ronaldo"
   ]
  },
  {
   "cell_type": "markdown",
   "id": "51842352",
   "metadata": {},
   "source": [
    "### Veri Yükleme"
   ]
  },
  {
   "cell_type": "code",
   "execution_count": 1,
   "id": "f1373790",
   "metadata": {},
   "outputs": [],
   "source": [
    "import numpy as np # linear algebra\n",
    "import pandas as pd # data processing, CSV file I/O (e.g. pd.read_csv)\n",
    "import matplotlib.pyplot as plt \n",
    "import seaborn as sns\n",
    "from datetime import timedelta\n",
    "import warnings\n",
    "import os\n",
    "import plotly.graph_objs as go\n",
    "from plotly.offline import download_plotlyjs, init_notebook_mode, plot, iplot\n",
    "import plotly.express as px"
   ]
  },
  {
   "cell_type": "code",
   "execution_count": 2,
   "id": "e6f1e7c4",
   "metadata": {},
   "outputs": [
    {
     "data": {
      "text/html": [
       "        <script type=\"text/javascript\">\n",
       "        window.PlotlyConfig = {MathJaxConfig: 'local'};\n",
       "        if (window.MathJax && window.MathJax.Hub && window.MathJax.Hub.Config) {window.MathJax.Hub.Config({SVG: {font: \"STIX-Web\"}});}\n",
       "        if (typeof require !== 'undefined') {\n",
       "        require.undef(\"plotly\");\n",
       "        requirejs.config({\n",
       "            paths: {\n",
       "                'plotly': ['https://cdn.plot.ly/plotly-2.12.1.min']\n",
       "            }\n",
       "        });\n",
       "        require(['plotly'], function(Plotly) {\n",
       "            window._Plotly = Plotly;\n",
       "        });\n",
       "        }\n",
       "        </script>\n",
       "        "
      ]
     },
     "metadata": {},
     "output_type": "display_data"
    }
   ],
   "source": [
    "warnings.filterwarnings('ignore')\n",
    "init_notebook_mode(connected=True)"
   ]
  },
  {
   "cell_type": "code",
   "execution_count": 3,
   "id": "9d3902b3",
   "metadata": {},
   "outputs": [],
   "source": [
    "df=pd.read_csv(\"D:\\G-PYTHON\\Python 42\\Data science\\Data Science Projects\\Cristiano Ronaldo ⚽ Goals 📊 EDA, Analysis\\Dataset/data.csv\")\n",
    "df_o=pd.read_csv(\"D:\\G-PYTHON\\Python 42\\Data science\\Data Science Projects\\Cristiano Ronaldo ⚽ Goals 📊 EDA, Analysis\\Dataset/overall.csv\")"
   ]
  },
  {
   "cell_type": "markdown",
   "id": "094c570f",
   "metadata": {},
   "source": [
    "### Temel Keşif"
   ]
  },
  {
   "cell_type": "code",
   "execution_count": 5,
   "id": "0d897648",
   "metadata": {},
   "outputs": [
    {
     "data": {
      "text/html": [
       "<div>\n",
       "<style scoped>\n",
       "    .dataframe tbody tr th:only-of-type {\n",
       "        vertical-align: middle;\n",
       "    }\n",
       "\n",
       "    .dataframe tbody tr th {\n",
       "        vertical-align: top;\n",
       "    }\n",
       "\n",
       "    .dataframe thead th {\n",
       "        text-align: right;\n",
       "    }\n",
       "</style>\n",
       "<table border=\"1\" class=\"dataframe\">\n",
       "  <thead>\n",
       "    <tr style=\"text-align: right;\">\n",
       "      <th></th>\n",
       "      <th>Season</th>\n",
       "      <th>Competition</th>\n",
       "      <th>Matchday</th>\n",
       "      <th>Date</th>\n",
       "      <th>Venue</th>\n",
       "      <th>Club</th>\n",
       "      <th>Opponent</th>\n",
       "      <th>Result</th>\n",
       "      <th>Playing_Position</th>\n",
       "      <th>Minute</th>\n",
       "      <th>At_score</th>\n",
       "      <th>Type</th>\n",
       "      <th>Goal_assist</th>\n",
       "    </tr>\n",
       "  </thead>\n",
       "  <tbody>\n",
       "    <tr>\n",
       "      <th>0</th>\n",
       "      <td>02-Mar</td>\n",
       "      <td>Liga Portugal</td>\n",
       "      <td>6</td>\n",
       "      <td>10-07-02</td>\n",
       "      <td>H</td>\n",
       "      <td>Sporting CP</td>\n",
       "      <td>Moreirense FC</td>\n",
       "      <td>3:00</td>\n",
       "      <td>LW</td>\n",
       "      <td>34</td>\n",
       "      <td>2:00</td>\n",
       "      <td>Solo run</td>\n",
       "      <td>NaN</td>\n",
       "    </tr>\n",
       "    <tr>\n",
       "      <th>1</th>\n",
       "      <td>02-Mar</td>\n",
       "      <td>Liga Portugal</td>\n",
       "      <td>6</td>\n",
       "      <td>10-07-02</td>\n",
       "      <td>H</td>\n",
       "      <td>Sporting CP</td>\n",
       "      <td>Moreirense FC</td>\n",
       "      <td>3:00</td>\n",
       "      <td>LW</td>\n",
       "      <td>90+5</td>\n",
       "      <td>3:00</td>\n",
       "      <td>Header</td>\n",
       "      <td>Rui Jorge</td>\n",
       "    </tr>\n",
       "    <tr>\n",
       "      <th>2</th>\n",
       "      <td>02-Mar</td>\n",
       "      <td>Liga Portugal</td>\n",
       "      <td>8</td>\n",
       "      <td>10/26/02</td>\n",
       "      <td>A</td>\n",
       "      <td>Sporting CP</td>\n",
       "      <td>Boavista FC</td>\n",
       "      <td>1:02</td>\n",
       "      <td>NaN</td>\n",
       "      <td>88</td>\n",
       "      <td>1:02</td>\n",
       "      <td>Right-footed shot</td>\n",
       "      <td>Carlos Martins</td>\n",
       "    </tr>\n",
       "    <tr>\n",
       "      <th>3</th>\n",
       "      <td>02-Mar</td>\n",
       "      <td>Taca de Portugal Placard</td>\n",
       "      <td>Fourth Round</td>\n",
       "      <td>11/24/02</td>\n",
       "      <td>H</td>\n",
       "      <td>Sporting CP</td>\n",
       "      <td>CD Estarreja</td>\n",
       "      <td>4:01</td>\n",
       "      <td>NaN</td>\n",
       "      <td>67</td>\n",
       "      <td>3:00</td>\n",
       "      <td>Left-footed shot</td>\n",
       "      <td>Cesar Prates</td>\n",
       "    </tr>\n",
       "    <tr>\n",
       "      <th>4</th>\n",
       "      <td>02-Mar</td>\n",
       "      <td>Taca de Portugal Placard</td>\n",
       "      <td>Fifth Round</td>\n",
       "      <td>12/18/02</td>\n",
       "      <td>H</td>\n",
       "      <td>Sporting CP</td>\n",
       "      <td>FC Oliveira do Hospital</td>\n",
       "      <td>8:01</td>\n",
       "      <td>NaN</td>\n",
       "      <td>13</td>\n",
       "      <td>3:00</td>\n",
       "      <td>NaN</td>\n",
       "      <td>NaN</td>\n",
       "    </tr>\n",
       "  </tbody>\n",
       "</table>\n",
       "</div>"
      ],
      "text/plain": [
       "   Season               Competition      Matchday      Date Venue  \\\n",
       "0  02-Mar             Liga Portugal             6  10-07-02     H   \n",
       "1  02-Mar             Liga Portugal             6  10-07-02     H   \n",
       "2  02-Mar             Liga Portugal             8  10/26/02     A   \n",
       "3  02-Mar  Taca de Portugal Placard  Fourth Round  11/24/02     H   \n",
       "4  02-Mar  Taca de Portugal Placard   Fifth Round  12/18/02     H   \n",
       "\n",
       "          Club                 Opponent Result Playing_Position Minute  \\\n",
       "0  Sporting CP            Moreirense FC   3:00               LW     34   \n",
       "1  Sporting CP            Moreirense FC   3:00               LW   90+5   \n",
       "2  Sporting CP              Boavista FC   1:02              NaN     88   \n",
       "3  Sporting CP             CD Estarreja   4:01              NaN     67   \n",
       "4  Sporting CP  FC Oliveira do Hospital   8:01              NaN     13   \n",
       "\n",
       "  At_score               Type     Goal_assist  \n",
       "0     2:00           Solo run             NaN  \n",
       "1     3:00             Header       Rui Jorge  \n",
       "2     1:02  Right-footed shot  Carlos Martins  \n",
       "3     3:00   Left-footed shot    Cesar Prates  \n",
       "4     3:00                NaN             NaN  "
      ]
     },
     "execution_count": 5,
     "metadata": {},
     "output_type": "execute_result"
    }
   ],
   "source": [
    "df.head()"
   ]
  },
  {
   "cell_type": "code",
   "execution_count": 6,
   "id": "20f6a45d",
   "metadata": {},
   "outputs": [
    {
     "name": "stdout",
     "output_type": "stream",
     "text": [
      "<class 'pandas.core.frame.DataFrame'>\n",
      "RangeIndex: 699 entries, 0 to 698\n",
      "Data columns (total 13 columns):\n",
      " #   Column            Non-Null Count  Dtype \n",
      "---  ------            --------------  ----- \n",
      " 0   Season            699 non-null    object\n",
      " 1   Competition       699 non-null    object\n",
      " 2   Matchday          699 non-null    object\n",
      " 3   Date              699 non-null    object\n",
      " 4   Venue             699 non-null    object\n",
      " 5   Club              699 non-null    object\n",
      " 6   Opponent          699 non-null    object\n",
      " 7   Result            699 non-null    object\n",
      " 8   Playing_Position  642 non-null    object\n",
      " 9   Minute            699 non-null    object\n",
      " 10  At_score          699 non-null    object\n",
      " 11  Type              684 non-null    object\n",
      " 12  Goal_assist       458 non-null    object\n",
      "dtypes: object(13)\n",
      "memory usage: 71.1+ KB\n"
     ]
    }
   ],
   "source": [
    "df.info()"
   ]
  },
  {
   "cell_type": "code",
   "execution_count": 7,
   "id": "8f87dd59",
   "metadata": {},
   "outputs": [
    {
     "data": {
      "text/html": [
       "<div>\n",
       "<style scoped>\n",
       "    .dataframe tbody tr th:only-of-type {\n",
       "        vertical-align: middle;\n",
       "    }\n",
       "\n",
       "    .dataframe tbody tr th {\n",
       "        vertical-align: top;\n",
       "    }\n",
       "\n",
       "    .dataframe thead th {\n",
       "        text-align: right;\n",
       "    }\n",
       "</style>\n",
       "<table border=\"1\" class=\"dataframe\">\n",
       "  <thead>\n",
       "    <tr style=\"text-align: right;\">\n",
       "      <th></th>\n",
       "      <th>Unique Values Count</th>\n",
       "    </tr>\n",
       "  </thead>\n",
       "  <tbody>\n",
       "    <tr>\n",
       "      <th>Season</th>\n",
       "      <td>21</td>\n",
       "    </tr>\n",
       "    <tr>\n",
       "      <th>Competition</th>\n",
       "      <td>16</td>\n",
       "    </tr>\n",
       "    <tr>\n",
       "      <th>Matchday</th>\n",
       "      <td>52</td>\n",
       "    </tr>\n",
       "    <tr>\n",
       "      <th>Date</th>\n",
       "      <td>462</td>\n",
       "    </tr>\n",
       "    <tr>\n",
       "      <th>Venue</th>\n",
       "      <td>2</td>\n",
       "    </tr>\n",
       "    <tr>\n",
       "      <th>Club</th>\n",
       "      <td>4</td>\n",
       "    </tr>\n",
       "    <tr>\n",
       "      <th>Opponent</th>\n",
       "      <td>125</td>\n",
       "    </tr>\n",
       "    <tr>\n",
       "      <th>Result</th>\n",
       "      <td>51</td>\n",
       "    </tr>\n",
       "    <tr>\n",
       "      <th>Playing_Position</th>\n",
       "      <td>6</td>\n",
       "    </tr>\n",
       "    <tr>\n",
       "      <th>Minute</th>\n",
       "      <td>107</td>\n",
       "    </tr>\n",
       "    <tr>\n",
       "      <th>At_score</th>\n",
       "      <td>35</td>\n",
       "    </tr>\n",
       "    <tr>\n",
       "      <th>Type</th>\n",
       "      <td>12</td>\n",
       "    </tr>\n",
       "    <tr>\n",
       "      <th>Goal_assist</th>\n",
       "      <td>87</td>\n",
       "    </tr>\n",
       "  </tbody>\n",
       "</table>\n",
       "</div>"
      ],
      "text/plain": [
       "                  Unique Values Count\n",
       "Season                             21\n",
       "Competition                        16\n",
       "Matchday                           52\n",
       "Date                              462\n",
       "Venue                               2\n",
       "Club                                4\n",
       "Opponent                          125\n",
       "Result                             51\n",
       "Playing_Position                    6\n",
       "Minute                            107\n",
       "At_score                           35\n",
       "Type                               12\n",
       "Goal_assist                        87"
      ]
     },
     "execution_count": 7,
     "metadata": {},
     "output_type": "execute_result"
    }
   ],
   "source": [
    "pd.DataFrame(df.apply(lambda col: len(col.unique())),columns=[\"Unique Values Count\"])"
   ]
  },
  {
   "cell_type": "code",
   "execution_count": 8,
   "id": "a82f6929",
   "metadata": {},
   "outputs": [
    {
     "data": {
      "text/html": [
       "<div>\n",
       "<style scoped>\n",
       "    .dataframe tbody tr th:only-of-type {\n",
       "        vertical-align: middle;\n",
       "    }\n",
       "\n",
       "    .dataframe tbody tr th {\n",
       "        vertical-align: top;\n",
       "    }\n",
       "\n",
       "    .dataframe thead th {\n",
       "        text-align: right;\n",
       "    }\n",
       "</style>\n",
       "<table border=\"1\" class=\"dataframe\">\n",
       "  <thead>\n",
       "    <tr style=\"text-align: right;\">\n",
       "      <th></th>\n",
       "      <th>count</th>\n",
       "      <th>unique</th>\n",
       "      <th>top</th>\n",
       "      <th>freq</th>\n",
       "    </tr>\n",
       "  </thead>\n",
       "  <tbody>\n",
       "    <tr>\n",
       "      <th>Season</th>\n",
       "      <td>699</td>\n",
       "      <td>21</td>\n",
       "      <td>14/15</td>\n",
       "      <td>61</td>\n",
       "    </tr>\n",
       "    <tr>\n",
       "      <th>Competition</th>\n",
       "      <td>699</td>\n",
       "      <td>16</td>\n",
       "      <td>LaLiga</td>\n",
       "      <td>311</td>\n",
       "    </tr>\n",
       "    <tr>\n",
       "      <th>Matchday</th>\n",
       "      <td>699</td>\n",
       "      <td>52</td>\n",
       "      <td>Group Stage</td>\n",
       "      <td>74</td>\n",
       "    </tr>\n",
       "    <tr>\n",
       "      <th>Date</th>\n",
       "      <td>699</td>\n",
       "      <td>462</td>\n",
       "      <td>09-12-15</td>\n",
       "      <td>5</td>\n",
       "    </tr>\n",
       "    <tr>\n",
       "      <th>Venue</th>\n",
       "      <td>699</td>\n",
       "      <td>2</td>\n",
       "      <td>H</td>\n",
       "      <td>402</td>\n",
       "    </tr>\n",
       "    <tr>\n",
       "      <th>Club</th>\n",
       "      <td>699</td>\n",
       "      <td>4</td>\n",
       "      <td>Real Madrid</td>\n",
       "      <td>450</td>\n",
       "    </tr>\n",
       "    <tr>\n",
       "      <th>Opponent</th>\n",
       "      <td>699</td>\n",
       "      <td>125</td>\n",
       "      <td>Sevilla FC</td>\n",
       "      <td>27</td>\n",
       "    </tr>\n",
       "    <tr>\n",
       "      <th>Result</th>\n",
       "      <td>699</td>\n",
       "      <td>51</td>\n",
       "      <td>3:00</td>\n",
       "      <td>49</td>\n",
       "    </tr>\n",
       "    <tr>\n",
       "      <th>Playing_Position</th>\n",
       "      <td>642</td>\n",
       "      <td>5</td>\n",
       "      <td>LW</td>\n",
       "      <td>356</td>\n",
       "    </tr>\n",
       "    <tr>\n",
       "      <th>Minute</th>\n",
       "      <td>699</td>\n",
       "      <td>107</td>\n",
       "      <td>90</td>\n",
       "      <td>17</td>\n",
       "    </tr>\n",
       "    <tr>\n",
       "      <th>At_score</th>\n",
       "      <td>699</td>\n",
       "      <td>35</td>\n",
       "      <td>1:00</td>\n",
       "      <td>111</td>\n",
       "    </tr>\n",
       "    <tr>\n",
       "      <th>Type</th>\n",
       "      <td>684</td>\n",
       "      <td>11</td>\n",
       "      <td>Right-footed shot</td>\n",
       "      <td>251</td>\n",
       "    </tr>\n",
       "    <tr>\n",
       "      <th>Goal_assist</th>\n",
       "      <td>458</td>\n",
       "      <td>86</td>\n",
       "      <td>Karim Benzema</td>\n",
       "      <td>44</td>\n",
       "    </tr>\n",
       "  </tbody>\n",
       "</table>\n",
       "</div>"
      ],
      "text/plain": [
       "                 count unique                top freq\n",
       "Season             699     21              14/15   61\n",
       "Competition        699     16             LaLiga  311\n",
       "Matchday           699     52        Group Stage   74\n",
       "Date               699    462           09-12-15    5\n",
       "Venue              699      2                  H  402\n",
       "Club               699      4        Real Madrid  450\n",
       "Opponent           699    125         Sevilla FC   27\n",
       "Result             699     51               3:00   49\n",
       "Playing_Position   642      5                 LW  356\n",
       "Minute             699    107                 90   17\n",
       "At_score           699     35               1:00  111\n",
       "Type               684     11  Right-footed shot  251\n",
       "Goal_assist        458     86      Karim Benzema   44"
      ]
     },
     "execution_count": 8,
     "metadata": {},
     "output_type": "execute_result"
    }
   ],
   "source": [
    "df.describe(include=['object']).T"
   ]
  },
  {
   "cell_type": "markdown",
   "id": "6dfe11dd",
   "metadata": {},
   "source": [
    "### EDA, Veri Görselleştirme"
   ]
  },
  {
   "cell_type": "markdown",
   "id": "f9160ac8",
   "metadata": {},
   "source": [
    "#### Müsabaka başına gol"
   ]
  },
  {
   "cell_type": "code",
   "execution_count": 9,
   "id": "6422e5b9",
   "metadata": {},
   "outputs": [
    {
     "data": {
      "application/vnd.plotly.v1+json": {
       "config": {
        "plotlyServerURL": "https://plot.ly"
       },
       "data": [
        {
         "alignmentgroup": "True",
         "bingroup": "x",
         "hovertemplate": "Club=Sporting CP<br>Competition=%{x}<br>count=%{y}<extra></extra>",
         "legendgroup": "Sporting CP",
         "marker": {
          "color": "#636efa",
          "pattern": {
           "shape": ""
          }
         },
         "name": "Sporting CP",
         "offsetgroup": "Sporting CP",
         "orientation": "v",
         "showlegend": true,
         "type": "histogram",
         "x": [
          "Liga Portugal",
          "Liga Portugal",
          "Liga Portugal",
          "Taca de Portugal Placard",
          "Taca de Portugal Placard"
         ],
         "xaxis": "x",
         "yaxis": "y"
        },
        {
         "alignmentgroup": "True",
         "bingroup": "x",
         "hovertemplate": "Club=Manchester United<br>Competition=%{x}<br>count=%{y}<extra></extra>",
         "legendgroup": "Manchester United",
         "marker": {
          "color": "#EF553B",
          "pattern": {
           "shape": ""
          }
         },
         "name": "Manchester United",
         "offsetgroup": "Manchester United",
         "orientation": "v",
         "showlegend": true,
         "type": "histogram",
         "x": [
          "Premier League",
          "FA Cup",
          "Premier League",
          "Premier League",
          "Premier League",
          "FA Cup",
          "Premier League",
          "FA Cup",
          "Premier League",
          "Premier League",
          "Premier League",
          "FA Cup",
          "FA Cup",
          "Premier League",
          "FA Cup",
          "UEFA Champions League Qualifying",
          "Premier League",
          "EFL Cup",
          "Premier League",
          "Premier League",
          "Premier League",
          "Premier League",
          "Premier League",
          "Premier League",
          "EFL Cup",
          "Premier League",
          "Premier League",
          "Premier League",
          "Premier League",
          "Premier League",
          "Premier League",
          "Premier League",
          "Premier League",
          "Premier League",
          "Premier League",
          "Premier League",
          "Premier League",
          "Premier League",
          "Premier League",
          "Premier League",
          "Premier League",
          "Premier League",
          "Premier League",
          "FA Cup",
          "FA Cup",
          "UEFA Champions League",
          "UEFA Champions League",
          "FA Cup",
          "UEFA Champions League",
          "Premier League",
          "UEFA Champions League",
          "Premier League",
          "Premier League",
          "Premier League",
          "UEFA Champions League",
          "UEFA Champions League",
          "Premier League",
          "UEFA Champions League",
          "Premier League",
          "Premier League",
          "UEFA Champions League",
          "Premier League",
          "Premier League",
          "Premier League",
          "Premier League",
          "Premier League",
          "Premier League",
          "Premier League",
          "FA Cup",
          "Premier League",
          "Premier League",
          "Premier League",
          "Premier League",
          "FA Cup",
          "FA Cup",
          "Premier League",
          "Premier League",
          "Premier League",
          "Premier League",
          "UEFA Champions League",
          "Premier League",
          "Premier League",
          "Premier League",
          "Premier League",
          "Premier League",
          "UEFA Champions League",
          "Premier League",
          "Premier League",
          "Premier League",
          "Premier League",
          "Premier League",
          "UEFA Champions League",
          "EFL Cup",
          "Premier League",
          "Premier League",
          "Premier League",
          "Premier League",
          "Premier League",
          "Premier League",
          "Premier League",
          "Premier League",
          "FIFA Club World Cup",
          "EFL Cup",
          "Premier League",
          "Premier League",
          "Premier League",
          "FA Cup",
          "Premier League",
          "UEFA Champions League",
          "Premier League",
          "Premier League",
          "Premier League",
          "UEFA Champions League",
          "Premier League",
          "Premier League",
          "UEFA Champions League",
          "UEFA Champions League",
          "Premier League",
          "Premier League",
          "Premier League",
          "UEFA Champions League",
          "Premier League",
          "UEFA Champions League",
          "UEFA Champions League",
          "Premier League",
          "UEFA Champions League",
          "UEFA Champions League",
          "UEFA Champions League",
          "Premier League",
          "Premier League",
          "Premier League",
          "Premier League",
          "Premier League",
          "Premier League",
          "Premier League",
          "Premier League",
          "Premier League",
          "Premier League",
          "Premier League",
          "Premier League",
          "Premier League",
          "Premier League",
          "Europa League"
         ],
         "xaxis": "x",
         "yaxis": "y"
        },
        {
         "alignmentgroup": "True",
         "bingroup": "x",
         "hovertemplate": "Club=Real Madrid<br>Competition=%{x}<br>count=%{y}<extra></extra>",
         "legendgroup": "Real Madrid",
         "marker": {
          "color": "#00cc96",
          "pattern": {
           "shape": ""
          }
         },
         "name": "Real Madrid",
         "offsetgroup": "Real Madrid",
         "orientation": "v",
         "showlegend": true,
         "type": "histogram",
         "x": [
          "LaLiga",
          "LaLiga",
          "UEFA Champions League",
          "UEFA Champions League",
          "LaLiga",
          "LaLiga",
          "LaLiga",
          "UEFA Champions League",
          "UEFA Champions League",
          "LaLiga",
          "UEFA Champions League",
          "UEFA Champions League",
          "LaLiga",
          "LaLiga",
          "LaLiga",
          "LaLiga",
          "LaLiga",
          "LaLiga",
          "LaLiga",
          "LaLiga",
          "UEFA Champions League",
          "LaLiga",
          "LaLiga",
          "LaLiga",
          "LaLiga",
          "LaLiga",
          "LaLiga",
          "LaLiga",
          "LaLiga",
          "LaLiga",
          "LaLiga",
          "LaLiga",
          "LaLiga",
          "LaLiga",
          "LaLiga",
          "LaLiga",
          "LaLiga",
          "LaLiga",
          "UEFA Champions League",
          "LaLiga",
          "LaLiga",
          "LaLiga",
          "LaLiga",
          "LaLiga",
          "LaLiga",
          "Copa del Rey",
          "LaLiga",
          "LaLiga",
          "LaLiga",
          "UEFA Champions League",
          "UEFA Champions League",
          "LaLiga",
          "LaLiga",
          "UEFA Champions League",
          "LaLiga",
          "Copa del Rey",
          "Copa del Rey",
          "Copa del Rey",
          "LaLiga",
          "LaLiga",
          "LaLiga",
          "LaLiga",
          "LaLiga",
          "Copa del Rey",
          "Copa del Rey",
          "LaLiga",
          "LaLiga",
          "LaLiga",
          "LaLiga",
          "LaLiga",
          "UEFA Champions League",
          "LaLiga",
          "UEFA Champions League",
          "LaLiga",
          "Copa del Rey",
          "LaLiga",
          "LaLiga",
          "LaLiga",
          "LaLiga",
          "LaLiga",
          "LaLiga",
          "LaLiga",
          "LaLiga",
          "LaLiga",
          "LaLiga",
          "LaLiga",
          "Supercopa",
          "LaLiga",
          "LaLiga",
          "LaLiga",
          "LaLiga",
          "LaLiga",
          "LaLiga",
          "LaLiga",
          "UEFA Champions League",
          "LaLiga",
          "LaLiga",
          "LaLiga",
          "UEFA Champions League",
          "UEFA Champions League",
          "LaLiga",
          "LaLiga",
          "LaLiga",
          "LaLiga",
          "LaLiga",
          "LaLiga",
          "LaLiga",
          "Copa del Rey",
          "LaLiga",
          "LaLiga",
          "LaLiga",
          "LaLiga",
          "Copa del Rey",
          "LaLiga",
          "LaLiga",
          "Copa del Rey",
          "LaLiga",
          "LaLiga",
          "LaLiga",
          "LaLiga",
          "LaLiga",
          "UEFA Champions League",
          "LaLiga",
          "LaLiga",
          "LaLiga",
          "LaLiga",
          "UEFA Champions League",
          "UEFA Champions League",
          "LaLiga",
          "LaLiga",
          "LaLiga",
          "LaLiga",
          "LaLiga",
          "UEFA Champions League",
          "UEFA Champions League",
          "LaLiga",
          "LaLiga",
          "LaLiga",
          "LaLiga",
          "LaLiga",
          "UEFA Champions League",
          "UEFA Champions League",
          "LaLiga",
          "LaLiga",
          "LaLiga",
          "LaLiga",
          "Supercopa",
          "Supercopa",
          "LaLiga",
          "LaLiga",
          "UEFA Champions League",
          "LaLiga",
          "LaLiga",
          "LaLiga",
          "LaLiga",
          "UEFA Champions League",
          "UEFA Champions League",
          "UEFA Champions League",
          "LaLiga",
          "LaLiga",
          "LaLiga",
          "UEFA Champions League",
          "LaLiga",
          "LaLiga",
          "LaLiga",
          "LaLiga",
          "UEFA Champions League",
          "Copa del Rey",
          "LaLiga",
          "LaLiga",
          "LaLiga",
          "Copa del Rey",
          "Copa del Rey",
          "Copa del Rey",
          "LaLiga",
          "LaLiga",
          "LaLiga",
          "LaLiga",
          "LaLiga",
          "LaLiga",
          "LaLiga",
          "LaLiga",
          "UEFA Champions League",
          "Copa del Rey",
          "Copa del Rey",
          "UEFA Champions League",
          "LaLiga",
          "LaLiga",
          "LaLiga",
          "LaLiga",
          "UEFA Champions League",
          "LaLiga",
          "UEFA Champions League",
          "UEFA Champions League",
          "LaLiga",
          "LaLiga",
          "UEFA Champions League",
          "LaLiga",
          "LaLiga",
          "LaLiga",
          "Copa del Rey",
          "LaLiga",
          "LaLiga",
          "UEFA Champions League",
          "UEFA Champions League",
          "UEFA Champions League",
          "LaLiga",
          "LaLiga",
          "LaLiga",
          "LaLiga",
          "UEFA Champions League",
          "UEFA Champions League",
          "LaLiga",
          "LaLiga",
          "UEFA Champions League",
          "UEFA Champions League",
          "LaLiga",
          "LaLiga",
          "LaLiga",
          "LaLiga",
          "LaLiga",
          "UEFA Champions League",
          "LaLiga",
          "LaLiga",
          "LaLiga",
          "LaLiga",
          "UEFA Champions League",
          "LaLiga",
          "LaLiga",
          "LaLiga",
          "Copa del Rey",
          "LaLiga",
          "LaLiga",
          "Copa del Rey",
          "Copa del Rey",
          "UEFA Champions League",
          "UEFA Champions League",
          "LaLiga",
          "LaLiga",
          "LaLiga",
          "UEFA Champions League",
          "UEFA Champions League",
          "LaLiga",
          "LaLiga",
          "LaLiga",
          "UEFA Champions League",
          "LaLiga",
          "LaLiga",
          "UEFA Champions League",
          "UEFA Champions League",
          "LaLiga",
          "UEFA Champions League",
          "UEFA Super Cup",
          "UEFA Super Cup",
          "LaLiga",
          "LaLiga",
          "UEFA Champions League",
          "LaLiga",
          "LaLiga",
          "LaLiga",
          "LaLiga",
          "LaLiga",
          "LaLiga",
          "LaLiga",
          "LaLiga",
          "UEFA Champions League",
          "LaLiga",
          "LaLiga",
          "LaLiga",
          "LaLiga",
          "LaLiga",
          "UEFA Champions League",
          "LaLiga",
          "LaLiga",
          "LaLiga",
          "LaLiga",
          "LaLiga",
          "UEFA Champions League",
          "LaLiga",
          "LaLiga",
          "LaLiga",
          "UEFA Champions League",
          "LaLiga",
          "LaLiga",
          "LaLiga",
          "Copa del Rey",
          "LaLiga",
          "LaLiga",
          "UEFA Champions League",
          "LaLiga",
          "LaLiga",
          "UEFA Champions League",
          "UEFA Champions League",
          "LaLiga",
          "LaLiga",
          "LaLiga",
          "LaLiga",
          "LaLiga",
          "LaLiga",
          "LaLiga",
          "LaLiga",
          "LaLiga",
          "LaLiga",
          "LaLiga",
          "LaLiga",
          "UEFA Champions League",
          "UEFA Champions League",
          "LaLiga",
          "LaLiga",
          "LaLiga",
          "LaLiga",
          "LaLiga",
          "LaLiga",
          "LaLiga",
          "LaLiga",
          "LaLiga",
          "LaLiga",
          "LaLiga",
          "UEFA Champions League",
          "UEFA Champions League",
          "UEFA Champions League",
          "UEFA Champions League",
          "UEFA Champions League",
          "LaLiga",
          "LaLiga",
          "LaLiga",
          "UEFA Champions League",
          "UEFA Champions League",
          "LaLiga",
          "LaLiga",
          "UEFA Champions League",
          "UEFA Champions League",
          "UEFA Champions League",
          "UEFA Champions League",
          "LaLiga",
          "LaLiga",
          "LaLiga",
          "LaLiga",
          "LaLiga",
          "LaLiga",
          "LaLiga",
          "LaLiga",
          "LaLiga",
          "LaLiga",
          "LaLiga",
          "UEFA Champions League",
          "LaLiga",
          "LaLiga",
          "LaLiga",
          "LaLiga",
          "LaLiga",
          "LaLiga",
          "UEFA Champions League",
          "LaLiga",
          "LaLiga",
          "LaLiga",
          "UEFA Champions League",
          "UEFA Champions League",
          "UEFA Champions League",
          "LaLiga",
          "LaLiga",
          "LaLiga",
          "LaLiga",
          "LaLiga",
          "LaLiga",
          "UEFA Champions League",
          "UEFA Champions League",
          "LaLiga",
          "LaLiga",
          "LaLiga",
          "LaLiga",
          "LaLiga",
          "LaLiga",
          "LaLiga",
          "LaLiga",
          "LaLiga",
          "FIFA Club World Cup",
          "FIFA Club World Cup",
          "FIFA Club World Cup",
          "FIFA Club World Cup",
          "LaLiga",
          "LaLiga",
          "Copa del Rey",
          "LaLiga",
          "LaLiga",
          "LaLiga",
          "LaLiga",
          "LaLiga",
          "LaLiga",
          "LaLiga",
          "UEFA Champions League",
          "UEFA Champions League",
          "UEFA Champions League",
          "UEFA Champions League",
          "UEFA Champions League",
          "LaLiga",
          "UEFA Champions League",
          "UEFA Champions League",
          "UEFA Champions League",
          "LaLiga",
          "LaLiga",
          "LaLiga",
          "LaLiga",
          "LaLiga",
          "UEFA Champions League",
          "UEFA Champions League",
          "Supercopa",
          "UEFA Champions League",
          "UEFA Champions League",
          "UEFA Champions League",
          "UEFA Champions League",
          "LaLiga",
          "UEFA Champions League",
          "UEFA Champions League",
          "UEFA Champions League",
          "UEFA Champions League",
          "LaLiga",
          "UEFA Champions League",
          "LaLiga",
          "LaLiga",
          "FIFA Club World Cup",
          "FIFA Club World Cup",
          "LaLiga",
          "LaLiga",
          "LaLiga",
          "LaLiga",
          "LaLiga",
          "LaLiga",
          "LaLiga",
          "UEFA Champions League",
          "UEFA Champions League",
          "LaLiga",
          "LaLiga",
          "LaLiga",
          "LaLiga",
          "LaLiga",
          "UEFA Champions League",
          "LaLiga",
          "LaLiga",
          "LaLiga",
          "LaLiga",
          "LaLiga",
          "LaLiga",
          "UEFA Champions League",
          "UEFA Champions League",
          "LaLiga",
          "UEFA Champions League",
          "LaLiga",
          "LaLiga",
          "LaLiga"
         ],
         "xaxis": "x",
         "yaxis": "y"
        },
        {
         "alignmentgroup": "True",
         "bingroup": "x",
         "hovertemplate": "Club=Juventus FC<br>Competition=%{x}<br>count=%{y}<extra></extra>",
         "legendgroup": "Juventus FC",
         "marker": {
          "color": "#ab63fa",
          "pattern": {
           "shape": ""
          }
         },
         "name": "Juventus FC",
         "offsetgroup": "Juventus FC",
         "orientation": "v",
         "showlegend": true,
         "type": "histogram",
         "x": [
          "Serie A",
          "Serie A",
          "Serie A",
          "Serie A",
          "Serie A",
          "Serie A",
          "Serie A",
          "UEFA Champions League",
          "Serie A",
          "Serie A",
          "Serie A",
          "Serie A",
          "Serie A",
          "Serie A",
          "Serie A",
          "Supercoppa Italiana",
          "Serie A",
          "Serie A",
          "Serie A",
          "Serie A",
          "Serie A",
          "UEFA Champions League",
          "UEFA Champions League",
          "UEFA Champions League",
          "UEFA Champions League",
          "UEFA Champions League",
          "Serie A",
          "Serie A",
          "Serie A",
          "Serie A",
          "Serie A",
          "UEFA Champions League",
          "Serie A",
          "Serie A",
          "Serie A",
          "Serie A",
          "UEFA Champions League",
          "Serie A",
          "Serie A",
          "Serie A",
          "Serie A",
          "Serie A",
          "Serie A",
          "Serie A",
          "Serie A",
          "Serie A",
          "Italy Cup",
          "Serie A",
          "Serie A",
          "Serie A",
          "Serie A",
          "Italy Cup",
          "Serie A",
          "Serie A",
          "Serie A",
          "Serie A",
          "Serie A",
          "Serie A",
          "Serie A",
          "Serie A",
          "Serie A",
          "Serie A",
          "Serie A",
          "UEFA Champions League",
          "UEFA Champions League",
          "Serie A",
          "Serie A",
          "Serie A",
          "Serie A",
          "Serie A",
          "Serie A",
          "Serie A",
          "Serie A",
          "UEFA Champions League",
          "UEFA Champions League",
          "UEFA Champions League",
          "UEFA Champions League",
          "Serie A",
          "Serie A",
          "Serie A",
          "Serie A",
          "Serie A",
          "Serie A",
          "Serie A",
          "Supercoppa Italiana",
          "Italy Cup",
          "Italy Cup",
          "Serie A",
          "Serie A",
          "Serie A",
          "Serie A",
          "Serie A",
          "Serie A",
          "Serie A",
          "Serie A",
          "Serie A",
          "Serie A",
          "Serie A",
          "Serie A",
          "Serie A",
          "Serie A"
         ],
         "xaxis": "x",
         "yaxis": "y"
        }
       ],
       "layout": {
        "barmode": "relative",
        "height": 500,
        "legend": {
         "title": {
          "text": "Club"
         },
         "tracegroupgap": 0
        },
        "template": {
         "data": {
          "bar": [
           {
            "error_x": {
             "color": "#2a3f5f"
            },
            "error_y": {
             "color": "#2a3f5f"
            },
            "marker": {
             "line": {
              "color": "#E5ECF6",
              "width": 0.5
             },
             "pattern": {
              "fillmode": "overlay",
              "size": 10,
              "solidity": 0.2
             }
            },
            "type": "bar"
           }
          ],
          "barpolar": [
           {
            "marker": {
             "line": {
              "color": "#E5ECF6",
              "width": 0.5
             },
             "pattern": {
              "fillmode": "overlay",
              "size": 10,
              "solidity": 0.2
             }
            },
            "type": "barpolar"
           }
          ],
          "carpet": [
           {
            "aaxis": {
             "endlinecolor": "#2a3f5f",
             "gridcolor": "white",
             "linecolor": "white",
             "minorgridcolor": "white",
             "startlinecolor": "#2a3f5f"
            },
            "baxis": {
             "endlinecolor": "#2a3f5f",
             "gridcolor": "white",
             "linecolor": "white",
             "minorgridcolor": "white",
             "startlinecolor": "#2a3f5f"
            },
            "type": "carpet"
           }
          ],
          "choropleth": [
           {
            "colorbar": {
             "outlinewidth": 0,
             "ticks": ""
            },
            "type": "choropleth"
           }
          ],
          "contour": [
           {
            "colorbar": {
             "outlinewidth": 0,
             "ticks": ""
            },
            "colorscale": [
             [
              0,
              "#0d0887"
             ],
             [
              0.1111111111111111,
              "#46039f"
             ],
             [
              0.2222222222222222,
              "#7201a8"
             ],
             [
              0.3333333333333333,
              "#9c179e"
             ],
             [
              0.4444444444444444,
              "#bd3786"
             ],
             [
              0.5555555555555556,
              "#d8576b"
             ],
             [
              0.6666666666666666,
              "#ed7953"
             ],
             [
              0.7777777777777778,
              "#fb9f3a"
             ],
             [
              0.8888888888888888,
              "#fdca26"
             ],
             [
              1,
              "#f0f921"
             ]
            ],
            "type": "contour"
           }
          ],
          "contourcarpet": [
           {
            "colorbar": {
             "outlinewidth": 0,
             "ticks": ""
            },
            "type": "contourcarpet"
           }
          ],
          "heatmap": [
           {
            "colorbar": {
             "outlinewidth": 0,
             "ticks": ""
            },
            "colorscale": [
             [
              0,
              "#0d0887"
             ],
             [
              0.1111111111111111,
              "#46039f"
             ],
             [
              0.2222222222222222,
              "#7201a8"
             ],
             [
              0.3333333333333333,
              "#9c179e"
             ],
             [
              0.4444444444444444,
              "#bd3786"
             ],
             [
              0.5555555555555556,
              "#d8576b"
             ],
             [
              0.6666666666666666,
              "#ed7953"
             ],
             [
              0.7777777777777778,
              "#fb9f3a"
             ],
             [
              0.8888888888888888,
              "#fdca26"
             ],
             [
              1,
              "#f0f921"
             ]
            ],
            "type": "heatmap"
           }
          ],
          "heatmapgl": [
           {
            "colorbar": {
             "outlinewidth": 0,
             "ticks": ""
            },
            "colorscale": [
             [
              0,
              "#0d0887"
             ],
             [
              0.1111111111111111,
              "#46039f"
             ],
             [
              0.2222222222222222,
              "#7201a8"
             ],
             [
              0.3333333333333333,
              "#9c179e"
             ],
             [
              0.4444444444444444,
              "#bd3786"
             ],
             [
              0.5555555555555556,
              "#d8576b"
             ],
             [
              0.6666666666666666,
              "#ed7953"
             ],
             [
              0.7777777777777778,
              "#fb9f3a"
             ],
             [
              0.8888888888888888,
              "#fdca26"
             ],
             [
              1,
              "#f0f921"
             ]
            ],
            "type": "heatmapgl"
           }
          ],
          "histogram": [
           {
            "marker": {
             "pattern": {
              "fillmode": "overlay",
              "size": 10,
              "solidity": 0.2
             }
            },
            "type": "histogram"
           }
          ],
          "histogram2d": [
           {
            "colorbar": {
             "outlinewidth": 0,
             "ticks": ""
            },
            "colorscale": [
             [
              0,
              "#0d0887"
             ],
             [
              0.1111111111111111,
              "#46039f"
             ],
             [
              0.2222222222222222,
              "#7201a8"
             ],
             [
              0.3333333333333333,
              "#9c179e"
             ],
             [
              0.4444444444444444,
              "#bd3786"
             ],
             [
              0.5555555555555556,
              "#d8576b"
             ],
             [
              0.6666666666666666,
              "#ed7953"
             ],
             [
              0.7777777777777778,
              "#fb9f3a"
             ],
             [
              0.8888888888888888,
              "#fdca26"
             ],
             [
              1,
              "#f0f921"
             ]
            ],
            "type": "histogram2d"
           }
          ],
          "histogram2dcontour": [
           {
            "colorbar": {
             "outlinewidth": 0,
             "ticks": ""
            },
            "colorscale": [
             [
              0,
              "#0d0887"
             ],
             [
              0.1111111111111111,
              "#46039f"
             ],
             [
              0.2222222222222222,
              "#7201a8"
             ],
             [
              0.3333333333333333,
              "#9c179e"
             ],
             [
              0.4444444444444444,
              "#bd3786"
             ],
             [
              0.5555555555555556,
              "#d8576b"
             ],
             [
              0.6666666666666666,
              "#ed7953"
             ],
             [
              0.7777777777777778,
              "#fb9f3a"
             ],
             [
              0.8888888888888888,
              "#fdca26"
             ],
             [
              1,
              "#f0f921"
             ]
            ],
            "type": "histogram2dcontour"
           }
          ],
          "mesh3d": [
           {
            "colorbar": {
             "outlinewidth": 0,
             "ticks": ""
            },
            "type": "mesh3d"
           }
          ],
          "parcoords": [
           {
            "line": {
             "colorbar": {
              "outlinewidth": 0,
              "ticks": ""
             }
            },
            "type": "parcoords"
           }
          ],
          "pie": [
           {
            "automargin": true,
            "type": "pie"
           }
          ],
          "scatter": [
           {
            "fillpattern": {
             "fillmode": "overlay",
             "size": 10,
             "solidity": 0.2
            },
            "type": "scatter"
           }
          ],
          "scatter3d": [
           {
            "line": {
             "colorbar": {
              "outlinewidth": 0,
              "ticks": ""
             }
            },
            "marker": {
             "colorbar": {
              "outlinewidth": 0,
              "ticks": ""
             }
            },
            "type": "scatter3d"
           }
          ],
          "scattercarpet": [
           {
            "marker": {
             "colorbar": {
              "outlinewidth": 0,
              "ticks": ""
             }
            },
            "type": "scattercarpet"
           }
          ],
          "scattergeo": [
           {
            "marker": {
             "colorbar": {
              "outlinewidth": 0,
              "ticks": ""
             }
            },
            "type": "scattergeo"
           }
          ],
          "scattergl": [
           {
            "marker": {
             "colorbar": {
              "outlinewidth": 0,
              "ticks": ""
             }
            },
            "type": "scattergl"
           }
          ],
          "scattermapbox": [
           {
            "marker": {
             "colorbar": {
              "outlinewidth": 0,
              "ticks": ""
             }
            },
            "type": "scattermapbox"
           }
          ],
          "scatterpolar": [
           {
            "marker": {
             "colorbar": {
              "outlinewidth": 0,
              "ticks": ""
             }
            },
            "type": "scatterpolar"
           }
          ],
          "scatterpolargl": [
           {
            "marker": {
             "colorbar": {
              "outlinewidth": 0,
              "ticks": ""
             }
            },
            "type": "scatterpolargl"
           }
          ],
          "scatterternary": [
           {
            "marker": {
             "colorbar": {
              "outlinewidth": 0,
              "ticks": ""
             }
            },
            "type": "scatterternary"
           }
          ],
          "surface": [
           {
            "colorbar": {
             "outlinewidth": 0,
             "ticks": ""
            },
            "colorscale": [
             [
              0,
              "#0d0887"
             ],
             [
              0.1111111111111111,
              "#46039f"
             ],
             [
              0.2222222222222222,
              "#7201a8"
             ],
             [
              0.3333333333333333,
              "#9c179e"
             ],
             [
              0.4444444444444444,
              "#bd3786"
             ],
             [
              0.5555555555555556,
              "#d8576b"
             ],
             [
              0.6666666666666666,
              "#ed7953"
             ],
             [
              0.7777777777777778,
              "#fb9f3a"
             ],
             [
              0.8888888888888888,
              "#fdca26"
             ],
             [
              1,
              "#f0f921"
             ]
            ],
            "type": "surface"
           }
          ],
          "table": [
           {
            "cells": {
             "fill": {
              "color": "#EBF0F8"
             },
             "line": {
              "color": "white"
             }
            },
            "header": {
             "fill": {
              "color": "#C8D4E3"
             },
             "line": {
              "color": "white"
             }
            },
            "type": "table"
           }
          ]
         },
         "layout": {
          "annotationdefaults": {
           "arrowcolor": "#2a3f5f",
           "arrowhead": 0,
           "arrowwidth": 1
          },
          "autotypenumbers": "strict",
          "coloraxis": {
           "colorbar": {
            "outlinewidth": 0,
            "ticks": ""
           }
          },
          "colorscale": {
           "diverging": [
            [
             0,
             "#8e0152"
            ],
            [
             0.1,
             "#c51b7d"
            ],
            [
             0.2,
             "#de77ae"
            ],
            [
             0.3,
             "#f1b6da"
            ],
            [
             0.4,
             "#fde0ef"
            ],
            [
             0.5,
             "#f7f7f7"
            ],
            [
             0.6,
             "#e6f5d0"
            ],
            [
             0.7,
             "#b8e186"
            ],
            [
             0.8,
             "#7fbc41"
            ],
            [
             0.9,
             "#4d9221"
            ],
            [
             1,
             "#276419"
            ]
           ],
           "sequential": [
            [
             0,
             "#0d0887"
            ],
            [
             0.1111111111111111,
             "#46039f"
            ],
            [
             0.2222222222222222,
             "#7201a8"
            ],
            [
             0.3333333333333333,
             "#9c179e"
            ],
            [
             0.4444444444444444,
             "#bd3786"
            ],
            [
             0.5555555555555556,
             "#d8576b"
            ],
            [
             0.6666666666666666,
             "#ed7953"
            ],
            [
             0.7777777777777778,
             "#fb9f3a"
            ],
            [
             0.8888888888888888,
             "#fdca26"
            ],
            [
             1,
             "#f0f921"
            ]
           ],
           "sequentialminus": [
            [
             0,
             "#0d0887"
            ],
            [
             0.1111111111111111,
             "#46039f"
            ],
            [
             0.2222222222222222,
             "#7201a8"
            ],
            [
             0.3333333333333333,
             "#9c179e"
            ],
            [
             0.4444444444444444,
             "#bd3786"
            ],
            [
             0.5555555555555556,
             "#d8576b"
            ],
            [
             0.6666666666666666,
             "#ed7953"
            ],
            [
             0.7777777777777778,
             "#fb9f3a"
            ],
            [
             0.8888888888888888,
             "#fdca26"
            ],
            [
             1,
             "#f0f921"
            ]
           ]
          },
          "colorway": [
           "#636efa",
           "#EF553B",
           "#00cc96",
           "#ab63fa",
           "#FFA15A",
           "#19d3f3",
           "#FF6692",
           "#B6E880",
           "#FF97FF",
           "#FECB52"
          ],
          "font": {
           "color": "#2a3f5f"
          },
          "geo": {
           "bgcolor": "white",
           "lakecolor": "white",
           "landcolor": "#E5ECF6",
           "showlakes": true,
           "showland": true,
           "subunitcolor": "white"
          },
          "hoverlabel": {
           "align": "left"
          },
          "hovermode": "closest",
          "mapbox": {
           "style": "light"
          },
          "paper_bgcolor": "white",
          "plot_bgcolor": "#E5ECF6",
          "polar": {
           "angularaxis": {
            "gridcolor": "white",
            "linecolor": "white",
            "ticks": ""
           },
           "bgcolor": "#E5ECF6",
           "radialaxis": {
            "gridcolor": "white",
            "linecolor": "white",
            "ticks": ""
           }
          },
          "scene": {
           "xaxis": {
            "backgroundcolor": "#E5ECF6",
            "gridcolor": "white",
            "gridwidth": 2,
            "linecolor": "white",
            "showbackground": true,
            "ticks": "",
            "zerolinecolor": "white"
           },
           "yaxis": {
            "backgroundcolor": "#E5ECF6",
            "gridcolor": "white",
            "gridwidth": 2,
            "linecolor": "white",
            "showbackground": true,
            "ticks": "",
            "zerolinecolor": "white"
           },
           "zaxis": {
            "backgroundcolor": "#E5ECF6",
            "gridcolor": "white",
            "gridwidth": 2,
            "linecolor": "white",
            "showbackground": true,
            "ticks": "",
            "zerolinecolor": "white"
           }
          },
          "shapedefaults": {
           "line": {
            "color": "#2a3f5f"
           }
          },
          "ternary": {
           "aaxis": {
            "gridcolor": "white",
            "linecolor": "white",
            "ticks": ""
           },
           "baxis": {
            "gridcolor": "white",
            "linecolor": "white",
            "ticks": ""
           },
           "bgcolor": "#E5ECF6",
           "caxis": {
            "gridcolor": "white",
            "linecolor": "white",
            "ticks": ""
           }
          },
          "title": {
           "x": 0.05
          },
          "xaxis": {
           "automargin": true,
           "gridcolor": "white",
           "linecolor": "white",
           "ticks": "",
           "title": {
            "standoff": 15
           },
           "zerolinecolor": "white",
           "zerolinewidth": 2
          },
          "yaxis": {
           "automargin": true,
           "gridcolor": "white",
           "linecolor": "white",
           "ticks": "",
           "title": {
            "standoff": 15
           },
           "zerolinecolor": "white",
           "zerolinewidth": 2
          }
         }
        },
        "title": {
         "text": "Goals per competition"
        },
        "xaxis": {
         "anchor": "y",
         "domain": [
          0,
          1
         ],
         "title": {
          "text": "Competition"
         }
        },
        "yaxis": {
         "anchor": "x",
         "domain": [
          0,
          1
         ],
         "title": {
          "text": "count"
         }
        }
       }
      },
      "text/html": [
       "<div>                            <div id=\"e70252fd-0e4b-4e54-8617-78af7945fb0f\" class=\"plotly-graph-div\" style=\"height:500px; width:100%;\"></div>            <script type=\"text/javascript\">                require([\"plotly\"], function(Plotly) {                    window.PLOTLYENV=window.PLOTLYENV || {};                                    if (document.getElementById(\"e70252fd-0e4b-4e54-8617-78af7945fb0f\")) {                    Plotly.newPlot(                        \"e70252fd-0e4b-4e54-8617-78af7945fb0f\",                        [{\"alignmentgroup\":\"True\",\"bingroup\":\"x\",\"hovertemplate\":\"Club=Sporting CP<br>Competition=%{x}<br>count=%{y}<extra></extra>\",\"legendgroup\":\"Sporting CP\",\"marker\":{\"color\":\"#636efa\",\"pattern\":{\"shape\":\"\"}},\"name\":\"Sporting CP\",\"offsetgroup\":\"Sporting CP\",\"orientation\":\"v\",\"showlegend\":true,\"x\":[\"Liga Portugal\",\"Liga Portugal\",\"Liga Portugal\",\"Taca de Portugal Placard\",\"Taca de Portugal Placard\"],\"xaxis\":\"x\",\"yaxis\":\"y\",\"type\":\"histogram\"},{\"alignmentgroup\":\"True\",\"bingroup\":\"x\",\"hovertemplate\":\"Club=Manchester United<br>Competition=%{x}<br>count=%{y}<extra></extra>\",\"legendgroup\":\"Manchester United\",\"marker\":{\"color\":\"#EF553B\",\"pattern\":{\"shape\":\"\"}},\"name\":\"Manchester United\",\"offsetgroup\":\"Manchester United\",\"orientation\":\"v\",\"showlegend\":true,\"x\":[\"Premier League\",\"FA Cup\",\"Premier League\",\"Premier League\",\"Premier League\",\"FA Cup\",\"Premier League\",\"FA Cup\",\"Premier League\",\"Premier League\",\"Premier League\",\"FA Cup\",\"FA Cup\",\"Premier League\",\"FA Cup\",\"UEFA Champions League Qualifying\",\"Premier League\",\"EFL Cup\",\"Premier League\",\"Premier League\",\"Premier League\",\"Premier League\",\"Premier League\",\"Premier League\",\"EFL Cup\",\"Premier League\",\"Premier League\",\"Premier League\",\"Premier League\",\"Premier League\",\"Premier League\",\"Premier League\",\"Premier League\",\"Premier League\",\"Premier League\",\"Premier League\",\"Premier League\",\"Premier League\",\"Premier League\",\"Premier League\",\"Premier League\",\"Premier League\",\"Premier League\",\"FA Cup\",\"FA Cup\",\"UEFA Champions League\",\"UEFA Champions League\",\"FA Cup\",\"UEFA Champions League\",\"Premier League\",\"UEFA Champions League\",\"Premier League\",\"Premier League\",\"Premier League\",\"UEFA Champions League\",\"UEFA Champions League\",\"Premier League\",\"UEFA Champions League\",\"Premier League\",\"Premier League\",\"UEFA Champions League\",\"Premier League\",\"Premier League\",\"Premier League\",\"Premier League\",\"Premier League\",\"Premier League\",\"Premier League\",\"FA Cup\",\"Premier League\",\"Premier League\",\"Premier League\",\"Premier League\",\"FA Cup\",\"FA Cup\",\"Premier League\",\"Premier League\",\"Premier League\",\"Premier League\",\"UEFA Champions League\",\"Premier League\",\"Premier League\",\"Premier League\",\"Premier League\",\"Premier League\",\"UEFA Champions League\",\"Premier League\",\"Premier League\",\"Premier League\",\"Premier League\",\"Premier League\",\"UEFA Champions League\",\"EFL Cup\",\"Premier League\",\"Premier League\",\"Premier League\",\"Premier League\",\"Premier League\",\"Premier League\",\"Premier League\",\"Premier League\",\"FIFA Club World Cup\",\"EFL Cup\",\"Premier League\",\"Premier League\",\"Premier League\",\"FA Cup\",\"Premier League\",\"UEFA Champions League\",\"Premier League\",\"Premier League\",\"Premier League\",\"UEFA Champions League\",\"Premier League\",\"Premier League\",\"UEFA Champions League\",\"UEFA Champions League\",\"Premier League\",\"Premier League\",\"Premier League\",\"UEFA Champions League\",\"Premier League\",\"UEFA Champions League\",\"UEFA Champions League\",\"Premier League\",\"UEFA Champions League\",\"UEFA Champions League\",\"UEFA Champions League\",\"Premier League\",\"Premier League\",\"Premier League\",\"Premier League\",\"Premier League\",\"Premier League\",\"Premier League\",\"Premier League\",\"Premier League\",\"Premier League\",\"Premier League\",\"Premier League\",\"Premier League\",\"Premier League\",\"Europa League\"],\"xaxis\":\"x\",\"yaxis\":\"y\",\"type\":\"histogram\"},{\"alignmentgroup\":\"True\",\"bingroup\":\"x\",\"hovertemplate\":\"Club=Real Madrid<br>Competition=%{x}<br>count=%{y}<extra></extra>\",\"legendgroup\":\"Real Madrid\",\"marker\":{\"color\":\"#00cc96\",\"pattern\":{\"shape\":\"\"}},\"name\":\"Real Madrid\",\"offsetgroup\":\"Real Madrid\",\"orientation\":\"v\",\"showlegend\":true,\"x\":[\"LaLiga\",\"LaLiga\",\"UEFA Champions League\",\"UEFA Champions League\",\"LaLiga\",\"LaLiga\",\"LaLiga\",\"UEFA Champions League\",\"UEFA Champions League\",\"LaLiga\",\"UEFA Champions League\",\"UEFA Champions League\",\"LaLiga\",\"LaLiga\",\"LaLiga\",\"LaLiga\",\"LaLiga\",\"LaLiga\",\"LaLiga\",\"LaLiga\",\"UEFA Champions League\",\"LaLiga\",\"LaLiga\",\"LaLiga\",\"LaLiga\",\"LaLiga\",\"LaLiga\",\"LaLiga\",\"LaLiga\",\"LaLiga\",\"LaLiga\",\"LaLiga\",\"LaLiga\",\"LaLiga\",\"LaLiga\",\"LaLiga\",\"LaLiga\",\"LaLiga\",\"UEFA Champions League\",\"LaLiga\",\"LaLiga\",\"LaLiga\",\"LaLiga\",\"LaLiga\",\"LaLiga\",\"Copa del Rey\",\"LaLiga\",\"LaLiga\",\"LaLiga\",\"UEFA Champions League\",\"UEFA Champions League\",\"LaLiga\",\"LaLiga\",\"UEFA Champions League\",\"LaLiga\",\"Copa del Rey\",\"Copa del Rey\",\"Copa del Rey\",\"LaLiga\",\"LaLiga\",\"LaLiga\",\"LaLiga\",\"LaLiga\",\"Copa del Rey\",\"Copa del Rey\",\"LaLiga\",\"LaLiga\",\"LaLiga\",\"LaLiga\",\"LaLiga\",\"UEFA Champions League\",\"LaLiga\",\"UEFA Champions League\",\"LaLiga\",\"Copa del Rey\",\"LaLiga\",\"LaLiga\",\"LaLiga\",\"LaLiga\",\"LaLiga\",\"LaLiga\",\"LaLiga\",\"LaLiga\",\"LaLiga\",\"LaLiga\",\"LaLiga\",\"Supercopa\",\"LaLiga\",\"LaLiga\",\"LaLiga\",\"LaLiga\",\"LaLiga\",\"LaLiga\",\"LaLiga\",\"UEFA Champions League\",\"LaLiga\",\"LaLiga\",\"LaLiga\",\"UEFA Champions League\",\"UEFA Champions League\",\"LaLiga\",\"LaLiga\",\"LaLiga\",\"LaLiga\",\"LaLiga\",\"LaLiga\",\"LaLiga\",\"Copa del Rey\",\"LaLiga\",\"LaLiga\",\"LaLiga\",\"LaLiga\",\"Copa del Rey\",\"LaLiga\",\"LaLiga\",\"Copa del Rey\",\"LaLiga\",\"LaLiga\",\"LaLiga\",\"LaLiga\",\"LaLiga\",\"UEFA Champions League\",\"LaLiga\",\"LaLiga\",\"LaLiga\",\"LaLiga\",\"UEFA Champions League\",\"UEFA Champions League\",\"LaLiga\",\"LaLiga\",\"LaLiga\",\"LaLiga\",\"LaLiga\",\"UEFA Champions League\",\"UEFA Champions League\",\"LaLiga\",\"LaLiga\",\"LaLiga\",\"LaLiga\",\"LaLiga\",\"UEFA Champions League\",\"UEFA Champions League\",\"LaLiga\",\"LaLiga\",\"LaLiga\",\"LaLiga\",\"Supercopa\",\"Supercopa\",\"LaLiga\",\"LaLiga\",\"UEFA Champions League\",\"LaLiga\",\"LaLiga\",\"LaLiga\",\"LaLiga\",\"UEFA Champions League\",\"UEFA Champions League\",\"UEFA Champions League\",\"LaLiga\",\"LaLiga\",\"LaLiga\",\"UEFA Champions League\",\"LaLiga\",\"LaLiga\",\"LaLiga\",\"LaLiga\",\"UEFA Champions League\",\"Copa del Rey\",\"LaLiga\",\"LaLiga\",\"LaLiga\",\"Copa del Rey\",\"Copa del Rey\",\"Copa del Rey\",\"LaLiga\",\"LaLiga\",\"LaLiga\",\"LaLiga\",\"LaLiga\",\"LaLiga\",\"LaLiga\",\"LaLiga\",\"UEFA Champions League\",\"Copa del Rey\",\"Copa del Rey\",\"UEFA Champions League\",\"LaLiga\",\"LaLiga\",\"LaLiga\",\"LaLiga\",\"UEFA Champions League\",\"LaLiga\",\"UEFA Champions League\",\"UEFA Champions League\",\"LaLiga\",\"LaLiga\",\"UEFA Champions League\",\"LaLiga\",\"LaLiga\",\"LaLiga\",\"Copa del Rey\",\"LaLiga\",\"LaLiga\",\"UEFA Champions League\",\"UEFA Champions League\",\"UEFA Champions League\",\"LaLiga\",\"LaLiga\",\"LaLiga\",\"LaLiga\",\"UEFA Champions League\",\"UEFA Champions League\",\"LaLiga\",\"LaLiga\",\"UEFA Champions League\",\"UEFA Champions League\",\"LaLiga\",\"LaLiga\",\"LaLiga\",\"LaLiga\",\"LaLiga\",\"UEFA Champions League\",\"LaLiga\",\"LaLiga\",\"LaLiga\",\"LaLiga\",\"UEFA Champions League\",\"LaLiga\",\"LaLiga\",\"LaLiga\",\"Copa del Rey\",\"LaLiga\",\"LaLiga\",\"Copa del Rey\",\"Copa del Rey\",\"UEFA Champions League\",\"UEFA Champions League\",\"LaLiga\",\"LaLiga\",\"LaLiga\",\"UEFA Champions League\",\"UEFA Champions League\",\"LaLiga\",\"LaLiga\",\"LaLiga\",\"UEFA Champions League\",\"LaLiga\",\"LaLiga\",\"UEFA Champions League\",\"UEFA Champions League\",\"LaLiga\",\"UEFA Champions League\",\"UEFA Super Cup\",\"UEFA Super Cup\",\"LaLiga\",\"LaLiga\",\"UEFA Champions League\",\"LaLiga\",\"LaLiga\",\"LaLiga\",\"LaLiga\",\"LaLiga\",\"LaLiga\",\"LaLiga\",\"LaLiga\",\"UEFA Champions League\",\"LaLiga\",\"LaLiga\",\"LaLiga\",\"LaLiga\",\"LaLiga\",\"UEFA Champions League\",\"LaLiga\",\"LaLiga\",\"LaLiga\",\"LaLiga\",\"LaLiga\",\"UEFA Champions League\",\"LaLiga\",\"LaLiga\",\"LaLiga\",\"UEFA Champions League\",\"LaLiga\",\"LaLiga\",\"LaLiga\",\"Copa del Rey\",\"LaLiga\",\"LaLiga\",\"UEFA Champions League\",\"LaLiga\",\"LaLiga\",\"UEFA Champions League\",\"UEFA Champions League\",\"LaLiga\",\"LaLiga\",\"LaLiga\",\"LaLiga\",\"LaLiga\",\"LaLiga\",\"LaLiga\",\"LaLiga\",\"LaLiga\",\"LaLiga\",\"LaLiga\",\"LaLiga\",\"UEFA Champions League\",\"UEFA Champions League\",\"LaLiga\",\"LaLiga\",\"LaLiga\",\"LaLiga\",\"LaLiga\",\"LaLiga\",\"LaLiga\",\"LaLiga\",\"LaLiga\",\"LaLiga\",\"LaLiga\",\"UEFA Champions League\",\"UEFA Champions League\",\"UEFA Champions League\",\"UEFA Champions League\",\"UEFA Champions League\",\"LaLiga\",\"LaLiga\",\"LaLiga\",\"UEFA Champions League\",\"UEFA Champions League\",\"LaLiga\",\"LaLiga\",\"UEFA Champions League\",\"UEFA Champions League\",\"UEFA Champions League\",\"UEFA Champions League\",\"LaLiga\",\"LaLiga\",\"LaLiga\",\"LaLiga\",\"LaLiga\",\"LaLiga\",\"LaLiga\",\"LaLiga\",\"LaLiga\",\"LaLiga\",\"LaLiga\",\"UEFA Champions League\",\"LaLiga\",\"LaLiga\",\"LaLiga\",\"LaLiga\",\"LaLiga\",\"LaLiga\",\"UEFA Champions League\",\"LaLiga\",\"LaLiga\",\"LaLiga\",\"UEFA Champions League\",\"UEFA Champions League\",\"UEFA Champions League\",\"LaLiga\",\"LaLiga\",\"LaLiga\",\"LaLiga\",\"LaLiga\",\"LaLiga\",\"UEFA Champions League\",\"UEFA Champions League\",\"LaLiga\",\"LaLiga\",\"LaLiga\",\"LaLiga\",\"LaLiga\",\"LaLiga\",\"LaLiga\",\"LaLiga\",\"LaLiga\",\"FIFA Club World Cup\",\"FIFA Club World Cup\",\"FIFA Club World Cup\",\"FIFA Club World Cup\",\"LaLiga\",\"LaLiga\",\"Copa del Rey\",\"LaLiga\",\"LaLiga\",\"LaLiga\",\"LaLiga\",\"LaLiga\",\"LaLiga\",\"LaLiga\",\"UEFA Champions League\",\"UEFA Champions League\",\"UEFA Champions League\",\"UEFA Champions League\",\"UEFA Champions League\",\"LaLiga\",\"UEFA Champions League\",\"UEFA Champions League\",\"UEFA Champions League\",\"LaLiga\",\"LaLiga\",\"LaLiga\",\"LaLiga\",\"LaLiga\",\"UEFA Champions League\",\"UEFA Champions League\",\"Supercopa\",\"UEFA Champions League\",\"UEFA Champions League\",\"UEFA Champions League\",\"UEFA Champions League\",\"LaLiga\",\"UEFA Champions League\",\"UEFA Champions League\",\"UEFA Champions League\",\"UEFA Champions League\",\"LaLiga\",\"UEFA Champions League\",\"LaLiga\",\"LaLiga\",\"FIFA Club World Cup\",\"FIFA Club World Cup\",\"LaLiga\",\"LaLiga\",\"LaLiga\",\"LaLiga\",\"LaLiga\",\"LaLiga\",\"LaLiga\",\"UEFA Champions League\",\"UEFA Champions League\",\"LaLiga\",\"LaLiga\",\"LaLiga\",\"LaLiga\",\"LaLiga\",\"UEFA Champions League\",\"LaLiga\",\"LaLiga\",\"LaLiga\",\"LaLiga\",\"LaLiga\",\"LaLiga\",\"UEFA Champions League\",\"UEFA Champions League\",\"LaLiga\",\"UEFA Champions League\",\"LaLiga\",\"LaLiga\",\"LaLiga\"],\"xaxis\":\"x\",\"yaxis\":\"y\",\"type\":\"histogram\"},{\"alignmentgroup\":\"True\",\"bingroup\":\"x\",\"hovertemplate\":\"Club=Juventus FC<br>Competition=%{x}<br>count=%{y}<extra></extra>\",\"legendgroup\":\"Juventus FC\",\"marker\":{\"color\":\"#ab63fa\",\"pattern\":{\"shape\":\"\"}},\"name\":\"Juventus FC\",\"offsetgroup\":\"Juventus FC\",\"orientation\":\"v\",\"showlegend\":true,\"x\":[\"Serie A\",\"Serie A\",\"Serie A\",\"Serie A\",\"Serie A\",\"Serie A\",\"Serie A\",\"UEFA Champions League\",\"Serie A\",\"Serie A\",\"Serie A\",\"Serie A\",\"Serie A\",\"Serie A\",\"Serie A\",\"Supercoppa Italiana\",\"Serie A\",\"Serie A\",\"Serie A\",\"Serie A\",\"Serie A\",\"UEFA Champions League\",\"UEFA Champions League\",\"UEFA Champions League\",\"UEFA Champions League\",\"UEFA Champions League\",\"Serie A\",\"Serie A\",\"Serie A\",\"Serie A\",\"Serie A\",\"UEFA Champions League\",\"Serie A\",\"Serie A\",\"Serie A\",\"Serie A\",\"UEFA Champions League\",\"Serie A\",\"Serie A\",\"Serie A\",\"Serie A\",\"Serie A\",\"Serie A\",\"Serie A\",\"Serie A\",\"Serie A\",\"Italy Cup\",\"Serie A\",\"Serie A\",\"Serie A\",\"Serie A\",\"Italy Cup\",\"Serie A\",\"Serie A\",\"Serie A\",\"Serie A\",\"Serie A\",\"Serie A\",\"Serie A\",\"Serie A\",\"Serie A\",\"Serie A\",\"Serie A\",\"UEFA Champions League\",\"UEFA Champions League\",\"Serie A\",\"Serie A\",\"Serie A\",\"Serie A\",\"Serie A\",\"Serie A\",\"Serie A\",\"Serie A\",\"UEFA Champions League\",\"UEFA Champions League\",\"UEFA Champions League\",\"UEFA Champions League\",\"Serie A\",\"Serie A\",\"Serie A\",\"Serie A\",\"Serie A\",\"Serie A\",\"Serie A\",\"Supercoppa Italiana\",\"Italy Cup\",\"Italy Cup\",\"Serie A\",\"Serie A\",\"Serie A\",\"Serie A\",\"Serie A\",\"Serie A\",\"Serie A\",\"Serie A\",\"Serie A\",\"Serie A\",\"Serie A\",\"Serie A\",\"Serie A\",\"Serie A\"],\"xaxis\":\"x\",\"yaxis\":\"y\",\"type\":\"histogram\"}],                        {\"template\":{\"data\":{\"histogram2dcontour\":[{\"type\":\"histogram2dcontour\",\"colorbar\":{\"outlinewidth\":0,\"ticks\":\"\"},\"colorscale\":[[0.0,\"#0d0887\"],[0.1111111111111111,\"#46039f\"],[0.2222222222222222,\"#7201a8\"],[0.3333333333333333,\"#9c179e\"],[0.4444444444444444,\"#bd3786\"],[0.5555555555555556,\"#d8576b\"],[0.6666666666666666,\"#ed7953\"],[0.7777777777777778,\"#fb9f3a\"],[0.8888888888888888,\"#fdca26\"],[1.0,\"#f0f921\"]]}],\"choropleth\":[{\"type\":\"choropleth\",\"colorbar\":{\"outlinewidth\":0,\"ticks\":\"\"}}],\"histogram2d\":[{\"type\":\"histogram2d\",\"colorbar\":{\"outlinewidth\":0,\"ticks\":\"\"},\"colorscale\":[[0.0,\"#0d0887\"],[0.1111111111111111,\"#46039f\"],[0.2222222222222222,\"#7201a8\"],[0.3333333333333333,\"#9c179e\"],[0.4444444444444444,\"#bd3786\"],[0.5555555555555556,\"#d8576b\"],[0.6666666666666666,\"#ed7953\"],[0.7777777777777778,\"#fb9f3a\"],[0.8888888888888888,\"#fdca26\"],[1.0,\"#f0f921\"]]}],\"heatmap\":[{\"type\":\"heatmap\",\"colorbar\":{\"outlinewidth\":0,\"ticks\":\"\"},\"colorscale\":[[0.0,\"#0d0887\"],[0.1111111111111111,\"#46039f\"],[0.2222222222222222,\"#7201a8\"],[0.3333333333333333,\"#9c179e\"],[0.4444444444444444,\"#bd3786\"],[0.5555555555555556,\"#d8576b\"],[0.6666666666666666,\"#ed7953\"],[0.7777777777777778,\"#fb9f3a\"],[0.8888888888888888,\"#fdca26\"],[1.0,\"#f0f921\"]]}],\"heatmapgl\":[{\"type\":\"heatmapgl\",\"colorbar\":{\"outlinewidth\":0,\"ticks\":\"\"},\"colorscale\":[[0.0,\"#0d0887\"],[0.1111111111111111,\"#46039f\"],[0.2222222222222222,\"#7201a8\"],[0.3333333333333333,\"#9c179e\"],[0.4444444444444444,\"#bd3786\"],[0.5555555555555556,\"#d8576b\"],[0.6666666666666666,\"#ed7953\"],[0.7777777777777778,\"#fb9f3a\"],[0.8888888888888888,\"#fdca26\"],[1.0,\"#f0f921\"]]}],\"contourcarpet\":[{\"type\":\"contourcarpet\",\"colorbar\":{\"outlinewidth\":0,\"ticks\":\"\"}}],\"contour\":[{\"type\":\"contour\",\"colorbar\":{\"outlinewidth\":0,\"ticks\":\"\"},\"colorscale\":[[0.0,\"#0d0887\"],[0.1111111111111111,\"#46039f\"],[0.2222222222222222,\"#7201a8\"],[0.3333333333333333,\"#9c179e\"],[0.4444444444444444,\"#bd3786\"],[0.5555555555555556,\"#d8576b\"],[0.6666666666666666,\"#ed7953\"],[0.7777777777777778,\"#fb9f3a\"],[0.8888888888888888,\"#fdca26\"],[1.0,\"#f0f921\"]]}],\"surface\":[{\"type\":\"surface\",\"colorbar\":{\"outlinewidth\":0,\"ticks\":\"\"},\"colorscale\":[[0.0,\"#0d0887\"],[0.1111111111111111,\"#46039f\"],[0.2222222222222222,\"#7201a8\"],[0.3333333333333333,\"#9c179e\"],[0.4444444444444444,\"#bd3786\"],[0.5555555555555556,\"#d8576b\"],[0.6666666666666666,\"#ed7953\"],[0.7777777777777778,\"#fb9f3a\"],[0.8888888888888888,\"#fdca26\"],[1.0,\"#f0f921\"]]}],\"mesh3d\":[{\"type\":\"mesh3d\",\"colorbar\":{\"outlinewidth\":0,\"ticks\":\"\"}}],\"scatter\":[{\"fillpattern\":{\"fillmode\":\"overlay\",\"size\":10,\"solidity\":0.2},\"type\":\"scatter\"}],\"parcoords\":[{\"type\":\"parcoords\",\"line\":{\"colorbar\":{\"outlinewidth\":0,\"ticks\":\"\"}}}],\"scatterpolargl\":[{\"type\":\"scatterpolargl\",\"marker\":{\"colorbar\":{\"outlinewidth\":0,\"ticks\":\"\"}}}],\"bar\":[{\"error_x\":{\"color\":\"#2a3f5f\"},\"error_y\":{\"color\":\"#2a3f5f\"},\"marker\":{\"line\":{\"color\":\"#E5ECF6\",\"width\":0.5},\"pattern\":{\"fillmode\":\"overlay\",\"size\":10,\"solidity\":0.2}},\"type\":\"bar\"}],\"scattergeo\":[{\"type\":\"scattergeo\",\"marker\":{\"colorbar\":{\"outlinewidth\":0,\"ticks\":\"\"}}}],\"scatterpolar\":[{\"type\":\"scatterpolar\",\"marker\":{\"colorbar\":{\"outlinewidth\":0,\"ticks\":\"\"}}}],\"histogram\":[{\"marker\":{\"pattern\":{\"fillmode\":\"overlay\",\"size\":10,\"solidity\":0.2}},\"type\":\"histogram\"}],\"scattergl\":[{\"type\":\"scattergl\",\"marker\":{\"colorbar\":{\"outlinewidth\":0,\"ticks\":\"\"}}}],\"scatter3d\":[{\"type\":\"scatter3d\",\"line\":{\"colorbar\":{\"outlinewidth\":0,\"ticks\":\"\"}},\"marker\":{\"colorbar\":{\"outlinewidth\":0,\"ticks\":\"\"}}}],\"scattermapbox\":[{\"type\":\"scattermapbox\",\"marker\":{\"colorbar\":{\"outlinewidth\":0,\"ticks\":\"\"}}}],\"scatterternary\":[{\"type\":\"scatterternary\",\"marker\":{\"colorbar\":{\"outlinewidth\":0,\"ticks\":\"\"}}}],\"scattercarpet\":[{\"type\":\"scattercarpet\",\"marker\":{\"colorbar\":{\"outlinewidth\":0,\"ticks\":\"\"}}}],\"carpet\":[{\"aaxis\":{\"endlinecolor\":\"#2a3f5f\",\"gridcolor\":\"white\",\"linecolor\":\"white\",\"minorgridcolor\":\"white\",\"startlinecolor\":\"#2a3f5f\"},\"baxis\":{\"endlinecolor\":\"#2a3f5f\",\"gridcolor\":\"white\",\"linecolor\":\"white\",\"minorgridcolor\":\"white\",\"startlinecolor\":\"#2a3f5f\"},\"type\":\"carpet\"}],\"table\":[{\"cells\":{\"fill\":{\"color\":\"#EBF0F8\"},\"line\":{\"color\":\"white\"}},\"header\":{\"fill\":{\"color\":\"#C8D4E3\"},\"line\":{\"color\":\"white\"}},\"type\":\"table\"}],\"barpolar\":[{\"marker\":{\"line\":{\"color\":\"#E5ECF6\",\"width\":0.5},\"pattern\":{\"fillmode\":\"overlay\",\"size\":10,\"solidity\":0.2}},\"type\":\"barpolar\"}],\"pie\":[{\"automargin\":true,\"type\":\"pie\"}]},\"layout\":{\"autotypenumbers\":\"strict\",\"colorway\":[\"#636efa\",\"#EF553B\",\"#00cc96\",\"#ab63fa\",\"#FFA15A\",\"#19d3f3\",\"#FF6692\",\"#B6E880\",\"#FF97FF\",\"#FECB52\"],\"font\":{\"color\":\"#2a3f5f\"},\"hovermode\":\"closest\",\"hoverlabel\":{\"align\":\"left\"},\"paper_bgcolor\":\"white\",\"plot_bgcolor\":\"#E5ECF6\",\"polar\":{\"bgcolor\":\"#E5ECF6\",\"angularaxis\":{\"gridcolor\":\"white\",\"linecolor\":\"white\",\"ticks\":\"\"},\"radialaxis\":{\"gridcolor\":\"white\",\"linecolor\":\"white\",\"ticks\":\"\"}},\"ternary\":{\"bgcolor\":\"#E5ECF6\",\"aaxis\":{\"gridcolor\":\"white\",\"linecolor\":\"white\",\"ticks\":\"\"},\"baxis\":{\"gridcolor\":\"white\",\"linecolor\":\"white\",\"ticks\":\"\"},\"caxis\":{\"gridcolor\":\"white\",\"linecolor\":\"white\",\"ticks\":\"\"}},\"coloraxis\":{\"colorbar\":{\"outlinewidth\":0,\"ticks\":\"\"}},\"colorscale\":{\"sequential\":[[0.0,\"#0d0887\"],[0.1111111111111111,\"#46039f\"],[0.2222222222222222,\"#7201a8\"],[0.3333333333333333,\"#9c179e\"],[0.4444444444444444,\"#bd3786\"],[0.5555555555555556,\"#d8576b\"],[0.6666666666666666,\"#ed7953\"],[0.7777777777777778,\"#fb9f3a\"],[0.8888888888888888,\"#fdca26\"],[1.0,\"#f0f921\"]],\"sequentialminus\":[[0.0,\"#0d0887\"],[0.1111111111111111,\"#46039f\"],[0.2222222222222222,\"#7201a8\"],[0.3333333333333333,\"#9c179e\"],[0.4444444444444444,\"#bd3786\"],[0.5555555555555556,\"#d8576b\"],[0.6666666666666666,\"#ed7953\"],[0.7777777777777778,\"#fb9f3a\"],[0.8888888888888888,\"#fdca26\"],[1.0,\"#f0f921\"]],\"diverging\":[[0,\"#8e0152\"],[0.1,\"#c51b7d\"],[0.2,\"#de77ae\"],[0.3,\"#f1b6da\"],[0.4,\"#fde0ef\"],[0.5,\"#f7f7f7\"],[0.6,\"#e6f5d0\"],[0.7,\"#b8e186\"],[0.8,\"#7fbc41\"],[0.9,\"#4d9221\"],[1,\"#276419\"]]},\"xaxis\":{\"gridcolor\":\"white\",\"linecolor\":\"white\",\"ticks\":\"\",\"title\":{\"standoff\":15},\"zerolinecolor\":\"white\",\"automargin\":true,\"zerolinewidth\":2},\"yaxis\":{\"gridcolor\":\"white\",\"linecolor\":\"white\",\"ticks\":\"\",\"title\":{\"standoff\":15},\"zerolinecolor\":\"white\",\"automargin\":true,\"zerolinewidth\":2},\"scene\":{\"xaxis\":{\"backgroundcolor\":\"#E5ECF6\",\"gridcolor\":\"white\",\"linecolor\":\"white\",\"showbackground\":true,\"ticks\":\"\",\"zerolinecolor\":\"white\",\"gridwidth\":2},\"yaxis\":{\"backgroundcolor\":\"#E5ECF6\",\"gridcolor\":\"white\",\"linecolor\":\"white\",\"showbackground\":true,\"ticks\":\"\",\"zerolinecolor\":\"white\",\"gridwidth\":2},\"zaxis\":{\"backgroundcolor\":\"#E5ECF6\",\"gridcolor\":\"white\",\"linecolor\":\"white\",\"showbackground\":true,\"ticks\":\"\",\"zerolinecolor\":\"white\",\"gridwidth\":2}},\"shapedefaults\":{\"line\":{\"color\":\"#2a3f5f\"}},\"annotationdefaults\":{\"arrowcolor\":\"#2a3f5f\",\"arrowhead\":0,\"arrowwidth\":1},\"geo\":{\"bgcolor\":\"white\",\"landcolor\":\"#E5ECF6\",\"subunitcolor\":\"white\",\"showland\":true,\"showlakes\":true,\"lakecolor\":\"white\"},\"title\":{\"x\":0.05},\"mapbox\":{\"style\":\"light\"}}},\"xaxis\":{\"anchor\":\"y\",\"domain\":[0.0,1.0],\"title\":{\"text\":\"Competition\"}},\"yaxis\":{\"anchor\":\"x\",\"domain\":[0.0,1.0],\"title\":{\"text\":\"count\"}},\"legend\":{\"title\":{\"text\":\"Club\"},\"tracegroupgap\":0},\"title\":{\"text\":\"Goals per competition\"},\"barmode\":\"relative\",\"height\":500},                        {\"responsive\": true}                    ).then(function(){\n",
       "                            \n",
       "var gd = document.getElementById('e70252fd-0e4b-4e54-8617-78af7945fb0f');\n",
       "var x = new MutationObserver(function (mutations, observer) {{\n",
       "        var display = window.getComputedStyle(gd).display;\n",
       "        if (!display || display === 'none') {{\n",
       "            console.log([gd, 'removed!']);\n",
       "            Plotly.purge(gd);\n",
       "            observer.disconnect();\n",
       "        }}\n",
       "}});\n",
       "\n",
       "// Listen for the removal of the full notebook cells\n",
       "var notebookContainer = gd.closest('#notebook-container');\n",
       "if (notebookContainer) {{\n",
       "    x.observe(notebookContainer, {childList: true});\n",
       "}}\n",
       "\n",
       "// Listen for the clearing of the current output cell\n",
       "var outputEl = gd.closest('.output');\n",
       "if (outputEl) {{\n",
       "    x.observe(outputEl, {childList: true});\n",
       "}}\n",
       "\n",
       "                        })                };                });            </script>        </div>"
      ]
     },
     "metadata": {},
     "output_type": "display_data"
    }
   ],
   "source": [
    "px.histogram(\n",
    "    df,\n",
    "    x='Competition',\n",
    "    title=\"Goals per competition\",\n",
    "    log_x=False,\n",
    "    log_y=False,\n",
    "    #symbol='title',\n",
    "    #markers=True,\n",
    "    #width=800, \n",
    "    height=500,\n",
    "    color='Club',\n",
    "    hover_name='Club',\n",
    "    hover_data=['Competition','Club'])"
   ]
  },
  {
   "cell_type": "code",
   "execution_count": 10,
   "id": "465f73b1",
   "metadata": {},
   "outputs": [
    {
     "data": {
      "text/html": [
       "<div>\n",
       "<style scoped>\n",
       "    .dataframe tbody tr th:only-of-type {\n",
       "        vertical-align: middle;\n",
       "    }\n",
       "\n",
       "    .dataframe tbody tr th {\n",
       "        vertical-align: top;\n",
       "    }\n",
       "\n",
       "    .dataframe thead th {\n",
       "        text-align: right;\n",
       "    }\n",
       "</style>\n",
       "<table border=\"1\" class=\"dataframe\">\n",
       "  <thead>\n",
       "    <tr style=\"text-align: right;\">\n",
       "      <th></th>\n",
       "      <th>Competition</th>\n",
       "    </tr>\n",
       "  </thead>\n",
       "  <tbody>\n",
       "    <tr>\n",
       "      <th>LaLiga</th>\n",
       "      <td>311</td>\n",
       "    </tr>\n",
       "    <tr>\n",
       "      <th>UEFA Champions League</th>\n",
       "      <td>140</td>\n",
       "    </tr>\n",
       "    <tr>\n",
       "      <th>Premier League</th>\n",
       "      <td>102</td>\n",
       "    </tr>\n",
       "    <tr>\n",
       "      <th>Serie A</th>\n",
       "      <td>81</td>\n",
       "    </tr>\n",
       "    <tr>\n",
       "      <th>Copa del Rey</th>\n",
       "      <td>22</td>\n",
       "    </tr>\n",
       "    <tr>\n",
       "      <th>FA Cup</th>\n",
       "      <td>13</td>\n",
       "    </tr>\n",
       "    <tr>\n",
       "      <th>FIFA Club World Cup</th>\n",
       "      <td>7</td>\n",
       "    </tr>\n",
       "    <tr>\n",
       "      <th>EFL Cup</th>\n",
       "      <td>4</td>\n",
       "    </tr>\n",
       "    <tr>\n",
       "      <th>Supercopa</th>\n",
       "      <td>4</td>\n",
       "    </tr>\n",
       "    <tr>\n",
       "      <th>Italy Cup</th>\n",
       "      <td>4</td>\n",
       "    </tr>\n",
       "    <tr>\n",
       "      <th>Liga Portugal</th>\n",
       "      <td>3</td>\n",
       "    </tr>\n",
       "    <tr>\n",
       "      <th>Taca de Portugal Placard</th>\n",
       "      <td>2</td>\n",
       "    </tr>\n",
       "    <tr>\n",
       "      <th>UEFA Super Cup</th>\n",
       "      <td>2</td>\n",
       "    </tr>\n",
       "    <tr>\n",
       "      <th>Supercoppa Italiana</th>\n",
       "      <td>2</td>\n",
       "    </tr>\n",
       "    <tr>\n",
       "      <th>UEFA Champions League Qualifying</th>\n",
       "      <td>1</td>\n",
       "    </tr>\n",
       "    <tr>\n",
       "      <th>Europa League</th>\n",
       "      <td>1</td>\n",
       "    </tr>\n",
       "  </tbody>\n",
       "</table>\n",
       "</div>"
      ],
      "text/plain": [
       "                                  Competition\n",
       "LaLiga                                    311\n",
       "UEFA Champions League                     140\n",
       "Premier League                            102\n",
       "Serie A                                    81\n",
       "Copa del Rey                               22\n",
       "FA Cup                                     13\n",
       "FIFA Club World Cup                         7\n",
       "EFL Cup                                     4\n",
       "Supercopa                                   4\n",
       "Italy Cup                                   4\n",
       "Liga Portugal                               3\n",
       "Taca de Portugal Placard                    2\n",
       "UEFA Super Cup                              2\n",
       "Supercoppa Italiana                         2\n",
       "UEFA Champions League Qualifying            1\n",
       "Europa League                               1"
      ]
     },
     "execution_count": 10,
     "metadata": {},
     "output_type": "execute_result"
    }
   ],
   "source": [
    "pd.DataFrame(df.Competition.value_counts())"
   ]
  },
  {
   "cell_type": "markdown",
   "id": "40b1d129",
   "metadata": {},
   "source": [
    "#### Sezon başına gol"
   ]
  },
  {
   "cell_type": "code",
   "execution_count": 11,
   "id": "6ea10d17",
   "metadata": {},
   "outputs": [
    {
     "data": {
      "application/vnd.plotly.v1+json": {
       "config": {
        "plotlyServerURL": "https://plot.ly"
       },
       "data": [
        {
         "alignmentgroup": "True",
         "bingroup": "x",
         "hovertemplate": "Club=Sporting CP<br>Season=%{x}<br>count=%{y}<extra></extra>",
         "legendgroup": "Sporting CP",
         "marker": {
          "color": "#636efa",
          "pattern": {
           "shape": ""
          }
         },
         "name": "Sporting CP",
         "offsetgroup": "Sporting CP",
         "orientation": "v",
         "showlegend": true,
         "type": "histogram",
         "x": [
          "02-Mar",
          "02-Mar",
          "02-Mar",
          "02-Mar",
          "02-Mar"
         ],
         "xaxis": "x",
         "yaxis": "y"
        },
        {
         "alignmentgroup": "True",
         "bingroup": "x",
         "hovertemplate": "Club=Manchester United<br>Season=%{x}<br>count=%{y}<extra></extra>",
         "legendgroup": "Manchester United",
         "marker": {
          "color": "#EF553B",
          "pattern": {
           "shape": ""
          }
         },
         "name": "Manchester United",
         "offsetgroup": "Manchester United",
         "orientation": "v",
         "showlegend": true,
         "type": "histogram",
         "x": [
          "03-Apr",
          "03-Apr",
          "03-Apr",
          "03-Apr",
          "03-Apr",
          "03-Apr",
          "04-May",
          "04-May",
          "04-May",
          "04-May",
          "04-May",
          "04-May",
          "04-May",
          "04-May",
          "04-May",
          "05-Jun",
          "05-Jun",
          "05-Jun",
          "05-Jun",
          "05-Jun",
          "05-Jun",
          "05-Jun",
          "05-Jun",
          "05-Jun",
          "05-Jun",
          "05-Jun",
          "05-Jun",
          "06-Jul",
          "06-Jul",
          "06-Jul",
          "06-Jul",
          "06-Jul",
          "06-Jul",
          "06-Jul",
          "06-Jul",
          "06-Jul",
          "06-Jul",
          "06-Jul",
          "06-Jul",
          "06-Jul",
          "06-Jul",
          "06-Jul",
          "06-Jul",
          "06-Jul",
          "06-Jul",
          "06-Jul",
          "06-Jul",
          "06-Jul",
          "06-Jul",
          "06-Jul",
          "07-Aug",
          "07-Aug",
          "07-Aug",
          "07-Aug",
          "07-Aug",
          "07-Aug",
          "07-Aug",
          "07-Aug",
          "07-Aug",
          "07-Aug",
          "07-Aug",
          "07-Aug",
          "07-Aug",
          "07-Aug",
          "07-Aug",
          "07-Aug",
          "07-Aug",
          "07-Aug",
          "07-Aug",
          "07-Aug",
          "07-Aug",
          "07-Aug",
          "07-Aug",
          "07-Aug",
          "07-Aug",
          "07-Aug",
          "07-Aug",
          "07-Aug",
          "07-Aug",
          "07-Aug",
          "07-Aug",
          "07-Aug",
          "07-Aug",
          "07-Aug",
          "07-Aug",
          "07-Aug",
          "07-Aug",
          "07-Aug",
          "07-Aug",
          "07-Aug",
          "07-Aug",
          "07-Aug",
          "08-Sep",
          "08-Sep",
          "08-Sep",
          "08-Sep",
          "08-Sep",
          "08-Sep",
          "08-Sep",
          "08-Sep",
          "08-Sep",
          "08-Sep",
          "08-Sep",
          "08-Sep",
          "08-Sep",
          "08-Sep",
          "08-Sep",
          "08-Sep",
          "08-Sep",
          "08-Sep",
          "08-Sep",
          "08-Sep",
          "08-Sep",
          "08-Sep",
          "08-Sep",
          "08-Sep",
          "08-Sep",
          "08-Sep",
          "21/22",
          "21/22",
          "21/22",
          "21/22",
          "21/22",
          "21/22",
          "21/22",
          "21/22",
          "21/22",
          "21/22",
          "21/22",
          "21/22",
          "21/22",
          "21/22",
          "21/22",
          "21/22",
          "21/22",
          "21/22",
          "21/22",
          "21/22",
          "21/22",
          "21/22",
          "21/22",
          "21/22",
          "22/23"
         ],
         "xaxis": "x",
         "yaxis": "y"
        },
        {
         "alignmentgroup": "True",
         "bingroup": "x",
         "hovertemplate": "Club=Real Madrid<br>Season=%{x}<br>count=%{y}<extra></extra>",
         "legendgroup": "Real Madrid",
         "marker": {
          "color": "#00cc96",
          "pattern": {
           "shape": ""
          }
         },
         "name": "Real Madrid",
         "offsetgroup": "Real Madrid",
         "orientation": "v",
         "showlegend": true,
         "type": "histogram",
         "x": [
          "09-Oct",
          "09-Oct",
          "09-Oct",
          "09-Oct",
          "09-Oct",
          "09-Oct",
          "09-Oct",
          "09-Oct",
          "09-Oct",
          "09-Oct",
          "09-Oct",
          "09-Oct",
          "09-Oct",
          "09-Oct",
          "09-Oct",
          "09-Oct",
          "09-Oct",
          "09-Oct",
          "09-Oct",
          "09-Oct",
          "09-Oct",
          "09-Oct",
          "09-Oct",
          "09-Oct",
          "09-Oct",
          "09-Oct",
          "09-Oct",
          "09-Oct",
          "09-Oct",
          "09-Oct",
          "09-Oct",
          "09-Oct",
          "09-Oct",
          "10-Nov",
          "10-Nov",
          "10-Nov",
          "10-Nov",
          "10-Nov",
          "10-Nov",
          "10-Nov",
          "10-Nov",
          "10-Nov",
          "10-Nov",
          "10-Nov",
          "10-Nov",
          "10-Nov",
          "10-Nov",
          "10-Nov",
          "10-Nov",
          "10-Nov",
          "10-Nov",
          "10-Nov",
          "10-Nov",
          "10-Nov",
          "10-Nov",
          "10-Nov",
          "10-Nov",
          "10-Nov",
          "10-Nov",
          "10-Nov",
          "10-Nov",
          "10-Nov",
          "10-Nov",
          "10-Nov",
          "10-Nov",
          "10-Nov",
          "10-Nov",
          "10-Nov",
          "10-Nov",
          "10-Nov",
          "10-Nov",
          "10-Nov",
          "10-Nov",
          "10-Nov",
          "10-Nov",
          "10-Nov",
          "10-Nov",
          "10-Nov",
          "10-Nov",
          "10-Nov",
          "10-Nov",
          "10-Nov",
          "10-Nov",
          "10-Nov",
          "10-Nov",
          "10-Nov",
          "11-Dec",
          "11-Dec",
          "11-Dec",
          "11-Dec",
          "11-Dec",
          "11-Dec",
          "11-Dec",
          "11-Dec",
          "11-Dec",
          "11-Dec",
          "11-Dec",
          "11-Dec",
          "11-Dec",
          "11-Dec",
          "11-Dec",
          "11-Dec",
          "11-Dec",
          "11-Dec",
          "11-Dec",
          "11-Dec",
          "11-Dec",
          "11-Dec",
          "11-Dec",
          "11-Dec",
          "11-Dec",
          "11-Dec",
          "11-Dec",
          "11-Dec",
          "11-Dec",
          "11-Dec",
          "11-Dec",
          "11-Dec",
          "11-Dec",
          "11-Dec",
          "11-Dec",
          "11-Dec",
          "11-Dec",
          "11-Dec",
          "11-Dec",
          "11-Dec",
          "11-Dec",
          "11-Dec",
          "11-Dec",
          "11-Dec",
          "11-Dec",
          "11-Dec",
          "11-Dec",
          "11-Dec",
          "11-Dec",
          "11-Dec",
          "11-Dec",
          "11-Dec",
          "11-Dec",
          "11-Dec",
          "11-Dec",
          "11-Dec",
          "11-Dec",
          "11-Dec",
          "11-Dec",
          "11-Dec",
          "Dec-13",
          "Dec-13",
          "Dec-13",
          "Dec-13",
          "Dec-13",
          "Dec-13",
          "Dec-13",
          "Dec-13",
          "Dec-13",
          "Dec-13",
          "Dec-13",
          "Dec-13",
          "Dec-13",
          "Dec-13",
          "Dec-13",
          "Dec-13",
          "Dec-13",
          "Dec-13",
          "Dec-13",
          "Dec-13",
          "Dec-13",
          "Dec-13",
          "Dec-13",
          "Dec-13",
          "Dec-13",
          "Dec-13",
          "Dec-13",
          "Dec-13",
          "Dec-13",
          "Dec-13",
          "Dec-13",
          "Dec-13",
          "Dec-13",
          "Dec-13",
          "Dec-13",
          "Dec-13",
          "Dec-13",
          "Dec-13",
          "Dec-13",
          "Dec-13",
          "Dec-13",
          "Dec-13",
          "Dec-13",
          "Dec-13",
          "Dec-13",
          "Dec-13",
          "Dec-13",
          "Dec-13",
          "Dec-13",
          "Dec-13",
          "Dec-13",
          "Dec-13",
          "Dec-13",
          "Dec-13",
          "Dec-13",
          "13/14",
          "13/14",
          "13/14",
          "13/14",
          "13/14",
          "13/14",
          "13/14",
          "13/14",
          "13/14",
          "13/14",
          "13/14",
          "13/14",
          "13/14",
          "13/14",
          "13/14",
          "13/14",
          "13/14",
          "13/14",
          "13/14",
          "13/14",
          "13/14",
          "13/14",
          "13/14",
          "13/14",
          "13/14",
          "13/14",
          "13/14",
          "13/14",
          "13/14",
          "13/14",
          "13/14",
          "13/14",
          "13/14",
          "13/14",
          "13/14",
          "13/14",
          "13/14",
          "13/14",
          "13/14",
          "13/14",
          "13/14",
          "13/14",
          "13/14",
          "13/14",
          "13/14",
          "13/14",
          "13/14",
          "13/14",
          "13/14",
          "13/14",
          "13/14",
          "14/15",
          "14/15",
          "14/15",
          "14/15",
          "14/15",
          "14/15",
          "14/15",
          "14/15",
          "14/15",
          "14/15",
          "14/15",
          "14/15",
          "14/15",
          "14/15",
          "14/15",
          "14/15",
          "14/15",
          "14/15",
          "14/15",
          "14/15",
          "14/15",
          "14/15",
          "14/15",
          "14/15",
          "14/15",
          "14/15",
          "14/15",
          "14/15",
          "14/15",
          "14/15",
          "14/15",
          "14/15",
          "14/15",
          "14/15",
          "14/15",
          "14/15",
          "14/15",
          "14/15",
          "14/15",
          "14/15",
          "14/15",
          "14/15",
          "14/15",
          "14/15",
          "14/15",
          "14/15",
          "14/15",
          "14/15",
          "14/15",
          "14/15",
          "14/15",
          "14/15",
          "14/15",
          "14/15",
          "14/15",
          "14/15",
          "14/15",
          "14/15",
          "14/15",
          "14/15",
          "14/15",
          "15/16",
          "15/16",
          "15/16",
          "15/16",
          "15/16",
          "15/16",
          "15/16",
          "15/16",
          "15/16",
          "15/16",
          "15/16",
          "15/16",
          "15/16",
          "15/16",
          "15/16",
          "15/16",
          "15/16",
          "15/16",
          "15/16",
          "15/16",
          "15/16",
          "15/16",
          "15/16",
          "15/16",
          "15/16",
          "15/16",
          "15/16",
          "15/16",
          "15/16",
          "15/16",
          "15/16",
          "15/16",
          "15/16",
          "15/16",
          "15/16",
          "15/16",
          "15/16",
          "15/16",
          "15/16",
          "15/16",
          "15/16",
          "15/16",
          "15/16",
          "15/16",
          "15/16",
          "15/16",
          "15/16",
          "15/16",
          "15/16",
          "15/16",
          "15/16",
          "16/17",
          "16/17",
          "16/17",
          "16/17",
          "16/17",
          "16/17",
          "16/17",
          "16/17",
          "16/17",
          "16/17",
          "16/17",
          "16/17",
          "16/17",
          "16/17",
          "16/17",
          "16/17",
          "16/17",
          "16/17",
          "16/17",
          "16/17",
          "16/17",
          "16/17",
          "16/17",
          "16/17",
          "16/17",
          "16/17",
          "16/17",
          "16/17",
          "16/17",
          "16/17",
          "16/17",
          "16/17",
          "16/17",
          "16/17",
          "16/17",
          "16/17",
          "16/17",
          "16/17",
          "16/17",
          "16/17",
          "16/17",
          "16/17",
          "17/18",
          "17/18",
          "17/18",
          "17/18",
          "17/18",
          "17/18",
          "17/18",
          "17/18",
          "17/18",
          "17/18",
          "17/18",
          "17/18",
          "17/18",
          "17/18",
          "17/18",
          "17/18",
          "17/18",
          "17/18",
          "17/18",
          "17/18",
          "17/18",
          "17/18",
          "17/18",
          "17/18",
          "17/18",
          "17/18",
          "17/18",
          "17/18",
          "17/18",
          "17/18",
          "17/18",
          "17/18",
          "17/18",
          "17/18",
          "17/18",
          "17/18",
          "17/18",
          "17/18",
          "17/18",
          "17/18",
          "17/18",
          "17/18",
          "17/18",
          "17/18"
         ],
         "xaxis": "x",
         "yaxis": "y"
        },
        {
         "alignmentgroup": "True",
         "bingroup": "x",
         "hovertemplate": "Club=Juventus FC<br>Season=%{x}<br>count=%{y}<extra></extra>",
         "legendgroup": "Juventus FC",
         "marker": {
          "color": "#ab63fa",
          "pattern": {
           "shape": ""
          }
         },
         "name": "Juventus FC",
         "offsetgroup": "Juventus FC",
         "orientation": "v",
         "showlegend": true,
         "type": "histogram",
         "x": [
          "18/19",
          "18/19",
          "18/19",
          "18/19",
          "18/19",
          "18/19",
          "18/19",
          "18/19",
          "18/19",
          "18/19",
          "18/19",
          "18/19",
          "18/19",
          "18/19",
          "18/19",
          "18/19",
          "18/19",
          "18/19",
          "18/19",
          "18/19",
          "18/19",
          "18/19",
          "18/19",
          "18/19",
          "18/19",
          "18/19",
          "18/19",
          "18/19",
          "19/20",
          "19/20",
          "19/20",
          "19/20",
          "19/20",
          "19/20",
          "19/20",
          "19/20",
          "19/20",
          "19/20",
          "19/20",
          "19/20",
          "19/20",
          "19/20",
          "19/20",
          "19/20",
          "19/20",
          "19/20",
          "19/20",
          "19/20",
          "19/20",
          "19/20",
          "19/20",
          "19/20",
          "19/20",
          "19/20",
          "19/20",
          "19/20",
          "19/20",
          "19/20",
          "19/20",
          "19/20",
          "19/20",
          "19/20",
          "19/20",
          "19/20",
          "19/20",
          "20/21",
          "20/21",
          "20/21",
          "20/21",
          "20/21",
          "20/21",
          "20/21",
          "20/21",
          "20/21",
          "20/21",
          "20/21",
          "20/21",
          "20/21",
          "20/21",
          "20/21",
          "20/21",
          "20/21",
          "20/21",
          "20/21",
          "20/21",
          "20/21",
          "20/21",
          "20/21",
          "20/21",
          "20/21",
          "20/21",
          "20/21",
          "20/21",
          "20/21",
          "20/21",
          "20/21",
          "20/21",
          "20/21",
          "20/21",
          "20/21",
          "20/21"
         ],
         "xaxis": "x",
         "yaxis": "y"
        }
       ],
       "layout": {
        "barmode": "relative",
        "height": 500,
        "legend": {
         "title": {
          "text": "Club"
         },
         "tracegroupgap": 0
        },
        "template": {
         "data": {
          "bar": [
           {
            "error_x": {
             "color": "#2a3f5f"
            },
            "error_y": {
             "color": "#2a3f5f"
            },
            "marker": {
             "line": {
              "color": "#E5ECF6",
              "width": 0.5
             },
             "pattern": {
              "fillmode": "overlay",
              "size": 10,
              "solidity": 0.2
             }
            },
            "type": "bar"
           }
          ],
          "barpolar": [
           {
            "marker": {
             "line": {
              "color": "#E5ECF6",
              "width": 0.5
             },
             "pattern": {
              "fillmode": "overlay",
              "size": 10,
              "solidity": 0.2
             }
            },
            "type": "barpolar"
           }
          ],
          "carpet": [
           {
            "aaxis": {
             "endlinecolor": "#2a3f5f",
             "gridcolor": "white",
             "linecolor": "white",
             "minorgridcolor": "white",
             "startlinecolor": "#2a3f5f"
            },
            "baxis": {
             "endlinecolor": "#2a3f5f",
             "gridcolor": "white",
             "linecolor": "white",
             "minorgridcolor": "white",
             "startlinecolor": "#2a3f5f"
            },
            "type": "carpet"
           }
          ],
          "choropleth": [
           {
            "colorbar": {
             "outlinewidth": 0,
             "ticks": ""
            },
            "type": "choropleth"
           }
          ],
          "contour": [
           {
            "colorbar": {
             "outlinewidth": 0,
             "ticks": ""
            },
            "colorscale": [
             [
              0,
              "#0d0887"
             ],
             [
              0.1111111111111111,
              "#46039f"
             ],
             [
              0.2222222222222222,
              "#7201a8"
             ],
             [
              0.3333333333333333,
              "#9c179e"
             ],
             [
              0.4444444444444444,
              "#bd3786"
             ],
             [
              0.5555555555555556,
              "#d8576b"
             ],
             [
              0.6666666666666666,
              "#ed7953"
             ],
             [
              0.7777777777777778,
              "#fb9f3a"
             ],
             [
              0.8888888888888888,
              "#fdca26"
             ],
             [
              1,
              "#f0f921"
             ]
            ],
            "type": "contour"
           }
          ],
          "contourcarpet": [
           {
            "colorbar": {
             "outlinewidth": 0,
             "ticks": ""
            },
            "type": "contourcarpet"
           }
          ],
          "heatmap": [
           {
            "colorbar": {
             "outlinewidth": 0,
             "ticks": ""
            },
            "colorscale": [
             [
              0,
              "#0d0887"
             ],
             [
              0.1111111111111111,
              "#46039f"
             ],
             [
              0.2222222222222222,
              "#7201a8"
             ],
             [
              0.3333333333333333,
              "#9c179e"
             ],
             [
              0.4444444444444444,
              "#bd3786"
             ],
             [
              0.5555555555555556,
              "#d8576b"
             ],
             [
              0.6666666666666666,
              "#ed7953"
             ],
             [
              0.7777777777777778,
              "#fb9f3a"
             ],
             [
              0.8888888888888888,
              "#fdca26"
             ],
             [
              1,
              "#f0f921"
             ]
            ],
            "type": "heatmap"
           }
          ],
          "heatmapgl": [
           {
            "colorbar": {
             "outlinewidth": 0,
             "ticks": ""
            },
            "colorscale": [
             [
              0,
              "#0d0887"
             ],
             [
              0.1111111111111111,
              "#46039f"
             ],
             [
              0.2222222222222222,
              "#7201a8"
             ],
             [
              0.3333333333333333,
              "#9c179e"
             ],
             [
              0.4444444444444444,
              "#bd3786"
             ],
             [
              0.5555555555555556,
              "#d8576b"
             ],
             [
              0.6666666666666666,
              "#ed7953"
             ],
             [
              0.7777777777777778,
              "#fb9f3a"
             ],
             [
              0.8888888888888888,
              "#fdca26"
             ],
             [
              1,
              "#f0f921"
             ]
            ],
            "type": "heatmapgl"
           }
          ],
          "histogram": [
           {
            "marker": {
             "pattern": {
              "fillmode": "overlay",
              "size": 10,
              "solidity": 0.2
             }
            },
            "type": "histogram"
           }
          ],
          "histogram2d": [
           {
            "colorbar": {
             "outlinewidth": 0,
             "ticks": ""
            },
            "colorscale": [
             [
              0,
              "#0d0887"
             ],
             [
              0.1111111111111111,
              "#46039f"
             ],
             [
              0.2222222222222222,
              "#7201a8"
             ],
             [
              0.3333333333333333,
              "#9c179e"
             ],
             [
              0.4444444444444444,
              "#bd3786"
             ],
             [
              0.5555555555555556,
              "#d8576b"
             ],
             [
              0.6666666666666666,
              "#ed7953"
             ],
             [
              0.7777777777777778,
              "#fb9f3a"
             ],
             [
              0.8888888888888888,
              "#fdca26"
             ],
             [
              1,
              "#f0f921"
             ]
            ],
            "type": "histogram2d"
           }
          ],
          "histogram2dcontour": [
           {
            "colorbar": {
             "outlinewidth": 0,
             "ticks": ""
            },
            "colorscale": [
             [
              0,
              "#0d0887"
             ],
             [
              0.1111111111111111,
              "#46039f"
             ],
             [
              0.2222222222222222,
              "#7201a8"
             ],
             [
              0.3333333333333333,
              "#9c179e"
             ],
             [
              0.4444444444444444,
              "#bd3786"
             ],
             [
              0.5555555555555556,
              "#d8576b"
             ],
             [
              0.6666666666666666,
              "#ed7953"
             ],
             [
              0.7777777777777778,
              "#fb9f3a"
             ],
             [
              0.8888888888888888,
              "#fdca26"
             ],
             [
              1,
              "#f0f921"
             ]
            ],
            "type": "histogram2dcontour"
           }
          ],
          "mesh3d": [
           {
            "colorbar": {
             "outlinewidth": 0,
             "ticks": ""
            },
            "type": "mesh3d"
           }
          ],
          "parcoords": [
           {
            "line": {
             "colorbar": {
              "outlinewidth": 0,
              "ticks": ""
             }
            },
            "type": "parcoords"
           }
          ],
          "pie": [
           {
            "automargin": true,
            "type": "pie"
           }
          ],
          "scatter": [
           {
            "fillpattern": {
             "fillmode": "overlay",
             "size": 10,
             "solidity": 0.2
            },
            "type": "scatter"
           }
          ],
          "scatter3d": [
           {
            "line": {
             "colorbar": {
              "outlinewidth": 0,
              "ticks": ""
             }
            },
            "marker": {
             "colorbar": {
              "outlinewidth": 0,
              "ticks": ""
             }
            },
            "type": "scatter3d"
           }
          ],
          "scattercarpet": [
           {
            "marker": {
             "colorbar": {
              "outlinewidth": 0,
              "ticks": ""
             }
            },
            "type": "scattercarpet"
           }
          ],
          "scattergeo": [
           {
            "marker": {
             "colorbar": {
              "outlinewidth": 0,
              "ticks": ""
             }
            },
            "type": "scattergeo"
           }
          ],
          "scattergl": [
           {
            "marker": {
             "colorbar": {
              "outlinewidth": 0,
              "ticks": ""
             }
            },
            "type": "scattergl"
           }
          ],
          "scattermapbox": [
           {
            "marker": {
             "colorbar": {
              "outlinewidth": 0,
              "ticks": ""
             }
            },
            "type": "scattermapbox"
           }
          ],
          "scatterpolar": [
           {
            "marker": {
             "colorbar": {
              "outlinewidth": 0,
              "ticks": ""
             }
            },
            "type": "scatterpolar"
           }
          ],
          "scatterpolargl": [
           {
            "marker": {
             "colorbar": {
              "outlinewidth": 0,
              "ticks": ""
             }
            },
            "type": "scatterpolargl"
           }
          ],
          "scatterternary": [
           {
            "marker": {
             "colorbar": {
              "outlinewidth": 0,
              "ticks": ""
             }
            },
            "type": "scatterternary"
           }
          ],
          "surface": [
           {
            "colorbar": {
             "outlinewidth": 0,
             "ticks": ""
            },
            "colorscale": [
             [
              0,
              "#0d0887"
             ],
             [
              0.1111111111111111,
              "#46039f"
             ],
             [
              0.2222222222222222,
              "#7201a8"
             ],
             [
              0.3333333333333333,
              "#9c179e"
             ],
             [
              0.4444444444444444,
              "#bd3786"
             ],
             [
              0.5555555555555556,
              "#d8576b"
             ],
             [
              0.6666666666666666,
              "#ed7953"
             ],
             [
              0.7777777777777778,
              "#fb9f3a"
             ],
             [
              0.8888888888888888,
              "#fdca26"
             ],
             [
              1,
              "#f0f921"
             ]
            ],
            "type": "surface"
           }
          ],
          "table": [
           {
            "cells": {
             "fill": {
              "color": "#EBF0F8"
             },
             "line": {
              "color": "white"
             }
            },
            "header": {
             "fill": {
              "color": "#C8D4E3"
             },
             "line": {
              "color": "white"
             }
            },
            "type": "table"
           }
          ]
         },
         "layout": {
          "annotationdefaults": {
           "arrowcolor": "#2a3f5f",
           "arrowhead": 0,
           "arrowwidth": 1
          },
          "autotypenumbers": "strict",
          "coloraxis": {
           "colorbar": {
            "outlinewidth": 0,
            "ticks": ""
           }
          },
          "colorscale": {
           "diverging": [
            [
             0,
             "#8e0152"
            ],
            [
             0.1,
             "#c51b7d"
            ],
            [
             0.2,
             "#de77ae"
            ],
            [
             0.3,
             "#f1b6da"
            ],
            [
             0.4,
             "#fde0ef"
            ],
            [
             0.5,
             "#f7f7f7"
            ],
            [
             0.6,
             "#e6f5d0"
            ],
            [
             0.7,
             "#b8e186"
            ],
            [
             0.8,
             "#7fbc41"
            ],
            [
             0.9,
             "#4d9221"
            ],
            [
             1,
             "#276419"
            ]
           ],
           "sequential": [
            [
             0,
             "#0d0887"
            ],
            [
             0.1111111111111111,
             "#46039f"
            ],
            [
             0.2222222222222222,
             "#7201a8"
            ],
            [
             0.3333333333333333,
             "#9c179e"
            ],
            [
             0.4444444444444444,
             "#bd3786"
            ],
            [
             0.5555555555555556,
             "#d8576b"
            ],
            [
             0.6666666666666666,
             "#ed7953"
            ],
            [
             0.7777777777777778,
             "#fb9f3a"
            ],
            [
             0.8888888888888888,
             "#fdca26"
            ],
            [
             1,
             "#f0f921"
            ]
           ],
           "sequentialminus": [
            [
             0,
             "#0d0887"
            ],
            [
             0.1111111111111111,
             "#46039f"
            ],
            [
             0.2222222222222222,
             "#7201a8"
            ],
            [
             0.3333333333333333,
             "#9c179e"
            ],
            [
             0.4444444444444444,
             "#bd3786"
            ],
            [
             0.5555555555555556,
             "#d8576b"
            ],
            [
             0.6666666666666666,
             "#ed7953"
            ],
            [
             0.7777777777777778,
             "#fb9f3a"
            ],
            [
             0.8888888888888888,
             "#fdca26"
            ],
            [
             1,
             "#f0f921"
            ]
           ]
          },
          "colorway": [
           "#636efa",
           "#EF553B",
           "#00cc96",
           "#ab63fa",
           "#FFA15A",
           "#19d3f3",
           "#FF6692",
           "#B6E880",
           "#FF97FF",
           "#FECB52"
          ],
          "font": {
           "color": "#2a3f5f"
          },
          "geo": {
           "bgcolor": "white",
           "lakecolor": "white",
           "landcolor": "#E5ECF6",
           "showlakes": true,
           "showland": true,
           "subunitcolor": "white"
          },
          "hoverlabel": {
           "align": "left"
          },
          "hovermode": "closest",
          "mapbox": {
           "style": "light"
          },
          "paper_bgcolor": "white",
          "plot_bgcolor": "#E5ECF6",
          "polar": {
           "angularaxis": {
            "gridcolor": "white",
            "linecolor": "white",
            "ticks": ""
           },
           "bgcolor": "#E5ECF6",
           "radialaxis": {
            "gridcolor": "white",
            "linecolor": "white",
            "ticks": ""
           }
          },
          "scene": {
           "xaxis": {
            "backgroundcolor": "#E5ECF6",
            "gridcolor": "white",
            "gridwidth": 2,
            "linecolor": "white",
            "showbackground": true,
            "ticks": "",
            "zerolinecolor": "white"
           },
           "yaxis": {
            "backgroundcolor": "#E5ECF6",
            "gridcolor": "white",
            "gridwidth": 2,
            "linecolor": "white",
            "showbackground": true,
            "ticks": "",
            "zerolinecolor": "white"
           },
           "zaxis": {
            "backgroundcolor": "#E5ECF6",
            "gridcolor": "white",
            "gridwidth": 2,
            "linecolor": "white",
            "showbackground": true,
            "ticks": "",
            "zerolinecolor": "white"
           }
          },
          "shapedefaults": {
           "line": {
            "color": "#2a3f5f"
           }
          },
          "ternary": {
           "aaxis": {
            "gridcolor": "white",
            "linecolor": "white",
            "ticks": ""
           },
           "baxis": {
            "gridcolor": "white",
            "linecolor": "white",
            "ticks": ""
           },
           "bgcolor": "#E5ECF6",
           "caxis": {
            "gridcolor": "white",
            "linecolor": "white",
            "ticks": ""
           }
          },
          "title": {
           "x": 0.05
          },
          "xaxis": {
           "automargin": true,
           "gridcolor": "white",
           "linecolor": "white",
           "ticks": "",
           "title": {
            "standoff": 15
           },
           "zerolinecolor": "white",
           "zerolinewidth": 2
          },
          "yaxis": {
           "automargin": true,
           "gridcolor": "white",
           "linecolor": "white",
           "ticks": "",
           "title": {
            "standoff": 15
           },
           "zerolinecolor": "white",
           "zerolinewidth": 2
          }
         }
        },
        "title": {
         "text": "Goals per season"
        },
        "xaxis": {
         "anchor": "y",
         "domain": [
          0,
          1
         ],
         "title": {
          "text": "Season"
         }
        },
        "yaxis": {
         "anchor": "x",
         "domain": [
          0,
          1
         ],
         "title": {
          "text": "count"
         }
        }
       }
      },
      "text/html": [
       "<div>                            <div id=\"5b66c74b-0f00-4b87-b134-ddb03e8c8344\" class=\"plotly-graph-div\" style=\"height:500px; width:100%;\"></div>            <script type=\"text/javascript\">                require([\"plotly\"], function(Plotly) {                    window.PLOTLYENV=window.PLOTLYENV || {};                                    if (document.getElementById(\"5b66c74b-0f00-4b87-b134-ddb03e8c8344\")) {                    Plotly.newPlot(                        \"5b66c74b-0f00-4b87-b134-ddb03e8c8344\",                        [{\"alignmentgroup\":\"True\",\"bingroup\":\"x\",\"hovertemplate\":\"Club=Sporting CP<br>Season=%{x}<br>count=%{y}<extra></extra>\",\"legendgroup\":\"Sporting CP\",\"marker\":{\"color\":\"#636efa\",\"pattern\":{\"shape\":\"\"}},\"name\":\"Sporting CP\",\"offsetgroup\":\"Sporting CP\",\"orientation\":\"v\",\"showlegend\":true,\"x\":[\"02-Mar\",\"02-Mar\",\"02-Mar\",\"02-Mar\",\"02-Mar\"],\"xaxis\":\"x\",\"yaxis\":\"y\",\"type\":\"histogram\"},{\"alignmentgroup\":\"True\",\"bingroup\":\"x\",\"hovertemplate\":\"Club=Manchester United<br>Season=%{x}<br>count=%{y}<extra></extra>\",\"legendgroup\":\"Manchester United\",\"marker\":{\"color\":\"#EF553B\",\"pattern\":{\"shape\":\"\"}},\"name\":\"Manchester United\",\"offsetgroup\":\"Manchester United\",\"orientation\":\"v\",\"showlegend\":true,\"x\":[\"03-Apr\",\"03-Apr\",\"03-Apr\",\"03-Apr\",\"03-Apr\",\"03-Apr\",\"04-May\",\"04-May\",\"04-May\",\"04-May\",\"04-May\",\"04-May\",\"04-May\",\"04-May\",\"04-May\",\"05-Jun\",\"05-Jun\",\"05-Jun\",\"05-Jun\",\"05-Jun\",\"05-Jun\",\"05-Jun\",\"05-Jun\",\"05-Jun\",\"05-Jun\",\"05-Jun\",\"05-Jun\",\"06-Jul\",\"06-Jul\",\"06-Jul\",\"06-Jul\",\"06-Jul\",\"06-Jul\",\"06-Jul\",\"06-Jul\",\"06-Jul\",\"06-Jul\",\"06-Jul\",\"06-Jul\",\"06-Jul\",\"06-Jul\",\"06-Jul\",\"06-Jul\",\"06-Jul\",\"06-Jul\",\"06-Jul\",\"06-Jul\",\"06-Jul\",\"06-Jul\",\"06-Jul\",\"07-Aug\",\"07-Aug\",\"07-Aug\",\"07-Aug\",\"07-Aug\",\"07-Aug\",\"07-Aug\",\"07-Aug\",\"07-Aug\",\"07-Aug\",\"07-Aug\",\"07-Aug\",\"07-Aug\",\"07-Aug\",\"07-Aug\",\"07-Aug\",\"07-Aug\",\"07-Aug\",\"07-Aug\",\"07-Aug\",\"07-Aug\",\"07-Aug\",\"07-Aug\",\"07-Aug\",\"07-Aug\",\"07-Aug\",\"07-Aug\",\"07-Aug\",\"07-Aug\",\"07-Aug\",\"07-Aug\",\"07-Aug\",\"07-Aug\",\"07-Aug\",\"07-Aug\",\"07-Aug\",\"07-Aug\",\"07-Aug\",\"07-Aug\",\"07-Aug\",\"07-Aug\",\"07-Aug\",\"08-Sep\",\"08-Sep\",\"08-Sep\",\"08-Sep\",\"08-Sep\",\"08-Sep\",\"08-Sep\",\"08-Sep\",\"08-Sep\",\"08-Sep\",\"08-Sep\",\"08-Sep\",\"08-Sep\",\"08-Sep\",\"08-Sep\",\"08-Sep\",\"08-Sep\",\"08-Sep\",\"08-Sep\",\"08-Sep\",\"08-Sep\",\"08-Sep\",\"08-Sep\",\"08-Sep\",\"08-Sep\",\"08-Sep\",\"21/22\",\"21/22\",\"21/22\",\"21/22\",\"21/22\",\"21/22\",\"21/22\",\"21/22\",\"21/22\",\"21/22\",\"21/22\",\"21/22\",\"21/22\",\"21/22\",\"21/22\",\"21/22\",\"21/22\",\"21/22\",\"21/22\",\"21/22\",\"21/22\",\"21/22\",\"21/22\",\"21/22\",\"22/23\"],\"xaxis\":\"x\",\"yaxis\":\"y\",\"type\":\"histogram\"},{\"alignmentgroup\":\"True\",\"bingroup\":\"x\",\"hovertemplate\":\"Club=Real Madrid<br>Season=%{x}<br>count=%{y}<extra></extra>\",\"legendgroup\":\"Real Madrid\",\"marker\":{\"color\":\"#00cc96\",\"pattern\":{\"shape\":\"\"}},\"name\":\"Real Madrid\",\"offsetgroup\":\"Real Madrid\",\"orientation\":\"v\",\"showlegend\":true,\"x\":[\"09-Oct\",\"09-Oct\",\"09-Oct\",\"09-Oct\",\"09-Oct\",\"09-Oct\",\"09-Oct\",\"09-Oct\",\"09-Oct\",\"09-Oct\",\"09-Oct\",\"09-Oct\",\"09-Oct\",\"09-Oct\",\"09-Oct\",\"09-Oct\",\"09-Oct\",\"09-Oct\",\"09-Oct\",\"09-Oct\",\"09-Oct\",\"09-Oct\",\"09-Oct\",\"09-Oct\",\"09-Oct\",\"09-Oct\",\"09-Oct\",\"09-Oct\",\"09-Oct\",\"09-Oct\",\"09-Oct\",\"09-Oct\",\"09-Oct\",\"10-Nov\",\"10-Nov\",\"10-Nov\",\"10-Nov\",\"10-Nov\",\"10-Nov\",\"10-Nov\",\"10-Nov\",\"10-Nov\",\"10-Nov\",\"10-Nov\",\"10-Nov\",\"10-Nov\",\"10-Nov\",\"10-Nov\",\"10-Nov\",\"10-Nov\",\"10-Nov\",\"10-Nov\",\"10-Nov\",\"10-Nov\",\"10-Nov\",\"10-Nov\",\"10-Nov\",\"10-Nov\",\"10-Nov\",\"10-Nov\",\"10-Nov\",\"10-Nov\",\"10-Nov\",\"10-Nov\",\"10-Nov\",\"10-Nov\",\"10-Nov\",\"10-Nov\",\"10-Nov\",\"10-Nov\",\"10-Nov\",\"10-Nov\",\"10-Nov\",\"10-Nov\",\"10-Nov\",\"10-Nov\",\"10-Nov\",\"10-Nov\",\"10-Nov\",\"10-Nov\",\"10-Nov\",\"10-Nov\",\"10-Nov\",\"10-Nov\",\"10-Nov\",\"10-Nov\",\"11-Dec\",\"11-Dec\",\"11-Dec\",\"11-Dec\",\"11-Dec\",\"11-Dec\",\"11-Dec\",\"11-Dec\",\"11-Dec\",\"11-Dec\",\"11-Dec\",\"11-Dec\",\"11-Dec\",\"11-Dec\",\"11-Dec\",\"11-Dec\",\"11-Dec\",\"11-Dec\",\"11-Dec\",\"11-Dec\",\"11-Dec\",\"11-Dec\",\"11-Dec\",\"11-Dec\",\"11-Dec\",\"11-Dec\",\"11-Dec\",\"11-Dec\",\"11-Dec\",\"11-Dec\",\"11-Dec\",\"11-Dec\",\"11-Dec\",\"11-Dec\",\"11-Dec\",\"11-Dec\",\"11-Dec\",\"11-Dec\",\"11-Dec\",\"11-Dec\",\"11-Dec\",\"11-Dec\",\"11-Dec\",\"11-Dec\",\"11-Dec\",\"11-Dec\",\"11-Dec\",\"11-Dec\",\"11-Dec\",\"11-Dec\",\"11-Dec\",\"11-Dec\",\"11-Dec\",\"11-Dec\",\"11-Dec\",\"11-Dec\",\"11-Dec\",\"11-Dec\",\"11-Dec\",\"11-Dec\",\"Dec-13\",\"Dec-13\",\"Dec-13\",\"Dec-13\",\"Dec-13\",\"Dec-13\",\"Dec-13\",\"Dec-13\",\"Dec-13\",\"Dec-13\",\"Dec-13\",\"Dec-13\",\"Dec-13\",\"Dec-13\",\"Dec-13\",\"Dec-13\",\"Dec-13\",\"Dec-13\",\"Dec-13\",\"Dec-13\",\"Dec-13\",\"Dec-13\",\"Dec-13\",\"Dec-13\",\"Dec-13\",\"Dec-13\",\"Dec-13\",\"Dec-13\",\"Dec-13\",\"Dec-13\",\"Dec-13\",\"Dec-13\",\"Dec-13\",\"Dec-13\",\"Dec-13\",\"Dec-13\",\"Dec-13\",\"Dec-13\",\"Dec-13\",\"Dec-13\",\"Dec-13\",\"Dec-13\",\"Dec-13\",\"Dec-13\",\"Dec-13\",\"Dec-13\",\"Dec-13\",\"Dec-13\",\"Dec-13\",\"Dec-13\",\"Dec-13\",\"Dec-13\",\"Dec-13\",\"Dec-13\",\"Dec-13\",\"13/14\",\"13/14\",\"13/14\",\"13/14\",\"13/14\",\"13/14\",\"13/14\",\"13/14\",\"13/14\",\"13/14\",\"13/14\",\"13/14\",\"13/14\",\"13/14\",\"13/14\",\"13/14\",\"13/14\",\"13/14\",\"13/14\",\"13/14\",\"13/14\",\"13/14\",\"13/14\",\"13/14\",\"13/14\",\"13/14\",\"13/14\",\"13/14\",\"13/14\",\"13/14\",\"13/14\",\"13/14\",\"13/14\",\"13/14\",\"13/14\",\"13/14\",\"13/14\",\"13/14\",\"13/14\",\"13/14\",\"13/14\",\"13/14\",\"13/14\",\"13/14\",\"13/14\",\"13/14\",\"13/14\",\"13/14\",\"13/14\",\"13/14\",\"13/14\",\"14/15\",\"14/15\",\"14/15\",\"14/15\",\"14/15\",\"14/15\",\"14/15\",\"14/15\",\"14/15\",\"14/15\",\"14/15\",\"14/15\",\"14/15\",\"14/15\",\"14/15\",\"14/15\",\"14/15\",\"14/15\",\"14/15\",\"14/15\",\"14/15\",\"14/15\",\"14/15\",\"14/15\",\"14/15\",\"14/15\",\"14/15\",\"14/15\",\"14/15\",\"14/15\",\"14/15\",\"14/15\",\"14/15\",\"14/15\",\"14/15\",\"14/15\",\"14/15\",\"14/15\",\"14/15\",\"14/15\",\"14/15\",\"14/15\",\"14/15\",\"14/15\",\"14/15\",\"14/15\",\"14/15\",\"14/15\",\"14/15\",\"14/15\",\"14/15\",\"14/15\",\"14/15\",\"14/15\",\"14/15\",\"14/15\",\"14/15\",\"14/15\",\"14/15\",\"14/15\",\"14/15\",\"15/16\",\"15/16\",\"15/16\",\"15/16\",\"15/16\",\"15/16\",\"15/16\",\"15/16\",\"15/16\",\"15/16\",\"15/16\",\"15/16\",\"15/16\",\"15/16\",\"15/16\",\"15/16\",\"15/16\",\"15/16\",\"15/16\",\"15/16\",\"15/16\",\"15/16\",\"15/16\",\"15/16\",\"15/16\",\"15/16\",\"15/16\",\"15/16\",\"15/16\",\"15/16\",\"15/16\",\"15/16\",\"15/16\",\"15/16\",\"15/16\",\"15/16\",\"15/16\",\"15/16\",\"15/16\",\"15/16\",\"15/16\",\"15/16\",\"15/16\",\"15/16\",\"15/16\",\"15/16\",\"15/16\",\"15/16\",\"15/16\",\"15/16\",\"15/16\",\"16/17\",\"16/17\",\"16/17\",\"16/17\",\"16/17\",\"16/17\",\"16/17\",\"16/17\",\"16/17\",\"16/17\",\"16/17\",\"16/17\",\"16/17\",\"16/17\",\"16/17\",\"16/17\",\"16/17\",\"16/17\",\"16/17\",\"16/17\",\"16/17\",\"16/17\",\"16/17\",\"16/17\",\"16/17\",\"16/17\",\"16/17\",\"16/17\",\"16/17\",\"16/17\",\"16/17\",\"16/17\",\"16/17\",\"16/17\",\"16/17\",\"16/17\",\"16/17\",\"16/17\",\"16/17\",\"16/17\",\"16/17\",\"16/17\",\"17/18\",\"17/18\",\"17/18\",\"17/18\",\"17/18\",\"17/18\",\"17/18\",\"17/18\",\"17/18\",\"17/18\",\"17/18\",\"17/18\",\"17/18\",\"17/18\",\"17/18\",\"17/18\",\"17/18\",\"17/18\",\"17/18\",\"17/18\",\"17/18\",\"17/18\",\"17/18\",\"17/18\",\"17/18\",\"17/18\",\"17/18\",\"17/18\",\"17/18\",\"17/18\",\"17/18\",\"17/18\",\"17/18\",\"17/18\",\"17/18\",\"17/18\",\"17/18\",\"17/18\",\"17/18\",\"17/18\",\"17/18\",\"17/18\",\"17/18\",\"17/18\"],\"xaxis\":\"x\",\"yaxis\":\"y\",\"type\":\"histogram\"},{\"alignmentgroup\":\"True\",\"bingroup\":\"x\",\"hovertemplate\":\"Club=Juventus FC<br>Season=%{x}<br>count=%{y}<extra></extra>\",\"legendgroup\":\"Juventus FC\",\"marker\":{\"color\":\"#ab63fa\",\"pattern\":{\"shape\":\"\"}},\"name\":\"Juventus FC\",\"offsetgroup\":\"Juventus FC\",\"orientation\":\"v\",\"showlegend\":true,\"x\":[\"18/19\",\"18/19\",\"18/19\",\"18/19\",\"18/19\",\"18/19\",\"18/19\",\"18/19\",\"18/19\",\"18/19\",\"18/19\",\"18/19\",\"18/19\",\"18/19\",\"18/19\",\"18/19\",\"18/19\",\"18/19\",\"18/19\",\"18/19\",\"18/19\",\"18/19\",\"18/19\",\"18/19\",\"18/19\",\"18/19\",\"18/19\",\"18/19\",\"19/20\",\"19/20\",\"19/20\",\"19/20\",\"19/20\",\"19/20\",\"19/20\",\"19/20\",\"19/20\",\"19/20\",\"19/20\",\"19/20\",\"19/20\",\"19/20\",\"19/20\",\"19/20\",\"19/20\",\"19/20\",\"19/20\",\"19/20\",\"19/20\",\"19/20\",\"19/20\",\"19/20\",\"19/20\",\"19/20\",\"19/20\",\"19/20\",\"19/20\",\"19/20\",\"19/20\",\"19/20\",\"19/20\",\"19/20\",\"19/20\",\"19/20\",\"19/20\",\"20/21\",\"20/21\",\"20/21\",\"20/21\",\"20/21\",\"20/21\",\"20/21\",\"20/21\",\"20/21\",\"20/21\",\"20/21\",\"20/21\",\"20/21\",\"20/21\",\"20/21\",\"20/21\",\"20/21\",\"20/21\",\"20/21\",\"20/21\",\"20/21\",\"20/21\",\"20/21\",\"20/21\",\"20/21\",\"20/21\",\"20/21\",\"20/21\",\"20/21\",\"20/21\",\"20/21\",\"20/21\",\"20/21\",\"20/21\",\"20/21\",\"20/21\"],\"xaxis\":\"x\",\"yaxis\":\"y\",\"type\":\"histogram\"}],                        {\"template\":{\"data\":{\"histogram2dcontour\":[{\"type\":\"histogram2dcontour\",\"colorbar\":{\"outlinewidth\":0,\"ticks\":\"\"},\"colorscale\":[[0.0,\"#0d0887\"],[0.1111111111111111,\"#46039f\"],[0.2222222222222222,\"#7201a8\"],[0.3333333333333333,\"#9c179e\"],[0.4444444444444444,\"#bd3786\"],[0.5555555555555556,\"#d8576b\"],[0.6666666666666666,\"#ed7953\"],[0.7777777777777778,\"#fb9f3a\"],[0.8888888888888888,\"#fdca26\"],[1.0,\"#f0f921\"]]}],\"choropleth\":[{\"type\":\"choropleth\",\"colorbar\":{\"outlinewidth\":0,\"ticks\":\"\"}}],\"histogram2d\":[{\"type\":\"histogram2d\",\"colorbar\":{\"outlinewidth\":0,\"ticks\":\"\"},\"colorscale\":[[0.0,\"#0d0887\"],[0.1111111111111111,\"#46039f\"],[0.2222222222222222,\"#7201a8\"],[0.3333333333333333,\"#9c179e\"],[0.4444444444444444,\"#bd3786\"],[0.5555555555555556,\"#d8576b\"],[0.6666666666666666,\"#ed7953\"],[0.7777777777777778,\"#fb9f3a\"],[0.8888888888888888,\"#fdca26\"],[1.0,\"#f0f921\"]]}],\"heatmap\":[{\"type\":\"heatmap\",\"colorbar\":{\"outlinewidth\":0,\"ticks\":\"\"},\"colorscale\":[[0.0,\"#0d0887\"],[0.1111111111111111,\"#46039f\"],[0.2222222222222222,\"#7201a8\"],[0.3333333333333333,\"#9c179e\"],[0.4444444444444444,\"#bd3786\"],[0.5555555555555556,\"#d8576b\"],[0.6666666666666666,\"#ed7953\"],[0.7777777777777778,\"#fb9f3a\"],[0.8888888888888888,\"#fdca26\"],[1.0,\"#f0f921\"]]}],\"heatmapgl\":[{\"type\":\"heatmapgl\",\"colorbar\":{\"outlinewidth\":0,\"ticks\":\"\"},\"colorscale\":[[0.0,\"#0d0887\"],[0.1111111111111111,\"#46039f\"],[0.2222222222222222,\"#7201a8\"],[0.3333333333333333,\"#9c179e\"],[0.4444444444444444,\"#bd3786\"],[0.5555555555555556,\"#d8576b\"],[0.6666666666666666,\"#ed7953\"],[0.7777777777777778,\"#fb9f3a\"],[0.8888888888888888,\"#fdca26\"],[1.0,\"#f0f921\"]]}],\"contourcarpet\":[{\"type\":\"contourcarpet\",\"colorbar\":{\"outlinewidth\":0,\"ticks\":\"\"}}],\"contour\":[{\"type\":\"contour\",\"colorbar\":{\"outlinewidth\":0,\"ticks\":\"\"},\"colorscale\":[[0.0,\"#0d0887\"],[0.1111111111111111,\"#46039f\"],[0.2222222222222222,\"#7201a8\"],[0.3333333333333333,\"#9c179e\"],[0.4444444444444444,\"#bd3786\"],[0.5555555555555556,\"#d8576b\"],[0.6666666666666666,\"#ed7953\"],[0.7777777777777778,\"#fb9f3a\"],[0.8888888888888888,\"#fdca26\"],[1.0,\"#f0f921\"]]}],\"surface\":[{\"type\":\"surface\",\"colorbar\":{\"outlinewidth\":0,\"ticks\":\"\"},\"colorscale\":[[0.0,\"#0d0887\"],[0.1111111111111111,\"#46039f\"],[0.2222222222222222,\"#7201a8\"],[0.3333333333333333,\"#9c179e\"],[0.4444444444444444,\"#bd3786\"],[0.5555555555555556,\"#d8576b\"],[0.6666666666666666,\"#ed7953\"],[0.7777777777777778,\"#fb9f3a\"],[0.8888888888888888,\"#fdca26\"],[1.0,\"#f0f921\"]]}],\"mesh3d\":[{\"type\":\"mesh3d\",\"colorbar\":{\"outlinewidth\":0,\"ticks\":\"\"}}],\"scatter\":[{\"fillpattern\":{\"fillmode\":\"overlay\",\"size\":10,\"solidity\":0.2},\"type\":\"scatter\"}],\"parcoords\":[{\"type\":\"parcoords\",\"line\":{\"colorbar\":{\"outlinewidth\":0,\"ticks\":\"\"}}}],\"scatterpolargl\":[{\"type\":\"scatterpolargl\",\"marker\":{\"colorbar\":{\"outlinewidth\":0,\"ticks\":\"\"}}}],\"bar\":[{\"error_x\":{\"color\":\"#2a3f5f\"},\"error_y\":{\"color\":\"#2a3f5f\"},\"marker\":{\"line\":{\"color\":\"#E5ECF6\",\"width\":0.5},\"pattern\":{\"fillmode\":\"overlay\",\"size\":10,\"solidity\":0.2}},\"type\":\"bar\"}],\"scattergeo\":[{\"type\":\"scattergeo\",\"marker\":{\"colorbar\":{\"outlinewidth\":0,\"ticks\":\"\"}}}],\"scatterpolar\":[{\"type\":\"scatterpolar\",\"marker\":{\"colorbar\":{\"outlinewidth\":0,\"ticks\":\"\"}}}],\"histogram\":[{\"marker\":{\"pattern\":{\"fillmode\":\"overlay\",\"size\":10,\"solidity\":0.2}},\"type\":\"histogram\"}],\"scattergl\":[{\"type\":\"scattergl\",\"marker\":{\"colorbar\":{\"outlinewidth\":0,\"ticks\":\"\"}}}],\"scatter3d\":[{\"type\":\"scatter3d\",\"line\":{\"colorbar\":{\"outlinewidth\":0,\"ticks\":\"\"}},\"marker\":{\"colorbar\":{\"outlinewidth\":0,\"ticks\":\"\"}}}],\"scattermapbox\":[{\"type\":\"scattermapbox\",\"marker\":{\"colorbar\":{\"outlinewidth\":0,\"ticks\":\"\"}}}],\"scatterternary\":[{\"type\":\"scatterternary\",\"marker\":{\"colorbar\":{\"outlinewidth\":0,\"ticks\":\"\"}}}],\"scattercarpet\":[{\"type\":\"scattercarpet\",\"marker\":{\"colorbar\":{\"outlinewidth\":0,\"ticks\":\"\"}}}],\"carpet\":[{\"aaxis\":{\"endlinecolor\":\"#2a3f5f\",\"gridcolor\":\"white\",\"linecolor\":\"white\",\"minorgridcolor\":\"white\",\"startlinecolor\":\"#2a3f5f\"},\"baxis\":{\"endlinecolor\":\"#2a3f5f\",\"gridcolor\":\"white\",\"linecolor\":\"white\",\"minorgridcolor\":\"white\",\"startlinecolor\":\"#2a3f5f\"},\"type\":\"carpet\"}],\"table\":[{\"cells\":{\"fill\":{\"color\":\"#EBF0F8\"},\"line\":{\"color\":\"white\"}},\"header\":{\"fill\":{\"color\":\"#C8D4E3\"},\"line\":{\"color\":\"white\"}},\"type\":\"table\"}],\"barpolar\":[{\"marker\":{\"line\":{\"color\":\"#E5ECF6\",\"width\":0.5},\"pattern\":{\"fillmode\":\"overlay\",\"size\":10,\"solidity\":0.2}},\"type\":\"barpolar\"}],\"pie\":[{\"automargin\":true,\"type\":\"pie\"}]},\"layout\":{\"autotypenumbers\":\"strict\",\"colorway\":[\"#636efa\",\"#EF553B\",\"#00cc96\",\"#ab63fa\",\"#FFA15A\",\"#19d3f3\",\"#FF6692\",\"#B6E880\",\"#FF97FF\",\"#FECB52\"],\"font\":{\"color\":\"#2a3f5f\"},\"hovermode\":\"closest\",\"hoverlabel\":{\"align\":\"left\"},\"paper_bgcolor\":\"white\",\"plot_bgcolor\":\"#E5ECF6\",\"polar\":{\"bgcolor\":\"#E5ECF6\",\"angularaxis\":{\"gridcolor\":\"white\",\"linecolor\":\"white\",\"ticks\":\"\"},\"radialaxis\":{\"gridcolor\":\"white\",\"linecolor\":\"white\",\"ticks\":\"\"}},\"ternary\":{\"bgcolor\":\"#E5ECF6\",\"aaxis\":{\"gridcolor\":\"white\",\"linecolor\":\"white\",\"ticks\":\"\"},\"baxis\":{\"gridcolor\":\"white\",\"linecolor\":\"white\",\"ticks\":\"\"},\"caxis\":{\"gridcolor\":\"white\",\"linecolor\":\"white\",\"ticks\":\"\"}},\"coloraxis\":{\"colorbar\":{\"outlinewidth\":0,\"ticks\":\"\"}},\"colorscale\":{\"sequential\":[[0.0,\"#0d0887\"],[0.1111111111111111,\"#46039f\"],[0.2222222222222222,\"#7201a8\"],[0.3333333333333333,\"#9c179e\"],[0.4444444444444444,\"#bd3786\"],[0.5555555555555556,\"#d8576b\"],[0.6666666666666666,\"#ed7953\"],[0.7777777777777778,\"#fb9f3a\"],[0.8888888888888888,\"#fdca26\"],[1.0,\"#f0f921\"]],\"sequentialminus\":[[0.0,\"#0d0887\"],[0.1111111111111111,\"#46039f\"],[0.2222222222222222,\"#7201a8\"],[0.3333333333333333,\"#9c179e\"],[0.4444444444444444,\"#bd3786\"],[0.5555555555555556,\"#d8576b\"],[0.6666666666666666,\"#ed7953\"],[0.7777777777777778,\"#fb9f3a\"],[0.8888888888888888,\"#fdca26\"],[1.0,\"#f0f921\"]],\"diverging\":[[0,\"#8e0152\"],[0.1,\"#c51b7d\"],[0.2,\"#de77ae\"],[0.3,\"#f1b6da\"],[0.4,\"#fde0ef\"],[0.5,\"#f7f7f7\"],[0.6,\"#e6f5d0\"],[0.7,\"#b8e186\"],[0.8,\"#7fbc41\"],[0.9,\"#4d9221\"],[1,\"#276419\"]]},\"xaxis\":{\"gridcolor\":\"white\",\"linecolor\":\"white\",\"ticks\":\"\",\"title\":{\"standoff\":15},\"zerolinecolor\":\"white\",\"automargin\":true,\"zerolinewidth\":2},\"yaxis\":{\"gridcolor\":\"white\",\"linecolor\":\"white\",\"ticks\":\"\",\"title\":{\"standoff\":15},\"zerolinecolor\":\"white\",\"automargin\":true,\"zerolinewidth\":2},\"scene\":{\"xaxis\":{\"backgroundcolor\":\"#E5ECF6\",\"gridcolor\":\"white\",\"linecolor\":\"white\",\"showbackground\":true,\"ticks\":\"\",\"zerolinecolor\":\"white\",\"gridwidth\":2},\"yaxis\":{\"backgroundcolor\":\"#E5ECF6\",\"gridcolor\":\"white\",\"linecolor\":\"white\",\"showbackground\":true,\"ticks\":\"\",\"zerolinecolor\":\"white\",\"gridwidth\":2},\"zaxis\":{\"backgroundcolor\":\"#E5ECF6\",\"gridcolor\":\"white\",\"linecolor\":\"white\",\"showbackground\":true,\"ticks\":\"\",\"zerolinecolor\":\"white\",\"gridwidth\":2}},\"shapedefaults\":{\"line\":{\"color\":\"#2a3f5f\"}},\"annotationdefaults\":{\"arrowcolor\":\"#2a3f5f\",\"arrowhead\":0,\"arrowwidth\":1},\"geo\":{\"bgcolor\":\"white\",\"landcolor\":\"#E5ECF6\",\"subunitcolor\":\"white\",\"showland\":true,\"showlakes\":true,\"lakecolor\":\"white\"},\"title\":{\"x\":0.05},\"mapbox\":{\"style\":\"light\"}}},\"xaxis\":{\"anchor\":\"y\",\"domain\":[0.0,1.0],\"title\":{\"text\":\"Season\"}},\"yaxis\":{\"anchor\":\"x\",\"domain\":[0.0,1.0],\"title\":{\"text\":\"count\"}},\"legend\":{\"title\":{\"text\":\"Club\"},\"tracegroupgap\":0},\"title\":{\"text\":\"Goals per season\"},\"barmode\":\"relative\",\"height\":500},                        {\"responsive\": true}                    ).then(function(){\n",
       "                            \n",
       "var gd = document.getElementById('5b66c74b-0f00-4b87-b134-ddb03e8c8344');\n",
       "var x = new MutationObserver(function (mutations, observer) {{\n",
       "        var display = window.getComputedStyle(gd).display;\n",
       "        if (!display || display === 'none') {{\n",
       "            console.log([gd, 'removed!']);\n",
       "            Plotly.purge(gd);\n",
       "            observer.disconnect();\n",
       "        }}\n",
       "}});\n",
       "\n",
       "// Listen for the removal of the full notebook cells\n",
       "var notebookContainer = gd.closest('#notebook-container');\n",
       "if (notebookContainer) {{\n",
       "    x.observe(notebookContainer, {childList: true});\n",
       "}}\n",
       "\n",
       "// Listen for the clearing of the current output cell\n",
       "var outputEl = gd.closest('.output');\n",
       "if (outputEl) {{\n",
       "    x.observe(outputEl, {childList: true});\n",
       "}}\n",
       "\n",
       "                        })                };                });            </script>        </div>"
      ]
     },
     "metadata": {},
     "output_type": "display_data"
    }
   ],
   "source": [
    "\n",
    "px.histogram(\n",
    "    df,\n",
    "    x='Season',\n",
    "    title=\"Goals per season\",\n",
    "    log_x=False,\n",
    "    log_y=False,\n",
    "    #symbol='title',\n",
    "    #markers=True,\n",
    "    #width=800, \n",
    "    height=500,\n",
    "    color='Club',\n",
    "    hover_name='Club',\n",
    "    hover_data=['Competition','Season','Club'])"
   ]
  },
  {
   "cell_type": "markdown",
   "id": "0bd17bd0",
   "metadata": {},
   "source": [
    "#### Kulüp Başına Goller"
   ]
  },
  {
   "cell_type": "code",
   "execution_count": 13,
   "id": "a0c2c0ba",
   "metadata": {},
   "outputs": [
    {
     "data": {
      "application/vnd.plotly.v1+json": {
       "config": {
        "plotlyServerURL": "https://plot.ly"
       },
       "data": [
        {
         "alignmentgroup": "True",
         "bingroup": "x",
         "hovertemplate": "Season=02-Mar<br>Club=%{x}<br>count=%{y}<extra></extra>",
         "legendgroup": "02-Mar",
         "marker": {
          "color": "#636efa",
          "pattern": {
           "shape": ""
          }
         },
         "name": "02-Mar",
         "offsetgroup": "02-Mar",
         "orientation": "v",
         "showlegend": true,
         "type": "histogram",
         "x": [
          "Sporting CP",
          "Sporting CP",
          "Sporting CP",
          "Sporting CP",
          "Sporting CP"
         ],
         "xaxis": "x",
         "yaxis": "y"
        },
        {
         "alignmentgroup": "True",
         "bingroup": "x",
         "hovertemplate": "Season=03-Apr<br>Club=%{x}<br>count=%{y}<extra></extra>",
         "legendgroup": "03-Apr",
         "marker": {
          "color": "#EF553B",
          "pattern": {
           "shape": ""
          }
         },
         "name": "03-Apr",
         "offsetgroup": "03-Apr",
         "orientation": "v",
         "showlegend": true,
         "type": "histogram",
         "x": [
          "Manchester United",
          "Manchester United",
          "Manchester United",
          "Manchester United",
          "Manchester United",
          "Manchester United"
         ],
         "xaxis": "x",
         "yaxis": "y"
        },
        {
         "alignmentgroup": "True",
         "bingroup": "x",
         "hovertemplate": "Season=04-May<br>Club=%{x}<br>count=%{y}<extra></extra>",
         "legendgroup": "04-May",
         "marker": {
          "color": "#00cc96",
          "pattern": {
           "shape": ""
          }
         },
         "name": "04-May",
         "offsetgroup": "04-May",
         "orientation": "v",
         "showlegend": true,
         "type": "histogram",
         "x": [
          "Manchester United",
          "Manchester United",
          "Manchester United",
          "Manchester United",
          "Manchester United",
          "Manchester United",
          "Manchester United",
          "Manchester United",
          "Manchester United"
         ],
         "xaxis": "x",
         "yaxis": "y"
        },
        {
         "alignmentgroup": "True",
         "bingroup": "x",
         "hovertemplate": "Season=05-Jun<br>Club=%{x}<br>count=%{y}<extra></extra>",
         "legendgroup": "05-Jun",
         "marker": {
          "color": "#ab63fa",
          "pattern": {
           "shape": ""
          }
         },
         "name": "05-Jun",
         "offsetgroup": "05-Jun",
         "orientation": "v",
         "showlegend": true,
         "type": "histogram",
         "x": [
          "Manchester United",
          "Manchester United",
          "Manchester United",
          "Manchester United",
          "Manchester United",
          "Manchester United",
          "Manchester United",
          "Manchester United",
          "Manchester United",
          "Manchester United",
          "Manchester United",
          "Manchester United"
         ],
         "xaxis": "x",
         "yaxis": "y"
        },
        {
         "alignmentgroup": "True",
         "bingroup": "x",
         "hovertemplate": "Season=06-Jul<br>Club=%{x}<br>count=%{y}<extra></extra>",
         "legendgroup": "06-Jul",
         "marker": {
          "color": "#FFA15A",
          "pattern": {
           "shape": ""
          }
         },
         "name": "06-Jul",
         "offsetgroup": "06-Jul",
         "orientation": "v",
         "showlegend": true,
         "type": "histogram",
         "x": [
          "Manchester United",
          "Manchester United",
          "Manchester United",
          "Manchester United",
          "Manchester United",
          "Manchester United",
          "Manchester United",
          "Manchester United",
          "Manchester United",
          "Manchester United",
          "Manchester United",
          "Manchester United",
          "Manchester United",
          "Manchester United",
          "Manchester United",
          "Manchester United",
          "Manchester United",
          "Manchester United",
          "Manchester United",
          "Manchester United",
          "Manchester United",
          "Manchester United",
          "Manchester United"
         ],
         "xaxis": "x",
         "yaxis": "y"
        },
        {
         "alignmentgroup": "True",
         "bingroup": "x",
         "hovertemplate": "Season=07-Aug<br>Club=%{x}<br>count=%{y}<extra></extra>",
         "legendgroup": "07-Aug",
         "marker": {
          "color": "#19d3f3",
          "pattern": {
           "shape": ""
          }
         },
         "name": "07-Aug",
         "offsetgroup": "07-Aug",
         "orientation": "v",
         "showlegend": true,
         "type": "histogram",
         "x": [
          "Manchester United",
          "Manchester United",
          "Manchester United",
          "Manchester United",
          "Manchester United",
          "Manchester United",
          "Manchester United",
          "Manchester United",
          "Manchester United",
          "Manchester United",
          "Manchester United",
          "Manchester United",
          "Manchester United",
          "Manchester United",
          "Manchester United",
          "Manchester United",
          "Manchester United",
          "Manchester United",
          "Manchester United",
          "Manchester United",
          "Manchester United",
          "Manchester United",
          "Manchester United",
          "Manchester United",
          "Manchester United",
          "Manchester United",
          "Manchester United",
          "Manchester United",
          "Manchester United",
          "Manchester United",
          "Manchester United",
          "Manchester United",
          "Manchester United",
          "Manchester United",
          "Manchester United",
          "Manchester United",
          "Manchester United",
          "Manchester United",
          "Manchester United",
          "Manchester United",
          "Manchester United",
          "Manchester United"
         ],
         "xaxis": "x",
         "yaxis": "y"
        },
        {
         "alignmentgroup": "True",
         "bingroup": "x",
         "hovertemplate": "Season=08-Sep<br>Club=%{x}<br>count=%{y}<extra></extra>",
         "legendgroup": "08-Sep",
         "marker": {
          "color": "#FF6692",
          "pattern": {
           "shape": ""
          }
         },
         "name": "08-Sep",
         "offsetgroup": "08-Sep",
         "orientation": "v",
         "showlegend": true,
         "type": "histogram",
         "x": [
          "Manchester United",
          "Manchester United",
          "Manchester United",
          "Manchester United",
          "Manchester United",
          "Manchester United",
          "Manchester United",
          "Manchester United",
          "Manchester United",
          "Manchester United",
          "Manchester United",
          "Manchester United",
          "Manchester United",
          "Manchester United",
          "Manchester United",
          "Manchester United",
          "Manchester United",
          "Manchester United",
          "Manchester United",
          "Manchester United",
          "Manchester United",
          "Manchester United",
          "Manchester United",
          "Manchester United",
          "Manchester United",
          "Manchester United"
         ],
         "xaxis": "x",
         "yaxis": "y"
        },
        {
         "alignmentgroup": "True",
         "bingroup": "x",
         "hovertemplate": "Season=09-Oct<br>Club=%{x}<br>count=%{y}<extra></extra>",
         "legendgroup": "09-Oct",
         "marker": {
          "color": "#B6E880",
          "pattern": {
           "shape": ""
          }
         },
         "name": "09-Oct",
         "offsetgroup": "09-Oct",
         "orientation": "v",
         "showlegend": true,
         "type": "histogram",
         "x": [
          "Real Madrid",
          "Real Madrid",
          "Real Madrid",
          "Real Madrid",
          "Real Madrid",
          "Real Madrid",
          "Real Madrid",
          "Real Madrid",
          "Real Madrid",
          "Real Madrid",
          "Real Madrid",
          "Real Madrid",
          "Real Madrid",
          "Real Madrid",
          "Real Madrid",
          "Real Madrid",
          "Real Madrid",
          "Real Madrid",
          "Real Madrid",
          "Real Madrid",
          "Real Madrid",
          "Real Madrid",
          "Real Madrid",
          "Real Madrid",
          "Real Madrid",
          "Real Madrid",
          "Real Madrid",
          "Real Madrid",
          "Real Madrid",
          "Real Madrid",
          "Real Madrid",
          "Real Madrid",
          "Real Madrid"
         ],
         "xaxis": "x",
         "yaxis": "y"
        },
        {
         "alignmentgroup": "True",
         "bingroup": "x",
         "hovertemplate": "Season=10-Nov<br>Club=%{x}<br>count=%{y}<extra></extra>",
         "legendgroup": "10-Nov",
         "marker": {
          "color": "#FF97FF",
          "pattern": {
           "shape": ""
          }
         },
         "name": "10-Nov",
         "offsetgroup": "10-Nov",
         "orientation": "v",
         "showlegend": true,
         "type": "histogram",
         "x": [
          "Real Madrid",
          "Real Madrid",
          "Real Madrid",
          "Real Madrid",
          "Real Madrid",
          "Real Madrid",
          "Real Madrid",
          "Real Madrid",
          "Real Madrid",
          "Real Madrid",
          "Real Madrid",
          "Real Madrid",
          "Real Madrid",
          "Real Madrid",
          "Real Madrid",
          "Real Madrid",
          "Real Madrid",
          "Real Madrid",
          "Real Madrid",
          "Real Madrid",
          "Real Madrid",
          "Real Madrid",
          "Real Madrid",
          "Real Madrid",
          "Real Madrid",
          "Real Madrid",
          "Real Madrid",
          "Real Madrid",
          "Real Madrid",
          "Real Madrid",
          "Real Madrid",
          "Real Madrid",
          "Real Madrid",
          "Real Madrid",
          "Real Madrid",
          "Real Madrid",
          "Real Madrid",
          "Real Madrid",
          "Real Madrid",
          "Real Madrid",
          "Real Madrid",
          "Real Madrid",
          "Real Madrid",
          "Real Madrid",
          "Real Madrid",
          "Real Madrid",
          "Real Madrid",
          "Real Madrid",
          "Real Madrid",
          "Real Madrid",
          "Real Madrid",
          "Real Madrid",
          "Real Madrid"
         ],
         "xaxis": "x",
         "yaxis": "y"
        },
        {
         "alignmentgroup": "True",
         "bingroup": "x",
         "hovertemplate": "Season=11-Dec<br>Club=%{x}<br>count=%{y}<extra></extra>",
         "legendgroup": "11-Dec",
         "marker": {
          "color": "#FECB52",
          "pattern": {
           "shape": ""
          }
         },
         "name": "11-Dec",
         "offsetgroup": "11-Dec",
         "orientation": "v",
         "showlegend": true,
         "type": "histogram",
         "x": [
          "Real Madrid",
          "Real Madrid",
          "Real Madrid",
          "Real Madrid",
          "Real Madrid",
          "Real Madrid",
          "Real Madrid",
          "Real Madrid",
          "Real Madrid",
          "Real Madrid",
          "Real Madrid",
          "Real Madrid",
          "Real Madrid",
          "Real Madrid",
          "Real Madrid",
          "Real Madrid",
          "Real Madrid",
          "Real Madrid",
          "Real Madrid",
          "Real Madrid",
          "Real Madrid",
          "Real Madrid",
          "Real Madrid",
          "Real Madrid",
          "Real Madrid",
          "Real Madrid",
          "Real Madrid",
          "Real Madrid",
          "Real Madrid",
          "Real Madrid",
          "Real Madrid",
          "Real Madrid",
          "Real Madrid",
          "Real Madrid",
          "Real Madrid",
          "Real Madrid",
          "Real Madrid",
          "Real Madrid",
          "Real Madrid",
          "Real Madrid",
          "Real Madrid",
          "Real Madrid",
          "Real Madrid",
          "Real Madrid",
          "Real Madrid",
          "Real Madrid",
          "Real Madrid",
          "Real Madrid",
          "Real Madrid",
          "Real Madrid",
          "Real Madrid",
          "Real Madrid",
          "Real Madrid",
          "Real Madrid",
          "Real Madrid",
          "Real Madrid",
          "Real Madrid",
          "Real Madrid",
          "Real Madrid",
          "Real Madrid"
         ],
         "xaxis": "x",
         "yaxis": "y"
        },
        {
         "alignmentgroup": "True",
         "bingroup": "x",
         "hovertemplate": "Season=Dec-13<br>Club=%{x}<br>count=%{y}<extra></extra>",
         "legendgroup": "Dec-13",
         "marker": {
          "color": "#636efa",
          "pattern": {
           "shape": ""
          }
         },
         "name": "Dec-13",
         "offsetgroup": "Dec-13",
         "orientation": "v",
         "showlegend": true,
         "type": "histogram",
         "x": [
          "Real Madrid",
          "Real Madrid",
          "Real Madrid",
          "Real Madrid",
          "Real Madrid",
          "Real Madrid",
          "Real Madrid",
          "Real Madrid",
          "Real Madrid",
          "Real Madrid",
          "Real Madrid",
          "Real Madrid",
          "Real Madrid",
          "Real Madrid",
          "Real Madrid",
          "Real Madrid",
          "Real Madrid",
          "Real Madrid",
          "Real Madrid",
          "Real Madrid",
          "Real Madrid",
          "Real Madrid",
          "Real Madrid",
          "Real Madrid",
          "Real Madrid",
          "Real Madrid",
          "Real Madrid",
          "Real Madrid",
          "Real Madrid",
          "Real Madrid",
          "Real Madrid",
          "Real Madrid",
          "Real Madrid",
          "Real Madrid",
          "Real Madrid",
          "Real Madrid",
          "Real Madrid",
          "Real Madrid",
          "Real Madrid",
          "Real Madrid",
          "Real Madrid",
          "Real Madrid",
          "Real Madrid",
          "Real Madrid",
          "Real Madrid",
          "Real Madrid",
          "Real Madrid",
          "Real Madrid",
          "Real Madrid",
          "Real Madrid",
          "Real Madrid",
          "Real Madrid",
          "Real Madrid",
          "Real Madrid",
          "Real Madrid"
         ],
         "xaxis": "x",
         "yaxis": "y"
        },
        {
         "alignmentgroup": "True",
         "bingroup": "x",
         "hovertemplate": "Season=13/14<br>Club=%{x}<br>count=%{y}<extra></extra>",
         "legendgroup": "13/14",
         "marker": {
          "color": "#EF553B",
          "pattern": {
           "shape": ""
          }
         },
         "name": "13/14",
         "offsetgroup": "13/14",
         "orientation": "v",
         "showlegend": true,
         "type": "histogram",
         "x": [
          "Real Madrid",
          "Real Madrid",
          "Real Madrid",
          "Real Madrid",
          "Real Madrid",
          "Real Madrid",
          "Real Madrid",
          "Real Madrid",
          "Real Madrid",
          "Real Madrid",
          "Real Madrid",
          "Real Madrid",
          "Real Madrid",
          "Real Madrid",
          "Real Madrid",
          "Real Madrid",
          "Real Madrid",
          "Real Madrid",
          "Real Madrid",
          "Real Madrid",
          "Real Madrid",
          "Real Madrid",
          "Real Madrid",
          "Real Madrid",
          "Real Madrid",
          "Real Madrid",
          "Real Madrid",
          "Real Madrid",
          "Real Madrid",
          "Real Madrid",
          "Real Madrid",
          "Real Madrid",
          "Real Madrid",
          "Real Madrid",
          "Real Madrid",
          "Real Madrid",
          "Real Madrid",
          "Real Madrid",
          "Real Madrid",
          "Real Madrid",
          "Real Madrid",
          "Real Madrid",
          "Real Madrid",
          "Real Madrid",
          "Real Madrid",
          "Real Madrid",
          "Real Madrid",
          "Real Madrid",
          "Real Madrid",
          "Real Madrid",
          "Real Madrid"
         ],
         "xaxis": "x",
         "yaxis": "y"
        },
        {
         "alignmentgroup": "True",
         "bingroup": "x",
         "hovertemplate": "Season=14/15<br>Club=%{x}<br>count=%{y}<extra></extra>",
         "legendgroup": "14/15",
         "marker": {
          "color": "#00cc96",
          "pattern": {
           "shape": ""
          }
         },
         "name": "14/15",
         "offsetgroup": "14/15",
         "orientation": "v",
         "showlegend": true,
         "type": "histogram",
         "x": [
          "Real Madrid",
          "Real Madrid",
          "Real Madrid",
          "Real Madrid",
          "Real Madrid",
          "Real Madrid",
          "Real Madrid",
          "Real Madrid",
          "Real Madrid",
          "Real Madrid",
          "Real Madrid",
          "Real Madrid",
          "Real Madrid",
          "Real Madrid",
          "Real Madrid",
          "Real Madrid",
          "Real Madrid",
          "Real Madrid",
          "Real Madrid",
          "Real Madrid",
          "Real Madrid",
          "Real Madrid",
          "Real Madrid",
          "Real Madrid",
          "Real Madrid",
          "Real Madrid",
          "Real Madrid",
          "Real Madrid",
          "Real Madrid",
          "Real Madrid",
          "Real Madrid",
          "Real Madrid",
          "Real Madrid",
          "Real Madrid",
          "Real Madrid",
          "Real Madrid",
          "Real Madrid",
          "Real Madrid",
          "Real Madrid",
          "Real Madrid",
          "Real Madrid",
          "Real Madrid",
          "Real Madrid",
          "Real Madrid",
          "Real Madrid",
          "Real Madrid",
          "Real Madrid",
          "Real Madrid",
          "Real Madrid",
          "Real Madrid",
          "Real Madrid",
          "Real Madrid",
          "Real Madrid",
          "Real Madrid",
          "Real Madrid",
          "Real Madrid",
          "Real Madrid",
          "Real Madrid",
          "Real Madrid",
          "Real Madrid",
          "Real Madrid"
         ],
         "xaxis": "x",
         "yaxis": "y"
        },
        {
         "alignmentgroup": "True",
         "bingroup": "x",
         "hovertemplate": "Season=15/16<br>Club=%{x}<br>count=%{y}<extra></extra>",
         "legendgroup": "15/16",
         "marker": {
          "color": "#ab63fa",
          "pattern": {
           "shape": ""
          }
         },
         "name": "15/16",
         "offsetgroup": "15/16",
         "orientation": "v",
         "showlegend": true,
         "type": "histogram",
         "x": [
          "Real Madrid",
          "Real Madrid",
          "Real Madrid",
          "Real Madrid",
          "Real Madrid",
          "Real Madrid",
          "Real Madrid",
          "Real Madrid",
          "Real Madrid",
          "Real Madrid",
          "Real Madrid",
          "Real Madrid",
          "Real Madrid",
          "Real Madrid",
          "Real Madrid",
          "Real Madrid",
          "Real Madrid",
          "Real Madrid",
          "Real Madrid",
          "Real Madrid",
          "Real Madrid",
          "Real Madrid",
          "Real Madrid",
          "Real Madrid",
          "Real Madrid",
          "Real Madrid",
          "Real Madrid",
          "Real Madrid",
          "Real Madrid",
          "Real Madrid",
          "Real Madrid",
          "Real Madrid",
          "Real Madrid",
          "Real Madrid",
          "Real Madrid",
          "Real Madrid",
          "Real Madrid",
          "Real Madrid",
          "Real Madrid",
          "Real Madrid",
          "Real Madrid",
          "Real Madrid",
          "Real Madrid",
          "Real Madrid",
          "Real Madrid",
          "Real Madrid",
          "Real Madrid",
          "Real Madrid",
          "Real Madrid",
          "Real Madrid",
          "Real Madrid"
         ],
         "xaxis": "x",
         "yaxis": "y"
        },
        {
         "alignmentgroup": "True",
         "bingroup": "x",
         "hovertemplate": "Season=16/17<br>Club=%{x}<br>count=%{y}<extra></extra>",
         "legendgroup": "16/17",
         "marker": {
          "color": "#FFA15A",
          "pattern": {
           "shape": ""
          }
         },
         "name": "16/17",
         "offsetgroup": "16/17",
         "orientation": "v",
         "showlegend": true,
         "type": "histogram",
         "x": [
          "Real Madrid",
          "Real Madrid",
          "Real Madrid",
          "Real Madrid",
          "Real Madrid",
          "Real Madrid",
          "Real Madrid",
          "Real Madrid",
          "Real Madrid",
          "Real Madrid",
          "Real Madrid",
          "Real Madrid",
          "Real Madrid",
          "Real Madrid",
          "Real Madrid",
          "Real Madrid",
          "Real Madrid",
          "Real Madrid",
          "Real Madrid",
          "Real Madrid",
          "Real Madrid",
          "Real Madrid",
          "Real Madrid",
          "Real Madrid",
          "Real Madrid",
          "Real Madrid",
          "Real Madrid",
          "Real Madrid",
          "Real Madrid",
          "Real Madrid",
          "Real Madrid",
          "Real Madrid",
          "Real Madrid",
          "Real Madrid",
          "Real Madrid",
          "Real Madrid",
          "Real Madrid",
          "Real Madrid",
          "Real Madrid",
          "Real Madrid",
          "Real Madrid",
          "Real Madrid"
         ],
         "xaxis": "x",
         "yaxis": "y"
        },
        {
         "alignmentgroup": "True",
         "bingroup": "x",
         "hovertemplate": "Season=17/18<br>Club=%{x}<br>count=%{y}<extra></extra>",
         "legendgroup": "17/18",
         "marker": {
          "color": "#19d3f3",
          "pattern": {
           "shape": ""
          }
         },
         "name": "17/18",
         "offsetgroup": "17/18",
         "orientation": "v",
         "showlegend": true,
         "type": "histogram",
         "x": [
          "Real Madrid",
          "Real Madrid",
          "Real Madrid",
          "Real Madrid",
          "Real Madrid",
          "Real Madrid",
          "Real Madrid",
          "Real Madrid",
          "Real Madrid",
          "Real Madrid",
          "Real Madrid",
          "Real Madrid",
          "Real Madrid",
          "Real Madrid",
          "Real Madrid",
          "Real Madrid",
          "Real Madrid",
          "Real Madrid",
          "Real Madrid",
          "Real Madrid",
          "Real Madrid",
          "Real Madrid",
          "Real Madrid",
          "Real Madrid",
          "Real Madrid",
          "Real Madrid",
          "Real Madrid",
          "Real Madrid",
          "Real Madrid",
          "Real Madrid",
          "Real Madrid",
          "Real Madrid",
          "Real Madrid",
          "Real Madrid",
          "Real Madrid",
          "Real Madrid",
          "Real Madrid",
          "Real Madrid",
          "Real Madrid",
          "Real Madrid",
          "Real Madrid",
          "Real Madrid",
          "Real Madrid",
          "Real Madrid"
         ],
         "xaxis": "x",
         "yaxis": "y"
        },
        {
         "alignmentgroup": "True",
         "bingroup": "x",
         "hovertemplate": "Season=18/19<br>Club=%{x}<br>count=%{y}<extra></extra>",
         "legendgroup": "18/19",
         "marker": {
          "color": "#FF6692",
          "pattern": {
           "shape": ""
          }
         },
         "name": "18/19",
         "offsetgroup": "18/19",
         "orientation": "v",
         "showlegend": true,
         "type": "histogram",
         "x": [
          "Juventus FC",
          "Juventus FC",
          "Juventus FC",
          "Juventus FC",
          "Juventus FC",
          "Juventus FC",
          "Juventus FC",
          "Juventus FC",
          "Juventus FC",
          "Juventus FC",
          "Juventus FC",
          "Juventus FC",
          "Juventus FC",
          "Juventus FC",
          "Juventus FC",
          "Juventus FC",
          "Juventus FC",
          "Juventus FC",
          "Juventus FC",
          "Juventus FC",
          "Juventus FC",
          "Juventus FC",
          "Juventus FC",
          "Juventus FC",
          "Juventus FC",
          "Juventus FC",
          "Juventus FC",
          "Juventus FC"
         ],
         "xaxis": "x",
         "yaxis": "y"
        },
        {
         "alignmentgroup": "True",
         "bingroup": "x",
         "hovertemplate": "Season=19/20<br>Club=%{x}<br>count=%{y}<extra></extra>",
         "legendgroup": "19/20",
         "marker": {
          "color": "#B6E880",
          "pattern": {
           "shape": ""
          }
         },
         "name": "19/20",
         "offsetgroup": "19/20",
         "orientation": "v",
         "showlegend": true,
         "type": "histogram",
         "x": [
          "Juventus FC",
          "Juventus FC",
          "Juventus FC",
          "Juventus FC",
          "Juventus FC",
          "Juventus FC",
          "Juventus FC",
          "Juventus FC",
          "Juventus FC",
          "Juventus FC",
          "Juventus FC",
          "Juventus FC",
          "Juventus FC",
          "Juventus FC",
          "Juventus FC",
          "Juventus FC",
          "Juventus FC",
          "Juventus FC",
          "Juventus FC",
          "Juventus FC",
          "Juventus FC",
          "Juventus FC",
          "Juventus FC",
          "Juventus FC",
          "Juventus FC",
          "Juventus FC",
          "Juventus FC",
          "Juventus FC",
          "Juventus FC",
          "Juventus FC",
          "Juventus FC",
          "Juventus FC",
          "Juventus FC",
          "Juventus FC",
          "Juventus FC",
          "Juventus FC",
          "Juventus FC"
         ],
         "xaxis": "x",
         "yaxis": "y"
        },
        {
         "alignmentgroup": "True",
         "bingroup": "x",
         "hovertemplate": "Season=20/21<br>Club=%{x}<br>count=%{y}<extra></extra>",
         "legendgroup": "20/21",
         "marker": {
          "color": "#FF97FF",
          "pattern": {
           "shape": ""
          }
         },
         "name": "20/21",
         "offsetgroup": "20/21",
         "orientation": "v",
         "showlegend": true,
         "type": "histogram",
         "x": [
          "Juventus FC",
          "Juventus FC",
          "Juventus FC",
          "Juventus FC",
          "Juventus FC",
          "Juventus FC",
          "Juventus FC",
          "Juventus FC",
          "Juventus FC",
          "Juventus FC",
          "Juventus FC",
          "Juventus FC",
          "Juventus FC",
          "Juventus FC",
          "Juventus FC",
          "Juventus FC",
          "Juventus FC",
          "Juventus FC",
          "Juventus FC",
          "Juventus FC",
          "Juventus FC",
          "Juventus FC",
          "Juventus FC",
          "Juventus FC",
          "Juventus FC",
          "Juventus FC",
          "Juventus FC",
          "Juventus FC",
          "Juventus FC",
          "Juventus FC",
          "Juventus FC",
          "Juventus FC",
          "Juventus FC",
          "Juventus FC",
          "Juventus FC",
          "Juventus FC"
         ],
         "xaxis": "x",
         "yaxis": "y"
        },
        {
         "alignmentgroup": "True",
         "bingroup": "x",
         "hovertemplate": "Season=21/22<br>Club=%{x}<br>count=%{y}<extra></extra>",
         "legendgroup": "21/22",
         "marker": {
          "color": "#FECB52",
          "pattern": {
           "shape": ""
          }
         },
         "name": "21/22",
         "offsetgroup": "21/22",
         "orientation": "v",
         "showlegend": true,
         "type": "histogram",
         "x": [
          "Manchester United",
          "Manchester United",
          "Manchester United",
          "Manchester United",
          "Manchester United",
          "Manchester United",
          "Manchester United",
          "Manchester United",
          "Manchester United",
          "Manchester United",
          "Manchester United",
          "Manchester United",
          "Manchester United",
          "Manchester United",
          "Manchester United",
          "Manchester United",
          "Manchester United",
          "Manchester United",
          "Manchester United",
          "Manchester United",
          "Manchester United",
          "Manchester United",
          "Manchester United",
          "Manchester United"
         ],
         "xaxis": "x",
         "yaxis": "y"
        },
        {
         "alignmentgroup": "True",
         "bingroup": "x",
         "hovertemplate": "Season=22/23<br>Club=%{x}<br>count=%{y}<extra></extra>",
         "legendgroup": "22/23",
         "marker": {
          "color": "#636efa",
          "pattern": {
           "shape": ""
          }
         },
         "name": "22/23",
         "offsetgroup": "22/23",
         "orientation": "v",
         "showlegend": true,
         "type": "histogram",
         "x": [
          "Manchester United"
         ],
         "xaxis": "x",
         "yaxis": "y"
        }
       ],
       "layout": {
        "barmode": "relative",
        "height": 500,
        "legend": {
         "title": {
          "text": "Season"
         },
         "tracegroupgap": 0
        },
        "template": {
         "data": {
          "bar": [
           {
            "error_x": {
             "color": "#2a3f5f"
            },
            "error_y": {
             "color": "#2a3f5f"
            },
            "marker": {
             "line": {
              "color": "#E5ECF6",
              "width": 0.5
             },
             "pattern": {
              "fillmode": "overlay",
              "size": 10,
              "solidity": 0.2
             }
            },
            "type": "bar"
           }
          ],
          "barpolar": [
           {
            "marker": {
             "line": {
              "color": "#E5ECF6",
              "width": 0.5
             },
             "pattern": {
              "fillmode": "overlay",
              "size": 10,
              "solidity": 0.2
             }
            },
            "type": "barpolar"
           }
          ],
          "carpet": [
           {
            "aaxis": {
             "endlinecolor": "#2a3f5f",
             "gridcolor": "white",
             "linecolor": "white",
             "minorgridcolor": "white",
             "startlinecolor": "#2a3f5f"
            },
            "baxis": {
             "endlinecolor": "#2a3f5f",
             "gridcolor": "white",
             "linecolor": "white",
             "minorgridcolor": "white",
             "startlinecolor": "#2a3f5f"
            },
            "type": "carpet"
           }
          ],
          "choropleth": [
           {
            "colorbar": {
             "outlinewidth": 0,
             "ticks": ""
            },
            "type": "choropleth"
           }
          ],
          "contour": [
           {
            "colorbar": {
             "outlinewidth": 0,
             "ticks": ""
            },
            "colorscale": [
             [
              0,
              "#0d0887"
             ],
             [
              0.1111111111111111,
              "#46039f"
             ],
             [
              0.2222222222222222,
              "#7201a8"
             ],
             [
              0.3333333333333333,
              "#9c179e"
             ],
             [
              0.4444444444444444,
              "#bd3786"
             ],
             [
              0.5555555555555556,
              "#d8576b"
             ],
             [
              0.6666666666666666,
              "#ed7953"
             ],
             [
              0.7777777777777778,
              "#fb9f3a"
             ],
             [
              0.8888888888888888,
              "#fdca26"
             ],
             [
              1,
              "#f0f921"
             ]
            ],
            "type": "contour"
           }
          ],
          "contourcarpet": [
           {
            "colorbar": {
             "outlinewidth": 0,
             "ticks": ""
            },
            "type": "contourcarpet"
           }
          ],
          "heatmap": [
           {
            "colorbar": {
             "outlinewidth": 0,
             "ticks": ""
            },
            "colorscale": [
             [
              0,
              "#0d0887"
             ],
             [
              0.1111111111111111,
              "#46039f"
             ],
             [
              0.2222222222222222,
              "#7201a8"
             ],
             [
              0.3333333333333333,
              "#9c179e"
             ],
             [
              0.4444444444444444,
              "#bd3786"
             ],
             [
              0.5555555555555556,
              "#d8576b"
             ],
             [
              0.6666666666666666,
              "#ed7953"
             ],
             [
              0.7777777777777778,
              "#fb9f3a"
             ],
             [
              0.8888888888888888,
              "#fdca26"
             ],
             [
              1,
              "#f0f921"
             ]
            ],
            "type": "heatmap"
           }
          ],
          "heatmapgl": [
           {
            "colorbar": {
             "outlinewidth": 0,
             "ticks": ""
            },
            "colorscale": [
             [
              0,
              "#0d0887"
             ],
             [
              0.1111111111111111,
              "#46039f"
             ],
             [
              0.2222222222222222,
              "#7201a8"
             ],
             [
              0.3333333333333333,
              "#9c179e"
             ],
             [
              0.4444444444444444,
              "#bd3786"
             ],
             [
              0.5555555555555556,
              "#d8576b"
             ],
             [
              0.6666666666666666,
              "#ed7953"
             ],
             [
              0.7777777777777778,
              "#fb9f3a"
             ],
             [
              0.8888888888888888,
              "#fdca26"
             ],
             [
              1,
              "#f0f921"
             ]
            ],
            "type": "heatmapgl"
           }
          ],
          "histogram": [
           {
            "marker": {
             "pattern": {
              "fillmode": "overlay",
              "size": 10,
              "solidity": 0.2
             }
            },
            "type": "histogram"
           }
          ],
          "histogram2d": [
           {
            "colorbar": {
             "outlinewidth": 0,
             "ticks": ""
            },
            "colorscale": [
             [
              0,
              "#0d0887"
             ],
             [
              0.1111111111111111,
              "#46039f"
             ],
             [
              0.2222222222222222,
              "#7201a8"
             ],
             [
              0.3333333333333333,
              "#9c179e"
             ],
             [
              0.4444444444444444,
              "#bd3786"
             ],
             [
              0.5555555555555556,
              "#d8576b"
             ],
             [
              0.6666666666666666,
              "#ed7953"
             ],
             [
              0.7777777777777778,
              "#fb9f3a"
             ],
             [
              0.8888888888888888,
              "#fdca26"
             ],
             [
              1,
              "#f0f921"
             ]
            ],
            "type": "histogram2d"
           }
          ],
          "histogram2dcontour": [
           {
            "colorbar": {
             "outlinewidth": 0,
             "ticks": ""
            },
            "colorscale": [
             [
              0,
              "#0d0887"
             ],
             [
              0.1111111111111111,
              "#46039f"
             ],
             [
              0.2222222222222222,
              "#7201a8"
             ],
             [
              0.3333333333333333,
              "#9c179e"
             ],
             [
              0.4444444444444444,
              "#bd3786"
             ],
             [
              0.5555555555555556,
              "#d8576b"
             ],
             [
              0.6666666666666666,
              "#ed7953"
             ],
             [
              0.7777777777777778,
              "#fb9f3a"
             ],
             [
              0.8888888888888888,
              "#fdca26"
             ],
             [
              1,
              "#f0f921"
             ]
            ],
            "type": "histogram2dcontour"
           }
          ],
          "mesh3d": [
           {
            "colorbar": {
             "outlinewidth": 0,
             "ticks": ""
            },
            "type": "mesh3d"
           }
          ],
          "parcoords": [
           {
            "line": {
             "colorbar": {
              "outlinewidth": 0,
              "ticks": ""
             }
            },
            "type": "parcoords"
           }
          ],
          "pie": [
           {
            "automargin": true,
            "type": "pie"
           }
          ],
          "scatter": [
           {
            "fillpattern": {
             "fillmode": "overlay",
             "size": 10,
             "solidity": 0.2
            },
            "type": "scatter"
           }
          ],
          "scatter3d": [
           {
            "line": {
             "colorbar": {
              "outlinewidth": 0,
              "ticks": ""
             }
            },
            "marker": {
             "colorbar": {
              "outlinewidth": 0,
              "ticks": ""
             }
            },
            "type": "scatter3d"
           }
          ],
          "scattercarpet": [
           {
            "marker": {
             "colorbar": {
              "outlinewidth": 0,
              "ticks": ""
             }
            },
            "type": "scattercarpet"
           }
          ],
          "scattergeo": [
           {
            "marker": {
             "colorbar": {
              "outlinewidth": 0,
              "ticks": ""
             }
            },
            "type": "scattergeo"
           }
          ],
          "scattergl": [
           {
            "marker": {
             "colorbar": {
              "outlinewidth": 0,
              "ticks": ""
             }
            },
            "type": "scattergl"
           }
          ],
          "scattermapbox": [
           {
            "marker": {
             "colorbar": {
              "outlinewidth": 0,
              "ticks": ""
             }
            },
            "type": "scattermapbox"
           }
          ],
          "scatterpolar": [
           {
            "marker": {
             "colorbar": {
              "outlinewidth": 0,
              "ticks": ""
             }
            },
            "type": "scatterpolar"
           }
          ],
          "scatterpolargl": [
           {
            "marker": {
             "colorbar": {
              "outlinewidth": 0,
              "ticks": ""
             }
            },
            "type": "scatterpolargl"
           }
          ],
          "scatterternary": [
           {
            "marker": {
             "colorbar": {
              "outlinewidth": 0,
              "ticks": ""
             }
            },
            "type": "scatterternary"
           }
          ],
          "surface": [
           {
            "colorbar": {
             "outlinewidth": 0,
             "ticks": ""
            },
            "colorscale": [
             [
              0,
              "#0d0887"
             ],
             [
              0.1111111111111111,
              "#46039f"
             ],
             [
              0.2222222222222222,
              "#7201a8"
             ],
             [
              0.3333333333333333,
              "#9c179e"
             ],
             [
              0.4444444444444444,
              "#bd3786"
             ],
             [
              0.5555555555555556,
              "#d8576b"
             ],
             [
              0.6666666666666666,
              "#ed7953"
             ],
             [
              0.7777777777777778,
              "#fb9f3a"
             ],
             [
              0.8888888888888888,
              "#fdca26"
             ],
             [
              1,
              "#f0f921"
             ]
            ],
            "type": "surface"
           }
          ],
          "table": [
           {
            "cells": {
             "fill": {
              "color": "#EBF0F8"
             },
             "line": {
              "color": "white"
             }
            },
            "header": {
             "fill": {
              "color": "#C8D4E3"
             },
             "line": {
              "color": "white"
             }
            },
            "type": "table"
           }
          ]
         },
         "layout": {
          "annotationdefaults": {
           "arrowcolor": "#2a3f5f",
           "arrowhead": 0,
           "arrowwidth": 1
          },
          "autotypenumbers": "strict",
          "coloraxis": {
           "colorbar": {
            "outlinewidth": 0,
            "ticks": ""
           }
          },
          "colorscale": {
           "diverging": [
            [
             0,
             "#8e0152"
            ],
            [
             0.1,
             "#c51b7d"
            ],
            [
             0.2,
             "#de77ae"
            ],
            [
             0.3,
             "#f1b6da"
            ],
            [
             0.4,
             "#fde0ef"
            ],
            [
             0.5,
             "#f7f7f7"
            ],
            [
             0.6,
             "#e6f5d0"
            ],
            [
             0.7,
             "#b8e186"
            ],
            [
             0.8,
             "#7fbc41"
            ],
            [
             0.9,
             "#4d9221"
            ],
            [
             1,
             "#276419"
            ]
           ],
           "sequential": [
            [
             0,
             "#0d0887"
            ],
            [
             0.1111111111111111,
             "#46039f"
            ],
            [
             0.2222222222222222,
             "#7201a8"
            ],
            [
             0.3333333333333333,
             "#9c179e"
            ],
            [
             0.4444444444444444,
             "#bd3786"
            ],
            [
             0.5555555555555556,
             "#d8576b"
            ],
            [
             0.6666666666666666,
             "#ed7953"
            ],
            [
             0.7777777777777778,
             "#fb9f3a"
            ],
            [
             0.8888888888888888,
             "#fdca26"
            ],
            [
             1,
             "#f0f921"
            ]
           ],
           "sequentialminus": [
            [
             0,
             "#0d0887"
            ],
            [
             0.1111111111111111,
             "#46039f"
            ],
            [
             0.2222222222222222,
             "#7201a8"
            ],
            [
             0.3333333333333333,
             "#9c179e"
            ],
            [
             0.4444444444444444,
             "#bd3786"
            ],
            [
             0.5555555555555556,
             "#d8576b"
            ],
            [
             0.6666666666666666,
             "#ed7953"
            ],
            [
             0.7777777777777778,
             "#fb9f3a"
            ],
            [
             0.8888888888888888,
             "#fdca26"
            ],
            [
             1,
             "#f0f921"
            ]
           ]
          },
          "colorway": [
           "#636efa",
           "#EF553B",
           "#00cc96",
           "#ab63fa",
           "#FFA15A",
           "#19d3f3",
           "#FF6692",
           "#B6E880",
           "#FF97FF",
           "#FECB52"
          ],
          "font": {
           "color": "#2a3f5f"
          },
          "geo": {
           "bgcolor": "white",
           "lakecolor": "white",
           "landcolor": "#E5ECF6",
           "showlakes": true,
           "showland": true,
           "subunitcolor": "white"
          },
          "hoverlabel": {
           "align": "left"
          },
          "hovermode": "closest",
          "mapbox": {
           "style": "light"
          },
          "paper_bgcolor": "white",
          "plot_bgcolor": "#E5ECF6",
          "polar": {
           "angularaxis": {
            "gridcolor": "white",
            "linecolor": "white",
            "ticks": ""
           },
           "bgcolor": "#E5ECF6",
           "radialaxis": {
            "gridcolor": "white",
            "linecolor": "white",
            "ticks": ""
           }
          },
          "scene": {
           "xaxis": {
            "backgroundcolor": "#E5ECF6",
            "gridcolor": "white",
            "gridwidth": 2,
            "linecolor": "white",
            "showbackground": true,
            "ticks": "",
            "zerolinecolor": "white"
           },
           "yaxis": {
            "backgroundcolor": "#E5ECF6",
            "gridcolor": "white",
            "gridwidth": 2,
            "linecolor": "white",
            "showbackground": true,
            "ticks": "",
            "zerolinecolor": "white"
           },
           "zaxis": {
            "backgroundcolor": "#E5ECF6",
            "gridcolor": "white",
            "gridwidth": 2,
            "linecolor": "white",
            "showbackground": true,
            "ticks": "",
            "zerolinecolor": "white"
           }
          },
          "shapedefaults": {
           "line": {
            "color": "#2a3f5f"
           }
          },
          "ternary": {
           "aaxis": {
            "gridcolor": "white",
            "linecolor": "white",
            "ticks": ""
           },
           "baxis": {
            "gridcolor": "white",
            "linecolor": "white",
            "ticks": ""
           },
           "bgcolor": "#E5ECF6",
           "caxis": {
            "gridcolor": "white",
            "linecolor": "white",
            "ticks": ""
           }
          },
          "title": {
           "x": 0.05
          },
          "xaxis": {
           "automargin": true,
           "gridcolor": "white",
           "linecolor": "white",
           "ticks": "",
           "title": {
            "standoff": 15
           },
           "zerolinecolor": "white",
           "zerolinewidth": 2
          },
          "yaxis": {
           "automargin": true,
           "gridcolor": "white",
           "linecolor": "white",
           "ticks": "",
           "title": {
            "standoff": 15
           },
           "zerolinecolor": "white",
           "zerolinewidth": 2
          }
         }
        },
        "title": {
         "text": "Goals per Clubs - Seasons"
        },
        "xaxis": {
         "anchor": "y",
         "domain": [
          0,
          1
         ],
         "title": {
          "text": "Club"
         }
        },
        "yaxis": {
         "anchor": "x",
         "domain": [
          0,
          1
         ],
         "title": {
          "text": "count"
         }
        }
       }
      },
      "text/html": [
       "<div>                            <div id=\"bce6bb0c-c951-4bb7-855a-35a9215f6d07\" class=\"plotly-graph-div\" style=\"height:500px; width:100%;\"></div>            <script type=\"text/javascript\">                require([\"plotly\"], function(Plotly) {                    window.PLOTLYENV=window.PLOTLYENV || {};                                    if (document.getElementById(\"bce6bb0c-c951-4bb7-855a-35a9215f6d07\")) {                    Plotly.newPlot(                        \"bce6bb0c-c951-4bb7-855a-35a9215f6d07\",                        [{\"alignmentgroup\":\"True\",\"bingroup\":\"x\",\"hovertemplate\":\"Season=02-Mar<br>Club=%{x}<br>count=%{y}<extra></extra>\",\"legendgroup\":\"02-Mar\",\"marker\":{\"color\":\"#636efa\",\"pattern\":{\"shape\":\"\"}},\"name\":\"02-Mar\",\"offsetgroup\":\"02-Mar\",\"orientation\":\"v\",\"showlegend\":true,\"x\":[\"Sporting CP\",\"Sporting CP\",\"Sporting CP\",\"Sporting CP\",\"Sporting CP\"],\"xaxis\":\"x\",\"yaxis\":\"y\",\"type\":\"histogram\"},{\"alignmentgroup\":\"True\",\"bingroup\":\"x\",\"hovertemplate\":\"Season=03-Apr<br>Club=%{x}<br>count=%{y}<extra></extra>\",\"legendgroup\":\"03-Apr\",\"marker\":{\"color\":\"#EF553B\",\"pattern\":{\"shape\":\"\"}},\"name\":\"03-Apr\",\"offsetgroup\":\"03-Apr\",\"orientation\":\"v\",\"showlegend\":true,\"x\":[\"Manchester United\",\"Manchester United\",\"Manchester United\",\"Manchester United\",\"Manchester United\",\"Manchester United\"],\"xaxis\":\"x\",\"yaxis\":\"y\",\"type\":\"histogram\"},{\"alignmentgroup\":\"True\",\"bingroup\":\"x\",\"hovertemplate\":\"Season=04-May<br>Club=%{x}<br>count=%{y}<extra></extra>\",\"legendgroup\":\"04-May\",\"marker\":{\"color\":\"#00cc96\",\"pattern\":{\"shape\":\"\"}},\"name\":\"04-May\",\"offsetgroup\":\"04-May\",\"orientation\":\"v\",\"showlegend\":true,\"x\":[\"Manchester United\",\"Manchester United\",\"Manchester United\",\"Manchester United\",\"Manchester United\",\"Manchester United\",\"Manchester United\",\"Manchester United\",\"Manchester United\"],\"xaxis\":\"x\",\"yaxis\":\"y\",\"type\":\"histogram\"},{\"alignmentgroup\":\"True\",\"bingroup\":\"x\",\"hovertemplate\":\"Season=05-Jun<br>Club=%{x}<br>count=%{y}<extra></extra>\",\"legendgroup\":\"05-Jun\",\"marker\":{\"color\":\"#ab63fa\",\"pattern\":{\"shape\":\"\"}},\"name\":\"05-Jun\",\"offsetgroup\":\"05-Jun\",\"orientation\":\"v\",\"showlegend\":true,\"x\":[\"Manchester United\",\"Manchester United\",\"Manchester United\",\"Manchester United\",\"Manchester United\",\"Manchester United\",\"Manchester United\",\"Manchester United\",\"Manchester United\",\"Manchester United\",\"Manchester United\",\"Manchester United\"],\"xaxis\":\"x\",\"yaxis\":\"y\",\"type\":\"histogram\"},{\"alignmentgroup\":\"True\",\"bingroup\":\"x\",\"hovertemplate\":\"Season=06-Jul<br>Club=%{x}<br>count=%{y}<extra></extra>\",\"legendgroup\":\"06-Jul\",\"marker\":{\"color\":\"#FFA15A\",\"pattern\":{\"shape\":\"\"}},\"name\":\"06-Jul\",\"offsetgroup\":\"06-Jul\",\"orientation\":\"v\",\"showlegend\":true,\"x\":[\"Manchester United\",\"Manchester United\",\"Manchester United\",\"Manchester United\",\"Manchester United\",\"Manchester United\",\"Manchester United\",\"Manchester United\",\"Manchester United\",\"Manchester United\",\"Manchester United\",\"Manchester United\",\"Manchester United\",\"Manchester United\",\"Manchester United\",\"Manchester United\",\"Manchester United\",\"Manchester United\",\"Manchester United\",\"Manchester United\",\"Manchester United\",\"Manchester United\",\"Manchester United\"],\"xaxis\":\"x\",\"yaxis\":\"y\",\"type\":\"histogram\"},{\"alignmentgroup\":\"True\",\"bingroup\":\"x\",\"hovertemplate\":\"Season=07-Aug<br>Club=%{x}<br>count=%{y}<extra></extra>\",\"legendgroup\":\"07-Aug\",\"marker\":{\"color\":\"#19d3f3\",\"pattern\":{\"shape\":\"\"}},\"name\":\"07-Aug\",\"offsetgroup\":\"07-Aug\",\"orientation\":\"v\",\"showlegend\":true,\"x\":[\"Manchester United\",\"Manchester United\",\"Manchester United\",\"Manchester United\",\"Manchester United\",\"Manchester United\",\"Manchester United\",\"Manchester United\",\"Manchester United\",\"Manchester United\",\"Manchester United\",\"Manchester United\",\"Manchester United\",\"Manchester United\",\"Manchester United\",\"Manchester United\",\"Manchester United\",\"Manchester United\",\"Manchester United\",\"Manchester United\",\"Manchester United\",\"Manchester United\",\"Manchester United\",\"Manchester United\",\"Manchester United\",\"Manchester United\",\"Manchester United\",\"Manchester United\",\"Manchester United\",\"Manchester United\",\"Manchester United\",\"Manchester United\",\"Manchester United\",\"Manchester United\",\"Manchester United\",\"Manchester United\",\"Manchester United\",\"Manchester United\",\"Manchester United\",\"Manchester United\",\"Manchester United\",\"Manchester United\"],\"xaxis\":\"x\",\"yaxis\":\"y\",\"type\":\"histogram\"},{\"alignmentgroup\":\"True\",\"bingroup\":\"x\",\"hovertemplate\":\"Season=08-Sep<br>Club=%{x}<br>count=%{y}<extra></extra>\",\"legendgroup\":\"08-Sep\",\"marker\":{\"color\":\"#FF6692\",\"pattern\":{\"shape\":\"\"}},\"name\":\"08-Sep\",\"offsetgroup\":\"08-Sep\",\"orientation\":\"v\",\"showlegend\":true,\"x\":[\"Manchester United\",\"Manchester United\",\"Manchester United\",\"Manchester United\",\"Manchester United\",\"Manchester United\",\"Manchester United\",\"Manchester United\",\"Manchester United\",\"Manchester United\",\"Manchester United\",\"Manchester United\",\"Manchester United\",\"Manchester United\",\"Manchester United\",\"Manchester United\",\"Manchester United\",\"Manchester United\",\"Manchester United\",\"Manchester United\",\"Manchester United\",\"Manchester United\",\"Manchester United\",\"Manchester United\",\"Manchester United\",\"Manchester United\"],\"xaxis\":\"x\",\"yaxis\":\"y\",\"type\":\"histogram\"},{\"alignmentgroup\":\"True\",\"bingroup\":\"x\",\"hovertemplate\":\"Season=09-Oct<br>Club=%{x}<br>count=%{y}<extra></extra>\",\"legendgroup\":\"09-Oct\",\"marker\":{\"color\":\"#B6E880\",\"pattern\":{\"shape\":\"\"}},\"name\":\"09-Oct\",\"offsetgroup\":\"09-Oct\",\"orientation\":\"v\",\"showlegend\":true,\"x\":[\"Real Madrid\",\"Real Madrid\",\"Real Madrid\",\"Real Madrid\",\"Real Madrid\",\"Real Madrid\",\"Real Madrid\",\"Real Madrid\",\"Real Madrid\",\"Real Madrid\",\"Real Madrid\",\"Real Madrid\",\"Real Madrid\",\"Real Madrid\",\"Real Madrid\",\"Real Madrid\",\"Real Madrid\",\"Real Madrid\",\"Real Madrid\",\"Real Madrid\",\"Real Madrid\",\"Real Madrid\",\"Real Madrid\",\"Real Madrid\",\"Real Madrid\",\"Real Madrid\",\"Real Madrid\",\"Real Madrid\",\"Real Madrid\",\"Real Madrid\",\"Real Madrid\",\"Real Madrid\",\"Real Madrid\"],\"xaxis\":\"x\",\"yaxis\":\"y\",\"type\":\"histogram\"},{\"alignmentgroup\":\"True\",\"bingroup\":\"x\",\"hovertemplate\":\"Season=10-Nov<br>Club=%{x}<br>count=%{y}<extra></extra>\",\"legendgroup\":\"10-Nov\",\"marker\":{\"color\":\"#FF97FF\",\"pattern\":{\"shape\":\"\"}},\"name\":\"10-Nov\",\"offsetgroup\":\"10-Nov\",\"orientation\":\"v\",\"showlegend\":true,\"x\":[\"Real Madrid\",\"Real Madrid\",\"Real Madrid\",\"Real Madrid\",\"Real Madrid\",\"Real Madrid\",\"Real Madrid\",\"Real Madrid\",\"Real Madrid\",\"Real Madrid\",\"Real Madrid\",\"Real Madrid\",\"Real Madrid\",\"Real Madrid\",\"Real Madrid\",\"Real Madrid\",\"Real Madrid\",\"Real Madrid\",\"Real Madrid\",\"Real Madrid\",\"Real Madrid\",\"Real Madrid\",\"Real Madrid\",\"Real Madrid\",\"Real Madrid\",\"Real Madrid\",\"Real Madrid\",\"Real Madrid\",\"Real Madrid\",\"Real Madrid\",\"Real Madrid\",\"Real Madrid\",\"Real Madrid\",\"Real Madrid\",\"Real Madrid\",\"Real Madrid\",\"Real Madrid\",\"Real Madrid\",\"Real Madrid\",\"Real Madrid\",\"Real Madrid\",\"Real Madrid\",\"Real Madrid\",\"Real Madrid\",\"Real Madrid\",\"Real Madrid\",\"Real Madrid\",\"Real Madrid\",\"Real Madrid\",\"Real Madrid\",\"Real Madrid\",\"Real Madrid\",\"Real Madrid\"],\"xaxis\":\"x\",\"yaxis\":\"y\",\"type\":\"histogram\"},{\"alignmentgroup\":\"True\",\"bingroup\":\"x\",\"hovertemplate\":\"Season=11-Dec<br>Club=%{x}<br>count=%{y}<extra></extra>\",\"legendgroup\":\"11-Dec\",\"marker\":{\"color\":\"#FECB52\",\"pattern\":{\"shape\":\"\"}},\"name\":\"11-Dec\",\"offsetgroup\":\"11-Dec\",\"orientation\":\"v\",\"showlegend\":true,\"x\":[\"Real Madrid\",\"Real Madrid\",\"Real Madrid\",\"Real Madrid\",\"Real Madrid\",\"Real Madrid\",\"Real Madrid\",\"Real Madrid\",\"Real Madrid\",\"Real Madrid\",\"Real Madrid\",\"Real Madrid\",\"Real Madrid\",\"Real Madrid\",\"Real Madrid\",\"Real Madrid\",\"Real Madrid\",\"Real Madrid\",\"Real Madrid\",\"Real Madrid\",\"Real Madrid\",\"Real Madrid\",\"Real Madrid\",\"Real Madrid\",\"Real Madrid\",\"Real Madrid\",\"Real Madrid\",\"Real Madrid\",\"Real Madrid\",\"Real Madrid\",\"Real Madrid\",\"Real Madrid\",\"Real Madrid\",\"Real Madrid\",\"Real Madrid\",\"Real Madrid\",\"Real Madrid\",\"Real Madrid\",\"Real Madrid\",\"Real Madrid\",\"Real Madrid\",\"Real Madrid\",\"Real Madrid\",\"Real Madrid\",\"Real Madrid\",\"Real Madrid\",\"Real Madrid\",\"Real Madrid\",\"Real Madrid\",\"Real Madrid\",\"Real Madrid\",\"Real Madrid\",\"Real Madrid\",\"Real Madrid\",\"Real Madrid\",\"Real Madrid\",\"Real Madrid\",\"Real Madrid\",\"Real Madrid\",\"Real Madrid\"],\"xaxis\":\"x\",\"yaxis\":\"y\",\"type\":\"histogram\"},{\"alignmentgroup\":\"True\",\"bingroup\":\"x\",\"hovertemplate\":\"Season=Dec-13<br>Club=%{x}<br>count=%{y}<extra></extra>\",\"legendgroup\":\"Dec-13\",\"marker\":{\"color\":\"#636efa\",\"pattern\":{\"shape\":\"\"}},\"name\":\"Dec-13\",\"offsetgroup\":\"Dec-13\",\"orientation\":\"v\",\"showlegend\":true,\"x\":[\"Real Madrid\",\"Real Madrid\",\"Real Madrid\",\"Real Madrid\",\"Real Madrid\",\"Real Madrid\",\"Real Madrid\",\"Real Madrid\",\"Real Madrid\",\"Real Madrid\",\"Real Madrid\",\"Real Madrid\",\"Real Madrid\",\"Real Madrid\",\"Real Madrid\",\"Real Madrid\",\"Real Madrid\",\"Real Madrid\",\"Real Madrid\",\"Real Madrid\",\"Real Madrid\",\"Real Madrid\",\"Real Madrid\",\"Real Madrid\",\"Real Madrid\",\"Real Madrid\",\"Real Madrid\",\"Real Madrid\",\"Real Madrid\",\"Real Madrid\",\"Real Madrid\",\"Real Madrid\",\"Real Madrid\",\"Real Madrid\",\"Real Madrid\",\"Real Madrid\",\"Real Madrid\",\"Real Madrid\",\"Real Madrid\",\"Real Madrid\",\"Real Madrid\",\"Real Madrid\",\"Real Madrid\",\"Real Madrid\",\"Real Madrid\",\"Real Madrid\",\"Real Madrid\",\"Real Madrid\",\"Real Madrid\",\"Real Madrid\",\"Real Madrid\",\"Real Madrid\",\"Real Madrid\",\"Real Madrid\",\"Real Madrid\"],\"xaxis\":\"x\",\"yaxis\":\"y\",\"type\":\"histogram\"},{\"alignmentgroup\":\"True\",\"bingroup\":\"x\",\"hovertemplate\":\"Season=13/14<br>Club=%{x}<br>count=%{y}<extra></extra>\",\"legendgroup\":\"13/14\",\"marker\":{\"color\":\"#EF553B\",\"pattern\":{\"shape\":\"\"}},\"name\":\"13/14\",\"offsetgroup\":\"13/14\",\"orientation\":\"v\",\"showlegend\":true,\"x\":[\"Real Madrid\",\"Real Madrid\",\"Real Madrid\",\"Real Madrid\",\"Real Madrid\",\"Real Madrid\",\"Real Madrid\",\"Real Madrid\",\"Real Madrid\",\"Real Madrid\",\"Real Madrid\",\"Real Madrid\",\"Real Madrid\",\"Real Madrid\",\"Real Madrid\",\"Real Madrid\",\"Real Madrid\",\"Real Madrid\",\"Real Madrid\",\"Real Madrid\",\"Real Madrid\",\"Real Madrid\",\"Real Madrid\",\"Real Madrid\",\"Real Madrid\",\"Real Madrid\",\"Real Madrid\",\"Real Madrid\",\"Real Madrid\",\"Real Madrid\",\"Real Madrid\",\"Real Madrid\",\"Real Madrid\",\"Real Madrid\",\"Real Madrid\",\"Real Madrid\",\"Real Madrid\",\"Real Madrid\",\"Real Madrid\",\"Real Madrid\",\"Real Madrid\",\"Real Madrid\",\"Real Madrid\",\"Real Madrid\",\"Real Madrid\",\"Real Madrid\",\"Real Madrid\",\"Real Madrid\",\"Real Madrid\",\"Real Madrid\",\"Real Madrid\"],\"xaxis\":\"x\",\"yaxis\":\"y\",\"type\":\"histogram\"},{\"alignmentgroup\":\"True\",\"bingroup\":\"x\",\"hovertemplate\":\"Season=14/15<br>Club=%{x}<br>count=%{y}<extra></extra>\",\"legendgroup\":\"14/15\",\"marker\":{\"color\":\"#00cc96\",\"pattern\":{\"shape\":\"\"}},\"name\":\"14/15\",\"offsetgroup\":\"14/15\",\"orientation\":\"v\",\"showlegend\":true,\"x\":[\"Real Madrid\",\"Real Madrid\",\"Real Madrid\",\"Real Madrid\",\"Real Madrid\",\"Real Madrid\",\"Real Madrid\",\"Real Madrid\",\"Real Madrid\",\"Real Madrid\",\"Real Madrid\",\"Real Madrid\",\"Real Madrid\",\"Real Madrid\",\"Real Madrid\",\"Real Madrid\",\"Real Madrid\",\"Real Madrid\",\"Real Madrid\",\"Real Madrid\",\"Real Madrid\",\"Real Madrid\",\"Real Madrid\",\"Real Madrid\",\"Real Madrid\",\"Real Madrid\",\"Real Madrid\",\"Real Madrid\",\"Real Madrid\",\"Real Madrid\",\"Real Madrid\",\"Real Madrid\",\"Real Madrid\",\"Real Madrid\",\"Real Madrid\",\"Real Madrid\",\"Real Madrid\",\"Real Madrid\",\"Real Madrid\",\"Real Madrid\",\"Real Madrid\",\"Real Madrid\",\"Real Madrid\",\"Real Madrid\",\"Real Madrid\",\"Real Madrid\",\"Real Madrid\",\"Real Madrid\",\"Real Madrid\",\"Real Madrid\",\"Real Madrid\",\"Real Madrid\",\"Real Madrid\",\"Real Madrid\",\"Real Madrid\",\"Real Madrid\",\"Real Madrid\",\"Real Madrid\",\"Real Madrid\",\"Real Madrid\",\"Real Madrid\"],\"xaxis\":\"x\",\"yaxis\":\"y\",\"type\":\"histogram\"},{\"alignmentgroup\":\"True\",\"bingroup\":\"x\",\"hovertemplate\":\"Season=15/16<br>Club=%{x}<br>count=%{y}<extra></extra>\",\"legendgroup\":\"15/16\",\"marker\":{\"color\":\"#ab63fa\",\"pattern\":{\"shape\":\"\"}},\"name\":\"15/16\",\"offsetgroup\":\"15/16\",\"orientation\":\"v\",\"showlegend\":true,\"x\":[\"Real Madrid\",\"Real Madrid\",\"Real Madrid\",\"Real Madrid\",\"Real Madrid\",\"Real Madrid\",\"Real Madrid\",\"Real Madrid\",\"Real Madrid\",\"Real Madrid\",\"Real Madrid\",\"Real Madrid\",\"Real Madrid\",\"Real Madrid\",\"Real Madrid\",\"Real Madrid\",\"Real Madrid\",\"Real Madrid\",\"Real Madrid\",\"Real Madrid\",\"Real Madrid\",\"Real Madrid\",\"Real Madrid\",\"Real Madrid\",\"Real Madrid\",\"Real Madrid\",\"Real Madrid\",\"Real Madrid\",\"Real Madrid\",\"Real Madrid\",\"Real Madrid\",\"Real Madrid\",\"Real Madrid\",\"Real Madrid\",\"Real Madrid\",\"Real Madrid\",\"Real Madrid\",\"Real Madrid\",\"Real Madrid\",\"Real Madrid\",\"Real Madrid\",\"Real Madrid\",\"Real Madrid\",\"Real Madrid\",\"Real Madrid\",\"Real Madrid\",\"Real Madrid\",\"Real Madrid\",\"Real Madrid\",\"Real Madrid\",\"Real Madrid\"],\"xaxis\":\"x\",\"yaxis\":\"y\",\"type\":\"histogram\"},{\"alignmentgroup\":\"True\",\"bingroup\":\"x\",\"hovertemplate\":\"Season=16/17<br>Club=%{x}<br>count=%{y}<extra></extra>\",\"legendgroup\":\"16/17\",\"marker\":{\"color\":\"#FFA15A\",\"pattern\":{\"shape\":\"\"}},\"name\":\"16/17\",\"offsetgroup\":\"16/17\",\"orientation\":\"v\",\"showlegend\":true,\"x\":[\"Real Madrid\",\"Real Madrid\",\"Real Madrid\",\"Real Madrid\",\"Real Madrid\",\"Real Madrid\",\"Real Madrid\",\"Real Madrid\",\"Real Madrid\",\"Real Madrid\",\"Real Madrid\",\"Real Madrid\",\"Real Madrid\",\"Real Madrid\",\"Real Madrid\",\"Real Madrid\",\"Real Madrid\",\"Real Madrid\",\"Real Madrid\",\"Real Madrid\",\"Real Madrid\",\"Real Madrid\",\"Real Madrid\",\"Real Madrid\",\"Real Madrid\",\"Real Madrid\",\"Real Madrid\",\"Real Madrid\",\"Real Madrid\",\"Real Madrid\",\"Real Madrid\",\"Real Madrid\",\"Real Madrid\",\"Real Madrid\",\"Real Madrid\",\"Real Madrid\",\"Real Madrid\",\"Real Madrid\",\"Real Madrid\",\"Real Madrid\",\"Real Madrid\",\"Real Madrid\"],\"xaxis\":\"x\",\"yaxis\":\"y\",\"type\":\"histogram\"},{\"alignmentgroup\":\"True\",\"bingroup\":\"x\",\"hovertemplate\":\"Season=17/18<br>Club=%{x}<br>count=%{y}<extra></extra>\",\"legendgroup\":\"17/18\",\"marker\":{\"color\":\"#19d3f3\",\"pattern\":{\"shape\":\"\"}},\"name\":\"17/18\",\"offsetgroup\":\"17/18\",\"orientation\":\"v\",\"showlegend\":true,\"x\":[\"Real Madrid\",\"Real Madrid\",\"Real Madrid\",\"Real Madrid\",\"Real Madrid\",\"Real Madrid\",\"Real Madrid\",\"Real Madrid\",\"Real Madrid\",\"Real Madrid\",\"Real Madrid\",\"Real Madrid\",\"Real Madrid\",\"Real Madrid\",\"Real Madrid\",\"Real Madrid\",\"Real Madrid\",\"Real Madrid\",\"Real Madrid\",\"Real Madrid\",\"Real Madrid\",\"Real Madrid\",\"Real Madrid\",\"Real Madrid\",\"Real Madrid\",\"Real Madrid\",\"Real Madrid\",\"Real Madrid\",\"Real Madrid\",\"Real Madrid\",\"Real Madrid\",\"Real Madrid\",\"Real Madrid\",\"Real Madrid\",\"Real Madrid\",\"Real Madrid\",\"Real Madrid\",\"Real Madrid\",\"Real Madrid\",\"Real Madrid\",\"Real Madrid\",\"Real Madrid\",\"Real Madrid\",\"Real Madrid\"],\"xaxis\":\"x\",\"yaxis\":\"y\",\"type\":\"histogram\"},{\"alignmentgroup\":\"True\",\"bingroup\":\"x\",\"hovertemplate\":\"Season=18/19<br>Club=%{x}<br>count=%{y}<extra></extra>\",\"legendgroup\":\"18/19\",\"marker\":{\"color\":\"#FF6692\",\"pattern\":{\"shape\":\"\"}},\"name\":\"18/19\",\"offsetgroup\":\"18/19\",\"orientation\":\"v\",\"showlegend\":true,\"x\":[\"Juventus FC\",\"Juventus FC\",\"Juventus FC\",\"Juventus FC\",\"Juventus FC\",\"Juventus FC\",\"Juventus FC\",\"Juventus FC\",\"Juventus FC\",\"Juventus FC\",\"Juventus FC\",\"Juventus FC\",\"Juventus FC\",\"Juventus FC\",\"Juventus FC\",\"Juventus FC\",\"Juventus FC\",\"Juventus FC\",\"Juventus FC\",\"Juventus FC\",\"Juventus FC\",\"Juventus FC\",\"Juventus FC\",\"Juventus FC\",\"Juventus FC\",\"Juventus FC\",\"Juventus FC\",\"Juventus FC\"],\"xaxis\":\"x\",\"yaxis\":\"y\",\"type\":\"histogram\"},{\"alignmentgroup\":\"True\",\"bingroup\":\"x\",\"hovertemplate\":\"Season=19/20<br>Club=%{x}<br>count=%{y}<extra></extra>\",\"legendgroup\":\"19/20\",\"marker\":{\"color\":\"#B6E880\",\"pattern\":{\"shape\":\"\"}},\"name\":\"19/20\",\"offsetgroup\":\"19/20\",\"orientation\":\"v\",\"showlegend\":true,\"x\":[\"Juventus FC\",\"Juventus FC\",\"Juventus FC\",\"Juventus FC\",\"Juventus FC\",\"Juventus FC\",\"Juventus FC\",\"Juventus FC\",\"Juventus FC\",\"Juventus FC\",\"Juventus FC\",\"Juventus FC\",\"Juventus FC\",\"Juventus FC\",\"Juventus FC\",\"Juventus FC\",\"Juventus FC\",\"Juventus FC\",\"Juventus FC\",\"Juventus FC\",\"Juventus FC\",\"Juventus FC\",\"Juventus FC\",\"Juventus FC\",\"Juventus FC\",\"Juventus FC\",\"Juventus FC\",\"Juventus FC\",\"Juventus FC\",\"Juventus FC\",\"Juventus FC\",\"Juventus FC\",\"Juventus FC\",\"Juventus FC\",\"Juventus FC\",\"Juventus FC\",\"Juventus FC\"],\"xaxis\":\"x\",\"yaxis\":\"y\",\"type\":\"histogram\"},{\"alignmentgroup\":\"True\",\"bingroup\":\"x\",\"hovertemplate\":\"Season=20/21<br>Club=%{x}<br>count=%{y}<extra></extra>\",\"legendgroup\":\"20/21\",\"marker\":{\"color\":\"#FF97FF\",\"pattern\":{\"shape\":\"\"}},\"name\":\"20/21\",\"offsetgroup\":\"20/21\",\"orientation\":\"v\",\"showlegend\":true,\"x\":[\"Juventus FC\",\"Juventus FC\",\"Juventus FC\",\"Juventus FC\",\"Juventus FC\",\"Juventus FC\",\"Juventus FC\",\"Juventus FC\",\"Juventus FC\",\"Juventus FC\",\"Juventus FC\",\"Juventus FC\",\"Juventus FC\",\"Juventus FC\",\"Juventus FC\",\"Juventus FC\",\"Juventus FC\",\"Juventus FC\",\"Juventus FC\",\"Juventus FC\",\"Juventus FC\",\"Juventus FC\",\"Juventus FC\",\"Juventus FC\",\"Juventus FC\",\"Juventus FC\",\"Juventus FC\",\"Juventus FC\",\"Juventus FC\",\"Juventus FC\",\"Juventus FC\",\"Juventus FC\",\"Juventus FC\",\"Juventus FC\",\"Juventus FC\",\"Juventus FC\"],\"xaxis\":\"x\",\"yaxis\":\"y\",\"type\":\"histogram\"},{\"alignmentgroup\":\"True\",\"bingroup\":\"x\",\"hovertemplate\":\"Season=21/22<br>Club=%{x}<br>count=%{y}<extra></extra>\",\"legendgroup\":\"21/22\",\"marker\":{\"color\":\"#FECB52\",\"pattern\":{\"shape\":\"\"}},\"name\":\"21/22\",\"offsetgroup\":\"21/22\",\"orientation\":\"v\",\"showlegend\":true,\"x\":[\"Manchester United\",\"Manchester United\",\"Manchester United\",\"Manchester United\",\"Manchester United\",\"Manchester United\",\"Manchester United\",\"Manchester United\",\"Manchester United\",\"Manchester United\",\"Manchester United\",\"Manchester United\",\"Manchester United\",\"Manchester United\",\"Manchester United\",\"Manchester United\",\"Manchester United\",\"Manchester United\",\"Manchester United\",\"Manchester United\",\"Manchester United\",\"Manchester United\",\"Manchester United\",\"Manchester United\"],\"xaxis\":\"x\",\"yaxis\":\"y\",\"type\":\"histogram\"},{\"alignmentgroup\":\"True\",\"bingroup\":\"x\",\"hovertemplate\":\"Season=22/23<br>Club=%{x}<br>count=%{y}<extra></extra>\",\"legendgroup\":\"22/23\",\"marker\":{\"color\":\"#636efa\",\"pattern\":{\"shape\":\"\"}},\"name\":\"22/23\",\"offsetgroup\":\"22/23\",\"orientation\":\"v\",\"showlegend\":true,\"x\":[\"Manchester United\"],\"xaxis\":\"x\",\"yaxis\":\"y\",\"type\":\"histogram\"}],                        {\"template\":{\"data\":{\"histogram2dcontour\":[{\"type\":\"histogram2dcontour\",\"colorbar\":{\"outlinewidth\":0,\"ticks\":\"\"},\"colorscale\":[[0.0,\"#0d0887\"],[0.1111111111111111,\"#46039f\"],[0.2222222222222222,\"#7201a8\"],[0.3333333333333333,\"#9c179e\"],[0.4444444444444444,\"#bd3786\"],[0.5555555555555556,\"#d8576b\"],[0.6666666666666666,\"#ed7953\"],[0.7777777777777778,\"#fb9f3a\"],[0.8888888888888888,\"#fdca26\"],[1.0,\"#f0f921\"]]}],\"choropleth\":[{\"type\":\"choropleth\",\"colorbar\":{\"outlinewidth\":0,\"ticks\":\"\"}}],\"histogram2d\":[{\"type\":\"histogram2d\",\"colorbar\":{\"outlinewidth\":0,\"ticks\":\"\"},\"colorscale\":[[0.0,\"#0d0887\"],[0.1111111111111111,\"#46039f\"],[0.2222222222222222,\"#7201a8\"],[0.3333333333333333,\"#9c179e\"],[0.4444444444444444,\"#bd3786\"],[0.5555555555555556,\"#d8576b\"],[0.6666666666666666,\"#ed7953\"],[0.7777777777777778,\"#fb9f3a\"],[0.8888888888888888,\"#fdca26\"],[1.0,\"#f0f921\"]]}],\"heatmap\":[{\"type\":\"heatmap\",\"colorbar\":{\"outlinewidth\":0,\"ticks\":\"\"},\"colorscale\":[[0.0,\"#0d0887\"],[0.1111111111111111,\"#46039f\"],[0.2222222222222222,\"#7201a8\"],[0.3333333333333333,\"#9c179e\"],[0.4444444444444444,\"#bd3786\"],[0.5555555555555556,\"#d8576b\"],[0.6666666666666666,\"#ed7953\"],[0.7777777777777778,\"#fb9f3a\"],[0.8888888888888888,\"#fdca26\"],[1.0,\"#f0f921\"]]}],\"heatmapgl\":[{\"type\":\"heatmapgl\",\"colorbar\":{\"outlinewidth\":0,\"ticks\":\"\"},\"colorscale\":[[0.0,\"#0d0887\"],[0.1111111111111111,\"#46039f\"],[0.2222222222222222,\"#7201a8\"],[0.3333333333333333,\"#9c179e\"],[0.4444444444444444,\"#bd3786\"],[0.5555555555555556,\"#d8576b\"],[0.6666666666666666,\"#ed7953\"],[0.7777777777777778,\"#fb9f3a\"],[0.8888888888888888,\"#fdca26\"],[1.0,\"#f0f921\"]]}],\"contourcarpet\":[{\"type\":\"contourcarpet\",\"colorbar\":{\"outlinewidth\":0,\"ticks\":\"\"}}],\"contour\":[{\"type\":\"contour\",\"colorbar\":{\"outlinewidth\":0,\"ticks\":\"\"},\"colorscale\":[[0.0,\"#0d0887\"],[0.1111111111111111,\"#46039f\"],[0.2222222222222222,\"#7201a8\"],[0.3333333333333333,\"#9c179e\"],[0.4444444444444444,\"#bd3786\"],[0.5555555555555556,\"#d8576b\"],[0.6666666666666666,\"#ed7953\"],[0.7777777777777778,\"#fb9f3a\"],[0.8888888888888888,\"#fdca26\"],[1.0,\"#f0f921\"]]}],\"surface\":[{\"type\":\"surface\",\"colorbar\":{\"outlinewidth\":0,\"ticks\":\"\"},\"colorscale\":[[0.0,\"#0d0887\"],[0.1111111111111111,\"#46039f\"],[0.2222222222222222,\"#7201a8\"],[0.3333333333333333,\"#9c179e\"],[0.4444444444444444,\"#bd3786\"],[0.5555555555555556,\"#d8576b\"],[0.6666666666666666,\"#ed7953\"],[0.7777777777777778,\"#fb9f3a\"],[0.8888888888888888,\"#fdca26\"],[1.0,\"#f0f921\"]]}],\"mesh3d\":[{\"type\":\"mesh3d\",\"colorbar\":{\"outlinewidth\":0,\"ticks\":\"\"}}],\"scatter\":[{\"fillpattern\":{\"fillmode\":\"overlay\",\"size\":10,\"solidity\":0.2},\"type\":\"scatter\"}],\"parcoords\":[{\"type\":\"parcoords\",\"line\":{\"colorbar\":{\"outlinewidth\":0,\"ticks\":\"\"}}}],\"scatterpolargl\":[{\"type\":\"scatterpolargl\",\"marker\":{\"colorbar\":{\"outlinewidth\":0,\"ticks\":\"\"}}}],\"bar\":[{\"error_x\":{\"color\":\"#2a3f5f\"},\"error_y\":{\"color\":\"#2a3f5f\"},\"marker\":{\"line\":{\"color\":\"#E5ECF6\",\"width\":0.5},\"pattern\":{\"fillmode\":\"overlay\",\"size\":10,\"solidity\":0.2}},\"type\":\"bar\"}],\"scattergeo\":[{\"type\":\"scattergeo\",\"marker\":{\"colorbar\":{\"outlinewidth\":0,\"ticks\":\"\"}}}],\"scatterpolar\":[{\"type\":\"scatterpolar\",\"marker\":{\"colorbar\":{\"outlinewidth\":0,\"ticks\":\"\"}}}],\"histogram\":[{\"marker\":{\"pattern\":{\"fillmode\":\"overlay\",\"size\":10,\"solidity\":0.2}},\"type\":\"histogram\"}],\"scattergl\":[{\"type\":\"scattergl\",\"marker\":{\"colorbar\":{\"outlinewidth\":0,\"ticks\":\"\"}}}],\"scatter3d\":[{\"type\":\"scatter3d\",\"line\":{\"colorbar\":{\"outlinewidth\":0,\"ticks\":\"\"}},\"marker\":{\"colorbar\":{\"outlinewidth\":0,\"ticks\":\"\"}}}],\"scattermapbox\":[{\"type\":\"scattermapbox\",\"marker\":{\"colorbar\":{\"outlinewidth\":0,\"ticks\":\"\"}}}],\"scatterternary\":[{\"type\":\"scatterternary\",\"marker\":{\"colorbar\":{\"outlinewidth\":0,\"ticks\":\"\"}}}],\"scattercarpet\":[{\"type\":\"scattercarpet\",\"marker\":{\"colorbar\":{\"outlinewidth\":0,\"ticks\":\"\"}}}],\"carpet\":[{\"aaxis\":{\"endlinecolor\":\"#2a3f5f\",\"gridcolor\":\"white\",\"linecolor\":\"white\",\"minorgridcolor\":\"white\",\"startlinecolor\":\"#2a3f5f\"},\"baxis\":{\"endlinecolor\":\"#2a3f5f\",\"gridcolor\":\"white\",\"linecolor\":\"white\",\"minorgridcolor\":\"white\",\"startlinecolor\":\"#2a3f5f\"},\"type\":\"carpet\"}],\"table\":[{\"cells\":{\"fill\":{\"color\":\"#EBF0F8\"},\"line\":{\"color\":\"white\"}},\"header\":{\"fill\":{\"color\":\"#C8D4E3\"},\"line\":{\"color\":\"white\"}},\"type\":\"table\"}],\"barpolar\":[{\"marker\":{\"line\":{\"color\":\"#E5ECF6\",\"width\":0.5},\"pattern\":{\"fillmode\":\"overlay\",\"size\":10,\"solidity\":0.2}},\"type\":\"barpolar\"}],\"pie\":[{\"automargin\":true,\"type\":\"pie\"}]},\"layout\":{\"autotypenumbers\":\"strict\",\"colorway\":[\"#636efa\",\"#EF553B\",\"#00cc96\",\"#ab63fa\",\"#FFA15A\",\"#19d3f3\",\"#FF6692\",\"#B6E880\",\"#FF97FF\",\"#FECB52\"],\"font\":{\"color\":\"#2a3f5f\"},\"hovermode\":\"closest\",\"hoverlabel\":{\"align\":\"left\"},\"paper_bgcolor\":\"white\",\"plot_bgcolor\":\"#E5ECF6\",\"polar\":{\"bgcolor\":\"#E5ECF6\",\"angularaxis\":{\"gridcolor\":\"white\",\"linecolor\":\"white\",\"ticks\":\"\"},\"radialaxis\":{\"gridcolor\":\"white\",\"linecolor\":\"white\",\"ticks\":\"\"}},\"ternary\":{\"bgcolor\":\"#E5ECF6\",\"aaxis\":{\"gridcolor\":\"white\",\"linecolor\":\"white\",\"ticks\":\"\"},\"baxis\":{\"gridcolor\":\"white\",\"linecolor\":\"white\",\"ticks\":\"\"},\"caxis\":{\"gridcolor\":\"white\",\"linecolor\":\"white\",\"ticks\":\"\"}},\"coloraxis\":{\"colorbar\":{\"outlinewidth\":0,\"ticks\":\"\"}},\"colorscale\":{\"sequential\":[[0.0,\"#0d0887\"],[0.1111111111111111,\"#46039f\"],[0.2222222222222222,\"#7201a8\"],[0.3333333333333333,\"#9c179e\"],[0.4444444444444444,\"#bd3786\"],[0.5555555555555556,\"#d8576b\"],[0.6666666666666666,\"#ed7953\"],[0.7777777777777778,\"#fb9f3a\"],[0.8888888888888888,\"#fdca26\"],[1.0,\"#f0f921\"]],\"sequentialminus\":[[0.0,\"#0d0887\"],[0.1111111111111111,\"#46039f\"],[0.2222222222222222,\"#7201a8\"],[0.3333333333333333,\"#9c179e\"],[0.4444444444444444,\"#bd3786\"],[0.5555555555555556,\"#d8576b\"],[0.6666666666666666,\"#ed7953\"],[0.7777777777777778,\"#fb9f3a\"],[0.8888888888888888,\"#fdca26\"],[1.0,\"#f0f921\"]],\"diverging\":[[0,\"#8e0152\"],[0.1,\"#c51b7d\"],[0.2,\"#de77ae\"],[0.3,\"#f1b6da\"],[0.4,\"#fde0ef\"],[0.5,\"#f7f7f7\"],[0.6,\"#e6f5d0\"],[0.7,\"#b8e186\"],[0.8,\"#7fbc41\"],[0.9,\"#4d9221\"],[1,\"#276419\"]]},\"xaxis\":{\"gridcolor\":\"white\",\"linecolor\":\"white\",\"ticks\":\"\",\"title\":{\"standoff\":15},\"zerolinecolor\":\"white\",\"automargin\":true,\"zerolinewidth\":2},\"yaxis\":{\"gridcolor\":\"white\",\"linecolor\":\"white\",\"ticks\":\"\",\"title\":{\"standoff\":15},\"zerolinecolor\":\"white\",\"automargin\":true,\"zerolinewidth\":2},\"scene\":{\"xaxis\":{\"backgroundcolor\":\"#E5ECF6\",\"gridcolor\":\"white\",\"linecolor\":\"white\",\"showbackground\":true,\"ticks\":\"\",\"zerolinecolor\":\"white\",\"gridwidth\":2},\"yaxis\":{\"backgroundcolor\":\"#E5ECF6\",\"gridcolor\":\"white\",\"linecolor\":\"white\",\"showbackground\":true,\"ticks\":\"\",\"zerolinecolor\":\"white\",\"gridwidth\":2},\"zaxis\":{\"backgroundcolor\":\"#E5ECF6\",\"gridcolor\":\"white\",\"linecolor\":\"white\",\"showbackground\":true,\"ticks\":\"\",\"zerolinecolor\":\"white\",\"gridwidth\":2}},\"shapedefaults\":{\"line\":{\"color\":\"#2a3f5f\"}},\"annotationdefaults\":{\"arrowcolor\":\"#2a3f5f\",\"arrowhead\":0,\"arrowwidth\":1},\"geo\":{\"bgcolor\":\"white\",\"landcolor\":\"#E5ECF6\",\"subunitcolor\":\"white\",\"showland\":true,\"showlakes\":true,\"lakecolor\":\"white\"},\"title\":{\"x\":0.05},\"mapbox\":{\"style\":\"light\"}}},\"xaxis\":{\"anchor\":\"y\",\"domain\":[0.0,1.0],\"title\":{\"text\":\"Club\"}},\"yaxis\":{\"anchor\":\"x\",\"domain\":[0.0,1.0],\"title\":{\"text\":\"count\"}},\"legend\":{\"title\":{\"text\":\"Season\"},\"tracegroupgap\":0},\"title\":{\"text\":\"Goals per Clubs - Seasons\"},\"barmode\":\"relative\",\"height\":500},                        {\"responsive\": true}                    ).then(function(){\n",
       "                            \n",
       "var gd = document.getElementById('bce6bb0c-c951-4bb7-855a-35a9215f6d07');\n",
       "var x = new MutationObserver(function (mutations, observer) {{\n",
       "        var display = window.getComputedStyle(gd).display;\n",
       "        if (!display || display === 'none') {{\n",
       "            console.log([gd, 'removed!']);\n",
       "            Plotly.purge(gd);\n",
       "            observer.disconnect();\n",
       "        }}\n",
       "}});\n",
       "\n",
       "// Listen for the removal of the full notebook cells\n",
       "var notebookContainer = gd.closest('#notebook-container');\n",
       "if (notebookContainer) {{\n",
       "    x.observe(notebookContainer, {childList: true});\n",
       "}}\n",
       "\n",
       "// Listen for the clearing of the current output cell\n",
       "var outputEl = gd.closest('.output');\n",
       "if (outputEl) {{\n",
       "    x.observe(outputEl, {childList: true});\n",
       "}}\n",
       "\n",
       "                        })                };                });            </script>        </div>"
      ]
     },
     "metadata": {},
     "output_type": "display_data"
    }
   ],
   "source": [
    "px.histogram(\n",
    "    df,\n",
    "    x='Club',\n",
    "    title=\"Goals per Clubs - Seasons\",\n",
    "    log_x=False,\n",
    "    log_y=False,\n",
    "    #symbol='title',\n",
    "    #markers=True,\n",
    "    #width=800, \n",
    "    height=500,\n",
    "    color='Season',\n",
    "    hover_name='Season',\n",
    "    hover_data=['Competition','Season','Club'])"
   ]
  },
  {
   "cell_type": "code",
   "execution_count": 14,
   "id": "ef753941",
   "metadata": {},
   "outputs": [
    {
     "data": {
      "application/vnd.plotly.v1+json": {
       "config": {
        "plotlyServerURL": "https://plot.ly"
       },
       "data": [
        {
         "alignmentgroup": "True",
         "bingroup": "x",
         "hovertemplate": "Competition=Liga Portugal<br>Club=%{x}<br>count=%{y}<extra></extra>",
         "legendgroup": "Liga Portugal",
         "marker": {
          "color": "#636efa",
          "pattern": {
           "shape": ""
          }
         },
         "name": "Liga Portugal",
         "offsetgroup": "Liga Portugal",
         "orientation": "v",
         "showlegend": true,
         "type": "histogram",
         "x": [
          "Sporting CP",
          "Sporting CP",
          "Sporting CP"
         ],
         "xaxis": "x",
         "yaxis": "y"
        },
        {
         "alignmentgroup": "True",
         "bingroup": "x",
         "hovertemplate": "Competition=Taca de Portugal Placard<br>Club=%{x}<br>count=%{y}<extra></extra>",
         "legendgroup": "Taca de Portugal Placard",
         "marker": {
          "color": "#EF553B",
          "pattern": {
           "shape": ""
          }
         },
         "name": "Taca de Portugal Placard",
         "offsetgroup": "Taca de Portugal Placard",
         "orientation": "v",
         "showlegend": true,
         "type": "histogram",
         "x": [
          "Sporting CP",
          "Sporting CP"
         ],
         "xaxis": "x",
         "yaxis": "y"
        },
        {
         "alignmentgroup": "True",
         "bingroup": "x",
         "hovertemplate": "Competition=Premier League<br>Club=%{x}<br>count=%{y}<extra></extra>",
         "legendgroup": "Premier League",
         "marker": {
          "color": "#00cc96",
          "pattern": {
           "shape": ""
          }
         },
         "name": "Premier League",
         "offsetgroup": "Premier League",
         "orientation": "v",
         "showlegend": true,
         "type": "histogram",
         "x": [
          "Manchester United",
          "Manchester United",
          "Manchester United",
          "Manchester United",
          "Manchester United",
          "Manchester United",
          "Manchester United",
          "Manchester United",
          "Manchester United",
          "Manchester United",
          "Manchester United",
          "Manchester United",
          "Manchester United",
          "Manchester United",
          "Manchester United",
          "Manchester United",
          "Manchester United",
          "Manchester United",
          "Manchester United",
          "Manchester United",
          "Manchester United",
          "Manchester United",
          "Manchester United",
          "Manchester United",
          "Manchester United",
          "Manchester United",
          "Manchester United",
          "Manchester United",
          "Manchester United",
          "Manchester United",
          "Manchester United",
          "Manchester United",
          "Manchester United",
          "Manchester United",
          "Manchester United",
          "Manchester United",
          "Manchester United",
          "Manchester United",
          "Manchester United",
          "Manchester United",
          "Manchester United",
          "Manchester United",
          "Manchester United",
          "Manchester United",
          "Manchester United",
          "Manchester United",
          "Manchester United",
          "Manchester United",
          "Manchester United",
          "Manchester United",
          "Manchester United",
          "Manchester United",
          "Manchester United",
          "Manchester United",
          "Manchester United",
          "Manchester United",
          "Manchester United",
          "Manchester United",
          "Manchester United",
          "Manchester United",
          "Manchester United",
          "Manchester United",
          "Manchester United",
          "Manchester United",
          "Manchester United",
          "Manchester United",
          "Manchester United",
          "Manchester United",
          "Manchester United",
          "Manchester United",
          "Manchester United",
          "Manchester United",
          "Manchester United",
          "Manchester United",
          "Manchester United",
          "Manchester United",
          "Manchester United",
          "Manchester United",
          "Manchester United",
          "Manchester United",
          "Manchester United",
          "Manchester United",
          "Manchester United",
          "Manchester United",
          "Manchester United",
          "Manchester United",
          "Manchester United",
          "Manchester United",
          "Manchester United",
          "Manchester United",
          "Manchester United",
          "Manchester United",
          "Manchester United",
          "Manchester United",
          "Manchester United",
          "Manchester United",
          "Manchester United",
          "Manchester United",
          "Manchester United",
          "Manchester United",
          "Manchester United",
          "Manchester United"
         ],
         "xaxis": "x",
         "yaxis": "y"
        },
        {
         "alignmentgroup": "True",
         "bingroup": "x",
         "hovertemplate": "Competition=FA Cup<br>Club=%{x}<br>count=%{y}<extra></extra>",
         "legendgroup": "FA Cup",
         "marker": {
          "color": "#ab63fa",
          "pattern": {
           "shape": ""
          }
         },
         "name": "FA Cup",
         "offsetgroup": "FA Cup",
         "orientation": "v",
         "showlegend": true,
         "type": "histogram",
         "x": [
          "Manchester United",
          "Manchester United",
          "Manchester United",
          "Manchester United",
          "Manchester United",
          "Manchester United",
          "Manchester United",
          "Manchester United",
          "Manchester United",
          "Manchester United",
          "Manchester United",
          "Manchester United",
          "Manchester United"
         ],
         "xaxis": "x",
         "yaxis": "y"
        },
        {
         "alignmentgroup": "True",
         "bingroup": "x",
         "hovertemplate": "Competition=UEFA Champions League Qualifying<br>Club=%{x}<br>count=%{y}<extra></extra>",
         "legendgroup": "UEFA Champions League Qualifying",
         "marker": {
          "color": "#FFA15A",
          "pattern": {
           "shape": ""
          }
         },
         "name": "UEFA Champions League Qualifying",
         "offsetgroup": "UEFA Champions League Qualifying",
         "orientation": "v",
         "showlegend": true,
         "type": "histogram",
         "x": [
          "Manchester United"
         ],
         "xaxis": "x",
         "yaxis": "y"
        },
        {
         "alignmentgroup": "True",
         "bingroup": "x",
         "hovertemplate": "Competition=EFL Cup<br>Club=%{x}<br>count=%{y}<extra></extra>",
         "legendgroup": "EFL Cup",
         "marker": {
          "color": "#19d3f3",
          "pattern": {
           "shape": ""
          }
         },
         "name": "EFL Cup",
         "offsetgroup": "EFL Cup",
         "orientation": "v",
         "showlegend": true,
         "type": "histogram",
         "x": [
          "Manchester United",
          "Manchester United",
          "Manchester United",
          "Manchester United"
         ],
         "xaxis": "x",
         "yaxis": "y"
        },
        {
         "alignmentgroup": "True",
         "bingroup": "x",
         "hovertemplate": "Competition=UEFA Champions League<br>Club=%{x}<br>count=%{y}<extra></extra>",
         "legendgroup": "UEFA Champions League",
         "marker": {
          "color": "#FF6692",
          "pattern": {
           "shape": ""
          }
         },
         "name": "UEFA Champions League",
         "offsetgroup": "UEFA Champions League",
         "orientation": "v",
         "showlegend": true,
         "type": "histogram",
         "x": [
          "Manchester United",
          "Manchester United",
          "Manchester United",
          "Manchester United",
          "Manchester United",
          "Manchester United",
          "Manchester United",
          "Manchester United",
          "Manchester United",
          "Manchester United",
          "Manchester United",
          "Manchester United",
          "Manchester United",
          "Manchester United",
          "Manchester United",
          "Real Madrid",
          "Real Madrid",
          "Real Madrid",
          "Real Madrid",
          "Real Madrid",
          "Real Madrid",
          "Real Madrid",
          "Real Madrid",
          "Real Madrid",
          "Real Madrid",
          "Real Madrid",
          "Real Madrid",
          "Real Madrid",
          "Real Madrid",
          "Real Madrid",
          "Real Madrid",
          "Real Madrid",
          "Real Madrid",
          "Real Madrid",
          "Real Madrid",
          "Real Madrid",
          "Real Madrid",
          "Real Madrid",
          "Real Madrid",
          "Real Madrid",
          "Real Madrid",
          "Real Madrid",
          "Real Madrid",
          "Real Madrid",
          "Real Madrid",
          "Real Madrid",
          "Real Madrid",
          "Real Madrid",
          "Real Madrid",
          "Real Madrid",
          "Real Madrid",
          "Real Madrid",
          "Real Madrid",
          "Real Madrid",
          "Real Madrid",
          "Real Madrid",
          "Real Madrid",
          "Real Madrid",
          "Real Madrid",
          "Real Madrid",
          "Real Madrid",
          "Real Madrid",
          "Real Madrid",
          "Real Madrid",
          "Real Madrid",
          "Real Madrid",
          "Real Madrid",
          "Real Madrid",
          "Real Madrid",
          "Real Madrid",
          "Real Madrid",
          "Real Madrid",
          "Real Madrid",
          "Real Madrid",
          "Real Madrid",
          "Real Madrid",
          "Real Madrid",
          "Real Madrid",
          "Real Madrid",
          "Real Madrid",
          "Real Madrid",
          "Real Madrid",
          "Real Madrid",
          "Real Madrid",
          "Real Madrid",
          "Real Madrid",
          "Real Madrid",
          "Real Madrid",
          "Real Madrid",
          "Real Madrid",
          "Real Madrid",
          "Real Madrid",
          "Real Madrid",
          "Real Madrid",
          "Real Madrid",
          "Real Madrid",
          "Real Madrid",
          "Real Madrid",
          "Real Madrid",
          "Real Madrid",
          "Real Madrid",
          "Real Madrid",
          "Real Madrid",
          "Real Madrid",
          "Real Madrid",
          "Real Madrid",
          "Real Madrid",
          "Real Madrid",
          "Real Madrid",
          "Real Madrid",
          "Real Madrid",
          "Real Madrid",
          "Real Madrid",
          "Real Madrid",
          "Real Madrid",
          "Real Madrid",
          "Real Madrid",
          "Real Madrid",
          "Real Madrid",
          "Real Madrid",
          "Juventus FC",
          "Juventus FC",
          "Juventus FC",
          "Juventus FC",
          "Juventus FC",
          "Juventus FC",
          "Juventus FC",
          "Juventus FC",
          "Juventus FC",
          "Juventus FC",
          "Juventus FC",
          "Juventus FC",
          "Juventus FC",
          "Juventus FC",
          "Manchester United",
          "Manchester United",
          "Manchester United",
          "Manchester United",
          "Manchester United",
          "Manchester United"
         ],
         "xaxis": "x",
         "yaxis": "y"
        },
        {
         "alignmentgroup": "True",
         "bingroup": "x",
         "hovertemplate": "Competition=FIFA Club World Cup<br>Club=%{x}<br>count=%{y}<extra></extra>",
         "legendgroup": "FIFA Club World Cup",
         "marker": {
          "color": "#B6E880",
          "pattern": {
           "shape": ""
          }
         },
         "name": "FIFA Club World Cup",
         "offsetgroup": "FIFA Club World Cup",
         "orientation": "v",
         "showlegend": true,
         "type": "histogram",
         "x": [
          "Manchester United",
          "Real Madrid",
          "Real Madrid",
          "Real Madrid",
          "Real Madrid",
          "Real Madrid",
          "Real Madrid"
         ],
         "xaxis": "x",
         "yaxis": "y"
        },
        {
         "alignmentgroup": "True",
         "bingroup": "x",
         "hovertemplate": "Competition=LaLiga<br>Club=%{x}<br>count=%{y}<extra></extra>",
         "legendgroup": "LaLiga",
         "marker": {
          "color": "#FF97FF",
          "pattern": {
           "shape": ""
          }
         },
         "name": "LaLiga",
         "offsetgroup": "LaLiga",
         "orientation": "v",
         "showlegend": true,
         "type": "histogram",
         "x": [
          "Real Madrid",
          "Real Madrid",
          "Real Madrid",
          "Real Madrid",
          "Real Madrid",
          "Real Madrid",
          "Real Madrid",
          "Real Madrid",
          "Real Madrid",
          "Real Madrid",
          "Real Madrid",
          "Real Madrid",
          "Real Madrid",
          "Real Madrid",
          "Real Madrid",
          "Real Madrid",
          "Real Madrid",
          "Real Madrid",
          "Real Madrid",
          "Real Madrid",
          "Real Madrid",
          "Real Madrid",
          "Real Madrid",
          "Real Madrid",
          "Real Madrid",
          "Real Madrid",
          "Real Madrid",
          "Real Madrid",
          "Real Madrid",
          "Real Madrid",
          "Real Madrid",
          "Real Madrid",
          "Real Madrid",
          "Real Madrid",
          "Real Madrid",
          "Real Madrid",
          "Real Madrid",
          "Real Madrid",
          "Real Madrid",
          "Real Madrid",
          "Real Madrid",
          "Real Madrid",
          "Real Madrid",
          "Real Madrid",
          "Real Madrid",
          "Real Madrid",
          "Real Madrid",
          "Real Madrid",
          "Real Madrid",
          "Real Madrid",
          "Real Madrid",
          "Real Madrid",
          "Real Madrid",
          "Real Madrid",
          "Real Madrid",
          "Real Madrid",
          "Real Madrid",
          "Real Madrid",
          "Real Madrid",
          "Real Madrid",
          "Real Madrid",
          "Real Madrid",
          "Real Madrid",
          "Real Madrid",
          "Real Madrid",
          "Real Madrid",
          "Real Madrid",
          "Real Madrid",
          "Real Madrid",
          "Real Madrid",
          "Real Madrid",
          "Real Madrid",
          "Real Madrid",
          "Real Madrid",
          "Real Madrid",
          "Real Madrid",
          "Real Madrid",
          "Real Madrid",
          "Real Madrid",
          "Real Madrid",
          "Real Madrid",
          "Real Madrid",
          "Real Madrid",
          "Real Madrid",
          "Real Madrid",
          "Real Madrid",
          "Real Madrid",
          "Real Madrid",
          "Real Madrid",
          "Real Madrid",
          "Real Madrid",
          "Real Madrid",
          "Real Madrid",
          "Real Madrid",
          "Real Madrid",
          "Real Madrid",
          "Real Madrid",
          "Real Madrid",
          "Real Madrid",
          "Real Madrid",
          "Real Madrid",
          "Real Madrid",
          "Real Madrid",
          "Real Madrid",
          "Real Madrid",
          "Real Madrid",
          "Real Madrid",
          "Real Madrid",
          "Real Madrid",
          "Real Madrid",
          "Real Madrid",
          "Real Madrid",
          "Real Madrid",
          "Real Madrid",
          "Real Madrid",
          "Real Madrid",
          "Real Madrid",
          "Real Madrid",
          "Real Madrid",
          "Real Madrid",
          "Real Madrid",
          "Real Madrid",
          "Real Madrid",
          "Real Madrid",
          "Real Madrid",
          "Real Madrid",
          "Real Madrid",
          "Real Madrid",
          "Real Madrid",
          "Real Madrid",
          "Real Madrid",
          "Real Madrid",
          "Real Madrid",
          "Real Madrid",
          "Real Madrid",
          "Real Madrid",
          "Real Madrid",
          "Real Madrid",
          "Real Madrid",
          "Real Madrid",
          "Real Madrid",
          "Real Madrid",
          "Real Madrid",
          "Real Madrid",
          "Real Madrid",
          "Real Madrid",
          "Real Madrid",
          "Real Madrid",
          "Real Madrid",
          "Real Madrid",
          "Real Madrid",
          "Real Madrid",
          "Real Madrid",
          "Real Madrid",
          "Real Madrid",
          "Real Madrid",
          "Real Madrid",
          "Real Madrid",
          "Real Madrid",
          "Real Madrid",
          "Real Madrid",
          "Real Madrid",
          "Real Madrid",
          "Real Madrid",
          "Real Madrid",
          "Real Madrid",
          "Real Madrid",
          "Real Madrid",
          "Real Madrid",
          "Real Madrid",
          "Real Madrid",
          "Real Madrid",
          "Real Madrid",
          "Real Madrid",
          "Real Madrid",
          "Real Madrid",
          "Real Madrid",
          "Real Madrid",
          "Real Madrid",
          "Real Madrid",
          "Real Madrid",
          "Real Madrid",
          "Real Madrid",
          "Real Madrid",
          "Real Madrid",
          "Real Madrid",
          "Real Madrid",
          "Real Madrid",
          "Real Madrid",
          "Real Madrid",
          "Real Madrid",
          "Real Madrid",
          "Real Madrid",
          "Real Madrid",
          "Real Madrid",
          "Real Madrid",
          "Real Madrid",
          "Real Madrid",
          "Real Madrid",
          "Real Madrid",
          "Real Madrid",
          "Real Madrid",
          "Real Madrid",
          "Real Madrid",
          "Real Madrid",
          "Real Madrid",
          "Real Madrid",
          "Real Madrid",
          "Real Madrid",
          "Real Madrid",
          "Real Madrid",
          "Real Madrid",
          "Real Madrid",
          "Real Madrid",
          "Real Madrid",
          "Real Madrid",
          "Real Madrid",
          "Real Madrid",
          "Real Madrid",
          "Real Madrid",
          "Real Madrid",
          "Real Madrid",
          "Real Madrid",
          "Real Madrid",
          "Real Madrid",
          "Real Madrid",
          "Real Madrid",
          "Real Madrid",
          "Real Madrid",
          "Real Madrid",
          "Real Madrid",
          "Real Madrid",
          "Real Madrid",
          "Real Madrid",
          "Real Madrid",
          "Real Madrid",
          "Real Madrid",
          "Real Madrid",
          "Real Madrid",
          "Real Madrid",
          "Real Madrid",
          "Real Madrid",
          "Real Madrid",
          "Real Madrid",
          "Real Madrid",
          "Real Madrid",
          "Real Madrid",
          "Real Madrid",
          "Real Madrid",
          "Real Madrid",
          "Real Madrid",
          "Real Madrid",
          "Real Madrid",
          "Real Madrid",
          "Real Madrid",
          "Real Madrid",
          "Real Madrid",
          "Real Madrid",
          "Real Madrid",
          "Real Madrid",
          "Real Madrid",
          "Real Madrid",
          "Real Madrid",
          "Real Madrid",
          "Real Madrid",
          "Real Madrid",
          "Real Madrid",
          "Real Madrid",
          "Real Madrid",
          "Real Madrid",
          "Real Madrid",
          "Real Madrid",
          "Real Madrid",
          "Real Madrid",
          "Real Madrid",
          "Real Madrid",
          "Real Madrid",
          "Real Madrid",
          "Real Madrid",
          "Real Madrid",
          "Real Madrid",
          "Real Madrid",
          "Real Madrid",
          "Real Madrid",
          "Real Madrid",
          "Real Madrid",
          "Real Madrid",
          "Real Madrid",
          "Real Madrid",
          "Real Madrid",
          "Real Madrid",
          "Real Madrid",
          "Real Madrid",
          "Real Madrid",
          "Real Madrid",
          "Real Madrid",
          "Real Madrid",
          "Real Madrid",
          "Real Madrid",
          "Real Madrid",
          "Real Madrid",
          "Real Madrid",
          "Real Madrid",
          "Real Madrid",
          "Real Madrid",
          "Real Madrid",
          "Real Madrid",
          "Real Madrid",
          "Real Madrid",
          "Real Madrid",
          "Real Madrid"
         ],
         "xaxis": "x",
         "yaxis": "y"
        },
        {
         "alignmentgroup": "True",
         "bingroup": "x",
         "hovertemplate": "Competition=Copa del Rey<br>Club=%{x}<br>count=%{y}<extra></extra>",
         "legendgroup": "Copa del Rey",
         "marker": {
          "color": "#FECB52",
          "pattern": {
           "shape": ""
          }
         },
         "name": "Copa del Rey",
         "offsetgroup": "Copa del Rey",
         "orientation": "v",
         "showlegend": true,
         "type": "histogram",
         "x": [
          "Real Madrid",
          "Real Madrid",
          "Real Madrid",
          "Real Madrid",
          "Real Madrid",
          "Real Madrid",
          "Real Madrid",
          "Real Madrid",
          "Real Madrid",
          "Real Madrid",
          "Real Madrid",
          "Real Madrid",
          "Real Madrid",
          "Real Madrid",
          "Real Madrid",
          "Real Madrid",
          "Real Madrid",
          "Real Madrid",
          "Real Madrid",
          "Real Madrid",
          "Real Madrid",
          "Real Madrid"
         ],
         "xaxis": "x",
         "yaxis": "y"
        },
        {
         "alignmentgroup": "True",
         "bingroup": "x",
         "hovertemplate": "Competition=Supercopa<br>Club=%{x}<br>count=%{y}<extra></extra>",
         "legendgroup": "Supercopa",
         "marker": {
          "color": "#636efa",
          "pattern": {
           "shape": ""
          }
         },
         "name": "Supercopa",
         "offsetgroup": "Supercopa",
         "orientation": "v",
         "showlegend": true,
         "type": "histogram",
         "x": [
          "Real Madrid",
          "Real Madrid",
          "Real Madrid",
          "Real Madrid"
         ],
         "xaxis": "x",
         "yaxis": "y"
        },
        {
         "alignmentgroup": "True",
         "bingroup": "x",
         "hovertemplate": "Competition=UEFA Super Cup<br>Club=%{x}<br>count=%{y}<extra></extra>",
         "legendgroup": "UEFA Super Cup",
         "marker": {
          "color": "#EF553B",
          "pattern": {
           "shape": ""
          }
         },
         "name": "UEFA Super Cup",
         "offsetgroup": "UEFA Super Cup",
         "orientation": "v",
         "showlegend": true,
         "type": "histogram",
         "x": [
          "Real Madrid",
          "Real Madrid"
         ],
         "xaxis": "x",
         "yaxis": "y"
        },
        {
         "alignmentgroup": "True",
         "bingroup": "x",
         "hovertemplate": "Competition=Serie A<br>Club=%{x}<br>count=%{y}<extra></extra>",
         "legendgroup": "Serie A",
         "marker": {
          "color": "#00cc96",
          "pattern": {
           "shape": ""
          }
         },
         "name": "Serie A",
         "offsetgroup": "Serie A",
         "orientation": "v",
         "showlegend": true,
         "type": "histogram",
         "x": [
          "Juventus FC",
          "Juventus FC",
          "Juventus FC",
          "Juventus FC",
          "Juventus FC",
          "Juventus FC",
          "Juventus FC",
          "Juventus FC",
          "Juventus FC",
          "Juventus FC",
          "Juventus FC",
          "Juventus FC",
          "Juventus FC",
          "Juventus FC",
          "Juventus FC",
          "Juventus FC",
          "Juventus FC",
          "Juventus FC",
          "Juventus FC",
          "Juventus FC",
          "Juventus FC",
          "Juventus FC",
          "Juventus FC",
          "Juventus FC",
          "Juventus FC",
          "Juventus FC",
          "Juventus FC",
          "Juventus FC",
          "Juventus FC",
          "Juventus FC",
          "Juventus FC",
          "Juventus FC",
          "Juventus FC",
          "Juventus FC",
          "Juventus FC",
          "Juventus FC",
          "Juventus FC",
          "Juventus FC",
          "Juventus FC",
          "Juventus FC",
          "Juventus FC",
          "Juventus FC",
          "Juventus FC",
          "Juventus FC",
          "Juventus FC",
          "Juventus FC",
          "Juventus FC",
          "Juventus FC",
          "Juventus FC",
          "Juventus FC",
          "Juventus FC",
          "Juventus FC",
          "Juventus FC",
          "Juventus FC",
          "Juventus FC",
          "Juventus FC",
          "Juventus FC",
          "Juventus FC",
          "Juventus FC",
          "Juventus FC",
          "Juventus FC",
          "Juventus FC",
          "Juventus FC",
          "Juventus FC",
          "Juventus FC",
          "Juventus FC",
          "Juventus FC",
          "Juventus FC",
          "Juventus FC",
          "Juventus FC",
          "Juventus FC",
          "Juventus FC",
          "Juventus FC",
          "Juventus FC",
          "Juventus FC",
          "Juventus FC",
          "Juventus FC",
          "Juventus FC",
          "Juventus FC",
          "Juventus FC",
          "Juventus FC"
         ],
         "xaxis": "x",
         "yaxis": "y"
        },
        {
         "alignmentgroup": "True",
         "bingroup": "x",
         "hovertemplate": "Competition=Supercoppa Italiana<br>Club=%{x}<br>count=%{y}<extra></extra>",
         "legendgroup": "Supercoppa Italiana",
         "marker": {
          "color": "#ab63fa",
          "pattern": {
           "shape": ""
          }
         },
         "name": "Supercoppa Italiana",
         "offsetgroup": "Supercoppa Italiana",
         "orientation": "v",
         "showlegend": true,
         "type": "histogram",
         "x": [
          "Juventus FC",
          "Juventus FC"
         ],
         "xaxis": "x",
         "yaxis": "y"
        },
        {
         "alignmentgroup": "True",
         "bingroup": "x",
         "hovertemplate": "Competition=Italy Cup<br>Club=%{x}<br>count=%{y}<extra></extra>",
         "legendgroup": "Italy Cup",
         "marker": {
          "color": "#FFA15A",
          "pattern": {
           "shape": ""
          }
         },
         "name": "Italy Cup",
         "offsetgroup": "Italy Cup",
         "orientation": "v",
         "showlegend": true,
         "type": "histogram",
         "x": [
          "Juventus FC",
          "Juventus FC",
          "Juventus FC",
          "Juventus FC"
         ],
         "xaxis": "x",
         "yaxis": "y"
        },
        {
         "alignmentgroup": "True",
         "bingroup": "x",
         "hovertemplate": "Competition=Europa League<br>Club=%{x}<br>count=%{y}<extra></extra>",
         "legendgroup": "Europa League",
         "marker": {
          "color": "#19d3f3",
          "pattern": {
           "shape": ""
          }
         },
         "name": "Europa League",
         "offsetgroup": "Europa League",
         "orientation": "v",
         "showlegend": true,
         "type": "histogram",
         "x": [
          "Manchester United"
         ],
         "xaxis": "x",
         "yaxis": "y"
        }
       ],
       "layout": {
        "barmode": "relative",
        "height": 500,
        "legend": {
         "title": {
          "text": "Competition"
         },
         "tracegroupgap": 0
        },
        "template": {
         "data": {
          "bar": [
           {
            "error_x": {
             "color": "#2a3f5f"
            },
            "error_y": {
             "color": "#2a3f5f"
            },
            "marker": {
             "line": {
              "color": "#E5ECF6",
              "width": 0.5
             },
             "pattern": {
              "fillmode": "overlay",
              "size": 10,
              "solidity": 0.2
             }
            },
            "type": "bar"
           }
          ],
          "barpolar": [
           {
            "marker": {
             "line": {
              "color": "#E5ECF6",
              "width": 0.5
             },
             "pattern": {
              "fillmode": "overlay",
              "size": 10,
              "solidity": 0.2
             }
            },
            "type": "barpolar"
           }
          ],
          "carpet": [
           {
            "aaxis": {
             "endlinecolor": "#2a3f5f",
             "gridcolor": "white",
             "linecolor": "white",
             "minorgridcolor": "white",
             "startlinecolor": "#2a3f5f"
            },
            "baxis": {
             "endlinecolor": "#2a3f5f",
             "gridcolor": "white",
             "linecolor": "white",
             "minorgridcolor": "white",
             "startlinecolor": "#2a3f5f"
            },
            "type": "carpet"
           }
          ],
          "choropleth": [
           {
            "colorbar": {
             "outlinewidth": 0,
             "ticks": ""
            },
            "type": "choropleth"
           }
          ],
          "contour": [
           {
            "colorbar": {
             "outlinewidth": 0,
             "ticks": ""
            },
            "colorscale": [
             [
              0,
              "#0d0887"
             ],
             [
              0.1111111111111111,
              "#46039f"
             ],
             [
              0.2222222222222222,
              "#7201a8"
             ],
             [
              0.3333333333333333,
              "#9c179e"
             ],
             [
              0.4444444444444444,
              "#bd3786"
             ],
             [
              0.5555555555555556,
              "#d8576b"
             ],
             [
              0.6666666666666666,
              "#ed7953"
             ],
             [
              0.7777777777777778,
              "#fb9f3a"
             ],
             [
              0.8888888888888888,
              "#fdca26"
             ],
             [
              1,
              "#f0f921"
             ]
            ],
            "type": "contour"
           }
          ],
          "contourcarpet": [
           {
            "colorbar": {
             "outlinewidth": 0,
             "ticks": ""
            },
            "type": "contourcarpet"
           }
          ],
          "heatmap": [
           {
            "colorbar": {
             "outlinewidth": 0,
             "ticks": ""
            },
            "colorscale": [
             [
              0,
              "#0d0887"
             ],
             [
              0.1111111111111111,
              "#46039f"
             ],
             [
              0.2222222222222222,
              "#7201a8"
             ],
             [
              0.3333333333333333,
              "#9c179e"
             ],
             [
              0.4444444444444444,
              "#bd3786"
             ],
             [
              0.5555555555555556,
              "#d8576b"
             ],
             [
              0.6666666666666666,
              "#ed7953"
             ],
             [
              0.7777777777777778,
              "#fb9f3a"
             ],
             [
              0.8888888888888888,
              "#fdca26"
             ],
             [
              1,
              "#f0f921"
             ]
            ],
            "type": "heatmap"
           }
          ],
          "heatmapgl": [
           {
            "colorbar": {
             "outlinewidth": 0,
             "ticks": ""
            },
            "colorscale": [
             [
              0,
              "#0d0887"
             ],
             [
              0.1111111111111111,
              "#46039f"
             ],
             [
              0.2222222222222222,
              "#7201a8"
             ],
             [
              0.3333333333333333,
              "#9c179e"
             ],
             [
              0.4444444444444444,
              "#bd3786"
             ],
             [
              0.5555555555555556,
              "#d8576b"
             ],
             [
              0.6666666666666666,
              "#ed7953"
             ],
             [
              0.7777777777777778,
              "#fb9f3a"
             ],
             [
              0.8888888888888888,
              "#fdca26"
             ],
             [
              1,
              "#f0f921"
             ]
            ],
            "type": "heatmapgl"
           }
          ],
          "histogram": [
           {
            "marker": {
             "pattern": {
              "fillmode": "overlay",
              "size": 10,
              "solidity": 0.2
             }
            },
            "type": "histogram"
           }
          ],
          "histogram2d": [
           {
            "colorbar": {
             "outlinewidth": 0,
             "ticks": ""
            },
            "colorscale": [
             [
              0,
              "#0d0887"
             ],
             [
              0.1111111111111111,
              "#46039f"
             ],
             [
              0.2222222222222222,
              "#7201a8"
             ],
             [
              0.3333333333333333,
              "#9c179e"
             ],
             [
              0.4444444444444444,
              "#bd3786"
             ],
             [
              0.5555555555555556,
              "#d8576b"
             ],
             [
              0.6666666666666666,
              "#ed7953"
             ],
             [
              0.7777777777777778,
              "#fb9f3a"
             ],
             [
              0.8888888888888888,
              "#fdca26"
             ],
             [
              1,
              "#f0f921"
             ]
            ],
            "type": "histogram2d"
           }
          ],
          "histogram2dcontour": [
           {
            "colorbar": {
             "outlinewidth": 0,
             "ticks": ""
            },
            "colorscale": [
             [
              0,
              "#0d0887"
             ],
             [
              0.1111111111111111,
              "#46039f"
             ],
             [
              0.2222222222222222,
              "#7201a8"
             ],
             [
              0.3333333333333333,
              "#9c179e"
             ],
             [
              0.4444444444444444,
              "#bd3786"
             ],
             [
              0.5555555555555556,
              "#d8576b"
             ],
             [
              0.6666666666666666,
              "#ed7953"
             ],
             [
              0.7777777777777778,
              "#fb9f3a"
             ],
             [
              0.8888888888888888,
              "#fdca26"
             ],
             [
              1,
              "#f0f921"
             ]
            ],
            "type": "histogram2dcontour"
           }
          ],
          "mesh3d": [
           {
            "colorbar": {
             "outlinewidth": 0,
             "ticks": ""
            },
            "type": "mesh3d"
           }
          ],
          "parcoords": [
           {
            "line": {
             "colorbar": {
              "outlinewidth": 0,
              "ticks": ""
             }
            },
            "type": "parcoords"
           }
          ],
          "pie": [
           {
            "automargin": true,
            "type": "pie"
           }
          ],
          "scatter": [
           {
            "fillpattern": {
             "fillmode": "overlay",
             "size": 10,
             "solidity": 0.2
            },
            "type": "scatter"
           }
          ],
          "scatter3d": [
           {
            "line": {
             "colorbar": {
              "outlinewidth": 0,
              "ticks": ""
             }
            },
            "marker": {
             "colorbar": {
              "outlinewidth": 0,
              "ticks": ""
             }
            },
            "type": "scatter3d"
           }
          ],
          "scattercarpet": [
           {
            "marker": {
             "colorbar": {
              "outlinewidth": 0,
              "ticks": ""
             }
            },
            "type": "scattercarpet"
           }
          ],
          "scattergeo": [
           {
            "marker": {
             "colorbar": {
              "outlinewidth": 0,
              "ticks": ""
             }
            },
            "type": "scattergeo"
           }
          ],
          "scattergl": [
           {
            "marker": {
             "colorbar": {
              "outlinewidth": 0,
              "ticks": ""
             }
            },
            "type": "scattergl"
           }
          ],
          "scattermapbox": [
           {
            "marker": {
             "colorbar": {
              "outlinewidth": 0,
              "ticks": ""
             }
            },
            "type": "scattermapbox"
           }
          ],
          "scatterpolar": [
           {
            "marker": {
             "colorbar": {
              "outlinewidth": 0,
              "ticks": ""
             }
            },
            "type": "scatterpolar"
           }
          ],
          "scatterpolargl": [
           {
            "marker": {
             "colorbar": {
              "outlinewidth": 0,
              "ticks": ""
             }
            },
            "type": "scatterpolargl"
           }
          ],
          "scatterternary": [
           {
            "marker": {
             "colorbar": {
              "outlinewidth": 0,
              "ticks": ""
             }
            },
            "type": "scatterternary"
           }
          ],
          "surface": [
           {
            "colorbar": {
             "outlinewidth": 0,
             "ticks": ""
            },
            "colorscale": [
             [
              0,
              "#0d0887"
             ],
             [
              0.1111111111111111,
              "#46039f"
             ],
             [
              0.2222222222222222,
              "#7201a8"
             ],
             [
              0.3333333333333333,
              "#9c179e"
             ],
             [
              0.4444444444444444,
              "#bd3786"
             ],
             [
              0.5555555555555556,
              "#d8576b"
             ],
             [
              0.6666666666666666,
              "#ed7953"
             ],
             [
              0.7777777777777778,
              "#fb9f3a"
             ],
             [
              0.8888888888888888,
              "#fdca26"
             ],
             [
              1,
              "#f0f921"
             ]
            ],
            "type": "surface"
           }
          ],
          "table": [
           {
            "cells": {
             "fill": {
              "color": "#EBF0F8"
             },
             "line": {
              "color": "white"
             }
            },
            "header": {
             "fill": {
              "color": "#C8D4E3"
             },
             "line": {
              "color": "white"
             }
            },
            "type": "table"
           }
          ]
         },
         "layout": {
          "annotationdefaults": {
           "arrowcolor": "#2a3f5f",
           "arrowhead": 0,
           "arrowwidth": 1
          },
          "autotypenumbers": "strict",
          "coloraxis": {
           "colorbar": {
            "outlinewidth": 0,
            "ticks": ""
           }
          },
          "colorscale": {
           "diverging": [
            [
             0,
             "#8e0152"
            ],
            [
             0.1,
             "#c51b7d"
            ],
            [
             0.2,
             "#de77ae"
            ],
            [
             0.3,
             "#f1b6da"
            ],
            [
             0.4,
             "#fde0ef"
            ],
            [
             0.5,
             "#f7f7f7"
            ],
            [
             0.6,
             "#e6f5d0"
            ],
            [
             0.7,
             "#b8e186"
            ],
            [
             0.8,
             "#7fbc41"
            ],
            [
             0.9,
             "#4d9221"
            ],
            [
             1,
             "#276419"
            ]
           ],
           "sequential": [
            [
             0,
             "#0d0887"
            ],
            [
             0.1111111111111111,
             "#46039f"
            ],
            [
             0.2222222222222222,
             "#7201a8"
            ],
            [
             0.3333333333333333,
             "#9c179e"
            ],
            [
             0.4444444444444444,
             "#bd3786"
            ],
            [
             0.5555555555555556,
             "#d8576b"
            ],
            [
             0.6666666666666666,
             "#ed7953"
            ],
            [
             0.7777777777777778,
             "#fb9f3a"
            ],
            [
             0.8888888888888888,
             "#fdca26"
            ],
            [
             1,
             "#f0f921"
            ]
           ],
           "sequentialminus": [
            [
             0,
             "#0d0887"
            ],
            [
             0.1111111111111111,
             "#46039f"
            ],
            [
             0.2222222222222222,
             "#7201a8"
            ],
            [
             0.3333333333333333,
             "#9c179e"
            ],
            [
             0.4444444444444444,
             "#bd3786"
            ],
            [
             0.5555555555555556,
             "#d8576b"
            ],
            [
             0.6666666666666666,
             "#ed7953"
            ],
            [
             0.7777777777777778,
             "#fb9f3a"
            ],
            [
             0.8888888888888888,
             "#fdca26"
            ],
            [
             1,
             "#f0f921"
            ]
           ]
          },
          "colorway": [
           "#636efa",
           "#EF553B",
           "#00cc96",
           "#ab63fa",
           "#FFA15A",
           "#19d3f3",
           "#FF6692",
           "#B6E880",
           "#FF97FF",
           "#FECB52"
          ],
          "font": {
           "color": "#2a3f5f"
          },
          "geo": {
           "bgcolor": "white",
           "lakecolor": "white",
           "landcolor": "#E5ECF6",
           "showlakes": true,
           "showland": true,
           "subunitcolor": "white"
          },
          "hoverlabel": {
           "align": "left"
          },
          "hovermode": "closest",
          "mapbox": {
           "style": "light"
          },
          "paper_bgcolor": "white",
          "plot_bgcolor": "#E5ECF6",
          "polar": {
           "angularaxis": {
            "gridcolor": "white",
            "linecolor": "white",
            "ticks": ""
           },
           "bgcolor": "#E5ECF6",
           "radialaxis": {
            "gridcolor": "white",
            "linecolor": "white",
            "ticks": ""
           }
          },
          "scene": {
           "xaxis": {
            "backgroundcolor": "#E5ECF6",
            "gridcolor": "white",
            "gridwidth": 2,
            "linecolor": "white",
            "showbackground": true,
            "ticks": "",
            "zerolinecolor": "white"
           },
           "yaxis": {
            "backgroundcolor": "#E5ECF6",
            "gridcolor": "white",
            "gridwidth": 2,
            "linecolor": "white",
            "showbackground": true,
            "ticks": "",
            "zerolinecolor": "white"
           },
           "zaxis": {
            "backgroundcolor": "#E5ECF6",
            "gridcolor": "white",
            "gridwidth": 2,
            "linecolor": "white",
            "showbackground": true,
            "ticks": "",
            "zerolinecolor": "white"
           }
          },
          "shapedefaults": {
           "line": {
            "color": "#2a3f5f"
           }
          },
          "ternary": {
           "aaxis": {
            "gridcolor": "white",
            "linecolor": "white",
            "ticks": ""
           },
           "baxis": {
            "gridcolor": "white",
            "linecolor": "white",
            "ticks": ""
           },
           "bgcolor": "#E5ECF6",
           "caxis": {
            "gridcolor": "white",
            "linecolor": "white",
            "ticks": ""
           }
          },
          "title": {
           "x": 0.05
          },
          "xaxis": {
           "automargin": true,
           "gridcolor": "white",
           "linecolor": "white",
           "ticks": "",
           "title": {
            "standoff": 15
           },
           "zerolinecolor": "white",
           "zerolinewidth": 2
          },
          "yaxis": {
           "automargin": true,
           "gridcolor": "white",
           "linecolor": "white",
           "ticks": "",
           "title": {
            "standoff": 15
           },
           "zerolinecolor": "white",
           "zerolinewidth": 2
          }
         }
        },
        "title": {
         "text": "Goals per Clubs - Competition"
        },
        "xaxis": {
         "anchor": "y",
         "domain": [
          0,
          1
         ],
         "title": {
          "text": "Club"
         }
        },
        "yaxis": {
         "anchor": "x",
         "domain": [
          0,
          1
         ],
         "title": {
          "text": "count"
         }
        }
       }
      },
      "text/html": [
       "<div>                            <div id=\"87453143-db40-4961-9ec6-8255c3760cc8\" class=\"plotly-graph-div\" style=\"height:500px; width:100%;\"></div>            <script type=\"text/javascript\">                require([\"plotly\"], function(Plotly) {                    window.PLOTLYENV=window.PLOTLYENV || {};                                    if (document.getElementById(\"87453143-db40-4961-9ec6-8255c3760cc8\")) {                    Plotly.newPlot(                        \"87453143-db40-4961-9ec6-8255c3760cc8\",                        [{\"alignmentgroup\":\"True\",\"bingroup\":\"x\",\"hovertemplate\":\"Competition=Liga Portugal<br>Club=%{x}<br>count=%{y}<extra></extra>\",\"legendgroup\":\"Liga Portugal\",\"marker\":{\"color\":\"#636efa\",\"pattern\":{\"shape\":\"\"}},\"name\":\"Liga Portugal\",\"offsetgroup\":\"Liga Portugal\",\"orientation\":\"v\",\"showlegend\":true,\"x\":[\"Sporting CP\",\"Sporting CP\",\"Sporting CP\"],\"xaxis\":\"x\",\"yaxis\":\"y\",\"type\":\"histogram\"},{\"alignmentgroup\":\"True\",\"bingroup\":\"x\",\"hovertemplate\":\"Competition=Taca de Portugal Placard<br>Club=%{x}<br>count=%{y}<extra></extra>\",\"legendgroup\":\"Taca de Portugal Placard\",\"marker\":{\"color\":\"#EF553B\",\"pattern\":{\"shape\":\"\"}},\"name\":\"Taca de Portugal Placard\",\"offsetgroup\":\"Taca de Portugal Placard\",\"orientation\":\"v\",\"showlegend\":true,\"x\":[\"Sporting CP\",\"Sporting CP\"],\"xaxis\":\"x\",\"yaxis\":\"y\",\"type\":\"histogram\"},{\"alignmentgroup\":\"True\",\"bingroup\":\"x\",\"hovertemplate\":\"Competition=Premier League<br>Club=%{x}<br>count=%{y}<extra></extra>\",\"legendgroup\":\"Premier League\",\"marker\":{\"color\":\"#00cc96\",\"pattern\":{\"shape\":\"\"}},\"name\":\"Premier League\",\"offsetgroup\":\"Premier League\",\"orientation\":\"v\",\"showlegend\":true,\"x\":[\"Manchester United\",\"Manchester United\",\"Manchester United\",\"Manchester United\",\"Manchester United\",\"Manchester United\",\"Manchester United\",\"Manchester United\",\"Manchester United\",\"Manchester United\",\"Manchester United\",\"Manchester United\",\"Manchester United\",\"Manchester United\",\"Manchester United\",\"Manchester United\",\"Manchester United\",\"Manchester United\",\"Manchester United\",\"Manchester United\",\"Manchester United\",\"Manchester United\",\"Manchester United\",\"Manchester United\",\"Manchester United\",\"Manchester United\",\"Manchester United\",\"Manchester United\",\"Manchester United\",\"Manchester United\",\"Manchester United\",\"Manchester United\",\"Manchester United\",\"Manchester United\",\"Manchester United\",\"Manchester United\",\"Manchester United\",\"Manchester United\",\"Manchester United\",\"Manchester United\",\"Manchester United\",\"Manchester United\",\"Manchester United\",\"Manchester United\",\"Manchester United\",\"Manchester United\",\"Manchester United\",\"Manchester United\",\"Manchester United\",\"Manchester United\",\"Manchester United\",\"Manchester United\",\"Manchester United\",\"Manchester United\",\"Manchester United\",\"Manchester United\",\"Manchester United\",\"Manchester United\",\"Manchester United\",\"Manchester United\",\"Manchester United\",\"Manchester United\",\"Manchester United\",\"Manchester United\",\"Manchester United\",\"Manchester United\",\"Manchester United\",\"Manchester United\",\"Manchester United\",\"Manchester United\",\"Manchester United\",\"Manchester United\",\"Manchester United\",\"Manchester United\",\"Manchester United\",\"Manchester United\",\"Manchester United\",\"Manchester United\",\"Manchester United\",\"Manchester United\",\"Manchester United\",\"Manchester United\",\"Manchester United\",\"Manchester United\",\"Manchester United\",\"Manchester United\",\"Manchester United\",\"Manchester United\",\"Manchester United\",\"Manchester United\",\"Manchester United\",\"Manchester United\",\"Manchester United\",\"Manchester United\",\"Manchester United\",\"Manchester United\",\"Manchester United\",\"Manchester United\",\"Manchester United\",\"Manchester United\",\"Manchester United\",\"Manchester United\"],\"xaxis\":\"x\",\"yaxis\":\"y\",\"type\":\"histogram\"},{\"alignmentgroup\":\"True\",\"bingroup\":\"x\",\"hovertemplate\":\"Competition=FA Cup<br>Club=%{x}<br>count=%{y}<extra></extra>\",\"legendgroup\":\"FA Cup\",\"marker\":{\"color\":\"#ab63fa\",\"pattern\":{\"shape\":\"\"}},\"name\":\"FA Cup\",\"offsetgroup\":\"FA Cup\",\"orientation\":\"v\",\"showlegend\":true,\"x\":[\"Manchester United\",\"Manchester United\",\"Manchester United\",\"Manchester United\",\"Manchester United\",\"Manchester United\",\"Manchester United\",\"Manchester United\",\"Manchester United\",\"Manchester United\",\"Manchester United\",\"Manchester United\",\"Manchester United\"],\"xaxis\":\"x\",\"yaxis\":\"y\",\"type\":\"histogram\"},{\"alignmentgroup\":\"True\",\"bingroup\":\"x\",\"hovertemplate\":\"Competition=UEFA Champions League Qualifying<br>Club=%{x}<br>count=%{y}<extra></extra>\",\"legendgroup\":\"UEFA Champions League Qualifying\",\"marker\":{\"color\":\"#FFA15A\",\"pattern\":{\"shape\":\"\"}},\"name\":\"UEFA Champions League Qualifying\",\"offsetgroup\":\"UEFA Champions League Qualifying\",\"orientation\":\"v\",\"showlegend\":true,\"x\":[\"Manchester United\"],\"xaxis\":\"x\",\"yaxis\":\"y\",\"type\":\"histogram\"},{\"alignmentgroup\":\"True\",\"bingroup\":\"x\",\"hovertemplate\":\"Competition=EFL Cup<br>Club=%{x}<br>count=%{y}<extra></extra>\",\"legendgroup\":\"EFL Cup\",\"marker\":{\"color\":\"#19d3f3\",\"pattern\":{\"shape\":\"\"}},\"name\":\"EFL Cup\",\"offsetgroup\":\"EFL Cup\",\"orientation\":\"v\",\"showlegend\":true,\"x\":[\"Manchester United\",\"Manchester United\",\"Manchester United\",\"Manchester United\"],\"xaxis\":\"x\",\"yaxis\":\"y\",\"type\":\"histogram\"},{\"alignmentgroup\":\"True\",\"bingroup\":\"x\",\"hovertemplate\":\"Competition=UEFA Champions League<br>Club=%{x}<br>count=%{y}<extra></extra>\",\"legendgroup\":\"UEFA Champions League\",\"marker\":{\"color\":\"#FF6692\",\"pattern\":{\"shape\":\"\"}},\"name\":\"UEFA Champions League\",\"offsetgroup\":\"UEFA Champions League\",\"orientation\":\"v\",\"showlegend\":true,\"x\":[\"Manchester United\",\"Manchester United\",\"Manchester United\",\"Manchester United\",\"Manchester United\",\"Manchester United\",\"Manchester United\",\"Manchester United\",\"Manchester United\",\"Manchester United\",\"Manchester United\",\"Manchester United\",\"Manchester United\",\"Manchester United\",\"Manchester United\",\"Real Madrid\",\"Real Madrid\",\"Real Madrid\",\"Real Madrid\",\"Real Madrid\",\"Real Madrid\",\"Real Madrid\",\"Real Madrid\",\"Real Madrid\",\"Real Madrid\",\"Real Madrid\",\"Real Madrid\",\"Real Madrid\",\"Real Madrid\",\"Real Madrid\",\"Real Madrid\",\"Real Madrid\",\"Real Madrid\",\"Real Madrid\",\"Real Madrid\",\"Real Madrid\",\"Real Madrid\",\"Real Madrid\",\"Real Madrid\",\"Real Madrid\",\"Real Madrid\",\"Real Madrid\",\"Real Madrid\",\"Real Madrid\",\"Real Madrid\",\"Real Madrid\",\"Real Madrid\",\"Real Madrid\",\"Real Madrid\",\"Real Madrid\",\"Real Madrid\",\"Real Madrid\",\"Real Madrid\",\"Real Madrid\",\"Real Madrid\",\"Real Madrid\",\"Real Madrid\",\"Real Madrid\",\"Real Madrid\",\"Real Madrid\",\"Real Madrid\",\"Real Madrid\",\"Real Madrid\",\"Real Madrid\",\"Real Madrid\",\"Real Madrid\",\"Real Madrid\",\"Real Madrid\",\"Real Madrid\",\"Real Madrid\",\"Real Madrid\",\"Real Madrid\",\"Real Madrid\",\"Real Madrid\",\"Real Madrid\",\"Real Madrid\",\"Real Madrid\",\"Real Madrid\",\"Real Madrid\",\"Real Madrid\",\"Real Madrid\",\"Real Madrid\",\"Real Madrid\",\"Real Madrid\",\"Real Madrid\",\"Real Madrid\",\"Real Madrid\",\"Real Madrid\",\"Real Madrid\",\"Real Madrid\",\"Real Madrid\",\"Real Madrid\",\"Real Madrid\",\"Real Madrid\",\"Real Madrid\",\"Real Madrid\",\"Real Madrid\",\"Real Madrid\",\"Real Madrid\",\"Real Madrid\",\"Real Madrid\",\"Real Madrid\",\"Real Madrid\",\"Real Madrid\",\"Real Madrid\",\"Real Madrid\",\"Real Madrid\",\"Real Madrid\",\"Real Madrid\",\"Real Madrid\",\"Real Madrid\",\"Real Madrid\",\"Real Madrid\",\"Real Madrid\",\"Real Madrid\",\"Real Madrid\",\"Real Madrid\",\"Real Madrid\",\"Real Madrid\",\"Real Madrid\",\"Juventus FC\",\"Juventus FC\",\"Juventus FC\",\"Juventus FC\",\"Juventus FC\",\"Juventus FC\",\"Juventus FC\",\"Juventus FC\",\"Juventus FC\",\"Juventus FC\",\"Juventus FC\",\"Juventus FC\",\"Juventus FC\",\"Juventus FC\",\"Manchester United\",\"Manchester United\",\"Manchester United\",\"Manchester United\",\"Manchester United\",\"Manchester United\"],\"xaxis\":\"x\",\"yaxis\":\"y\",\"type\":\"histogram\"},{\"alignmentgroup\":\"True\",\"bingroup\":\"x\",\"hovertemplate\":\"Competition=FIFA Club World Cup<br>Club=%{x}<br>count=%{y}<extra></extra>\",\"legendgroup\":\"FIFA Club World Cup\",\"marker\":{\"color\":\"#B6E880\",\"pattern\":{\"shape\":\"\"}},\"name\":\"FIFA Club World Cup\",\"offsetgroup\":\"FIFA Club World Cup\",\"orientation\":\"v\",\"showlegend\":true,\"x\":[\"Manchester United\",\"Real Madrid\",\"Real Madrid\",\"Real Madrid\",\"Real Madrid\",\"Real Madrid\",\"Real Madrid\"],\"xaxis\":\"x\",\"yaxis\":\"y\",\"type\":\"histogram\"},{\"alignmentgroup\":\"True\",\"bingroup\":\"x\",\"hovertemplate\":\"Competition=LaLiga<br>Club=%{x}<br>count=%{y}<extra></extra>\",\"legendgroup\":\"LaLiga\",\"marker\":{\"color\":\"#FF97FF\",\"pattern\":{\"shape\":\"\"}},\"name\":\"LaLiga\",\"offsetgroup\":\"LaLiga\",\"orientation\":\"v\",\"showlegend\":true,\"x\":[\"Real Madrid\",\"Real Madrid\",\"Real Madrid\",\"Real Madrid\",\"Real Madrid\",\"Real Madrid\",\"Real Madrid\",\"Real Madrid\",\"Real Madrid\",\"Real Madrid\",\"Real Madrid\",\"Real Madrid\",\"Real Madrid\",\"Real Madrid\",\"Real Madrid\",\"Real Madrid\",\"Real Madrid\",\"Real Madrid\",\"Real Madrid\",\"Real Madrid\",\"Real Madrid\",\"Real Madrid\",\"Real Madrid\",\"Real Madrid\",\"Real Madrid\",\"Real Madrid\",\"Real Madrid\",\"Real Madrid\",\"Real Madrid\",\"Real Madrid\",\"Real Madrid\",\"Real Madrid\",\"Real Madrid\",\"Real Madrid\",\"Real Madrid\",\"Real Madrid\",\"Real Madrid\",\"Real Madrid\",\"Real Madrid\",\"Real Madrid\",\"Real Madrid\",\"Real Madrid\",\"Real Madrid\",\"Real Madrid\",\"Real Madrid\",\"Real Madrid\",\"Real Madrid\",\"Real Madrid\",\"Real Madrid\",\"Real Madrid\",\"Real Madrid\",\"Real Madrid\",\"Real Madrid\",\"Real Madrid\",\"Real Madrid\",\"Real Madrid\",\"Real Madrid\",\"Real Madrid\",\"Real Madrid\",\"Real Madrid\",\"Real Madrid\",\"Real Madrid\",\"Real Madrid\",\"Real Madrid\",\"Real Madrid\",\"Real Madrid\",\"Real Madrid\",\"Real Madrid\",\"Real Madrid\",\"Real Madrid\",\"Real Madrid\",\"Real Madrid\",\"Real Madrid\",\"Real Madrid\",\"Real Madrid\",\"Real Madrid\",\"Real Madrid\",\"Real Madrid\",\"Real Madrid\",\"Real Madrid\",\"Real Madrid\",\"Real Madrid\",\"Real Madrid\",\"Real Madrid\",\"Real Madrid\",\"Real Madrid\",\"Real Madrid\",\"Real Madrid\",\"Real Madrid\",\"Real Madrid\",\"Real Madrid\",\"Real Madrid\",\"Real Madrid\",\"Real Madrid\",\"Real Madrid\",\"Real Madrid\",\"Real Madrid\",\"Real Madrid\",\"Real Madrid\",\"Real Madrid\",\"Real Madrid\",\"Real Madrid\",\"Real Madrid\",\"Real Madrid\",\"Real Madrid\",\"Real Madrid\",\"Real Madrid\",\"Real Madrid\",\"Real Madrid\",\"Real Madrid\",\"Real Madrid\",\"Real Madrid\",\"Real Madrid\",\"Real Madrid\",\"Real Madrid\",\"Real Madrid\",\"Real Madrid\",\"Real Madrid\",\"Real Madrid\",\"Real Madrid\",\"Real Madrid\",\"Real Madrid\",\"Real Madrid\",\"Real Madrid\",\"Real Madrid\",\"Real Madrid\",\"Real Madrid\",\"Real Madrid\",\"Real Madrid\",\"Real Madrid\",\"Real Madrid\",\"Real Madrid\",\"Real Madrid\",\"Real Madrid\",\"Real Madrid\",\"Real Madrid\",\"Real Madrid\",\"Real Madrid\",\"Real Madrid\",\"Real Madrid\",\"Real Madrid\",\"Real Madrid\",\"Real Madrid\",\"Real Madrid\",\"Real Madrid\",\"Real Madrid\",\"Real Madrid\",\"Real Madrid\",\"Real Madrid\",\"Real Madrid\",\"Real Madrid\",\"Real Madrid\",\"Real Madrid\",\"Real Madrid\",\"Real Madrid\",\"Real Madrid\",\"Real Madrid\",\"Real Madrid\",\"Real Madrid\",\"Real Madrid\",\"Real Madrid\",\"Real Madrid\",\"Real Madrid\",\"Real Madrid\",\"Real Madrid\",\"Real Madrid\",\"Real Madrid\",\"Real Madrid\",\"Real Madrid\",\"Real Madrid\",\"Real Madrid\",\"Real Madrid\",\"Real Madrid\",\"Real Madrid\",\"Real Madrid\",\"Real Madrid\",\"Real Madrid\",\"Real Madrid\",\"Real Madrid\",\"Real Madrid\",\"Real Madrid\",\"Real Madrid\",\"Real Madrid\",\"Real Madrid\",\"Real Madrid\",\"Real Madrid\",\"Real Madrid\",\"Real Madrid\",\"Real Madrid\",\"Real Madrid\",\"Real Madrid\",\"Real Madrid\",\"Real Madrid\",\"Real Madrid\",\"Real Madrid\",\"Real Madrid\",\"Real Madrid\",\"Real Madrid\",\"Real Madrid\",\"Real Madrid\",\"Real Madrid\",\"Real Madrid\",\"Real Madrid\",\"Real Madrid\",\"Real Madrid\",\"Real Madrid\",\"Real Madrid\",\"Real Madrid\",\"Real Madrid\",\"Real Madrid\",\"Real Madrid\",\"Real Madrid\",\"Real Madrid\",\"Real Madrid\",\"Real Madrid\",\"Real Madrid\",\"Real Madrid\",\"Real Madrid\",\"Real Madrid\",\"Real Madrid\",\"Real Madrid\",\"Real Madrid\",\"Real Madrid\",\"Real Madrid\",\"Real Madrid\",\"Real Madrid\",\"Real Madrid\",\"Real Madrid\",\"Real Madrid\",\"Real Madrid\",\"Real Madrid\",\"Real Madrid\",\"Real Madrid\",\"Real Madrid\",\"Real Madrid\",\"Real Madrid\",\"Real Madrid\",\"Real Madrid\",\"Real Madrid\",\"Real Madrid\",\"Real Madrid\",\"Real Madrid\",\"Real Madrid\",\"Real Madrid\",\"Real Madrid\",\"Real Madrid\",\"Real Madrid\",\"Real Madrid\",\"Real Madrid\",\"Real Madrid\",\"Real Madrid\",\"Real Madrid\",\"Real Madrid\",\"Real Madrid\",\"Real Madrid\",\"Real Madrid\",\"Real Madrid\",\"Real Madrid\",\"Real Madrid\",\"Real Madrid\",\"Real Madrid\",\"Real Madrid\",\"Real Madrid\",\"Real Madrid\",\"Real Madrid\",\"Real Madrid\",\"Real Madrid\",\"Real Madrid\",\"Real Madrid\",\"Real Madrid\",\"Real Madrid\",\"Real Madrid\",\"Real Madrid\",\"Real Madrid\",\"Real Madrid\",\"Real Madrid\",\"Real Madrid\",\"Real Madrid\",\"Real Madrid\",\"Real Madrid\",\"Real Madrid\",\"Real Madrid\",\"Real Madrid\",\"Real Madrid\",\"Real Madrid\",\"Real Madrid\",\"Real Madrid\",\"Real Madrid\",\"Real Madrid\",\"Real Madrid\",\"Real Madrid\",\"Real Madrid\",\"Real Madrid\",\"Real Madrid\",\"Real Madrid\",\"Real Madrid\",\"Real Madrid\",\"Real Madrid\",\"Real Madrid\",\"Real Madrid\",\"Real Madrid\",\"Real Madrid\",\"Real Madrid\",\"Real Madrid\",\"Real Madrid\",\"Real Madrid\",\"Real Madrid\",\"Real Madrid\",\"Real Madrid\",\"Real Madrid\",\"Real Madrid\"],\"xaxis\":\"x\",\"yaxis\":\"y\",\"type\":\"histogram\"},{\"alignmentgroup\":\"True\",\"bingroup\":\"x\",\"hovertemplate\":\"Competition=Copa del Rey<br>Club=%{x}<br>count=%{y}<extra></extra>\",\"legendgroup\":\"Copa del Rey\",\"marker\":{\"color\":\"#FECB52\",\"pattern\":{\"shape\":\"\"}},\"name\":\"Copa del Rey\",\"offsetgroup\":\"Copa del Rey\",\"orientation\":\"v\",\"showlegend\":true,\"x\":[\"Real Madrid\",\"Real Madrid\",\"Real Madrid\",\"Real Madrid\",\"Real Madrid\",\"Real Madrid\",\"Real Madrid\",\"Real Madrid\",\"Real Madrid\",\"Real Madrid\",\"Real Madrid\",\"Real Madrid\",\"Real Madrid\",\"Real Madrid\",\"Real Madrid\",\"Real Madrid\",\"Real Madrid\",\"Real Madrid\",\"Real Madrid\",\"Real Madrid\",\"Real Madrid\",\"Real Madrid\"],\"xaxis\":\"x\",\"yaxis\":\"y\",\"type\":\"histogram\"},{\"alignmentgroup\":\"True\",\"bingroup\":\"x\",\"hovertemplate\":\"Competition=Supercopa<br>Club=%{x}<br>count=%{y}<extra></extra>\",\"legendgroup\":\"Supercopa\",\"marker\":{\"color\":\"#636efa\",\"pattern\":{\"shape\":\"\"}},\"name\":\"Supercopa\",\"offsetgroup\":\"Supercopa\",\"orientation\":\"v\",\"showlegend\":true,\"x\":[\"Real Madrid\",\"Real Madrid\",\"Real Madrid\",\"Real Madrid\"],\"xaxis\":\"x\",\"yaxis\":\"y\",\"type\":\"histogram\"},{\"alignmentgroup\":\"True\",\"bingroup\":\"x\",\"hovertemplate\":\"Competition=UEFA Super Cup<br>Club=%{x}<br>count=%{y}<extra></extra>\",\"legendgroup\":\"UEFA Super Cup\",\"marker\":{\"color\":\"#EF553B\",\"pattern\":{\"shape\":\"\"}},\"name\":\"UEFA Super Cup\",\"offsetgroup\":\"UEFA Super Cup\",\"orientation\":\"v\",\"showlegend\":true,\"x\":[\"Real Madrid\",\"Real Madrid\"],\"xaxis\":\"x\",\"yaxis\":\"y\",\"type\":\"histogram\"},{\"alignmentgroup\":\"True\",\"bingroup\":\"x\",\"hovertemplate\":\"Competition=Serie A<br>Club=%{x}<br>count=%{y}<extra></extra>\",\"legendgroup\":\"Serie A\",\"marker\":{\"color\":\"#00cc96\",\"pattern\":{\"shape\":\"\"}},\"name\":\"Serie A\",\"offsetgroup\":\"Serie A\",\"orientation\":\"v\",\"showlegend\":true,\"x\":[\"Juventus FC\",\"Juventus FC\",\"Juventus FC\",\"Juventus FC\",\"Juventus FC\",\"Juventus FC\",\"Juventus FC\",\"Juventus FC\",\"Juventus FC\",\"Juventus FC\",\"Juventus FC\",\"Juventus FC\",\"Juventus FC\",\"Juventus FC\",\"Juventus FC\",\"Juventus FC\",\"Juventus FC\",\"Juventus FC\",\"Juventus FC\",\"Juventus FC\",\"Juventus FC\",\"Juventus FC\",\"Juventus FC\",\"Juventus FC\",\"Juventus FC\",\"Juventus FC\",\"Juventus FC\",\"Juventus FC\",\"Juventus FC\",\"Juventus FC\",\"Juventus FC\",\"Juventus FC\",\"Juventus FC\",\"Juventus FC\",\"Juventus FC\",\"Juventus FC\",\"Juventus FC\",\"Juventus FC\",\"Juventus FC\",\"Juventus FC\",\"Juventus FC\",\"Juventus FC\",\"Juventus FC\",\"Juventus FC\",\"Juventus FC\",\"Juventus FC\",\"Juventus FC\",\"Juventus FC\",\"Juventus FC\",\"Juventus FC\",\"Juventus FC\",\"Juventus FC\",\"Juventus FC\",\"Juventus FC\",\"Juventus FC\",\"Juventus FC\",\"Juventus FC\",\"Juventus FC\",\"Juventus FC\",\"Juventus FC\",\"Juventus FC\",\"Juventus FC\",\"Juventus FC\",\"Juventus FC\",\"Juventus FC\",\"Juventus FC\",\"Juventus FC\",\"Juventus FC\",\"Juventus FC\",\"Juventus FC\",\"Juventus FC\",\"Juventus FC\",\"Juventus FC\",\"Juventus FC\",\"Juventus FC\",\"Juventus FC\",\"Juventus FC\",\"Juventus FC\",\"Juventus FC\",\"Juventus FC\",\"Juventus FC\"],\"xaxis\":\"x\",\"yaxis\":\"y\",\"type\":\"histogram\"},{\"alignmentgroup\":\"True\",\"bingroup\":\"x\",\"hovertemplate\":\"Competition=Supercoppa Italiana<br>Club=%{x}<br>count=%{y}<extra></extra>\",\"legendgroup\":\"Supercoppa Italiana\",\"marker\":{\"color\":\"#ab63fa\",\"pattern\":{\"shape\":\"\"}},\"name\":\"Supercoppa Italiana\",\"offsetgroup\":\"Supercoppa Italiana\",\"orientation\":\"v\",\"showlegend\":true,\"x\":[\"Juventus FC\",\"Juventus FC\"],\"xaxis\":\"x\",\"yaxis\":\"y\",\"type\":\"histogram\"},{\"alignmentgroup\":\"True\",\"bingroup\":\"x\",\"hovertemplate\":\"Competition=Italy Cup<br>Club=%{x}<br>count=%{y}<extra></extra>\",\"legendgroup\":\"Italy Cup\",\"marker\":{\"color\":\"#FFA15A\",\"pattern\":{\"shape\":\"\"}},\"name\":\"Italy Cup\",\"offsetgroup\":\"Italy Cup\",\"orientation\":\"v\",\"showlegend\":true,\"x\":[\"Juventus FC\",\"Juventus FC\",\"Juventus FC\",\"Juventus FC\"],\"xaxis\":\"x\",\"yaxis\":\"y\",\"type\":\"histogram\"},{\"alignmentgroup\":\"True\",\"bingroup\":\"x\",\"hovertemplate\":\"Competition=Europa League<br>Club=%{x}<br>count=%{y}<extra></extra>\",\"legendgroup\":\"Europa League\",\"marker\":{\"color\":\"#19d3f3\",\"pattern\":{\"shape\":\"\"}},\"name\":\"Europa League\",\"offsetgroup\":\"Europa League\",\"orientation\":\"v\",\"showlegend\":true,\"x\":[\"Manchester United\"],\"xaxis\":\"x\",\"yaxis\":\"y\",\"type\":\"histogram\"}],                        {\"template\":{\"data\":{\"histogram2dcontour\":[{\"type\":\"histogram2dcontour\",\"colorbar\":{\"outlinewidth\":0,\"ticks\":\"\"},\"colorscale\":[[0.0,\"#0d0887\"],[0.1111111111111111,\"#46039f\"],[0.2222222222222222,\"#7201a8\"],[0.3333333333333333,\"#9c179e\"],[0.4444444444444444,\"#bd3786\"],[0.5555555555555556,\"#d8576b\"],[0.6666666666666666,\"#ed7953\"],[0.7777777777777778,\"#fb9f3a\"],[0.8888888888888888,\"#fdca26\"],[1.0,\"#f0f921\"]]}],\"choropleth\":[{\"type\":\"choropleth\",\"colorbar\":{\"outlinewidth\":0,\"ticks\":\"\"}}],\"histogram2d\":[{\"type\":\"histogram2d\",\"colorbar\":{\"outlinewidth\":0,\"ticks\":\"\"},\"colorscale\":[[0.0,\"#0d0887\"],[0.1111111111111111,\"#46039f\"],[0.2222222222222222,\"#7201a8\"],[0.3333333333333333,\"#9c179e\"],[0.4444444444444444,\"#bd3786\"],[0.5555555555555556,\"#d8576b\"],[0.6666666666666666,\"#ed7953\"],[0.7777777777777778,\"#fb9f3a\"],[0.8888888888888888,\"#fdca26\"],[1.0,\"#f0f921\"]]}],\"heatmap\":[{\"type\":\"heatmap\",\"colorbar\":{\"outlinewidth\":0,\"ticks\":\"\"},\"colorscale\":[[0.0,\"#0d0887\"],[0.1111111111111111,\"#46039f\"],[0.2222222222222222,\"#7201a8\"],[0.3333333333333333,\"#9c179e\"],[0.4444444444444444,\"#bd3786\"],[0.5555555555555556,\"#d8576b\"],[0.6666666666666666,\"#ed7953\"],[0.7777777777777778,\"#fb9f3a\"],[0.8888888888888888,\"#fdca26\"],[1.0,\"#f0f921\"]]}],\"heatmapgl\":[{\"type\":\"heatmapgl\",\"colorbar\":{\"outlinewidth\":0,\"ticks\":\"\"},\"colorscale\":[[0.0,\"#0d0887\"],[0.1111111111111111,\"#46039f\"],[0.2222222222222222,\"#7201a8\"],[0.3333333333333333,\"#9c179e\"],[0.4444444444444444,\"#bd3786\"],[0.5555555555555556,\"#d8576b\"],[0.6666666666666666,\"#ed7953\"],[0.7777777777777778,\"#fb9f3a\"],[0.8888888888888888,\"#fdca26\"],[1.0,\"#f0f921\"]]}],\"contourcarpet\":[{\"type\":\"contourcarpet\",\"colorbar\":{\"outlinewidth\":0,\"ticks\":\"\"}}],\"contour\":[{\"type\":\"contour\",\"colorbar\":{\"outlinewidth\":0,\"ticks\":\"\"},\"colorscale\":[[0.0,\"#0d0887\"],[0.1111111111111111,\"#46039f\"],[0.2222222222222222,\"#7201a8\"],[0.3333333333333333,\"#9c179e\"],[0.4444444444444444,\"#bd3786\"],[0.5555555555555556,\"#d8576b\"],[0.6666666666666666,\"#ed7953\"],[0.7777777777777778,\"#fb9f3a\"],[0.8888888888888888,\"#fdca26\"],[1.0,\"#f0f921\"]]}],\"surface\":[{\"type\":\"surface\",\"colorbar\":{\"outlinewidth\":0,\"ticks\":\"\"},\"colorscale\":[[0.0,\"#0d0887\"],[0.1111111111111111,\"#46039f\"],[0.2222222222222222,\"#7201a8\"],[0.3333333333333333,\"#9c179e\"],[0.4444444444444444,\"#bd3786\"],[0.5555555555555556,\"#d8576b\"],[0.6666666666666666,\"#ed7953\"],[0.7777777777777778,\"#fb9f3a\"],[0.8888888888888888,\"#fdca26\"],[1.0,\"#f0f921\"]]}],\"mesh3d\":[{\"type\":\"mesh3d\",\"colorbar\":{\"outlinewidth\":0,\"ticks\":\"\"}}],\"scatter\":[{\"fillpattern\":{\"fillmode\":\"overlay\",\"size\":10,\"solidity\":0.2},\"type\":\"scatter\"}],\"parcoords\":[{\"type\":\"parcoords\",\"line\":{\"colorbar\":{\"outlinewidth\":0,\"ticks\":\"\"}}}],\"scatterpolargl\":[{\"type\":\"scatterpolargl\",\"marker\":{\"colorbar\":{\"outlinewidth\":0,\"ticks\":\"\"}}}],\"bar\":[{\"error_x\":{\"color\":\"#2a3f5f\"},\"error_y\":{\"color\":\"#2a3f5f\"},\"marker\":{\"line\":{\"color\":\"#E5ECF6\",\"width\":0.5},\"pattern\":{\"fillmode\":\"overlay\",\"size\":10,\"solidity\":0.2}},\"type\":\"bar\"}],\"scattergeo\":[{\"type\":\"scattergeo\",\"marker\":{\"colorbar\":{\"outlinewidth\":0,\"ticks\":\"\"}}}],\"scatterpolar\":[{\"type\":\"scatterpolar\",\"marker\":{\"colorbar\":{\"outlinewidth\":0,\"ticks\":\"\"}}}],\"histogram\":[{\"marker\":{\"pattern\":{\"fillmode\":\"overlay\",\"size\":10,\"solidity\":0.2}},\"type\":\"histogram\"}],\"scattergl\":[{\"type\":\"scattergl\",\"marker\":{\"colorbar\":{\"outlinewidth\":0,\"ticks\":\"\"}}}],\"scatter3d\":[{\"type\":\"scatter3d\",\"line\":{\"colorbar\":{\"outlinewidth\":0,\"ticks\":\"\"}},\"marker\":{\"colorbar\":{\"outlinewidth\":0,\"ticks\":\"\"}}}],\"scattermapbox\":[{\"type\":\"scattermapbox\",\"marker\":{\"colorbar\":{\"outlinewidth\":0,\"ticks\":\"\"}}}],\"scatterternary\":[{\"type\":\"scatterternary\",\"marker\":{\"colorbar\":{\"outlinewidth\":0,\"ticks\":\"\"}}}],\"scattercarpet\":[{\"type\":\"scattercarpet\",\"marker\":{\"colorbar\":{\"outlinewidth\":0,\"ticks\":\"\"}}}],\"carpet\":[{\"aaxis\":{\"endlinecolor\":\"#2a3f5f\",\"gridcolor\":\"white\",\"linecolor\":\"white\",\"minorgridcolor\":\"white\",\"startlinecolor\":\"#2a3f5f\"},\"baxis\":{\"endlinecolor\":\"#2a3f5f\",\"gridcolor\":\"white\",\"linecolor\":\"white\",\"minorgridcolor\":\"white\",\"startlinecolor\":\"#2a3f5f\"},\"type\":\"carpet\"}],\"table\":[{\"cells\":{\"fill\":{\"color\":\"#EBF0F8\"},\"line\":{\"color\":\"white\"}},\"header\":{\"fill\":{\"color\":\"#C8D4E3\"},\"line\":{\"color\":\"white\"}},\"type\":\"table\"}],\"barpolar\":[{\"marker\":{\"line\":{\"color\":\"#E5ECF6\",\"width\":0.5},\"pattern\":{\"fillmode\":\"overlay\",\"size\":10,\"solidity\":0.2}},\"type\":\"barpolar\"}],\"pie\":[{\"automargin\":true,\"type\":\"pie\"}]},\"layout\":{\"autotypenumbers\":\"strict\",\"colorway\":[\"#636efa\",\"#EF553B\",\"#00cc96\",\"#ab63fa\",\"#FFA15A\",\"#19d3f3\",\"#FF6692\",\"#B6E880\",\"#FF97FF\",\"#FECB52\"],\"font\":{\"color\":\"#2a3f5f\"},\"hovermode\":\"closest\",\"hoverlabel\":{\"align\":\"left\"},\"paper_bgcolor\":\"white\",\"plot_bgcolor\":\"#E5ECF6\",\"polar\":{\"bgcolor\":\"#E5ECF6\",\"angularaxis\":{\"gridcolor\":\"white\",\"linecolor\":\"white\",\"ticks\":\"\"},\"radialaxis\":{\"gridcolor\":\"white\",\"linecolor\":\"white\",\"ticks\":\"\"}},\"ternary\":{\"bgcolor\":\"#E5ECF6\",\"aaxis\":{\"gridcolor\":\"white\",\"linecolor\":\"white\",\"ticks\":\"\"},\"baxis\":{\"gridcolor\":\"white\",\"linecolor\":\"white\",\"ticks\":\"\"},\"caxis\":{\"gridcolor\":\"white\",\"linecolor\":\"white\",\"ticks\":\"\"}},\"coloraxis\":{\"colorbar\":{\"outlinewidth\":0,\"ticks\":\"\"}},\"colorscale\":{\"sequential\":[[0.0,\"#0d0887\"],[0.1111111111111111,\"#46039f\"],[0.2222222222222222,\"#7201a8\"],[0.3333333333333333,\"#9c179e\"],[0.4444444444444444,\"#bd3786\"],[0.5555555555555556,\"#d8576b\"],[0.6666666666666666,\"#ed7953\"],[0.7777777777777778,\"#fb9f3a\"],[0.8888888888888888,\"#fdca26\"],[1.0,\"#f0f921\"]],\"sequentialminus\":[[0.0,\"#0d0887\"],[0.1111111111111111,\"#46039f\"],[0.2222222222222222,\"#7201a8\"],[0.3333333333333333,\"#9c179e\"],[0.4444444444444444,\"#bd3786\"],[0.5555555555555556,\"#d8576b\"],[0.6666666666666666,\"#ed7953\"],[0.7777777777777778,\"#fb9f3a\"],[0.8888888888888888,\"#fdca26\"],[1.0,\"#f0f921\"]],\"diverging\":[[0,\"#8e0152\"],[0.1,\"#c51b7d\"],[0.2,\"#de77ae\"],[0.3,\"#f1b6da\"],[0.4,\"#fde0ef\"],[0.5,\"#f7f7f7\"],[0.6,\"#e6f5d0\"],[0.7,\"#b8e186\"],[0.8,\"#7fbc41\"],[0.9,\"#4d9221\"],[1,\"#276419\"]]},\"xaxis\":{\"gridcolor\":\"white\",\"linecolor\":\"white\",\"ticks\":\"\",\"title\":{\"standoff\":15},\"zerolinecolor\":\"white\",\"automargin\":true,\"zerolinewidth\":2},\"yaxis\":{\"gridcolor\":\"white\",\"linecolor\":\"white\",\"ticks\":\"\",\"title\":{\"standoff\":15},\"zerolinecolor\":\"white\",\"automargin\":true,\"zerolinewidth\":2},\"scene\":{\"xaxis\":{\"backgroundcolor\":\"#E5ECF6\",\"gridcolor\":\"white\",\"linecolor\":\"white\",\"showbackground\":true,\"ticks\":\"\",\"zerolinecolor\":\"white\",\"gridwidth\":2},\"yaxis\":{\"backgroundcolor\":\"#E5ECF6\",\"gridcolor\":\"white\",\"linecolor\":\"white\",\"showbackground\":true,\"ticks\":\"\",\"zerolinecolor\":\"white\",\"gridwidth\":2},\"zaxis\":{\"backgroundcolor\":\"#E5ECF6\",\"gridcolor\":\"white\",\"linecolor\":\"white\",\"showbackground\":true,\"ticks\":\"\",\"zerolinecolor\":\"white\",\"gridwidth\":2}},\"shapedefaults\":{\"line\":{\"color\":\"#2a3f5f\"}},\"annotationdefaults\":{\"arrowcolor\":\"#2a3f5f\",\"arrowhead\":0,\"arrowwidth\":1},\"geo\":{\"bgcolor\":\"white\",\"landcolor\":\"#E5ECF6\",\"subunitcolor\":\"white\",\"showland\":true,\"showlakes\":true,\"lakecolor\":\"white\"},\"title\":{\"x\":0.05},\"mapbox\":{\"style\":\"light\"}}},\"xaxis\":{\"anchor\":\"y\",\"domain\":[0.0,1.0],\"title\":{\"text\":\"Club\"}},\"yaxis\":{\"anchor\":\"x\",\"domain\":[0.0,1.0],\"title\":{\"text\":\"count\"}},\"legend\":{\"title\":{\"text\":\"Competition\"},\"tracegroupgap\":0},\"title\":{\"text\":\"Goals per Clubs - Competition\"},\"barmode\":\"relative\",\"height\":500},                        {\"responsive\": true}                    ).then(function(){\n",
       "                            \n",
       "var gd = document.getElementById('87453143-db40-4961-9ec6-8255c3760cc8');\n",
       "var x = new MutationObserver(function (mutations, observer) {{\n",
       "        var display = window.getComputedStyle(gd).display;\n",
       "        if (!display || display === 'none') {{\n",
       "            console.log([gd, 'removed!']);\n",
       "            Plotly.purge(gd);\n",
       "            observer.disconnect();\n",
       "        }}\n",
       "}});\n",
       "\n",
       "// Listen for the removal of the full notebook cells\n",
       "var notebookContainer = gd.closest('#notebook-container');\n",
       "if (notebookContainer) {{\n",
       "    x.observe(notebookContainer, {childList: true});\n",
       "}}\n",
       "\n",
       "// Listen for the clearing of the current output cell\n",
       "var outputEl = gd.closest('.output');\n",
       "if (outputEl) {{\n",
       "    x.observe(outputEl, {childList: true});\n",
       "}}\n",
       "\n",
       "                        })                };                });            </script>        </div>"
      ]
     },
     "metadata": {},
     "output_type": "display_data"
    }
   ],
   "source": [
    "px.histogram(\n",
    "    df,\n",
    "    x='Club',\n",
    "    title=\"Goals per Clubs - Competition\",\n",
    "    log_x=False,\n",
    "    log_y=False,\n",
    "    #symbol='title',\n",
    "    #markers=True,\n",
    "    #width=800, \n",
    "    height=500,\n",
    "    color='Competition',\n",
    "    hover_name='Competition',\n",
    "    hover_data=['Competition','Season','Club'])"
   ]
  },
  {
   "cell_type": "markdown",
   "id": "18d99110",
   "metadata": {},
   "source": [
    "#### Oynama Pozisyon Başına Goller"
   ]
  },
  {
   "cell_type": "code",
   "execution_count": 15,
   "id": "6e709644",
   "metadata": {},
   "outputs": [
    {
     "data": {
      "application/vnd.plotly.v1+json": {
       "config": {
        "plotlyServerURL": "https://plot.ly"
       },
       "data": [
        {
         "alignmentgroup": "True",
         "bingroup": "x",
         "hovertemplate": "Club=Sporting CP<br>Playing_Position=%{x}<br>count=%{y}<extra></extra>",
         "legendgroup": "Sporting CP",
         "marker": {
          "color": "#636efa",
          "pattern": {
           "shape": ""
          }
         },
         "name": "Sporting CP",
         "offsetgroup": "Sporting CP",
         "orientation": "v",
         "showlegend": true,
         "type": "histogram",
         "x": [
          "LW",
          "LW",
          null,
          null,
          null
         ],
         "xaxis": "x",
         "yaxis": "y"
        },
        {
         "alignmentgroup": "True",
         "bingroup": "x",
         "hovertemplate": "Club=Manchester United<br>Playing_Position=%{x}<br>count=%{y}<extra></extra>",
         "legendgroup": "Manchester United",
         "marker": {
          "color": "#EF553B",
          "pattern": {
           "shape": ""
          }
         },
         "name": "Manchester United",
         "offsetgroup": "Manchester United",
         "orientation": "v",
         "showlegend": true,
         "type": "histogram",
         "x": [
          "RW",
          "RW",
          null,
          null,
          null,
          "RW",
          null,
          null,
          null,
          "RW",
          "RW",
          null,
          null,
          null,
          "RW",
          null,
          null,
          "RW",
          null,
          null,
          null,
          null,
          "RW",
          "RW",
          "RW",
          null,
          "RW",
          null,
          "CF",
          null,
          "RW",
          null,
          null,
          null,
          null,
          null,
          null,
          "RW",
          "RW",
          null,
          "RW",
          "RW",
          null,
          "RW",
          null,
          "RW",
          "RW",
          null,
          "RW",
          "RW",
          "RW",
          "RW",
          "RW",
          "RW",
          "RW",
          "RW",
          "RW",
          "RW",
          "RW",
          "RW",
          "RW",
          null,
          null,
          null,
          "RW",
          "RW",
          null,
          "RW",
          null,
          "RW",
          "RW",
          "RW",
          "RW",
          "RW",
          "RW",
          "RW",
          "RW",
          "RW",
          "RW",
          "RW",
          null,
          null,
          null,
          "RW",
          "RW",
          "RW",
          "RW",
          "RW",
          "RW",
          "RW",
          "RW",
          "LW",
          null,
          "RW",
          "RW",
          "RW",
          "RW",
          "RW",
          "RW",
          "RW",
          "RW",
          "LW",
          null,
          "LW",
          "LW",
          "LW",
          "CF",
          null,
          "RW",
          "RW",
          "RW",
          "RW",
          "RW",
          "RW",
          "RW",
          "CF",
          "CF",
          "RW",
          "CF",
          "CF",
          "CF",
          "CF",
          "CF",
          "CF",
          "CF",
          "CF",
          "CF",
          "CF",
          "CF",
          "CF",
          "CF",
          "CF",
          "CF",
          "CF",
          "CF",
          "CF",
          "CF",
          "CF",
          "CF",
          "CF",
          "CF",
          "CF",
          "CF"
         ],
         "xaxis": "x",
         "yaxis": "y"
        },
        {
         "alignmentgroup": "True",
         "bingroup": "x",
         "hovertemplate": "Club=Real Madrid<br>Playing_Position=%{x}<br>count=%{y}<extra></extra>",
         "legendgroup": "Real Madrid",
         "marker": {
          "color": "#00cc96",
          "pattern": {
           "shape": ""
          }
         },
         "name": "Real Madrid",
         "offsetgroup": "Real Madrid",
         "orientation": "v",
         "showlegend": true,
         "type": "histogram",
         "x": [
          "RW",
          null,
          "CF",
          "CF",
          "RW",
          "RW",
          "CF",
          "CF",
          "CF",
          "CF",
          "CF",
          "CF",
          "CF",
          "RW",
          "RW",
          null,
          null,
          null,
          null,
          "CF",
          "LW",
          "CF",
          null,
          null,
          null,
          null,
          "CF",
          null,
          null,
          null,
          null,
          null,
          "CF",
          "LW",
          "LW",
          "LW",
          "LW",
          "LW",
          "LW",
          "LW",
          "LW",
          "LW",
          "LW",
          "LW",
          "LW",
          null,
          "LW",
          "LW",
          "LW",
          "LW",
          "LW",
          "LW",
          "LW",
          "LW",
          "LW",
          "LW",
          "LW",
          "LW",
          "LW",
          "LW",
          "LW",
          "LW",
          "LW",
          "LW",
          "CF",
          "LW",
          "LW",
          "LW",
          "LW",
          "LW",
          "LW",
          "CF",
          "RW",
          "LW",
          "CF",
          "LW",
          "LW",
          "LW",
          "LW",
          "LW",
          "LW",
          "LW",
          "CF",
          "CF",
          "LW",
          "LW",
          "LW",
          "LW",
          "LW",
          "LW",
          "LW",
          "LW",
          "LW",
          "LW",
          "LW",
          "LW",
          "LW",
          "LW",
          "LW",
          "LW",
          "LW",
          "LW",
          "LW",
          "LW",
          "LW",
          "LW",
          "LW",
          "LW",
          "LW",
          "LW",
          "LW",
          "LW",
          "LW",
          "LW",
          "LW",
          "LW",
          "LW",
          "LW",
          "LW",
          "LW",
          "LW",
          "LW",
          "LW",
          "LW",
          "LW",
          "LW",
          "LW",
          "LW",
          "LW",
          "LW",
          "LW",
          "LW",
          "LW",
          "LW",
          "LW",
          "LW",
          "LW",
          "LW",
          "LW",
          "LW",
          "LW",
          "LW",
          "LW",
          "LW",
          "LW",
          "LW",
          "LW",
          "LW",
          "LW",
          "LW",
          "LW",
          "LW",
          "LW",
          "LW",
          "LW",
          "LW",
          "LW",
          "LW",
          "LW",
          "LW",
          "LW",
          "LW",
          "LW",
          "LW",
          "CF",
          "LW",
          "LW",
          "LW",
          "CF",
          "LW ",
          "LW ",
          "LW",
          "LW",
          "LW",
          "LW",
          "LW",
          "LW",
          "LW",
          "LW",
          "LW",
          "LW",
          "LW",
          "LW",
          "LW",
          "LW",
          "LW",
          "LW",
          "LW",
          "LW",
          "LW",
          "LW",
          "CF",
          "LW",
          "LW",
          "LW",
          "LW",
          "LW",
          "LW",
          "LW",
          "LW ",
          "LW",
          "LW",
          "LW",
          "LW",
          "LW",
          "LW",
          "LW",
          "LW",
          "LW",
          "LW",
          "LW",
          "LW",
          "LW",
          "LW",
          "LW",
          "LW",
          "LW",
          "LW",
          "LW",
          "LW",
          "LW",
          "LW",
          "LW",
          "LW",
          "LW",
          "LW",
          "LW",
          "LW",
          "LW",
          "LW",
          "LW",
          "LW",
          "LW",
          "LW",
          "LW",
          "LW",
          "LW",
          "LW",
          "LW",
          "LW",
          "LW",
          "LW",
          "LW",
          "LW",
          "LW",
          "LW",
          "LW",
          "LW",
          "LW",
          "LW",
          "LW",
          "LW",
          "LW",
          "LW",
          "LW",
          "LW",
          "LW",
          "RW",
          "RW",
          "RW",
          "CF",
          "CF",
          "CF",
          "CF",
          "CF",
          "CF",
          "LW",
          "LW",
          "LW",
          "CF",
          "CF",
          "CF",
          "CF",
          "CF",
          "CF",
          "CF",
          "CF",
          "LW",
          "CF",
          "CF",
          "CF",
          "CF ",
          "CF",
          "CF",
          "LW",
          "CF",
          "LW",
          "LW",
          "LW",
          "CF",
          "CF",
          "CF",
          "CF",
          "LW",
          "CF",
          "CF",
          "CF",
          "CF",
          "CF",
          "LW",
          "LW",
          "CF",
          "CF",
          "CF",
          "CF",
          "CF",
          "LW",
          "LW",
          "LW",
          "LW",
          "LW",
          "LW",
          "LW",
          "LW",
          "LW",
          "LW",
          "LW",
          "LW",
          "LW",
          "LW",
          "LW",
          "LW ",
          "LW ",
          "CF",
          "CF",
          "CF",
          "CF",
          "CF",
          "CF",
          "LW",
          "LW",
          "LW",
          "LW",
          "LW",
          "LW",
          "LW",
          "LW",
          "LW",
          "LW",
          "LW",
          "LW",
          "LW",
          "LW",
          "LW",
          "LW",
          "LW",
          "LW",
          "LW",
          "LW",
          "LW",
          "LW",
          "LW",
          "CF",
          "LW",
          "LW",
          "CF",
          "LW",
          "LW",
          "LW",
          "LW",
          "LW",
          "LW",
          "LW",
          "LW",
          "LW",
          "LW",
          "LW",
          "LW",
          "LW",
          "LW",
          "LW",
          "CF",
          "CF",
          "CF",
          "LW",
          "LW",
          "LW",
          "LW",
          "LW",
          "LW",
          "LW",
          "CF",
          "CF",
          "LW",
          "CF",
          "LW",
          "LW",
          "LW",
          "LW",
          "LW",
          "LW",
          "LW",
          "CF",
          "CF",
          "CF",
          "LW",
          "CF",
          "CF",
          "CF",
          "LW",
          "LW",
          "CF",
          "CF",
          "CF",
          "CF",
          "CF",
          "CF",
          "CF",
          "CF",
          "CF",
          "CF",
          "CF",
          "LW",
          "LW",
          "LW",
          "LW",
          "CF",
          "LW",
          "CF",
          "CF",
          "LW",
          "LW",
          "LW",
          "LW",
          "LW",
          "LW",
          "CF",
          "CF",
          "CF",
          "LW",
          "LW",
          "CF",
          "CF ",
          "CF ",
          "CF",
          "CF",
          "CF",
          "CF",
          "CF",
          "CF",
          "CF",
          "CF",
          "CF",
          "CF",
          "CF",
          "CF",
          "CF",
          "CF",
          "LW",
          "CF"
         ],
         "xaxis": "x",
         "yaxis": "y"
        },
        {
         "alignmentgroup": "True",
         "bingroup": "x",
         "hovertemplate": "Club=Juventus FC<br>Playing_Position=%{x}<br>count=%{y}<extra></extra>",
         "legendgroup": "Juventus FC",
         "marker": {
          "color": "#ab63fa",
          "pattern": {
           "shape": ""
          }
         },
         "name": "Juventus FC",
         "offsetgroup": "Juventus FC",
         "orientation": "v",
         "showlegend": true,
         "type": "histogram",
         "x": [
          "CF",
          "CF",
          "LW",
          "LW",
          "LW",
          "CF",
          "CF",
          "CF",
          "LW",
          "CF",
          "LW",
          "LW",
          "CF",
          "LW",
          "LW",
          "LW",
          "LW",
          "LW",
          "LW",
          "LW",
          "LW",
          "CF",
          "CF",
          "CF",
          "LW",
          "LW",
          "CF",
          "CF",
          "LW",
          "LW",
          "CF",
          "CF",
          "CF",
          "CF",
          "CF",
          "CF",
          "CF",
          "CF",
          "CF",
          "LW",
          "CF",
          "CF",
          "CF",
          "CF",
          "CF",
          "CF",
          "LW",
          "LW",
          "LW",
          "LW",
          "LW",
          "LW",
          "LW",
          "LW",
          "LW",
          "LW",
          "LW",
          "LW",
          "LW",
          "LW",
          "LW",
          "LW",
          "LW",
          "LW",
          "LW",
          "CF",
          "CF",
          "CF",
          "CF",
          "CF",
          "LW",
          "CF",
          "CF",
          "CF",
          "CF",
          "CF",
          "CF",
          "CF",
          "CF",
          "CF",
          "CF",
          "CF",
          "CF",
          "CF",
          "CF",
          "CF",
          "CF",
          "CF",
          "CF",
          "CF",
          "CF",
          "CF",
          "CF",
          "CF",
          "CF",
          "CF",
          "CF",
          "CF",
          "CF",
          "CF",
          "CF"
         ],
         "xaxis": "x",
         "yaxis": "y"
        }
       ],
       "layout": {
        "barmode": "relative",
        "height": 500,
        "legend": {
         "title": {
          "text": "Club"
         },
         "tracegroupgap": 0
        },
        "template": {
         "data": {
          "bar": [
           {
            "error_x": {
             "color": "#2a3f5f"
            },
            "error_y": {
             "color": "#2a3f5f"
            },
            "marker": {
             "line": {
              "color": "#E5ECF6",
              "width": 0.5
             },
             "pattern": {
              "fillmode": "overlay",
              "size": 10,
              "solidity": 0.2
             }
            },
            "type": "bar"
           }
          ],
          "barpolar": [
           {
            "marker": {
             "line": {
              "color": "#E5ECF6",
              "width": 0.5
             },
             "pattern": {
              "fillmode": "overlay",
              "size": 10,
              "solidity": 0.2
             }
            },
            "type": "barpolar"
           }
          ],
          "carpet": [
           {
            "aaxis": {
             "endlinecolor": "#2a3f5f",
             "gridcolor": "white",
             "linecolor": "white",
             "minorgridcolor": "white",
             "startlinecolor": "#2a3f5f"
            },
            "baxis": {
             "endlinecolor": "#2a3f5f",
             "gridcolor": "white",
             "linecolor": "white",
             "minorgridcolor": "white",
             "startlinecolor": "#2a3f5f"
            },
            "type": "carpet"
           }
          ],
          "choropleth": [
           {
            "colorbar": {
             "outlinewidth": 0,
             "ticks": ""
            },
            "type": "choropleth"
           }
          ],
          "contour": [
           {
            "colorbar": {
             "outlinewidth": 0,
             "ticks": ""
            },
            "colorscale": [
             [
              0,
              "#0d0887"
             ],
             [
              0.1111111111111111,
              "#46039f"
             ],
             [
              0.2222222222222222,
              "#7201a8"
             ],
             [
              0.3333333333333333,
              "#9c179e"
             ],
             [
              0.4444444444444444,
              "#bd3786"
             ],
             [
              0.5555555555555556,
              "#d8576b"
             ],
             [
              0.6666666666666666,
              "#ed7953"
             ],
             [
              0.7777777777777778,
              "#fb9f3a"
             ],
             [
              0.8888888888888888,
              "#fdca26"
             ],
             [
              1,
              "#f0f921"
             ]
            ],
            "type": "contour"
           }
          ],
          "contourcarpet": [
           {
            "colorbar": {
             "outlinewidth": 0,
             "ticks": ""
            },
            "type": "contourcarpet"
           }
          ],
          "heatmap": [
           {
            "colorbar": {
             "outlinewidth": 0,
             "ticks": ""
            },
            "colorscale": [
             [
              0,
              "#0d0887"
             ],
             [
              0.1111111111111111,
              "#46039f"
             ],
             [
              0.2222222222222222,
              "#7201a8"
             ],
             [
              0.3333333333333333,
              "#9c179e"
             ],
             [
              0.4444444444444444,
              "#bd3786"
             ],
             [
              0.5555555555555556,
              "#d8576b"
             ],
             [
              0.6666666666666666,
              "#ed7953"
             ],
             [
              0.7777777777777778,
              "#fb9f3a"
             ],
             [
              0.8888888888888888,
              "#fdca26"
             ],
             [
              1,
              "#f0f921"
             ]
            ],
            "type": "heatmap"
           }
          ],
          "heatmapgl": [
           {
            "colorbar": {
             "outlinewidth": 0,
             "ticks": ""
            },
            "colorscale": [
             [
              0,
              "#0d0887"
             ],
             [
              0.1111111111111111,
              "#46039f"
             ],
             [
              0.2222222222222222,
              "#7201a8"
             ],
             [
              0.3333333333333333,
              "#9c179e"
             ],
             [
              0.4444444444444444,
              "#bd3786"
             ],
             [
              0.5555555555555556,
              "#d8576b"
             ],
             [
              0.6666666666666666,
              "#ed7953"
             ],
             [
              0.7777777777777778,
              "#fb9f3a"
             ],
             [
              0.8888888888888888,
              "#fdca26"
             ],
             [
              1,
              "#f0f921"
             ]
            ],
            "type": "heatmapgl"
           }
          ],
          "histogram": [
           {
            "marker": {
             "pattern": {
              "fillmode": "overlay",
              "size": 10,
              "solidity": 0.2
             }
            },
            "type": "histogram"
           }
          ],
          "histogram2d": [
           {
            "colorbar": {
             "outlinewidth": 0,
             "ticks": ""
            },
            "colorscale": [
             [
              0,
              "#0d0887"
             ],
             [
              0.1111111111111111,
              "#46039f"
             ],
             [
              0.2222222222222222,
              "#7201a8"
             ],
             [
              0.3333333333333333,
              "#9c179e"
             ],
             [
              0.4444444444444444,
              "#bd3786"
             ],
             [
              0.5555555555555556,
              "#d8576b"
             ],
             [
              0.6666666666666666,
              "#ed7953"
             ],
             [
              0.7777777777777778,
              "#fb9f3a"
             ],
             [
              0.8888888888888888,
              "#fdca26"
             ],
             [
              1,
              "#f0f921"
             ]
            ],
            "type": "histogram2d"
           }
          ],
          "histogram2dcontour": [
           {
            "colorbar": {
             "outlinewidth": 0,
             "ticks": ""
            },
            "colorscale": [
             [
              0,
              "#0d0887"
             ],
             [
              0.1111111111111111,
              "#46039f"
             ],
             [
              0.2222222222222222,
              "#7201a8"
             ],
             [
              0.3333333333333333,
              "#9c179e"
             ],
             [
              0.4444444444444444,
              "#bd3786"
             ],
             [
              0.5555555555555556,
              "#d8576b"
             ],
             [
              0.6666666666666666,
              "#ed7953"
             ],
             [
              0.7777777777777778,
              "#fb9f3a"
             ],
             [
              0.8888888888888888,
              "#fdca26"
             ],
             [
              1,
              "#f0f921"
             ]
            ],
            "type": "histogram2dcontour"
           }
          ],
          "mesh3d": [
           {
            "colorbar": {
             "outlinewidth": 0,
             "ticks": ""
            },
            "type": "mesh3d"
           }
          ],
          "parcoords": [
           {
            "line": {
             "colorbar": {
              "outlinewidth": 0,
              "ticks": ""
             }
            },
            "type": "parcoords"
           }
          ],
          "pie": [
           {
            "automargin": true,
            "type": "pie"
           }
          ],
          "scatter": [
           {
            "fillpattern": {
             "fillmode": "overlay",
             "size": 10,
             "solidity": 0.2
            },
            "type": "scatter"
           }
          ],
          "scatter3d": [
           {
            "line": {
             "colorbar": {
              "outlinewidth": 0,
              "ticks": ""
             }
            },
            "marker": {
             "colorbar": {
              "outlinewidth": 0,
              "ticks": ""
             }
            },
            "type": "scatter3d"
           }
          ],
          "scattercarpet": [
           {
            "marker": {
             "colorbar": {
              "outlinewidth": 0,
              "ticks": ""
             }
            },
            "type": "scattercarpet"
           }
          ],
          "scattergeo": [
           {
            "marker": {
             "colorbar": {
              "outlinewidth": 0,
              "ticks": ""
             }
            },
            "type": "scattergeo"
           }
          ],
          "scattergl": [
           {
            "marker": {
             "colorbar": {
              "outlinewidth": 0,
              "ticks": ""
             }
            },
            "type": "scattergl"
           }
          ],
          "scattermapbox": [
           {
            "marker": {
             "colorbar": {
              "outlinewidth": 0,
              "ticks": ""
             }
            },
            "type": "scattermapbox"
           }
          ],
          "scatterpolar": [
           {
            "marker": {
             "colorbar": {
              "outlinewidth": 0,
              "ticks": ""
             }
            },
            "type": "scatterpolar"
           }
          ],
          "scatterpolargl": [
           {
            "marker": {
             "colorbar": {
              "outlinewidth": 0,
              "ticks": ""
             }
            },
            "type": "scatterpolargl"
           }
          ],
          "scatterternary": [
           {
            "marker": {
             "colorbar": {
              "outlinewidth": 0,
              "ticks": ""
             }
            },
            "type": "scatterternary"
           }
          ],
          "surface": [
           {
            "colorbar": {
             "outlinewidth": 0,
             "ticks": ""
            },
            "colorscale": [
             [
              0,
              "#0d0887"
             ],
             [
              0.1111111111111111,
              "#46039f"
             ],
             [
              0.2222222222222222,
              "#7201a8"
             ],
             [
              0.3333333333333333,
              "#9c179e"
             ],
             [
              0.4444444444444444,
              "#bd3786"
             ],
             [
              0.5555555555555556,
              "#d8576b"
             ],
             [
              0.6666666666666666,
              "#ed7953"
             ],
             [
              0.7777777777777778,
              "#fb9f3a"
             ],
             [
              0.8888888888888888,
              "#fdca26"
             ],
             [
              1,
              "#f0f921"
             ]
            ],
            "type": "surface"
           }
          ],
          "table": [
           {
            "cells": {
             "fill": {
              "color": "#EBF0F8"
             },
             "line": {
              "color": "white"
             }
            },
            "header": {
             "fill": {
              "color": "#C8D4E3"
             },
             "line": {
              "color": "white"
             }
            },
            "type": "table"
           }
          ]
         },
         "layout": {
          "annotationdefaults": {
           "arrowcolor": "#2a3f5f",
           "arrowhead": 0,
           "arrowwidth": 1
          },
          "autotypenumbers": "strict",
          "coloraxis": {
           "colorbar": {
            "outlinewidth": 0,
            "ticks": ""
           }
          },
          "colorscale": {
           "diverging": [
            [
             0,
             "#8e0152"
            ],
            [
             0.1,
             "#c51b7d"
            ],
            [
             0.2,
             "#de77ae"
            ],
            [
             0.3,
             "#f1b6da"
            ],
            [
             0.4,
             "#fde0ef"
            ],
            [
             0.5,
             "#f7f7f7"
            ],
            [
             0.6,
             "#e6f5d0"
            ],
            [
             0.7,
             "#b8e186"
            ],
            [
             0.8,
             "#7fbc41"
            ],
            [
             0.9,
             "#4d9221"
            ],
            [
             1,
             "#276419"
            ]
           ],
           "sequential": [
            [
             0,
             "#0d0887"
            ],
            [
             0.1111111111111111,
             "#46039f"
            ],
            [
             0.2222222222222222,
             "#7201a8"
            ],
            [
             0.3333333333333333,
             "#9c179e"
            ],
            [
             0.4444444444444444,
             "#bd3786"
            ],
            [
             0.5555555555555556,
             "#d8576b"
            ],
            [
             0.6666666666666666,
             "#ed7953"
            ],
            [
             0.7777777777777778,
             "#fb9f3a"
            ],
            [
             0.8888888888888888,
             "#fdca26"
            ],
            [
             1,
             "#f0f921"
            ]
           ],
           "sequentialminus": [
            [
             0,
             "#0d0887"
            ],
            [
             0.1111111111111111,
             "#46039f"
            ],
            [
             0.2222222222222222,
             "#7201a8"
            ],
            [
             0.3333333333333333,
             "#9c179e"
            ],
            [
             0.4444444444444444,
             "#bd3786"
            ],
            [
             0.5555555555555556,
             "#d8576b"
            ],
            [
             0.6666666666666666,
             "#ed7953"
            ],
            [
             0.7777777777777778,
             "#fb9f3a"
            ],
            [
             0.8888888888888888,
             "#fdca26"
            ],
            [
             1,
             "#f0f921"
            ]
           ]
          },
          "colorway": [
           "#636efa",
           "#EF553B",
           "#00cc96",
           "#ab63fa",
           "#FFA15A",
           "#19d3f3",
           "#FF6692",
           "#B6E880",
           "#FF97FF",
           "#FECB52"
          ],
          "font": {
           "color": "#2a3f5f"
          },
          "geo": {
           "bgcolor": "white",
           "lakecolor": "white",
           "landcolor": "#E5ECF6",
           "showlakes": true,
           "showland": true,
           "subunitcolor": "white"
          },
          "hoverlabel": {
           "align": "left"
          },
          "hovermode": "closest",
          "mapbox": {
           "style": "light"
          },
          "paper_bgcolor": "white",
          "plot_bgcolor": "#E5ECF6",
          "polar": {
           "angularaxis": {
            "gridcolor": "white",
            "linecolor": "white",
            "ticks": ""
           },
           "bgcolor": "#E5ECF6",
           "radialaxis": {
            "gridcolor": "white",
            "linecolor": "white",
            "ticks": ""
           }
          },
          "scene": {
           "xaxis": {
            "backgroundcolor": "#E5ECF6",
            "gridcolor": "white",
            "gridwidth": 2,
            "linecolor": "white",
            "showbackground": true,
            "ticks": "",
            "zerolinecolor": "white"
           },
           "yaxis": {
            "backgroundcolor": "#E5ECF6",
            "gridcolor": "white",
            "gridwidth": 2,
            "linecolor": "white",
            "showbackground": true,
            "ticks": "",
            "zerolinecolor": "white"
           },
           "zaxis": {
            "backgroundcolor": "#E5ECF6",
            "gridcolor": "white",
            "gridwidth": 2,
            "linecolor": "white",
            "showbackground": true,
            "ticks": "",
            "zerolinecolor": "white"
           }
          },
          "shapedefaults": {
           "line": {
            "color": "#2a3f5f"
           }
          },
          "ternary": {
           "aaxis": {
            "gridcolor": "white",
            "linecolor": "white",
            "ticks": ""
           },
           "baxis": {
            "gridcolor": "white",
            "linecolor": "white",
            "ticks": ""
           },
           "bgcolor": "#E5ECF6",
           "caxis": {
            "gridcolor": "white",
            "linecolor": "white",
            "ticks": ""
           }
          },
          "title": {
           "x": 0.05
          },
          "xaxis": {
           "automargin": true,
           "gridcolor": "white",
           "linecolor": "white",
           "ticks": "",
           "title": {
            "standoff": 15
           },
           "zerolinecolor": "white",
           "zerolinewidth": 2
          },
          "yaxis": {
           "automargin": true,
           "gridcolor": "white",
           "linecolor": "white",
           "ticks": "",
           "title": {
            "standoff": 15
           },
           "zerolinecolor": "white",
           "zerolinewidth": 2
          }
         }
        },
        "title": {
         "text": "Goals per playing Position"
        },
        "xaxis": {
         "anchor": "y",
         "domain": [
          0,
          1
         ],
         "title": {
          "text": "Playing_Position"
         }
        },
        "yaxis": {
         "anchor": "x",
         "domain": [
          0,
          1
         ],
         "title": {
          "text": "count"
         }
        }
       }
      },
      "text/html": [
       "<div>                            <div id=\"f0c025a8-40ab-4f06-85fb-bf06edffcce3\" class=\"plotly-graph-div\" style=\"height:500px; width:100%;\"></div>            <script type=\"text/javascript\">                require([\"plotly\"], function(Plotly) {                    window.PLOTLYENV=window.PLOTLYENV || {};                                    if (document.getElementById(\"f0c025a8-40ab-4f06-85fb-bf06edffcce3\")) {                    Plotly.newPlot(                        \"f0c025a8-40ab-4f06-85fb-bf06edffcce3\",                        [{\"alignmentgroup\":\"True\",\"bingroup\":\"x\",\"hovertemplate\":\"Club=Sporting CP<br>Playing_Position=%{x}<br>count=%{y}<extra></extra>\",\"legendgroup\":\"Sporting CP\",\"marker\":{\"color\":\"#636efa\",\"pattern\":{\"shape\":\"\"}},\"name\":\"Sporting CP\",\"offsetgroup\":\"Sporting CP\",\"orientation\":\"v\",\"showlegend\":true,\"x\":[\"LW\",\"LW\",null,null,null],\"xaxis\":\"x\",\"yaxis\":\"y\",\"type\":\"histogram\"},{\"alignmentgroup\":\"True\",\"bingroup\":\"x\",\"hovertemplate\":\"Club=Manchester United<br>Playing_Position=%{x}<br>count=%{y}<extra></extra>\",\"legendgroup\":\"Manchester United\",\"marker\":{\"color\":\"#EF553B\",\"pattern\":{\"shape\":\"\"}},\"name\":\"Manchester United\",\"offsetgroup\":\"Manchester United\",\"orientation\":\"v\",\"showlegend\":true,\"x\":[\"RW\",\"RW\",null,null,null,\"RW\",null,null,null,\"RW\",\"RW\",null,null,null,\"RW\",null,null,\"RW\",null,null,null,null,\"RW\",\"RW\",\"RW\",null,\"RW\",null,\"CF\",null,\"RW\",null,null,null,null,null,null,\"RW\",\"RW\",null,\"RW\",\"RW\",null,\"RW\",null,\"RW\",\"RW\",null,\"RW\",\"RW\",\"RW\",\"RW\",\"RW\",\"RW\",\"RW\",\"RW\",\"RW\",\"RW\",\"RW\",\"RW\",\"RW\",null,null,null,\"RW\",\"RW\",null,\"RW\",null,\"RW\",\"RW\",\"RW\",\"RW\",\"RW\",\"RW\",\"RW\",\"RW\",\"RW\",\"RW\",\"RW\",null,null,null,\"RW\",\"RW\",\"RW\",\"RW\",\"RW\",\"RW\",\"RW\",\"RW\",\"LW\",null,\"RW\",\"RW\",\"RW\",\"RW\",\"RW\",\"RW\",\"RW\",\"RW\",\"LW\",null,\"LW\",\"LW\",\"LW\",\"CF\",null,\"RW\",\"RW\",\"RW\",\"RW\",\"RW\",\"RW\",\"RW\",\"CF\",\"CF\",\"RW\",\"CF\",\"CF\",\"CF\",\"CF\",\"CF\",\"CF\",\"CF\",\"CF\",\"CF\",\"CF\",\"CF\",\"CF\",\"CF\",\"CF\",\"CF\",\"CF\",\"CF\",\"CF\",\"CF\",\"CF\",\"CF\",\"CF\",\"CF\",\"CF\",\"CF\"],\"xaxis\":\"x\",\"yaxis\":\"y\",\"type\":\"histogram\"},{\"alignmentgroup\":\"True\",\"bingroup\":\"x\",\"hovertemplate\":\"Club=Real Madrid<br>Playing_Position=%{x}<br>count=%{y}<extra></extra>\",\"legendgroup\":\"Real Madrid\",\"marker\":{\"color\":\"#00cc96\",\"pattern\":{\"shape\":\"\"}},\"name\":\"Real Madrid\",\"offsetgroup\":\"Real Madrid\",\"orientation\":\"v\",\"showlegend\":true,\"x\":[\"RW\",null,\"CF\",\"CF\",\"RW\",\"RW\",\"CF\",\"CF\",\"CF\",\"CF\",\"CF\",\"CF\",\"CF\",\"RW\",\"RW\",null,null,null,null,\"CF\",\"LW\",\"CF\",null,null,null,null,\"CF\",null,null,null,null,null,\"CF\",\"LW\",\"LW\",\"LW\",\"LW\",\"LW\",\"LW\",\"LW\",\"LW\",\"LW\",\"LW\",\"LW\",\"LW\",null,\"LW\",\"LW\",\"LW\",\"LW\",\"LW\",\"LW\",\"LW\",\"LW\",\"LW\",\"LW\",\"LW\",\"LW\",\"LW\",\"LW\",\"LW\",\"LW\",\"LW\",\"LW\",\"CF\",\"LW\",\"LW\",\"LW\",\"LW\",\"LW\",\"LW\",\"CF\",\"RW\",\"LW\",\"CF\",\"LW\",\"LW\",\"LW\",\"LW\",\"LW\",\"LW\",\"LW\",\"CF\",\"CF\",\"LW\",\"LW\",\"LW\",\"LW\",\"LW\",\"LW\",\"LW\",\"LW\",\"LW\",\"LW\",\"LW\",\"LW\",\"LW\",\"LW\",\"LW\",\"LW\",\"LW\",\"LW\",\"LW\",\"LW\",\"LW\",\"LW\",\"LW\",\"LW\",\"LW\",\"LW\",\"LW\",\"LW\",\"LW\",\"LW\",\"LW\",\"LW\",\"LW\",\"LW\",\"LW\",\"LW\",\"LW\",\"LW\",\"LW\",\"LW\",\"LW\",\"LW\",\"LW\",\"LW\",\"LW\",\"LW\",\"LW\",\"LW\",\"LW\",\"LW\",\"LW\",\"LW\",\"LW\",\"LW\",\"LW\",\"LW\",\"LW\",\"LW\",\"LW\",\"LW\",\"LW\",\"LW\",\"LW\",\"LW\",\"LW\",\"LW\",\"LW\",\"LW\",\"LW\",\"LW\",\"LW\",\"LW\",\"LW\",\"LW\",\"LW\",\"LW\",\"LW\",\"LW\",\"LW\",\"LW\",\"CF\",\"LW\",\"LW\",\"LW\",\"CF\",\"LW \",\"LW \",\"LW\",\"LW\",\"LW\",\"LW\",\"LW\",\"LW\",\"LW\",\"LW\",\"LW\",\"LW\",\"LW\",\"LW\",\"LW\",\"LW\",\"LW\",\"LW\",\"LW\",\"LW\",\"LW\",\"LW\",\"CF\",\"LW\",\"LW\",\"LW\",\"LW\",\"LW\",\"LW\",\"LW\",\"LW \",\"LW\",\"LW\",\"LW\",\"LW\",\"LW\",\"LW\",\"LW\",\"LW\",\"LW\",\"LW\",\"LW\",\"LW\",\"LW\",\"LW\",\"LW\",\"LW\",\"LW\",\"LW\",\"LW\",\"LW\",\"LW\",\"LW\",\"LW\",\"LW\",\"LW\",\"LW\",\"LW\",\"LW\",\"LW\",\"LW\",\"LW\",\"LW\",\"LW\",\"LW\",\"LW\",\"LW\",\"LW\",\"LW\",\"LW\",\"LW\",\"LW\",\"LW\",\"LW\",\"LW\",\"LW\",\"LW\",\"LW\",\"LW\",\"LW\",\"LW\",\"LW\",\"LW\",\"LW\",\"LW\",\"LW\",\"LW\",\"LW\",\"RW\",\"RW\",\"RW\",\"CF\",\"CF\",\"CF\",\"CF\",\"CF\",\"CF\",\"LW\",\"LW\",\"LW\",\"CF\",\"CF\",\"CF\",\"CF\",\"CF\",\"CF\",\"CF\",\"CF\",\"LW\",\"CF\",\"CF\",\"CF\",\"CF \",\"CF\",\"CF\",\"LW\",\"CF\",\"LW\",\"LW\",\"LW\",\"CF\",\"CF\",\"CF\",\"CF\",\"LW\",\"CF\",\"CF\",\"CF\",\"CF\",\"CF\",\"LW\",\"LW\",\"CF\",\"CF\",\"CF\",\"CF\",\"CF\",\"LW\",\"LW\",\"LW\",\"LW\",\"LW\",\"LW\",\"LW\",\"LW\",\"LW\",\"LW\",\"LW\",\"LW\",\"LW\",\"LW\",\"LW\",\"LW \",\"LW \",\"CF\",\"CF\",\"CF\",\"CF\",\"CF\",\"CF\",\"LW\",\"LW\",\"LW\",\"LW\",\"LW\",\"LW\",\"LW\",\"LW\",\"LW\",\"LW\",\"LW\",\"LW\",\"LW\",\"LW\",\"LW\",\"LW\",\"LW\",\"LW\",\"LW\",\"LW\",\"LW\",\"LW\",\"LW\",\"CF\",\"LW\",\"LW\",\"CF\",\"LW\",\"LW\",\"LW\",\"LW\",\"LW\",\"LW\",\"LW\",\"LW\",\"LW\",\"LW\",\"LW\",\"LW\",\"LW\",\"LW\",\"LW\",\"CF\",\"CF\",\"CF\",\"LW\",\"LW\",\"LW\",\"LW\",\"LW\",\"LW\",\"LW\",\"CF\",\"CF\",\"LW\",\"CF\",\"LW\",\"LW\",\"LW\",\"LW\",\"LW\",\"LW\",\"LW\",\"CF\",\"CF\",\"CF\",\"LW\",\"CF\",\"CF\",\"CF\",\"LW\",\"LW\",\"CF\",\"CF\",\"CF\",\"CF\",\"CF\",\"CF\",\"CF\",\"CF\",\"CF\",\"CF\",\"CF\",\"LW\",\"LW\",\"LW\",\"LW\",\"CF\",\"LW\",\"CF\",\"CF\",\"LW\",\"LW\",\"LW\",\"LW\",\"LW\",\"LW\",\"CF\",\"CF\",\"CF\",\"LW\",\"LW\",\"CF\",\"CF \",\"CF \",\"CF\",\"CF\",\"CF\",\"CF\",\"CF\",\"CF\",\"CF\",\"CF\",\"CF\",\"CF\",\"CF\",\"CF\",\"CF\",\"CF\",\"LW\",\"CF\"],\"xaxis\":\"x\",\"yaxis\":\"y\",\"type\":\"histogram\"},{\"alignmentgroup\":\"True\",\"bingroup\":\"x\",\"hovertemplate\":\"Club=Juventus FC<br>Playing_Position=%{x}<br>count=%{y}<extra></extra>\",\"legendgroup\":\"Juventus FC\",\"marker\":{\"color\":\"#ab63fa\",\"pattern\":{\"shape\":\"\"}},\"name\":\"Juventus FC\",\"offsetgroup\":\"Juventus FC\",\"orientation\":\"v\",\"showlegend\":true,\"x\":[\"CF\",\"CF\",\"LW\",\"LW\",\"LW\",\"CF\",\"CF\",\"CF\",\"LW\",\"CF\",\"LW\",\"LW\",\"CF\",\"LW\",\"LW\",\"LW\",\"LW\",\"LW\",\"LW\",\"LW\",\"LW\",\"CF\",\"CF\",\"CF\",\"LW\",\"LW\",\"CF\",\"CF\",\"LW\",\"LW\",\"CF\",\"CF\",\"CF\",\"CF\",\"CF\",\"CF\",\"CF\",\"CF\",\"CF\",\"LW\",\"CF\",\"CF\",\"CF\",\"CF\",\"CF\",\"CF\",\"LW\",\"LW\",\"LW\",\"LW\",\"LW\",\"LW\",\"LW\",\"LW\",\"LW\",\"LW\",\"LW\",\"LW\",\"LW\",\"LW\",\"LW\",\"LW\",\"LW\",\"LW\",\"LW\",\"CF\",\"CF\",\"CF\",\"CF\",\"CF\",\"LW\",\"CF\",\"CF\",\"CF\",\"CF\",\"CF\",\"CF\",\"CF\",\"CF\",\"CF\",\"CF\",\"CF\",\"CF\",\"CF\",\"CF\",\"CF\",\"CF\",\"CF\",\"CF\",\"CF\",\"CF\",\"CF\",\"CF\",\"CF\",\"CF\",\"CF\",\"CF\",\"CF\",\"CF\",\"CF\",\"CF\"],\"xaxis\":\"x\",\"yaxis\":\"y\",\"type\":\"histogram\"}],                        {\"template\":{\"data\":{\"histogram2dcontour\":[{\"type\":\"histogram2dcontour\",\"colorbar\":{\"outlinewidth\":0,\"ticks\":\"\"},\"colorscale\":[[0.0,\"#0d0887\"],[0.1111111111111111,\"#46039f\"],[0.2222222222222222,\"#7201a8\"],[0.3333333333333333,\"#9c179e\"],[0.4444444444444444,\"#bd3786\"],[0.5555555555555556,\"#d8576b\"],[0.6666666666666666,\"#ed7953\"],[0.7777777777777778,\"#fb9f3a\"],[0.8888888888888888,\"#fdca26\"],[1.0,\"#f0f921\"]]}],\"choropleth\":[{\"type\":\"choropleth\",\"colorbar\":{\"outlinewidth\":0,\"ticks\":\"\"}}],\"histogram2d\":[{\"type\":\"histogram2d\",\"colorbar\":{\"outlinewidth\":0,\"ticks\":\"\"},\"colorscale\":[[0.0,\"#0d0887\"],[0.1111111111111111,\"#46039f\"],[0.2222222222222222,\"#7201a8\"],[0.3333333333333333,\"#9c179e\"],[0.4444444444444444,\"#bd3786\"],[0.5555555555555556,\"#d8576b\"],[0.6666666666666666,\"#ed7953\"],[0.7777777777777778,\"#fb9f3a\"],[0.8888888888888888,\"#fdca26\"],[1.0,\"#f0f921\"]]}],\"heatmap\":[{\"type\":\"heatmap\",\"colorbar\":{\"outlinewidth\":0,\"ticks\":\"\"},\"colorscale\":[[0.0,\"#0d0887\"],[0.1111111111111111,\"#46039f\"],[0.2222222222222222,\"#7201a8\"],[0.3333333333333333,\"#9c179e\"],[0.4444444444444444,\"#bd3786\"],[0.5555555555555556,\"#d8576b\"],[0.6666666666666666,\"#ed7953\"],[0.7777777777777778,\"#fb9f3a\"],[0.8888888888888888,\"#fdca26\"],[1.0,\"#f0f921\"]]}],\"heatmapgl\":[{\"type\":\"heatmapgl\",\"colorbar\":{\"outlinewidth\":0,\"ticks\":\"\"},\"colorscale\":[[0.0,\"#0d0887\"],[0.1111111111111111,\"#46039f\"],[0.2222222222222222,\"#7201a8\"],[0.3333333333333333,\"#9c179e\"],[0.4444444444444444,\"#bd3786\"],[0.5555555555555556,\"#d8576b\"],[0.6666666666666666,\"#ed7953\"],[0.7777777777777778,\"#fb9f3a\"],[0.8888888888888888,\"#fdca26\"],[1.0,\"#f0f921\"]]}],\"contourcarpet\":[{\"type\":\"contourcarpet\",\"colorbar\":{\"outlinewidth\":0,\"ticks\":\"\"}}],\"contour\":[{\"type\":\"contour\",\"colorbar\":{\"outlinewidth\":0,\"ticks\":\"\"},\"colorscale\":[[0.0,\"#0d0887\"],[0.1111111111111111,\"#46039f\"],[0.2222222222222222,\"#7201a8\"],[0.3333333333333333,\"#9c179e\"],[0.4444444444444444,\"#bd3786\"],[0.5555555555555556,\"#d8576b\"],[0.6666666666666666,\"#ed7953\"],[0.7777777777777778,\"#fb9f3a\"],[0.8888888888888888,\"#fdca26\"],[1.0,\"#f0f921\"]]}],\"surface\":[{\"type\":\"surface\",\"colorbar\":{\"outlinewidth\":0,\"ticks\":\"\"},\"colorscale\":[[0.0,\"#0d0887\"],[0.1111111111111111,\"#46039f\"],[0.2222222222222222,\"#7201a8\"],[0.3333333333333333,\"#9c179e\"],[0.4444444444444444,\"#bd3786\"],[0.5555555555555556,\"#d8576b\"],[0.6666666666666666,\"#ed7953\"],[0.7777777777777778,\"#fb9f3a\"],[0.8888888888888888,\"#fdca26\"],[1.0,\"#f0f921\"]]}],\"mesh3d\":[{\"type\":\"mesh3d\",\"colorbar\":{\"outlinewidth\":0,\"ticks\":\"\"}}],\"scatter\":[{\"fillpattern\":{\"fillmode\":\"overlay\",\"size\":10,\"solidity\":0.2},\"type\":\"scatter\"}],\"parcoords\":[{\"type\":\"parcoords\",\"line\":{\"colorbar\":{\"outlinewidth\":0,\"ticks\":\"\"}}}],\"scatterpolargl\":[{\"type\":\"scatterpolargl\",\"marker\":{\"colorbar\":{\"outlinewidth\":0,\"ticks\":\"\"}}}],\"bar\":[{\"error_x\":{\"color\":\"#2a3f5f\"},\"error_y\":{\"color\":\"#2a3f5f\"},\"marker\":{\"line\":{\"color\":\"#E5ECF6\",\"width\":0.5},\"pattern\":{\"fillmode\":\"overlay\",\"size\":10,\"solidity\":0.2}},\"type\":\"bar\"}],\"scattergeo\":[{\"type\":\"scattergeo\",\"marker\":{\"colorbar\":{\"outlinewidth\":0,\"ticks\":\"\"}}}],\"scatterpolar\":[{\"type\":\"scatterpolar\",\"marker\":{\"colorbar\":{\"outlinewidth\":0,\"ticks\":\"\"}}}],\"histogram\":[{\"marker\":{\"pattern\":{\"fillmode\":\"overlay\",\"size\":10,\"solidity\":0.2}},\"type\":\"histogram\"}],\"scattergl\":[{\"type\":\"scattergl\",\"marker\":{\"colorbar\":{\"outlinewidth\":0,\"ticks\":\"\"}}}],\"scatter3d\":[{\"type\":\"scatter3d\",\"line\":{\"colorbar\":{\"outlinewidth\":0,\"ticks\":\"\"}},\"marker\":{\"colorbar\":{\"outlinewidth\":0,\"ticks\":\"\"}}}],\"scattermapbox\":[{\"type\":\"scattermapbox\",\"marker\":{\"colorbar\":{\"outlinewidth\":0,\"ticks\":\"\"}}}],\"scatterternary\":[{\"type\":\"scatterternary\",\"marker\":{\"colorbar\":{\"outlinewidth\":0,\"ticks\":\"\"}}}],\"scattercarpet\":[{\"type\":\"scattercarpet\",\"marker\":{\"colorbar\":{\"outlinewidth\":0,\"ticks\":\"\"}}}],\"carpet\":[{\"aaxis\":{\"endlinecolor\":\"#2a3f5f\",\"gridcolor\":\"white\",\"linecolor\":\"white\",\"minorgridcolor\":\"white\",\"startlinecolor\":\"#2a3f5f\"},\"baxis\":{\"endlinecolor\":\"#2a3f5f\",\"gridcolor\":\"white\",\"linecolor\":\"white\",\"minorgridcolor\":\"white\",\"startlinecolor\":\"#2a3f5f\"},\"type\":\"carpet\"}],\"table\":[{\"cells\":{\"fill\":{\"color\":\"#EBF0F8\"},\"line\":{\"color\":\"white\"}},\"header\":{\"fill\":{\"color\":\"#C8D4E3\"},\"line\":{\"color\":\"white\"}},\"type\":\"table\"}],\"barpolar\":[{\"marker\":{\"line\":{\"color\":\"#E5ECF6\",\"width\":0.5},\"pattern\":{\"fillmode\":\"overlay\",\"size\":10,\"solidity\":0.2}},\"type\":\"barpolar\"}],\"pie\":[{\"automargin\":true,\"type\":\"pie\"}]},\"layout\":{\"autotypenumbers\":\"strict\",\"colorway\":[\"#636efa\",\"#EF553B\",\"#00cc96\",\"#ab63fa\",\"#FFA15A\",\"#19d3f3\",\"#FF6692\",\"#B6E880\",\"#FF97FF\",\"#FECB52\"],\"font\":{\"color\":\"#2a3f5f\"},\"hovermode\":\"closest\",\"hoverlabel\":{\"align\":\"left\"},\"paper_bgcolor\":\"white\",\"plot_bgcolor\":\"#E5ECF6\",\"polar\":{\"bgcolor\":\"#E5ECF6\",\"angularaxis\":{\"gridcolor\":\"white\",\"linecolor\":\"white\",\"ticks\":\"\"},\"radialaxis\":{\"gridcolor\":\"white\",\"linecolor\":\"white\",\"ticks\":\"\"}},\"ternary\":{\"bgcolor\":\"#E5ECF6\",\"aaxis\":{\"gridcolor\":\"white\",\"linecolor\":\"white\",\"ticks\":\"\"},\"baxis\":{\"gridcolor\":\"white\",\"linecolor\":\"white\",\"ticks\":\"\"},\"caxis\":{\"gridcolor\":\"white\",\"linecolor\":\"white\",\"ticks\":\"\"}},\"coloraxis\":{\"colorbar\":{\"outlinewidth\":0,\"ticks\":\"\"}},\"colorscale\":{\"sequential\":[[0.0,\"#0d0887\"],[0.1111111111111111,\"#46039f\"],[0.2222222222222222,\"#7201a8\"],[0.3333333333333333,\"#9c179e\"],[0.4444444444444444,\"#bd3786\"],[0.5555555555555556,\"#d8576b\"],[0.6666666666666666,\"#ed7953\"],[0.7777777777777778,\"#fb9f3a\"],[0.8888888888888888,\"#fdca26\"],[1.0,\"#f0f921\"]],\"sequentialminus\":[[0.0,\"#0d0887\"],[0.1111111111111111,\"#46039f\"],[0.2222222222222222,\"#7201a8\"],[0.3333333333333333,\"#9c179e\"],[0.4444444444444444,\"#bd3786\"],[0.5555555555555556,\"#d8576b\"],[0.6666666666666666,\"#ed7953\"],[0.7777777777777778,\"#fb9f3a\"],[0.8888888888888888,\"#fdca26\"],[1.0,\"#f0f921\"]],\"diverging\":[[0,\"#8e0152\"],[0.1,\"#c51b7d\"],[0.2,\"#de77ae\"],[0.3,\"#f1b6da\"],[0.4,\"#fde0ef\"],[0.5,\"#f7f7f7\"],[0.6,\"#e6f5d0\"],[0.7,\"#b8e186\"],[0.8,\"#7fbc41\"],[0.9,\"#4d9221\"],[1,\"#276419\"]]},\"xaxis\":{\"gridcolor\":\"white\",\"linecolor\":\"white\",\"ticks\":\"\",\"title\":{\"standoff\":15},\"zerolinecolor\":\"white\",\"automargin\":true,\"zerolinewidth\":2},\"yaxis\":{\"gridcolor\":\"white\",\"linecolor\":\"white\",\"ticks\":\"\",\"title\":{\"standoff\":15},\"zerolinecolor\":\"white\",\"automargin\":true,\"zerolinewidth\":2},\"scene\":{\"xaxis\":{\"backgroundcolor\":\"#E5ECF6\",\"gridcolor\":\"white\",\"linecolor\":\"white\",\"showbackground\":true,\"ticks\":\"\",\"zerolinecolor\":\"white\",\"gridwidth\":2},\"yaxis\":{\"backgroundcolor\":\"#E5ECF6\",\"gridcolor\":\"white\",\"linecolor\":\"white\",\"showbackground\":true,\"ticks\":\"\",\"zerolinecolor\":\"white\",\"gridwidth\":2},\"zaxis\":{\"backgroundcolor\":\"#E5ECF6\",\"gridcolor\":\"white\",\"linecolor\":\"white\",\"showbackground\":true,\"ticks\":\"\",\"zerolinecolor\":\"white\",\"gridwidth\":2}},\"shapedefaults\":{\"line\":{\"color\":\"#2a3f5f\"}},\"annotationdefaults\":{\"arrowcolor\":\"#2a3f5f\",\"arrowhead\":0,\"arrowwidth\":1},\"geo\":{\"bgcolor\":\"white\",\"landcolor\":\"#E5ECF6\",\"subunitcolor\":\"white\",\"showland\":true,\"showlakes\":true,\"lakecolor\":\"white\"},\"title\":{\"x\":0.05},\"mapbox\":{\"style\":\"light\"}}},\"xaxis\":{\"anchor\":\"y\",\"domain\":[0.0,1.0],\"title\":{\"text\":\"Playing_Position\"}},\"yaxis\":{\"anchor\":\"x\",\"domain\":[0.0,1.0],\"title\":{\"text\":\"count\"}},\"legend\":{\"title\":{\"text\":\"Club\"},\"tracegroupgap\":0},\"title\":{\"text\":\"Goals per playing Position\"},\"barmode\":\"relative\",\"height\":500},                        {\"responsive\": true}                    ).then(function(){\n",
       "                            \n",
       "var gd = document.getElementById('f0c025a8-40ab-4f06-85fb-bf06edffcce3');\n",
       "var x = new MutationObserver(function (mutations, observer) {{\n",
       "        var display = window.getComputedStyle(gd).display;\n",
       "        if (!display || display === 'none') {{\n",
       "            console.log([gd, 'removed!']);\n",
       "            Plotly.purge(gd);\n",
       "            observer.disconnect();\n",
       "        }}\n",
       "}});\n",
       "\n",
       "// Listen for the removal of the full notebook cells\n",
       "var notebookContainer = gd.closest('#notebook-container');\n",
       "if (notebookContainer) {{\n",
       "    x.observe(notebookContainer, {childList: true});\n",
       "}}\n",
       "\n",
       "// Listen for the clearing of the current output cell\n",
       "var outputEl = gd.closest('.output');\n",
       "if (outputEl) {{\n",
       "    x.observe(outputEl, {childList: true});\n",
       "}}\n",
       "\n",
       "                        })                };                });            </script>        </div>"
      ]
     },
     "metadata": {},
     "output_type": "display_data"
    }
   ],
   "source": [
    "px.histogram(\n",
    "    df,\n",
    "    x='Playing_Position',\n",
    "    title=\"Goals per playing Position\",\n",
    "    log_x=False,\n",
    "    log_y=False,\n",
    "    #symbol='title',\n",
    "    #markers=True,\n",
    "    #width=800, \n",
    "    height=500,\n",
    "    color='Club',\n",
    "    hover_name='Club',\n",
    "    hover_data=['Playing_Position','Competition','Season','Club'])"
   ]
  },
  {
   "cell_type": "markdown",
   "id": "2365f3bd",
   "metadata": {},
   "source": [
    "#### Bu grafikten net bir biçimde anlaşıldığı gibi Ronaldo sol kanat pozisyonunda iken Real Madrid takımıyla oldukça etkili olmuş. Ve sayıca fazla gol atmış."
   ]
  },
  {
   "cell_type": "markdown",
   "id": "d6a7cef8",
   "metadata": {},
   "source": [
    "### Gol Tipi"
   ]
  },
  {
   "cell_type": "code",
   "execution_count": 21,
   "id": "3a7abf3b",
   "metadata": {},
   "outputs": [
    {
     "data": {
      "application/vnd.plotly.v1+json": {
       "config": {
        "plotlyServerURL": "https://plot.ly"
       },
       "data": [
        {
         "alignmentgroup": "True",
         "bingroup": "x",
         "hovertemplate": "Club=Sporting CP<br>Type=%{x}<br>count=%{y}<extra></extra>",
         "legendgroup": "Sporting CP",
         "marker": {
          "color": "#636efa",
          "pattern": {
           "shape": ""
          }
         },
         "name": "Sporting CP",
         "offsetgroup": "Sporting CP",
         "orientation": "v",
         "showlegend": true,
         "type": "histogram",
         "x": [
          "Solo run",
          "Header",
          "Right-footed shot",
          "Left-footed shot",
          null
         ],
         "xaxis": "x",
         "yaxis": "y"
        },
        {
         "alignmentgroup": "True",
         "bingroup": "x",
         "hovertemplate": "Club=Manchester United<br>Type=%{x}<br>count=%{y}<extra></extra>",
         "legendgroup": "Manchester United",
         "marker": {
          "color": "#EF553B",
          "pattern": {
           "shape": ""
          }
         },
         "name": "Manchester United",
         "offsetgroup": "Manchester United",
         "orientation": "v",
         "showlegend": true,
         "type": "histogram",
         "x": [
          "Direct free kick",
          "Right-footed shot",
          "Right-footed shot",
          "Header",
          "Right-footed shot",
          "Header",
          "Right-footed shot",
          null,
          "Right-footed shot",
          "Left-footed shot",
          "Tap-in",
          "Tap-in",
          "Left-footed shot",
          "Right-footed shot",
          "Right-footed shot",
          "Right-footed shot",
          "Header",
          "Penalty",
          "Right-footed shot",
          "Left-footed shot",
          "Direct free kick",
          "Right-footed shot",
          "Left-footed shot",
          "Right-footed shot",
          null,
          "Right-footed shot",
          "Left-footed shot",
          null,
          null,
          null,
          "Direct free kick",
          null,
          null,
          null,
          null,
          null,
          "Penalty rebound",
          null,
          null,
          "Header",
          "Penalty",
          "Penalty",
          "Solo run",
          "Penalty",
          "Penalty",
          "Right-footed shot",
          "Right-footed shot",
          "Right-footed shot",
          "Header",
          "Penalty",
          "Header",
          null,
          "Header",
          "Right-footed shot",
          "Penalty",
          "Header",
          null,
          "Right-footed shot",
          "Header",
          "Right-footed shot",
          "Direct free kick",
          "Right-footed shot",
          "Header",
          "Penalty",
          "Left-footed shot",
          "Penalty",
          "Direct free kick",
          "Header",
          "Left-footed shot",
          "Direct free kick",
          "Right-footed shot",
          "Left-footed shot",
          "Right-footed shot",
          "Penalty",
          "Right-footed shot",
          "Right-footed shot",
          "Direct free kick",
          "Right-footed shot",
          "Right-footed shot",
          "Left-footed shot",
          "Right-footed shot",
          "Right-footed shot",
          "Direct free kick",
          "Header",
          "Right-footed shot",
          "Header",
          "Left-footed shot",
          "Penalty",
          "Right-footed shot",
          "Right-footed shot",
          "Penalty",
          "Header",
          "Header",
          "Penalty",
          "Left-footed shot",
          "Left-footed shot",
          "Right-footed shot",
          "Left-footed shot",
          "Header",
          "Direct free kick",
          "Direct free kick",
          "Header",
          "Penalty",
          "Right-footed shot",
          "Right-footed shot",
          "Penalty",
          "Header",
          "Direct free kick",
          "Header",
          "Penalty",
          "Direct free kick",
          "Left-footed shot",
          "Long distance kick",
          "Penalty",
          "Header",
          "Direct free kick",
          "Right-footed shot",
          "Direct free kick",
          "Tap-in",
          "Left-footed shot",
          "Right-footed shot",
          "Right-footed shot",
          "Right-footed shot",
          "Header",
          "Right-footed shot",
          "Right-footed shot",
          "Right-footed shot",
          "Right-footed shot",
          "Right-footed shot",
          "Penalty",
          "Penalty",
          "Right-footed shot",
          "Right-footed shot",
          "Right-footed shot",
          "Right-footed shot",
          "Header",
          "Right-footed shot",
          "Header",
          "Direct free kick",
          "Left-footed shot",
          "Right-footed shot",
          "Penalty",
          "Penalty"
         ],
         "xaxis": "x",
         "yaxis": "y"
        },
        {
         "alignmentgroup": "True",
         "bingroup": "x",
         "hovertemplate": "Club=Real Madrid<br>Type=%{x}<br>count=%{y}<extra></extra>",
         "legendgroup": "Real Madrid",
         "marker": {
          "color": "#00cc96",
          "pattern": {
           "shape": ""
          }
         },
         "name": "Real Madrid",
         "offsetgroup": "Real Madrid",
         "orientation": "v",
         "showlegend": true,
         "type": "histogram",
         "x": [
          "Penalty",
          "Right-footed shot",
          "Direct free kick",
          "Direct free kick",
          "Right-footed shot",
          "Header",
          "Right-footed shot",
          "Left-footed shot",
          "Right-footed shot",
          "Right-footed shot",
          "Direct free kick",
          "Right-footed shot",
          "Left-footed shot",
          "Right-footed shot",
          "Right-footed shot",
          "Header",
          "Left-footed shot",
          "Direct free kick",
          "Penalty",
          "Left-footed shot",
          "Left-footed shot",
          "Direct free kick",
          "Direct free kick",
          "Right-footed shot",
          "Penalty",
          "Left-footed shot",
          "Right-footed shot",
          "Right-footed shot",
          "Header",
          "Right-footed shot",
          "Right-footed shot",
          "Right-footed shot",
          "Penalty",
          "Penalty",
          "Header",
          "Left-footed shot",
          "Right-footed shot",
          "Penalty",
          "Direct free kick",
          "Right-footed shot",
          "Left-footed shot",
          "Right-footed shot",
          "Penalty",
          "Right-footed shot",
          "Right-footed shot",
          "Left-footed shot",
          "Left-footed shot",
          "Direct free kick",
          "Penalty",
          "Left-footed shot",
          "Penalty",
          "Left-footed shot",
          "Right-footed shot",
          "Right-footed shot",
          "Direct free kick",
          "Right-footed shot",
          "Right-footed shot",
          "Right-footed shot",
          "Penalty",
          "Right-footed shot",
          "Right-footed shot",
          "Header",
          "Left-footed shot",
          "Right-footed shot",
          "Right-footed shot",
          "Left-footed shot",
          "Header",
          "Left-footed shot",
          "Penalty",
          "Right-footed shot",
          "Right-footed shot",
          "Right-footed shot",
          "Right-footed shot",
          "Penalty",
          "Header",
          "Right-footed shot",
          "Right-footed shot",
          "Right-footed shot",
          "Right-footed shot",
          "Header",
          "Left-footed shot",
          "Penalty",
          "Direct free kick",
          "Direct free kick",
          "Right-footed shot",
          "Right-footed shot",
          "Right-footed shot",
          "Left-footed shot",
          "Right-footed shot",
          "Right-footed shot",
          "Penalty",
          "Left-footed shot",
          "Penalty",
          "Penalty",
          "Right-footed shot",
          "Left-footed shot",
          "Right-footed shot",
          "Right-footed shot",
          "Direct free kick",
          "Penalty",
          "Header",
          "Penalty",
          "Header",
          "Right-footed shot",
          "Penalty",
          "Penalty",
          "Right-footed shot",
          "Left-footed shot",
          "Right-footed shot",
          "Right-footed shot",
          "Penalty",
          "Right-footed shot",
          "Left-footed shot",
          "Penalty",
          "Penalty",
          "Right-footed shot",
          "Right-footed shot",
          "Penalty",
          "Header",
          "Right-footed shot",
          "Header",
          "Left-footed shot",
          "Right-footed shot",
          "Left-footed shot",
          "Left-footed shot",
          "Left-footed shot",
          "Right-footed shot",
          "Right-footed shot",
          "Right-footed shot",
          "Right-footed shot",
          "Right-footed shot",
          "Long distance kick",
          "Direct free kick",
          "Right-footed shot",
          "Direct free kick",
          "Direct free kick",
          "Long distance kick",
          "Penalty",
          "Header",
          "Right-footed shot",
          "Penalty",
          "Right-footed shot",
          "Right-footed shot",
          "Header",
          "Penalty",
          "Header",
          "Header",
          "Right-footed shot",
          "Right-footed shot",
          "Left-footed shot",
          "Right-footed shot",
          "Penalty",
          "Penalty",
          "Header",
          "Penalty",
          "Right-footed shot",
          "Right-footed shot",
          "Left-footed shot",
          "Left-footed shot",
          "Right-footed shot",
          "Penalty",
          "Right-footed shot",
          "Right-footed shot",
          "Right-footed shot",
          "Right-footed shot",
          "Direct free kick",
          "Right-footed shot",
          "Left-footed shot",
          "Right-footed shot",
          "Left-footed shot",
          "Direct free kick",
          "Right-footed shot",
          "Left-footed shot",
          "Left-footed shot",
          "Left-footed shot",
          "Right-footed shot",
          "Left-footed shot",
          "Header",
          "Penalty",
          "Left-footed shot",
          "Left-footed shot",
          "Right-footed shot",
          "Header",
          "Penalty",
          "Left-footed shot",
          "Right-footed shot",
          "Left-footed shot",
          "Penalty",
          "Header",
          "Long distance kick",
          "Left-footed shot",
          "Right-footed shot",
          "Right-footed shot",
          "Right-footed shot",
          "Direct free kick",
          "Header",
          "Right-footed shot",
          "Header",
          "Header",
          "Right-footed shot",
          "Header",
          "Header",
          "Right-footed shot",
          "Left-footed shot",
          "Tap-in",
          "Left-footed shot",
          "Penalty",
          "Right-footed shot",
          "Direct free kick",
          "Penalty",
          "Header",
          "Header",
          "Right-footed shot",
          "Penalty",
          "Right-footed shot",
          "Penalty",
          "Penalty",
          "Right-footed shot",
          "Right-footed shot",
          "Right-footed shot",
          "Right-footed shot",
          "Right-footed shot",
          "Right-footed shot",
          "Penalty",
          "Direct free kick",
          "Left-footed shot",
          "Right-footed shot",
          "Header",
          "Right-footed shot",
          "Right-footed shot",
          "Direct free kick",
          "Right-footed shot",
          "Right-footed shot",
          "Penalty",
          "Penalty",
          "Left-footed shot",
          "Right-footed shot",
          "Right-footed shot",
          "Header",
          "Right-footed shot",
          "Right-footed shot",
          "Right-footed shot",
          "Penalty",
          "Direct free kick",
          "Right-footed shot",
          "Left-footed shot",
          "Long distance kick",
          "Long distance kick",
          "Counter attack goal",
          "Direct free kick",
          "Right-footed shot",
          "Penalty",
          "Right-footed shot",
          "Left-footed shot",
          "Right-footed shot",
          "Penalty",
          "Right-footed shot",
          "Header",
          "Left-footed shot",
          "Left-footed shot",
          "Penalty",
          "Header",
          "Penalty",
          "Right-footed shot",
          "Right-footed shot",
          "Penalty",
          "Header",
          "Right-footed shot",
          "Deflected shot on goal",
          "Penalty",
          "Right-footed shot",
          "Right-footed shot",
          "Penalty",
          "Right-footed shot",
          "Right-footed shot",
          "Right-footed shot",
          "Penalty",
          "Left-footed shot",
          "Penalty",
          "Right-footed shot",
          "Left-footed shot",
          "Penalty",
          "Right-footed shot",
          "Right-footed shot",
          "Penalty",
          "Header",
          "Left-footed shot",
          "Header",
          "Header",
          "Header",
          "Penalty",
          "Header",
          "Header",
          "Right-footed shot",
          "Right-footed shot",
          "Right-footed shot",
          "Long distance kick",
          "Header",
          "Header",
          "Header",
          "Direct free kick",
          "Left-footed shot",
          "Header",
          "Right-footed shot",
          "Header",
          "Header",
          "Penalty",
          "Left-footed shot",
          "Right-footed shot",
          "Header",
          "Header",
          "Direct free kick",
          "Penalty",
          "Right-footed shot",
          "Penalty",
          "Left-footed shot",
          "Right-footed shot",
          "Right-footed shot",
          "Penalty",
          "Penalty",
          "Header",
          "Right-footed shot",
          "Left-footed shot",
          "Right-footed shot",
          "Right-footed shot",
          "Header",
          "Header",
          "Right-footed shot",
          "Penalty",
          "Right-footed shot",
          "Direct free kick",
          "Tap-in",
          "Right-footed shot",
          "Right-footed shot",
          "Penalty",
          "Header",
          "Penalty",
          "Left-footed shot",
          "Left-footed shot",
          "Left-footed shot",
          "Penalty",
          "Left-footed shot",
          "Header",
          "Right-footed shot",
          "Right-footed shot",
          "Right-footed shot",
          "Header",
          "Penalty",
          "Long distance kick",
          "Direct free kick",
          "Right-footed shot",
          "Header",
          "Right-footed shot",
          "Left-footed shot",
          "Right-footed shot",
          "Right-footed shot",
          "Right-footed shot",
          "Header",
          "Direct free kick",
          "Left-footed shot",
          "Right-footed shot",
          "Left-footed shot",
          "Left-footed shot",
          "Header",
          "Right-footed shot",
          "Direct free kick",
          "Right-footed shot",
          "Right-footed shot",
          "Penalty",
          "Right-footed shot",
          "Right-footed shot",
          "Direct free kick",
          "Penalty",
          "Right-footed shot",
          "Penalty",
          "Header",
          "Right-footed shot",
          "Penalty",
          "Left-footed shot",
          "Left-footed shot",
          "Header",
          "Penalty",
          "Direct free kick",
          "Right-footed shot",
          "Right-footed shot",
          "Header",
          "Penalty",
          "Penalty",
          "Header",
          "Header",
          "Right-footed shot",
          "Right-footed shot",
          "Header",
          "Left-footed shot",
          "Right-footed shot",
          "Header",
          "Header",
          "Right-footed shot",
          "Right-footed shot",
          "Right-footed shot",
          "Left-footed shot",
          "Left-footed shot",
          "Left-footed shot",
          "Right-footed shot",
          "Right-footed shot",
          "Right-footed shot",
          "Right-footed shot",
          "Counter attack goal",
          "Penalty",
          "Left-footed shot",
          "Right-footed shot",
          "Right-footed shot",
          "Penalty",
          "Right-footed shot",
          "Header",
          "Left-footed shot",
          "Penalty rebound",
          "Right-footed shot",
          "Right-footed shot",
          "Penalty",
          "Right-footed shot",
          "Direct free kick",
          "Left-footed shot",
          "Header",
          "Penalty",
          "Penalty",
          "Right-footed shot",
          "Header",
          "Tap-in",
          "Penalty",
          "Tap-in",
          "Right-footed shot",
          "Left-footed shot",
          "Right-footed shot",
          "Left-footed shot",
          "Header",
          "Header",
          "Right-footed shot",
          "Header",
          "Left-footed shot",
          "Left-footed shot",
          "Tap-in",
          "Right-footed shot",
          "Right-footed shot",
          "Right-footed shot",
          "Right-footed shot",
          "Penalty",
          "Right-footed shot",
          "Right-footed shot",
          "Header"
         ],
         "xaxis": "x",
         "yaxis": "y"
        },
        {
         "alignmentgroup": "True",
         "bingroup": "x",
         "hovertemplate": "Club=Juventus FC<br>Type=%{x}<br>count=%{y}<extra></extra>",
         "legendgroup": "Juventus FC",
         "marker": {
          "color": "#ab63fa",
          "pattern": {
           "shape": ""
          }
         },
         "name": "Juventus FC",
         "offsetgroup": "Juventus FC",
         "orientation": "v",
         "showlegend": true,
         "type": "histogram",
         "x": [
          "Tap-in",
          "Left-footed shot",
          "Left-footed shot",
          "Left-footed shot",
          "Tap-in",
          "Penalty",
          "Right-footed shot",
          "Right-footed shot",
          "Tap-in",
          "Left-footed shot",
          "Penalty",
          "Penalty",
          "Header",
          "Right-footed shot",
          "Penalty",
          "Header",
          "Penalty",
          "Right-footed shot",
          "Header",
          "Header",
          "Right-footed shot",
          "Header",
          "Header",
          "Penalty",
          "Header",
          "Header",
          "Left-footed shot",
          "Header",
          "Left-footed shot",
          "Penalty",
          "Header",
          "Right-footed shot",
          "Right-footed shot",
          "Penalty",
          "Penalty",
          "Tap-in",
          "Right-footed shot",
          "Right-footed shot",
          "Left-footed shot",
          "Header",
          "Right-footed shot",
          "Penalty",
          "Left-footed shot",
          "Penalty",
          "Deflected shot on goal",
          "Right-footed shot",
          "Left-footed shot",
          "Right-footed shot",
          "Penalty",
          "Penalty",
          "Right-footed shot",
          "Penalty",
          "Tap-in",
          "Penalty",
          "Penalty",
          "Long distance kick",
          "Direct free kick",
          "Left-footed shot",
          "Penalty",
          "Penalty",
          "Penalty",
          "Counter attack goal",
          "Right-footed shot",
          "Penalty",
          "Left-footed shot",
          "Right-footed shot",
          "Penalty",
          "Header",
          "Right-footed shot",
          "Penalty",
          "Right-footed shot",
          "Right-footed shot",
          "Right-footed shot",
          "Left-footed shot",
          "Right-footed shot",
          "Penalty",
          "Penalty",
          "Penalty",
          "Penalty",
          "Header",
          "Left-footed shot",
          "Right-footed shot",
          "Left-footed shot",
          "Right-footed shot",
          "Tap-in",
          "Penalty",
          "Left-footed shot",
          "Left-footed shot",
          "Header",
          "Header",
          "Right-footed shot",
          "Counter attack goal",
          "Header",
          "Penalty",
          "Left-footed shot",
          "Header",
          "Right-footed shot",
          "Penalty",
          "Header",
          "Left-footed shot",
          "Penalty rebound"
         ],
         "xaxis": "x",
         "yaxis": "y"
        }
       ],
       "layout": {
        "barmode": "relative",
        "height": 500,
        "legend": {
         "title": {
          "text": "Club"
         },
         "tracegroupgap": 0
        },
        "template": {
         "data": {
          "bar": [
           {
            "error_x": {
             "color": "#2a3f5f"
            },
            "error_y": {
             "color": "#2a3f5f"
            },
            "marker": {
             "line": {
              "color": "#E5ECF6",
              "width": 0.5
             },
             "pattern": {
              "fillmode": "overlay",
              "size": 10,
              "solidity": 0.2
             }
            },
            "type": "bar"
           }
          ],
          "barpolar": [
           {
            "marker": {
             "line": {
              "color": "#E5ECF6",
              "width": 0.5
             },
             "pattern": {
              "fillmode": "overlay",
              "size": 10,
              "solidity": 0.2
             }
            },
            "type": "barpolar"
           }
          ],
          "carpet": [
           {
            "aaxis": {
             "endlinecolor": "#2a3f5f",
             "gridcolor": "white",
             "linecolor": "white",
             "minorgridcolor": "white",
             "startlinecolor": "#2a3f5f"
            },
            "baxis": {
             "endlinecolor": "#2a3f5f",
             "gridcolor": "white",
             "linecolor": "white",
             "minorgridcolor": "white",
             "startlinecolor": "#2a3f5f"
            },
            "type": "carpet"
           }
          ],
          "choropleth": [
           {
            "colorbar": {
             "outlinewidth": 0,
             "ticks": ""
            },
            "type": "choropleth"
           }
          ],
          "contour": [
           {
            "colorbar": {
             "outlinewidth": 0,
             "ticks": ""
            },
            "colorscale": [
             [
              0,
              "#0d0887"
             ],
             [
              0.1111111111111111,
              "#46039f"
             ],
             [
              0.2222222222222222,
              "#7201a8"
             ],
             [
              0.3333333333333333,
              "#9c179e"
             ],
             [
              0.4444444444444444,
              "#bd3786"
             ],
             [
              0.5555555555555556,
              "#d8576b"
             ],
             [
              0.6666666666666666,
              "#ed7953"
             ],
             [
              0.7777777777777778,
              "#fb9f3a"
             ],
             [
              0.8888888888888888,
              "#fdca26"
             ],
             [
              1,
              "#f0f921"
             ]
            ],
            "type": "contour"
           }
          ],
          "contourcarpet": [
           {
            "colorbar": {
             "outlinewidth": 0,
             "ticks": ""
            },
            "type": "contourcarpet"
           }
          ],
          "heatmap": [
           {
            "colorbar": {
             "outlinewidth": 0,
             "ticks": ""
            },
            "colorscale": [
             [
              0,
              "#0d0887"
             ],
             [
              0.1111111111111111,
              "#46039f"
             ],
             [
              0.2222222222222222,
              "#7201a8"
             ],
             [
              0.3333333333333333,
              "#9c179e"
             ],
             [
              0.4444444444444444,
              "#bd3786"
             ],
             [
              0.5555555555555556,
              "#d8576b"
             ],
             [
              0.6666666666666666,
              "#ed7953"
             ],
             [
              0.7777777777777778,
              "#fb9f3a"
             ],
             [
              0.8888888888888888,
              "#fdca26"
             ],
             [
              1,
              "#f0f921"
             ]
            ],
            "type": "heatmap"
           }
          ],
          "heatmapgl": [
           {
            "colorbar": {
             "outlinewidth": 0,
             "ticks": ""
            },
            "colorscale": [
             [
              0,
              "#0d0887"
             ],
             [
              0.1111111111111111,
              "#46039f"
             ],
             [
              0.2222222222222222,
              "#7201a8"
             ],
             [
              0.3333333333333333,
              "#9c179e"
             ],
             [
              0.4444444444444444,
              "#bd3786"
             ],
             [
              0.5555555555555556,
              "#d8576b"
             ],
             [
              0.6666666666666666,
              "#ed7953"
             ],
             [
              0.7777777777777778,
              "#fb9f3a"
             ],
             [
              0.8888888888888888,
              "#fdca26"
             ],
             [
              1,
              "#f0f921"
             ]
            ],
            "type": "heatmapgl"
           }
          ],
          "histogram": [
           {
            "marker": {
             "pattern": {
              "fillmode": "overlay",
              "size": 10,
              "solidity": 0.2
             }
            },
            "type": "histogram"
           }
          ],
          "histogram2d": [
           {
            "colorbar": {
             "outlinewidth": 0,
             "ticks": ""
            },
            "colorscale": [
             [
              0,
              "#0d0887"
             ],
             [
              0.1111111111111111,
              "#46039f"
             ],
             [
              0.2222222222222222,
              "#7201a8"
             ],
             [
              0.3333333333333333,
              "#9c179e"
             ],
             [
              0.4444444444444444,
              "#bd3786"
             ],
             [
              0.5555555555555556,
              "#d8576b"
             ],
             [
              0.6666666666666666,
              "#ed7953"
             ],
             [
              0.7777777777777778,
              "#fb9f3a"
             ],
             [
              0.8888888888888888,
              "#fdca26"
             ],
             [
              1,
              "#f0f921"
             ]
            ],
            "type": "histogram2d"
           }
          ],
          "histogram2dcontour": [
           {
            "colorbar": {
             "outlinewidth": 0,
             "ticks": ""
            },
            "colorscale": [
             [
              0,
              "#0d0887"
             ],
             [
              0.1111111111111111,
              "#46039f"
             ],
             [
              0.2222222222222222,
              "#7201a8"
             ],
             [
              0.3333333333333333,
              "#9c179e"
             ],
             [
              0.4444444444444444,
              "#bd3786"
             ],
             [
              0.5555555555555556,
              "#d8576b"
             ],
             [
              0.6666666666666666,
              "#ed7953"
             ],
             [
              0.7777777777777778,
              "#fb9f3a"
             ],
             [
              0.8888888888888888,
              "#fdca26"
             ],
             [
              1,
              "#f0f921"
             ]
            ],
            "type": "histogram2dcontour"
           }
          ],
          "mesh3d": [
           {
            "colorbar": {
             "outlinewidth": 0,
             "ticks": ""
            },
            "type": "mesh3d"
           }
          ],
          "parcoords": [
           {
            "line": {
             "colorbar": {
              "outlinewidth": 0,
              "ticks": ""
             }
            },
            "type": "parcoords"
           }
          ],
          "pie": [
           {
            "automargin": true,
            "type": "pie"
           }
          ],
          "scatter": [
           {
            "fillpattern": {
             "fillmode": "overlay",
             "size": 10,
             "solidity": 0.2
            },
            "type": "scatter"
           }
          ],
          "scatter3d": [
           {
            "line": {
             "colorbar": {
              "outlinewidth": 0,
              "ticks": ""
             }
            },
            "marker": {
             "colorbar": {
              "outlinewidth": 0,
              "ticks": ""
             }
            },
            "type": "scatter3d"
           }
          ],
          "scattercarpet": [
           {
            "marker": {
             "colorbar": {
              "outlinewidth": 0,
              "ticks": ""
             }
            },
            "type": "scattercarpet"
           }
          ],
          "scattergeo": [
           {
            "marker": {
             "colorbar": {
              "outlinewidth": 0,
              "ticks": ""
             }
            },
            "type": "scattergeo"
           }
          ],
          "scattergl": [
           {
            "marker": {
             "colorbar": {
              "outlinewidth": 0,
              "ticks": ""
             }
            },
            "type": "scattergl"
           }
          ],
          "scattermapbox": [
           {
            "marker": {
             "colorbar": {
              "outlinewidth": 0,
              "ticks": ""
             }
            },
            "type": "scattermapbox"
           }
          ],
          "scatterpolar": [
           {
            "marker": {
             "colorbar": {
              "outlinewidth": 0,
              "ticks": ""
             }
            },
            "type": "scatterpolar"
           }
          ],
          "scatterpolargl": [
           {
            "marker": {
             "colorbar": {
              "outlinewidth": 0,
              "ticks": ""
             }
            },
            "type": "scatterpolargl"
           }
          ],
          "scatterternary": [
           {
            "marker": {
             "colorbar": {
              "outlinewidth": 0,
              "ticks": ""
             }
            },
            "type": "scatterternary"
           }
          ],
          "surface": [
           {
            "colorbar": {
             "outlinewidth": 0,
             "ticks": ""
            },
            "colorscale": [
             [
              0,
              "#0d0887"
             ],
             [
              0.1111111111111111,
              "#46039f"
             ],
             [
              0.2222222222222222,
              "#7201a8"
             ],
             [
              0.3333333333333333,
              "#9c179e"
             ],
             [
              0.4444444444444444,
              "#bd3786"
             ],
             [
              0.5555555555555556,
              "#d8576b"
             ],
             [
              0.6666666666666666,
              "#ed7953"
             ],
             [
              0.7777777777777778,
              "#fb9f3a"
             ],
             [
              0.8888888888888888,
              "#fdca26"
             ],
             [
              1,
              "#f0f921"
             ]
            ],
            "type": "surface"
           }
          ],
          "table": [
           {
            "cells": {
             "fill": {
              "color": "#EBF0F8"
             },
             "line": {
              "color": "white"
             }
            },
            "header": {
             "fill": {
              "color": "#C8D4E3"
             },
             "line": {
              "color": "white"
             }
            },
            "type": "table"
           }
          ]
         },
         "layout": {
          "annotationdefaults": {
           "arrowcolor": "#2a3f5f",
           "arrowhead": 0,
           "arrowwidth": 1
          },
          "autotypenumbers": "strict",
          "coloraxis": {
           "colorbar": {
            "outlinewidth": 0,
            "ticks": ""
           }
          },
          "colorscale": {
           "diverging": [
            [
             0,
             "#8e0152"
            ],
            [
             0.1,
             "#c51b7d"
            ],
            [
             0.2,
             "#de77ae"
            ],
            [
             0.3,
             "#f1b6da"
            ],
            [
             0.4,
             "#fde0ef"
            ],
            [
             0.5,
             "#f7f7f7"
            ],
            [
             0.6,
             "#e6f5d0"
            ],
            [
             0.7,
             "#b8e186"
            ],
            [
             0.8,
             "#7fbc41"
            ],
            [
             0.9,
             "#4d9221"
            ],
            [
             1,
             "#276419"
            ]
           ],
           "sequential": [
            [
             0,
             "#0d0887"
            ],
            [
             0.1111111111111111,
             "#46039f"
            ],
            [
             0.2222222222222222,
             "#7201a8"
            ],
            [
             0.3333333333333333,
             "#9c179e"
            ],
            [
             0.4444444444444444,
             "#bd3786"
            ],
            [
             0.5555555555555556,
             "#d8576b"
            ],
            [
             0.6666666666666666,
             "#ed7953"
            ],
            [
             0.7777777777777778,
             "#fb9f3a"
            ],
            [
             0.8888888888888888,
             "#fdca26"
            ],
            [
             1,
             "#f0f921"
            ]
           ],
           "sequentialminus": [
            [
             0,
             "#0d0887"
            ],
            [
             0.1111111111111111,
             "#46039f"
            ],
            [
             0.2222222222222222,
             "#7201a8"
            ],
            [
             0.3333333333333333,
             "#9c179e"
            ],
            [
             0.4444444444444444,
             "#bd3786"
            ],
            [
             0.5555555555555556,
             "#d8576b"
            ],
            [
             0.6666666666666666,
             "#ed7953"
            ],
            [
             0.7777777777777778,
             "#fb9f3a"
            ],
            [
             0.8888888888888888,
             "#fdca26"
            ],
            [
             1,
             "#f0f921"
            ]
           ]
          },
          "colorway": [
           "#636efa",
           "#EF553B",
           "#00cc96",
           "#ab63fa",
           "#FFA15A",
           "#19d3f3",
           "#FF6692",
           "#B6E880",
           "#FF97FF",
           "#FECB52"
          ],
          "font": {
           "color": "#2a3f5f"
          },
          "geo": {
           "bgcolor": "white",
           "lakecolor": "white",
           "landcolor": "#E5ECF6",
           "showlakes": true,
           "showland": true,
           "subunitcolor": "white"
          },
          "hoverlabel": {
           "align": "left"
          },
          "hovermode": "closest",
          "mapbox": {
           "style": "light"
          },
          "paper_bgcolor": "white",
          "plot_bgcolor": "#E5ECF6",
          "polar": {
           "angularaxis": {
            "gridcolor": "white",
            "linecolor": "white",
            "ticks": ""
           },
           "bgcolor": "#E5ECF6",
           "radialaxis": {
            "gridcolor": "white",
            "linecolor": "white",
            "ticks": ""
           }
          },
          "scene": {
           "xaxis": {
            "backgroundcolor": "#E5ECF6",
            "gridcolor": "white",
            "gridwidth": 2,
            "linecolor": "white",
            "showbackground": true,
            "ticks": "",
            "zerolinecolor": "white"
           },
           "yaxis": {
            "backgroundcolor": "#E5ECF6",
            "gridcolor": "white",
            "gridwidth": 2,
            "linecolor": "white",
            "showbackground": true,
            "ticks": "",
            "zerolinecolor": "white"
           },
           "zaxis": {
            "backgroundcolor": "#E5ECF6",
            "gridcolor": "white",
            "gridwidth": 2,
            "linecolor": "white",
            "showbackground": true,
            "ticks": "",
            "zerolinecolor": "white"
           }
          },
          "shapedefaults": {
           "line": {
            "color": "#2a3f5f"
           }
          },
          "ternary": {
           "aaxis": {
            "gridcolor": "white",
            "linecolor": "white",
            "ticks": ""
           },
           "baxis": {
            "gridcolor": "white",
            "linecolor": "white",
            "ticks": ""
           },
           "bgcolor": "#E5ECF6",
           "caxis": {
            "gridcolor": "white",
            "linecolor": "white",
            "ticks": ""
           }
          },
          "title": {
           "x": 0.05
          },
          "xaxis": {
           "automargin": true,
           "gridcolor": "white",
           "linecolor": "white",
           "ticks": "",
           "title": {
            "standoff": 15
           },
           "zerolinecolor": "white",
           "zerolinewidth": 2
          },
          "yaxis": {
           "automargin": true,
           "gridcolor": "white",
           "linecolor": "white",
           "ticks": "",
           "title": {
            "standoff": 15
           },
           "zerolinecolor": "white",
           "zerolinewidth": 2
          }
         }
        },
        "title": {
         "text": "Goals per Type"
        },
        "xaxis": {
         "anchor": "y",
         "domain": [
          0,
          1
         ],
         "title": {
          "text": "Type"
         }
        },
        "yaxis": {
         "anchor": "x",
         "domain": [
          0,
          1
         ],
         "title": {
          "text": "count"
         }
        }
       }
      },
      "text/html": [
       "<div>                            <div id=\"d3168268-e2e8-45bc-9d27-ddfc327a6114\" class=\"plotly-graph-div\" style=\"height:500px; width:100%;\"></div>            <script type=\"text/javascript\">                require([\"plotly\"], function(Plotly) {                    window.PLOTLYENV=window.PLOTLYENV || {};                                    if (document.getElementById(\"d3168268-e2e8-45bc-9d27-ddfc327a6114\")) {                    Plotly.newPlot(                        \"d3168268-e2e8-45bc-9d27-ddfc327a6114\",                        [{\"alignmentgroup\":\"True\",\"bingroup\":\"x\",\"hovertemplate\":\"Club=Sporting CP<br>Type=%{x}<br>count=%{y}<extra></extra>\",\"legendgroup\":\"Sporting CP\",\"marker\":{\"color\":\"#636efa\",\"pattern\":{\"shape\":\"\"}},\"name\":\"Sporting CP\",\"offsetgroup\":\"Sporting CP\",\"orientation\":\"v\",\"showlegend\":true,\"x\":[\"Solo run\",\"Header\",\"Right-footed shot\",\"Left-footed shot\",null],\"xaxis\":\"x\",\"yaxis\":\"y\",\"type\":\"histogram\"},{\"alignmentgroup\":\"True\",\"bingroup\":\"x\",\"hovertemplate\":\"Club=Manchester United<br>Type=%{x}<br>count=%{y}<extra></extra>\",\"legendgroup\":\"Manchester United\",\"marker\":{\"color\":\"#EF553B\",\"pattern\":{\"shape\":\"\"}},\"name\":\"Manchester United\",\"offsetgroup\":\"Manchester United\",\"orientation\":\"v\",\"showlegend\":true,\"x\":[\"Direct free kick\",\"Right-footed shot\",\"Right-footed shot\",\"Header\",\"Right-footed shot\",\"Header\",\"Right-footed shot\",null,\"Right-footed shot\",\"Left-footed shot\",\"Tap-in\",\"Tap-in\",\"Left-footed shot\",\"Right-footed shot\",\"Right-footed shot\",\"Right-footed shot\",\"Header\",\"Penalty\",\"Right-footed shot\",\"Left-footed shot\",\"Direct free kick\",\"Right-footed shot\",\"Left-footed shot\",\"Right-footed shot\",null,\"Right-footed shot\",\"Left-footed shot\",null,null,null,\"Direct free kick\",null,null,null,null,null,\"Penalty rebound\",null,null,\"Header\",\"Penalty\",\"Penalty\",\"Solo run\",\"Penalty\",\"Penalty\",\"Right-footed shot\",\"Right-footed shot\",\"Right-footed shot\",\"Header\",\"Penalty\",\"Header\",null,\"Header\",\"Right-footed shot\",\"Penalty\",\"Header\",null,\"Right-footed shot\",\"Header\",\"Right-footed shot\",\"Direct free kick\",\"Right-footed shot\",\"Header\",\"Penalty\",\"Left-footed shot\",\"Penalty\",\"Direct free kick\",\"Header\",\"Left-footed shot\",\"Direct free kick\",\"Right-footed shot\",\"Left-footed shot\",\"Right-footed shot\",\"Penalty\",\"Right-footed shot\",\"Right-footed shot\",\"Direct free kick\",\"Right-footed shot\",\"Right-footed shot\",\"Left-footed shot\",\"Right-footed shot\",\"Right-footed shot\",\"Direct free kick\",\"Header\",\"Right-footed shot\",\"Header\",\"Left-footed shot\",\"Penalty\",\"Right-footed shot\",\"Right-footed shot\",\"Penalty\",\"Header\",\"Header\",\"Penalty\",\"Left-footed shot\",\"Left-footed shot\",\"Right-footed shot\",\"Left-footed shot\",\"Header\",\"Direct free kick\",\"Direct free kick\",\"Header\",\"Penalty\",\"Right-footed shot\",\"Right-footed shot\",\"Penalty\",\"Header\",\"Direct free kick\",\"Header\",\"Penalty\",\"Direct free kick\",\"Left-footed shot\",\"Long distance kick\",\"Penalty\",\"Header\",\"Direct free kick\",\"Right-footed shot\",\"Direct free kick\",\"Tap-in\",\"Left-footed shot\",\"Right-footed shot\",\"Right-footed shot\",\"Right-footed shot\",\"Header\",\"Right-footed shot\",\"Right-footed shot\",\"Right-footed shot\",\"Right-footed shot\",\"Right-footed shot\",\"Penalty\",\"Penalty\",\"Right-footed shot\",\"Right-footed shot\",\"Right-footed shot\",\"Right-footed shot\",\"Header\",\"Right-footed shot\",\"Header\",\"Direct free kick\",\"Left-footed shot\",\"Right-footed shot\",\"Penalty\",\"Penalty\"],\"xaxis\":\"x\",\"yaxis\":\"y\",\"type\":\"histogram\"},{\"alignmentgroup\":\"True\",\"bingroup\":\"x\",\"hovertemplate\":\"Club=Real Madrid<br>Type=%{x}<br>count=%{y}<extra></extra>\",\"legendgroup\":\"Real Madrid\",\"marker\":{\"color\":\"#00cc96\",\"pattern\":{\"shape\":\"\"}},\"name\":\"Real Madrid\",\"offsetgroup\":\"Real Madrid\",\"orientation\":\"v\",\"showlegend\":true,\"x\":[\"Penalty\",\"Right-footed shot\",\"Direct free kick\",\"Direct free kick\",\"Right-footed shot\",\"Header\",\"Right-footed shot\",\"Left-footed shot\",\"Right-footed shot\",\"Right-footed shot\",\"Direct free kick\",\"Right-footed shot\",\"Left-footed shot\",\"Right-footed shot\",\"Right-footed shot\",\"Header\",\"Left-footed shot\",\"Direct free kick\",\"Penalty\",\"Left-footed shot\",\"Left-footed shot\",\"Direct free kick\",\"Direct free kick\",\"Right-footed shot\",\"Penalty\",\"Left-footed shot\",\"Right-footed shot\",\"Right-footed shot\",\"Header\",\"Right-footed shot\",\"Right-footed shot\",\"Right-footed shot\",\"Penalty\",\"Penalty\",\"Header\",\"Left-footed shot\",\"Right-footed shot\",\"Penalty\",\"Direct free kick\",\"Right-footed shot\",\"Left-footed shot\",\"Right-footed shot\",\"Penalty\",\"Right-footed shot\",\"Right-footed shot\",\"Left-footed shot\",\"Left-footed shot\",\"Direct free kick\",\"Penalty\",\"Left-footed shot\",\"Penalty\",\"Left-footed shot\",\"Right-footed shot\",\"Right-footed shot\",\"Direct free kick\",\"Right-footed shot\",\"Right-footed shot\",\"Right-footed shot\",\"Penalty\",\"Right-footed shot\",\"Right-footed shot\",\"Header\",\"Left-footed shot\",\"Right-footed shot\",\"Right-footed shot\",\"Left-footed shot\",\"Header\",\"Left-footed shot\",\"Penalty\",\"Right-footed shot\",\"Right-footed shot\",\"Right-footed shot\",\"Right-footed shot\",\"Penalty\",\"Header\",\"Right-footed shot\",\"Right-footed shot\",\"Right-footed shot\",\"Right-footed shot\",\"Header\",\"Left-footed shot\",\"Penalty\",\"Direct free kick\",\"Direct free kick\",\"Right-footed shot\",\"Right-footed shot\",\"Right-footed shot\",\"Left-footed shot\",\"Right-footed shot\",\"Right-footed shot\",\"Penalty\",\"Left-footed shot\",\"Penalty\",\"Penalty\",\"Right-footed shot\",\"Left-footed shot\",\"Right-footed shot\",\"Right-footed shot\",\"Direct free kick\",\"Penalty\",\"Header\",\"Penalty\",\"Header\",\"Right-footed shot\",\"Penalty\",\"Penalty\",\"Right-footed shot\",\"Left-footed shot\",\"Right-footed shot\",\"Right-footed shot\",\"Penalty\",\"Right-footed shot\",\"Left-footed shot\",\"Penalty\",\"Penalty\",\"Right-footed shot\",\"Right-footed shot\",\"Penalty\",\"Header\",\"Right-footed shot\",\"Header\",\"Left-footed shot\",\"Right-footed shot\",\"Left-footed shot\",\"Left-footed shot\",\"Left-footed shot\",\"Right-footed shot\",\"Right-footed shot\",\"Right-footed shot\",\"Right-footed shot\",\"Right-footed shot\",\"Long distance kick\",\"Direct free kick\",\"Right-footed shot\",\"Direct free kick\",\"Direct free kick\",\"Long distance kick\",\"Penalty\",\"Header\",\"Right-footed shot\",\"Penalty\",\"Right-footed shot\",\"Right-footed shot\",\"Header\",\"Penalty\",\"Header\",\"Header\",\"Right-footed shot\",\"Right-footed shot\",\"Left-footed shot\",\"Right-footed shot\",\"Penalty\",\"Penalty\",\"Header\",\"Penalty\",\"Right-footed shot\",\"Right-footed shot\",\"Left-footed shot\",\"Left-footed shot\",\"Right-footed shot\",\"Penalty\",\"Right-footed shot\",\"Right-footed shot\",\"Right-footed shot\",\"Right-footed shot\",\"Direct free kick\",\"Right-footed shot\",\"Left-footed shot\",\"Right-footed shot\",\"Left-footed shot\",\"Direct free kick\",\"Right-footed shot\",\"Left-footed shot\",\"Left-footed shot\",\"Left-footed shot\",\"Right-footed shot\",\"Left-footed shot\",\"Header\",\"Penalty\",\"Left-footed shot\",\"Left-footed shot\",\"Right-footed shot\",\"Header\",\"Penalty\",\"Left-footed shot\",\"Right-footed shot\",\"Left-footed shot\",\"Penalty\",\"Header\",\"Long distance kick\",\"Left-footed shot\",\"Right-footed shot\",\"Right-footed shot\",\"Right-footed shot\",\"Direct free kick\",\"Header\",\"Right-footed shot\",\"Header\",\"Header\",\"Right-footed shot\",\"Header\",\"Header\",\"Right-footed shot\",\"Left-footed shot\",\"Tap-in\",\"Left-footed shot\",\"Penalty\",\"Right-footed shot\",\"Direct free kick\",\"Penalty\",\"Header\",\"Header\",\"Right-footed shot\",\"Penalty\",\"Right-footed shot\",\"Penalty\",\"Penalty\",\"Right-footed shot\",\"Right-footed shot\",\"Right-footed shot\",\"Right-footed shot\",\"Right-footed shot\",\"Right-footed shot\",\"Penalty\",\"Direct free kick\",\"Left-footed shot\",\"Right-footed shot\",\"Header\",\"Right-footed shot\",\"Right-footed shot\",\"Direct free kick\",\"Right-footed shot\",\"Right-footed shot\",\"Penalty\",\"Penalty\",\"Left-footed shot\",\"Right-footed shot\",\"Right-footed shot\",\"Header\",\"Right-footed shot\",\"Right-footed shot\",\"Right-footed shot\",\"Penalty\",\"Direct free kick\",\"Right-footed shot\",\"Left-footed shot\",\"Long distance kick\",\"Long distance kick\",\"Counter attack goal\",\"Direct free kick\",\"Right-footed shot\",\"Penalty\",\"Right-footed shot\",\"Left-footed shot\",\"Right-footed shot\",\"Penalty\",\"Right-footed shot\",\"Header\",\"Left-footed shot\",\"Left-footed shot\",\"Penalty\",\"Header\",\"Penalty\",\"Right-footed shot\",\"Right-footed shot\",\"Penalty\",\"Header\",\"Right-footed shot\",\"Deflected shot on goal\",\"Penalty\",\"Right-footed shot\",\"Right-footed shot\",\"Penalty\",\"Right-footed shot\",\"Right-footed shot\",\"Right-footed shot\",\"Penalty\",\"Left-footed shot\",\"Penalty\",\"Right-footed shot\",\"Left-footed shot\",\"Penalty\",\"Right-footed shot\",\"Right-footed shot\",\"Penalty\",\"Header\",\"Left-footed shot\",\"Header\",\"Header\",\"Header\",\"Penalty\",\"Header\",\"Header\",\"Right-footed shot\",\"Right-footed shot\",\"Right-footed shot\",\"Long distance kick\",\"Header\",\"Header\",\"Header\",\"Direct free kick\",\"Left-footed shot\",\"Header\",\"Right-footed shot\",\"Header\",\"Header\",\"Penalty\",\"Left-footed shot\",\"Right-footed shot\",\"Header\",\"Header\",\"Direct free kick\",\"Penalty\",\"Right-footed shot\",\"Penalty\",\"Left-footed shot\",\"Right-footed shot\",\"Right-footed shot\",\"Penalty\",\"Penalty\",\"Header\",\"Right-footed shot\",\"Left-footed shot\",\"Right-footed shot\",\"Right-footed shot\",\"Header\",\"Header\",\"Right-footed shot\",\"Penalty\",\"Right-footed shot\",\"Direct free kick\",\"Tap-in\",\"Right-footed shot\",\"Right-footed shot\",\"Penalty\",\"Header\",\"Penalty\",\"Left-footed shot\",\"Left-footed shot\",\"Left-footed shot\",\"Penalty\",\"Left-footed shot\",\"Header\",\"Right-footed shot\",\"Right-footed shot\",\"Right-footed shot\",\"Header\",\"Penalty\",\"Long distance kick\",\"Direct free kick\",\"Right-footed shot\",\"Header\",\"Right-footed shot\",\"Left-footed shot\",\"Right-footed shot\",\"Right-footed shot\",\"Right-footed shot\",\"Header\",\"Direct free kick\",\"Left-footed shot\",\"Right-footed shot\",\"Left-footed shot\",\"Left-footed shot\",\"Header\",\"Right-footed shot\",\"Direct free kick\",\"Right-footed shot\",\"Right-footed shot\",\"Penalty\",\"Right-footed shot\",\"Right-footed shot\",\"Direct free kick\",\"Penalty\",\"Right-footed shot\",\"Penalty\",\"Header\",\"Right-footed shot\",\"Penalty\",\"Left-footed shot\",\"Left-footed shot\",\"Header\",\"Penalty\",\"Direct free kick\",\"Right-footed shot\",\"Right-footed shot\",\"Header\",\"Penalty\",\"Penalty\",\"Header\",\"Header\",\"Right-footed shot\",\"Right-footed shot\",\"Header\",\"Left-footed shot\",\"Right-footed shot\",\"Header\",\"Header\",\"Right-footed shot\",\"Right-footed shot\",\"Right-footed shot\",\"Left-footed shot\",\"Left-footed shot\",\"Left-footed shot\",\"Right-footed shot\",\"Right-footed shot\",\"Right-footed shot\",\"Right-footed shot\",\"Counter attack goal\",\"Penalty\",\"Left-footed shot\",\"Right-footed shot\",\"Right-footed shot\",\"Penalty\",\"Right-footed shot\",\"Header\",\"Left-footed shot\",\"Penalty rebound\",\"Right-footed shot\",\"Right-footed shot\",\"Penalty\",\"Right-footed shot\",\"Direct free kick\",\"Left-footed shot\",\"Header\",\"Penalty\",\"Penalty\",\"Right-footed shot\",\"Header\",\"Tap-in\",\"Penalty\",\"Tap-in\",\"Right-footed shot\",\"Left-footed shot\",\"Right-footed shot\",\"Left-footed shot\",\"Header\",\"Header\",\"Right-footed shot\",\"Header\",\"Left-footed shot\",\"Left-footed shot\",\"Tap-in\",\"Right-footed shot\",\"Right-footed shot\",\"Right-footed shot\",\"Right-footed shot\",\"Penalty\",\"Right-footed shot\",\"Right-footed shot\",\"Header\"],\"xaxis\":\"x\",\"yaxis\":\"y\",\"type\":\"histogram\"},{\"alignmentgroup\":\"True\",\"bingroup\":\"x\",\"hovertemplate\":\"Club=Juventus FC<br>Type=%{x}<br>count=%{y}<extra></extra>\",\"legendgroup\":\"Juventus FC\",\"marker\":{\"color\":\"#ab63fa\",\"pattern\":{\"shape\":\"\"}},\"name\":\"Juventus FC\",\"offsetgroup\":\"Juventus FC\",\"orientation\":\"v\",\"showlegend\":true,\"x\":[\"Tap-in\",\"Left-footed shot\",\"Left-footed shot\",\"Left-footed shot\",\"Tap-in\",\"Penalty\",\"Right-footed shot\",\"Right-footed shot\",\"Tap-in\",\"Left-footed shot\",\"Penalty\",\"Penalty\",\"Header\",\"Right-footed shot\",\"Penalty\",\"Header\",\"Penalty\",\"Right-footed shot\",\"Header\",\"Header\",\"Right-footed shot\",\"Header\",\"Header\",\"Penalty\",\"Header\",\"Header\",\"Left-footed shot\",\"Header\",\"Left-footed shot\",\"Penalty\",\"Header\",\"Right-footed shot\",\"Right-footed shot\",\"Penalty\",\"Penalty\",\"Tap-in\",\"Right-footed shot\",\"Right-footed shot\",\"Left-footed shot\",\"Header\",\"Right-footed shot\",\"Penalty\",\"Left-footed shot\",\"Penalty\",\"Deflected shot on goal\",\"Right-footed shot\",\"Left-footed shot\",\"Right-footed shot\",\"Penalty\",\"Penalty\",\"Right-footed shot\",\"Penalty\",\"Tap-in\",\"Penalty\",\"Penalty\",\"Long distance kick\",\"Direct free kick\",\"Left-footed shot\",\"Penalty\",\"Penalty\",\"Penalty\",\"Counter attack goal\",\"Right-footed shot\",\"Penalty\",\"Left-footed shot\",\"Right-footed shot\",\"Penalty\",\"Header\",\"Right-footed shot\",\"Penalty\",\"Right-footed shot\",\"Right-footed shot\",\"Right-footed shot\",\"Left-footed shot\",\"Right-footed shot\",\"Penalty\",\"Penalty\",\"Penalty\",\"Penalty\",\"Header\",\"Left-footed shot\",\"Right-footed shot\",\"Left-footed shot\",\"Right-footed shot\",\"Tap-in\",\"Penalty\",\"Left-footed shot\",\"Left-footed shot\",\"Header\",\"Header\",\"Right-footed shot\",\"Counter attack goal\",\"Header\",\"Penalty\",\"Left-footed shot\",\"Header\",\"Right-footed shot\",\"Penalty\",\"Header\",\"Left-footed shot\",\"Penalty rebound\"],\"xaxis\":\"x\",\"yaxis\":\"y\",\"type\":\"histogram\"}],                        {\"template\":{\"data\":{\"histogram2dcontour\":[{\"type\":\"histogram2dcontour\",\"colorbar\":{\"outlinewidth\":0,\"ticks\":\"\"},\"colorscale\":[[0.0,\"#0d0887\"],[0.1111111111111111,\"#46039f\"],[0.2222222222222222,\"#7201a8\"],[0.3333333333333333,\"#9c179e\"],[0.4444444444444444,\"#bd3786\"],[0.5555555555555556,\"#d8576b\"],[0.6666666666666666,\"#ed7953\"],[0.7777777777777778,\"#fb9f3a\"],[0.8888888888888888,\"#fdca26\"],[1.0,\"#f0f921\"]]}],\"choropleth\":[{\"type\":\"choropleth\",\"colorbar\":{\"outlinewidth\":0,\"ticks\":\"\"}}],\"histogram2d\":[{\"type\":\"histogram2d\",\"colorbar\":{\"outlinewidth\":0,\"ticks\":\"\"},\"colorscale\":[[0.0,\"#0d0887\"],[0.1111111111111111,\"#46039f\"],[0.2222222222222222,\"#7201a8\"],[0.3333333333333333,\"#9c179e\"],[0.4444444444444444,\"#bd3786\"],[0.5555555555555556,\"#d8576b\"],[0.6666666666666666,\"#ed7953\"],[0.7777777777777778,\"#fb9f3a\"],[0.8888888888888888,\"#fdca26\"],[1.0,\"#f0f921\"]]}],\"heatmap\":[{\"type\":\"heatmap\",\"colorbar\":{\"outlinewidth\":0,\"ticks\":\"\"},\"colorscale\":[[0.0,\"#0d0887\"],[0.1111111111111111,\"#46039f\"],[0.2222222222222222,\"#7201a8\"],[0.3333333333333333,\"#9c179e\"],[0.4444444444444444,\"#bd3786\"],[0.5555555555555556,\"#d8576b\"],[0.6666666666666666,\"#ed7953\"],[0.7777777777777778,\"#fb9f3a\"],[0.8888888888888888,\"#fdca26\"],[1.0,\"#f0f921\"]]}],\"heatmapgl\":[{\"type\":\"heatmapgl\",\"colorbar\":{\"outlinewidth\":0,\"ticks\":\"\"},\"colorscale\":[[0.0,\"#0d0887\"],[0.1111111111111111,\"#46039f\"],[0.2222222222222222,\"#7201a8\"],[0.3333333333333333,\"#9c179e\"],[0.4444444444444444,\"#bd3786\"],[0.5555555555555556,\"#d8576b\"],[0.6666666666666666,\"#ed7953\"],[0.7777777777777778,\"#fb9f3a\"],[0.8888888888888888,\"#fdca26\"],[1.0,\"#f0f921\"]]}],\"contourcarpet\":[{\"type\":\"contourcarpet\",\"colorbar\":{\"outlinewidth\":0,\"ticks\":\"\"}}],\"contour\":[{\"type\":\"contour\",\"colorbar\":{\"outlinewidth\":0,\"ticks\":\"\"},\"colorscale\":[[0.0,\"#0d0887\"],[0.1111111111111111,\"#46039f\"],[0.2222222222222222,\"#7201a8\"],[0.3333333333333333,\"#9c179e\"],[0.4444444444444444,\"#bd3786\"],[0.5555555555555556,\"#d8576b\"],[0.6666666666666666,\"#ed7953\"],[0.7777777777777778,\"#fb9f3a\"],[0.8888888888888888,\"#fdca26\"],[1.0,\"#f0f921\"]]}],\"surface\":[{\"type\":\"surface\",\"colorbar\":{\"outlinewidth\":0,\"ticks\":\"\"},\"colorscale\":[[0.0,\"#0d0887\"],[0.1111111111111111,\"#46039f\"],[0.2222222222222222,\"#7201a8\"],[0.3333333333333333,\"#9c179e\"],[0.4444444444444444,\"#bd3786\"],[0.5555555555555556,\"#d8576b\"],[0.6666666666666666,\"#ed7953\"],[0.7777777777777778,\"#fb9f3a\"],[0.8888888888888888,\"#fdca26\"],[1.0,\"#f0f921\"]]}],\"mesh3d\":[{\"type\":\"mesh3d\",\"colorbar\":{\"outlinewidth\":0,\"ticks\":\"\"}}],\"scatter\":[{\"fillpattern\":{\"fillmode\":\"overlay\",\"size\":10,\"solidity\":0.2},\"type\":\"scatter\"}],\"parcoords\":[{\"type\":\"parcoords\",\"line\":{\"colorbar\":{\"outlinewidth\":0,\"ticks\":\"\"}}}],\"scatterpolargl\":[{\"type\":\"scatterpolargl\",\"marker\":{\"colorbar\":{\"outlinewidth\":0,\"ticks\":\"\"}}}],\"bar\":[{\"error_x\":{\"color\":\"#2a3f5f\"},\"error_y\":{\"color\":\"#2a3f5f\"},\"marker\":{\"line\":{\"color\":\"#E5ECF6\",\"width\":0.5},\"pattern\":{\"fillmode\":\"overlay\",\"size\":10,\"solidity\":0.2}},\"type\":\"bar\"}],\"scattergeo\":[{\"type\":\"scattergeo\",\"marker\":{\"colorbar\":{\"outlinewidth\":0,\"ticks\":\"\"}}}],\"scatterpolar\":[{\"type\":\"scatterpolar\",\"marker\":{\"colorbar\":{\"outlinewidth\":0,\"ticks\":\"\"}}}],\"histogram\":[{\"marker\":{\"pattern\":{\"fillmode\":\"overlay\",\"size\":10,\"solidity\":0.2}},\"type\":\"histogram\"}],\"scattergl\":[{\"type\":\"scattergl\",\"marker\":{\"colorbar\":{\"outlinewidth\":0,\"ticks\":\"\"}}}],\"scatter3d\":[{\"type\":\"scatter3d\",\"line\":{\"colorbar\":{\"outlinewidth\":0,\"ticks\":\"\"}},\"marker\":{\"colorbar\":{\"outlinewidth\":0,\"ticks\":\"\"}}}],\"scattermapbox\":[{\"type\":\"scattermapbox\",\"marker\":{\"colorbar\":{\"outlinewidth\":0,\"ticks\":\"\"}}}],\"scatterternary\":[{\"type\":\"scatterternary\",\"marker\":{\"colorbar\":{\"outlinewidth\":0,\"ticks\":\"\"}}}],\"scattercarpet\":[{\"type\":\"scattercarpet\",\"marker\":{\"colorbar\":{\"outlinewidth\":0,\"ticks\":\"\"}}}],\"carpet\":[{\"aaxis\":{\"endlinecolor\":\"#2a3f5f\",\"gridcolor\":\"white\",\"linecolor\":\"white\",\"minorgridcolor\":\"white\",\"startlinecolor\":\"#2a3f5f\"},\"baxis\":{\"endlinecolor\":\"#2a3f5f\",\"gridcolor\":\"white\",\"linecolor\":\"white\",\"minorgridcolor\":\"white\",\"startlinecolor\":\"#2a3f5f\"},\"type\":\"carpet\"}],\"table\":[{\"cells\":{\"fill\":{\"color\":\"#EBF0F8\"},\"line\":{\"color\":\"white\"}},\"header\":{\"fill\":{\"color\":\"#C8D4E3\"},\"line\":{\"color\":\"white\"}},\"type\":\"table\"}],\"barpolar\":[{\"marker\":{\"line\":{\"color\":\"#E5ECF6\",\"width\":0.5},\"pattern\":{\"fillmode\":\"overlay\",\"size\":10,\"solidity\":0.2}},\"type\":\"barpolar\"}],\"pie\":[{\"automargin\":true,\"type\":\"pie\"}]},\"layout\":{\"autotypenumbers\":\"strict\",\"colorway\":[\"#636efa\",\"#EF553B\",\"#00cc96\",\"#ab63fa\",\"#FFA15A\",\"#19d3f3\",\"#FF6692\",\"#B6E880\",\"#FF97FF\",\"#FECB52\"],\"font\":{\"color\":\"#2a3f5f\"},\"hovermode\":\"closest\",\"hoverlabel\":{\"align\":\"left\"},\"paper_bgcolor\":\"white\",\"plot_bgcolor\":\"#E5ECF6\",\"polar\":{\"bgcolor\":\"#E5ECF6\",\"angularaxis\":{\"gridcolor\":\"white\",\"linecolor\":\"white\",\"ticks\":\"\"},\"radialaxis\":{\"gridcolor\":\"white\",\"linecolor\":\"white\",\"ticks\":\"\"}},\"ternary\":{\"bgcolor\":\"#E5ECF6\",\"aaxis\":{\"gridcolor\":\"white\",\"linecolor\":\"white\",\"ticks\":\"\"},\"baxis\":{\"gridcolor\":\"white\",\"linecolor\":\"white\",\"ticks\":\"\"},\"caxis\":{\"gridcolor\":\"white\",\"linecolor\":\"white\",\"ticks\":\"\"}},\"coloraxis\":{\"colorbar\":{\"outlinewidth\":0,\"ticks\":\"\"}},\"colorscale\":{\"sequential\":[[0.0,\"#0d0887\"],[0.1111111111111111,\"#46039f\"],[0.2222222222222222,\"#7201a8\"],[0.3333333333333333,\"#9c179e\"],[0.4444444444444444,\"#bd3786\"],[0.5555555555555556,\"#d8576b\"],[0.6666666666666666,\"#ed7953\"],[0.7777777777777778,\"#fb9f3a\"],[0.8888888888888888,\"#fdca26\"],[1.0,\"#f0f921\"]],\"sequentialminus\":[[0.0,\"#0d0887\"],[0.1111111111111111,\"#46039f\"],[0.2222222222222222,\"#7201a8\"],[0.3333333333333333,\"#9c179e\"],[0.4444444444444444,\"#bd3786\"],[0.5555555555555556,\"#d8576b\"],[0.6666666666666666,\"#ed7953\"],[0.7777777777777778,\"#fb9f3a\"],[0.8888888888888888,\"#fdca26\"],[1.0,\"#f0f921\"]],\"diverging\":[[0,\"#8e0152\"],[0.1,\"#c51b7d\"],[0.2,\"#de77ae\"],[0.3,\"#f1b6da\"],[0.4,\"#fde0ef\"],[0.5,\"#f7f7f7\"],[0.6,\"#e6f5d0\"],[0.7,\"#b8e186\"],[0.8,\"#7fbc41\"],[0.9,\"#4d9221\"],[1,\"#276419\"]]},\"xaxis\":{\"gridcolor\":\"white\",\"linecolor\":\"white\",\"ticks\":\"\",\"title\":{\"standoff\":15},\"zerolinecolor\":\"white\",\"automargin\":true,\"zerolinewidth\":2},\"yaxis\":{\"gridcolor\":\"white\",\"linecolor\":\"white\",\"ticks\":\"\",\"title\":{\"standoff\":15},\"zerolinecolor\":\"white\",\"automargin\":true,\"zerolinewidth\":2},\"scene\":{\"xaxis\":{\"backgroundcolor\":\"#E5ECF6\",\"gridcolor\":\"white\",\"linecolor\":\"white\",\"showbackground\":true,\"ticks\":\"\",\"zerolinecolor\":\"white\",\"gridwidth\":2},\"yaxis\":{\"backgroundcolor\":\"#E5ECF6\",\"gridcolor\":\"white\",\"linecolor\":\"white\",\"showbackground\":true,\"ticks\":\"\",\"zerolinecolor\":\"white\",\"gridwidth\":2},\"zaxis\":{\"backgroundcolor\":\"#E5ECF6\",\"gridcolor\":\"white\",\"linecolor\":\"white\",\"showbackground\":true,\"ticks\":\"\",\"zerolinecolor\":\"white\",\"gridwidth\":2}},\"shapedefaults\":{\"line\":{\"color\":\"#2a3f5f\"}},\"annotationdefaults\":{\"arrowcolor\":\"#2a3f5f\",\"arrowhead\":0,\"arrowwidth\":1},\"geo\":{\"bgcolor\":\"white\",\"landcolor\":\"#E5ECF6\",\"subunitcolor\":\"white\",\"showland\":true,\"showlakes\":true,\"lakecolor\":\"white\"},\"title\":{\"x\":0.05},\"mapbox\":{\"style\":\"light\"}}},\"xaxis\":{\"anchor\":\"y\",\"domain\":[0.0,1.0],\"title\":{\"text\":\"Type\"}},\"yaxis\":{\"anchor\":\"x\",\"domain\":[0.0,1.0],\"title\":{\"text\":\"count\"}},\"legend\":{\"title\":{\"text\":\"Club\"},\"tracegroupgap\":0},\"title\":{\"text\":\"Goals per Type\"},\"barmode\":\"relative\",\"height\":500},                        {\"responsive\": true}                    ).then(function(){\n",
       "                            \n",
       "var gd = document.getElementById('d3168268-e2e8-45bc-9d27-ddfc327a6114');\n",
       "var x = new MutationObserver(function (mutations, observer) {{\n",
       "        var display = window.getComputedStyle(gd).display;\n",
       "        if (!display || display === 'none') {{\n",
       "            console.log([gd, 'removed!']);\n",
       "            Plotly.purge(gd);\n",
       "            observer.disconnect();\n",
       "        }}\n",
       "}});\n",
       "\n",
       "// Listen for the removal of the full notebook cells\n",
       "var notebookContainer = gd.closest('#notebook-container');\n",
       "if (notebookContainer) {{\n",
       "    x.observe(notebookContainer, {childList: true});\n",
       "}}\n",
       "\n",
       "// Listen for the clearing of the current output cell\n",
       "var outputEl = gd.closest('.output');\n",
       "if (outputEl) {{\n",
       "    x.observe(outputEl, {childList: true});\n",
       "}}\n",
       "\n",
       "                        })                };                });            </script>        </div>"
      ]
     },
     "metadata": {},
     "output_type": "display_data"
    }
   ],
   "source": [
    "px.histogram(\n",
    "    df,\n",
    "    x='Type',\n",
    "    title=\"Goals per Type\",\n",
    "    log_x=False,\n",
    "    log_y=False,\n",
    "    #symbol='title',\n",
    "    #markers=True,\n",
    "    #width=800, \n",
    "    height=500,\n",
    "    color='Club',\n",
    "    hover_name='Club',\n",
    "    hover_data=['Playing_Position','Competition','Season','Club'])"
   ]
  },
  {
   "cell_type": "markdown",
   "id": "403320bf",
   "metadata": {},
   "source": [
    "#### Bu grafikten anlaşılacağı üzere sağ ayak ile daha fazla gol atan Ronaldo, kafa ve penaltı vuruşlarında da oldukça fazla gol atmış."
   ]
  },
  {
   "cell_type": "code",
   "execution_count": 33,
   "id": "20324887",
   "metadata": {},
   "outputs": [
    {
     "data": {
      "image/png": "[encoded data removed]",
      "text/plain": [
       "<Figure size 1000x500 with 1 Axes>"
      ]
     },
     "metadata": {},
     "output_type": "display_data"
    }
   ],
   "source": [
    "plt.figure(figsize=(10,5))\n",
    "sns.countplot(y='Competition',data=df)\n",
    "plt.show()"
   ]
  },
  {
   "cell_type": "code",
   "execution_count": 34,
   "id": "bfc117d2",
   "metadata": {},
   "outputs": [
    {
     "data": {
      "image/png": "[encoded data removed]",
      "text/plain": [
       "<Figure size 1000x500 with 1 Axes>"
      ]
     },
     "metadata": {},
     "output_type": "display_data"
    }
   ],
   "source": [
    "plt.figure(figsize=(10,5))\n",
    "sns.countplot(x='Club',data=df)\n",
    "plt.show()"
   ]
  },
  {
   "cell_type": "code",
   "execution_count": 35,
   "id": "ffff7f4e",
   "metadata": {},
   "outputs": [
    {
     "data": {
      "image/png": "[encoded data removed]",
      "text/plain": [
       "<Figure size 2000x1000 with 2 Axes>"
      ]
     },
     "metadata": {},
     "output_type": "display_data"
    }
   ],
   "source": [
    "temp = df[['Opponent']]\n",
    "temp['Count'] = 1\n",
    "temp = temp.groupby('Opponent').sum()\n",
    "temp.sort_values('Count',inplace=True,ascending=False)\n",
    "temp_high = temp.head(10)\n",
    "temp_low = temp.tail(10)\n",
    "\n",
    "plt.figure(figsize=(20,10))\n",
    "plt.subplot(1,2,1)\n",
    "sns.barplot(x=temp_high.Count,y=temp_high.index)\n",
    "plt.subplot(1,2,2)\n",
    "sns.barplot(x=temp_low.Count,y=temp_low.index)\n",
    "plt.show()"
   ]
  },
  {
   "cell_type": "code",
   "execution_count": 36,
   "id": "5c068c95",
   "metadata": {},
   "outputs": [],
   "source": [
    "# Yukarıdaki grafik bize Ronaldonun en çok gol attığı rakip takımlar hakkında bilgi veriyor"
   ]
  },
  {
   "cell_type": "code",
   "execution_count": 37,
   "id": "141dc47a",
   "metadata": {},
   "outputs": [
    {
     "data": {
      "image/png": "[encoded data removed]",
      "text/plain": [
       "<Figure size 2000x500 with 2 Axes>"
      ]
     },
     "metadata": {},
     "output_type": "display_data"
    }
   ],
   "source": [
    "temp = df[['Goal_assist']]\n",
    "temp['Count'] = 1\n",
    "temp = temp.groupby('Goal_assist').sum()\n",
    "temp.sort_values('Count',inplace=True,ascending=False)\n",
    "temp_high = temp.head(10)\n",
    "temp_low = temp.tail(10)\n",
    "\n",
    "plt.figure(figsize=(20,5))\n",
    "plt.subplot(1,2,1)\n",
    "sns.barplot(x=temp_high.Count,y=temp_high.index)\n",
    "plt.subplot(1,2,2)\n",
    "sns.barplot(x=temp_low.Count,y=temp_low.index)\n",
    "plt.show()"
   ]
  },
  {
   "cell_type": "code",
   "execution_count": 38,
   "id": "12307e09",
   "metadata": {},
   "outputs": [],
   "source": [
    "# Yukarıdaki grafik ise asist sayılarını ve en çok asist verdiği oyuncuları gösteriyor."
   ]
  },
  {
   "cell_type": "code",
   "execution_count": 40,
   "id": "508f60f4",
   "metadata": {},
   "outputs": [
    {
     "data": {
      "text/plain": [
       "<BarContainer object of 7 artists>"
      ]
     },
     "execution_count": 40,
     "metadata": {},
     "output_type": "execute_result"
    },
    {
     "data": {
      "image/png": "[encoded data removed]",
      "text/plain": [
       "<Figure size 1200x500 with 1 Axes>"
      ]
     },
     "metadata": {},
     "output_type": "display_data"
    }
   ],
   "source": [
    "sns.set(rc={'figure.figsize':(12,5)})\n",
    "opponents_df=df.groupby('Opponent').size().reset_index(name='count')\n",
    "fav_opponents_df=opponents_df[opponents_df[\"count\"]>15]\n",
    "plt.xticks(fontsize=20,rotation='vertical')\n",
    "plt.bar(x=fav_opponents_df['Opponent'],height=fav_opponents_df['count'],color=\"#1ae5e1\")"
   ]
  },
  {
   "cell_type": "markdown",
   "id": "e9157394",
   "metadata": {},
   "source": [
    "#### Ev sahibi - Deplasman golleri"
   ]
  },
  {
   "cell_type": "code",
   "execution_count": 41,
   "id": "939723e8",
   "metadata": {},
   "outputs": [
    {
     "data": {
      "text/plain": [
       "<AxesSubplot:title={'center':'Goals per venue'}, ylabel='Venue'>"
      ]
     },
     "execution_count": 41,
     "metadata": {},
     "output_type": "execute_result"
    },
    {
     "data": {
      "image/png": "[encoded data removed]",
      "text/plain": [
       "<Figure size 3000x1000 with 1 Axes>"
      ]
     },
     "metadata": {},
     "output_type": "display_data"
    }
   ],
   "source": [
    "plt.figure(figsize=(30,10))\n",
    "plt.title('Goals per venue', fontsize=20)\n",
    "df.Venue.value_counts().plot(kind='pie', labels=['Home', 'Away'], wedgeprops=dict(width=.7), autopct='%1.0f%%', startangle= -20,  textprops={'fontsize': 15})"
   ]
  },
  {
   "cell_type": "markdown",
   "id": "53991af6",
   "metadata": {},
   "source": [
    "#### Kariyer Analizi"
   ]
  },
  {
   "cell_type": "markdown",
   "id": "d9be758e",
   "metadata": {},
   "source": [
    "Kariyer Maç İstatistikleri"
   ]
  },
  {
   "cell_type": "code",
   "execution_count": 42,
   "id": "650e8b12",
   "metadata": {},
   "outputs": [
    {
     "data": {
      "text/plain": [
       "<AxesSubplot:>"
      ]
     },
     "execution_count": 42,
     "metadata": {},
     "output_type": "execute_result"
    },
    {
     "data": {
      "image/png": "[encoded data removed]",
      "text/plain": [
       "<Figure size 1200x500 with 1 Axes>"
      ]
     },
     "metadata": {},
     "output_type": "display_data"
    }
   ],
   "source": [
    "df_o[[\"Wiins\",\"Draws\",\"Defeats\"]].plot(kind = 'barh')"
   ]
  },
  {
   "cell_type": "markdown",
   "id": "62fef646",
   "metadata": {},
   "source": [
    "#### Kariyer Hedefleri - Maç kazandıran goller"
   ]
  },
  {
   "cell_type": "code",
   "execution_count": 43,
   "id": "03d264bc",
   "metadata": {},
   "outputs": [
    {
     "data": {
      "text/plain": [
       "<AxesSubplot:>"
      ]
     },
     "execution_count": 43,
     "metadata": {},
     "output_type": "execute_result"
    },
    {
     "data": {
      "image/png": "[encoded data removed]",
      "text/plain": [
       "<Figure size 1200x500 with 1 Axes>"
      ]
     },
     "metadata": {},
     "output_type": "display_data"
    }
   ],
   "source": [
    "df_o[[\"Goals\",\"Game_winning_goals\"]].plot(kind = 'barh')"
   ]
  },
  {
   "cell_type": "markdown",
   "id": "28735b1d",
   "metadata": {},
   "source": [
    "#### Hedef Zaman Çizelgesi analizi"
   ]
  },
  {
   "cell_type": "markdown",
   "id": "8de3a867",
   "metadata": {},
   "source": [
    "Toplam Gol zaman çizelgesi"
   ]
  },
  {
   "cell_type": "code",
   "execution_count": 48,
   "id": "2aeb6697",
   "metadata": {},
   "outputs": [],
   "source": [
    "dfl = df[['Date']]\n",
    "dfl['Date'] = pd.to_datetime(dfl['Date']).dt.strftime('%y-%m-%d')\n",
    "dfl['Goal_no']=list(range(1,700))\n",
    "dfl['Goal']=list(1 for i in range(1,700))\n",
    "# dfl= dfl.set_index(\"Date\")"
   ]
  },
  {
   "cell_type": "code",
   "execution_count": 49,
   "id": "735b497d",
   "metadata": {},
   "outputs": [
    {
     "data": {
      "application/vnd.plotly.v1+json": {
       "config": {
        "linkText": "Export to plot.ly",
        "plotlyServerURL": "https://plot.ly",
        "showLink": false
       },
       "data": [
        {
         "line": {
          "color": "blue"
         },
         "name": "CR7 Total Goals Time graph",
         "opacity": 0.4,
         "type": "scatter",
         "x": [
          "02-10-07",
          "02-10-07",
          "02-10-26",
          "02-11-24",
          "02-12-18",
          "03-11-01",
          "04-02-14",
          "04-03-20",
          "04-04-10",
          "04-05-15",
          "04-05-22",
          "04-12-04",
          "05-01-19",
          "05-01-22",
          "05-02-01",
          "05-02-01",
          "05-02-19",
          "05-03-12",
          "05-03-19",
          "05-04-17",
          "05-08-09",
          "05-10-29",
          "05-11-30",
          "05-12-31",
          "05-12-31",
          "06-02-04",
          "06-02-04",
          "06-02-11",
          "06-02-11",
          "06-02-26",
          "06-03-06",
          "06-05-07",
          "06-08-20",
          "06-09-23",
          "06-10-28",
          "06-11-04",
          "06-11-29",
          "06-12-09",
          "06-12-23",
          "06-12-23",
          "06-12-26",
          "06-12-26",
          "06-12-30",
          "06-12-30",
          "07-01-13",
          "07-01-31",
          "07-02-03",
          "07-02-24",
          "07-03-10",
          "07-03-19",
          "07-04-10",
          "07-04-10",
          "07-04-14",
          "07-04-24",
          "07-05-05",
          "07-09-19",
          "07-09-29",
          "07-10-06",
          "07-10-06",
          "07-10-23",
          "07-10-23",
          "07-11-03",
          "07-11-07",
          "07-11-11",
          "07-11-11",
          "07-11-27",
          "07-12-03",
          "07-12-03",
          "07-12-08",
          "07-12-23",
          "07-12-23",
          "07-12-26",
          "07-12-29",
          "08-01-05",
          "08-01-12",
          "08-01-12",
          "08-01-12",
          "08-01-19",
          "08-01-27",
          "08-01-27",
          "08-01-30",
          "08-01-30",
          "08-02-23",
          "08-02-23",
          "08-03-04",
          "08-03-15",
          "08-03-19",
          "08-03-19",
          "08-03-23",
          "08-03-29",
          "08-04-01",
          "08-04-06",
          "08-04-13",
          "08-05-03",
          "08-05-03",
          "08-05-11",
          "08-05-21",
          "08-09-23",
          "08-09-27",
          "08-10-18",
          "08-10-29",
          "08-10-29",
          "08-11-01",
          "08-11-01",
          "08-11-15",
          "08-11-15",
          "08-12-18",
          "09-01-20",
          "09-01-27",
          "09-01-27",
          "09-01-31",
          "09-02-15",
          "09-02-21",
          "09-03-11",
          "09-03-14",
          "09-04-05",
          "09-04-05",
          "09-04-15",
          "09-04-25",
          "09-04-25",
          "09-05-05",
          "09-05-05",
          "09-05-10",
          "09-08-29",
          "09-09-12",
          "09-09-15",
          "09-09-15",
          "09-09-20",
          "09-09-20",
          "09-09-23",
          "09-09-30",
          "09-09-30",
          "09-12-05",
          "09-12-08",
          "09-12-08",
          "09-12-19",
          "10-01-24",
          "10-01-24",
          "10-02-13",
          "10-02-13",
          "10-02-21",
          "10-02-27",
          "10-03-06",
          "10-03-10",
          "10-03-14",
          "10-03-25",
          "10-03-25",
          "10-04-04",
          "10-04-15",
          "10-04-18",
          "10-05-02",
          "10-05-02",
          "10-05-05",
          "10-05-05",
          "10-05-05",
          "10-05-08",
          "10-09-21",
          "10-10-03",
          "10-10-03",
          "10-10-16",
          "10-10-16",
          "10-10-19",
          "10-10-23",
          "10-10-23",
          "10-10-23",
          "10-10-23",
          "10-10-30",
          "10-10-30",
          "10-11-10",
          "10-11-20",
          "10-11-20",
          "10-11-20",
          "10-11-23",
          "10-11-23",
          "10-12-04",
          "10-12-04",
          "10-12-08",
          "10-12-12",
          "10-12-22",
          "10-12-22",
          "10-12-22",
          "11-01-03",
          "11-01-03",
          "11-01-09",
          "11-01-09",
          "11-01-09",
          "11-01-13",
          "11-01-20",
          "11-02-06",
          "11-02-06",
          "11-03-03",
          "11-03-03",
          "11-03-03",
          "11-04-05",
          "11-04-09",
          "11-04-13",
          "11-04-16",
          "11-04-20",
          "11-05-07",
          "11-05-07",
          "11-05-07",
          "11-05-07",
          "11-05-10",
          "11-05-10",
          "11-05-10",
          "11-05-15",
          "11-05-15",
          "11-05-21",
          "11-05-21",
          "11-08-17",
          "11-08-28",
          "11-08-28",
          "11-08-28",
          "11-09-10",
          "11-09-24",
          "11-09-24",
          "11-09-24",
          "11-09-27",
          "11-10-22",
          "11-10-22",
          "11-10-22",
          "11-11-02",
          "11-11-02",
          "11-11-06",
          "11-11-06",
          "11-11-06",
          "11-11-19",
          "11-11-26",
          "11-11-26",
          "11-12-03",
          "11-12-13",
          "11-12-17",
          "11-12-17",
          "11-12-17",
          "12-01-07",
          "12-01-18",
          "12-01-22",
          "12-01-22",
          "12-01-25",
          "12-01-28",
          "12-02-12",
          "12-02-12",
          "12-02-12",
          "12-02-18",
          "12-02-21",
          "12-02-26",
          "12-03-04",
          "12-03-10",
          "12-03-10",
          "12-03-14",
          "12-03-14",
          "12-03-21",
          "12-03-24",
          "12-03-24",
          "12-03-31",
          "12-03-31",
          "12-04-04",
          "12-04-04",
          "12-04-11",
          "12-04-11",
          "12-04-11",
          "12-04-14",
          "12-04-21",
          "12-04-25",
          "12-04-25",
          "12-04-29",
          "12-05-02",
          "12-05-05",
          "12-05-13",
          "12-08-23",
          "12-08-29",
          "12-09-02",
          "12-09-02",
          "12-09-18",
          "12-09-24",
          "12-09-30",
          "12-09-30",
          "12-09-30",
          "12-10-03",
          "12-10-03",
          "12-10-03",
          "12-10-07",
          "12-10-07",
          "12-10-20",
          "12-10-24",
          "12-10-28",
          "12-10-28",
          "12-11-11",
          "12-12-01",
          "12-12-04",
          "12-12-12",
          "12-12-16",
          "13-01-06",
          "13-01-06",
          "13-01-09",
          "13-01-09",
          "13-01-09",
          "13-01-20",
          "13-01-20",
          "13-01-27",
          "13-01-27",
          "13-01-27",
          "13-02-09",
          "13-02-09",
          "13-02-09",
          "13-02-13",
          "13-02-26",
          "13-02-26",
          "13-03-05",
          "13-03-10",
          "13-03-10",
          "13-03-16",
          "13-03-30",
          "13-04-03",
          "13-04-06",
          "13-04-09",
          "13-04-09",
          "13-04-14",
          "13-04-14",
          "13-04-24",
          "13-05-04",
          "13-05-04",
          "13-05-08",
          "13-05-17",
          "13-09-01",
          "13-09-14",
          "13-09-17",
          "13-09-17",
          "13-09-17",
          "13-09-22",
          "13-09-22",
          "13-09-25",
          "13-09-25",
          "13-10-02",
          "13-10-02",
          "13-10-05",
          "13-10-19",
          "13-10-23",
          "13-10-23",
          "13-10-30",
          "13-10-30",
          "13-10-30",
          "13-11-02",
          "13-11-02",
          "13-11-05",
          "13-11-09",
          "13-11-09",
          "13-11-09",
          "13-11-23",
          "13-12-10",
          "13-12-22",
          "14-01-06",
          "14-01-06",
          "14-01-15",
          "14-01-18",
          "14-01-25",
          "14-02-11",
          "14-02-11",
          "14-02-26",
          "14-02-26",
          "14-03-02",
          "14-03-09",
          "14-03-15",
          "14-03-18",
          "14-03-18",
          "14-03-23",
          "14-03-26",
          "14-03-29",
          "14-04-02",
          "14-04-26",
          "14-04-26",
          "14-04-29",
          "14-04-29",
          "14-05-04",
          "14-05-24",
          "14-08-12",
          "14-08-12",
          "14-08-25",
          "14-09-13",
          "14-09-16",
          "14-09-20",
          "14-09-20",
          "14-09-20",
          "14-09-23",
          "14-09-23",
          "14-09-23",
          "14-09-23",
          "14-09-27",
          "14-10-01",
          "14-10-05",
          "14-10-05",
          "14-10-05",
          "14-10-18",
          "14-10-18",
          "14-10-22",
          "14-10-25",
          "14-11-01",
          "14-11-08",
          "14-11-22",
          "14-11-22",
          "14-11-26",
          "14-12-06",
          "14-12-06",
          "14-12-06",
          "14-12-09",
          "14-12-12",
          "14-12-12",
          "15-01-04",
          "15-01-15",
          "15-01-18",
          "15-01-18",
          "15-02-18",
          "15-02-22",
          "15-03-01",
          "15-03-10",
          "15-03-10",
          "15-03-22",
          "15-04-05",
          "15-04-05",
          "15-04-05",
          "15-04-05",
          "15-04-05",
          "15-04-08",
          "15-04-11",
          "15-04-18",
          "15-05-02",
          "15-05-02",
          "15-05-02",
          "15-05-05",
          "15-05-13",
          "15-05-17",
          "15-05-17",
          "15-05-17",
          "15-05-23",
          "15-05-23",
          "15-05-23",
          "15-09-12",
          "15-09-12",
          "15-09-12",
          "15-09-12",
          "15-09-12",
          "15-09-15",
          "15-09-15",
          "15-09-15",
          "15-09-30",
          "15-09-30",
          "15-10-17",
          "15-10-24",
          "15-10-31",
          "15-11-25",
          "15-11-25",
          "15-11-29",
          "15-12-05",
          "15-12-08",
          "15-12-08",
          "15-12-08",
          "15-12-08",
          "15-12-20",
          "15-12-20",
          "15-12-30",
          "15-12-30",
          "16-01-17",
          "16-01-17",
          "16-01-31",
          "16-01-31",
          "16-01-31",
          "16-02-13",
          "16-02-13",
          "16-02-17",
          "16-02-21",
          "16-03-02",
          "16-03-05",
          "16-03-05",
          "16-03-05",
          "16-03-05",
          "16-03-08",
          "16-03-20",
          "16-04-02",
          "16-04-09",
          "16-04-12",
          "16-04-12",
          "16-04-12",
          "16-04-16",
          "16-05-08",
          "16-05-08",
          "16-05-14",
          "16-05-14",
          "16-09-10",
          "16-09-14",
          "16-09-27",
          "16-10-15",
          "16-10-29",
          "16-10-29",
          "16-10-29",
          "16-11-19",
          "16-11-19",
          "16-11-19",
          "16-11-26",
          "16-11-26",
          "16-12-15",
          "16-12-18",
          "16-12-18",
          "16-12-18",
          "17-01-07",
          "17-01-15",
          "17-01-25",
          "17-01-29",
          "17-02-11",
          "17-02-22",
          "17-02-26",
          "17-03-01",
          "17-03-01",
          "17-03-12",
          "17-04-12",
          "17-04-12",
          "17-04-18",
          "17-04-18",
          "17-04-18",
          "17-04-29",
          "17-05-02",
          "17-05-02",
          "17-05-02",
          "17-05-14",
          "17-05-14",
          "17-05-17",
          "17-05-17",
          "17-05-21",
          "17-06-03",
          "17-06-03",
          "17-08-13",
          "17-09-13",
          "17-09-13",
          "17-09-26",
          "17-09-26",
          "17-10-14",
          "17-10-17",
          "17-11-01",
          "17-11-21",
          "17-11-21",
          "17-11-25",
          "17-12-06",
          "17-12-09",
          "17-12-09",
          "17-12-13",
          "17-12-16",
          "18-01-21",
          "18-01-21",
          "18-01-27",
          "18-01-27",
          "18-02-10",
          "18-02-10",
          "18-02-10",
          "18-02-14",
          "18-02-14",
          "18-02-18",
          "18-02-24",
          "18-02-24",
          "18-03-03",
          "18-03-03",
          "18-03-06",
          "18-03-10",
          "18-03-10",
          "18-03-18",
          "18-03-18",
          "18-03-18",
          "18-03-18",
          "18-04-03",
          "18-04-03",
          "18-04-08",
          "18-04-11",
          "18-04-18",
          "18-05-06",
          "18-05-19",
          "18-09-16",
          "18-09-16",
          "18-09-23",
          "18-10-06",
          "18-10-20",
          "18-10-27",
          "18-10-27",
          "18-11-07",
          "18-11-11",
          "18-11-24",
          "18-12-01",
          "18-12-15",
          "18-12-26",
          "18-12-29",
          "18-12-29",
          "19-01-16",
          "19-01-27",
          "19-02-02",
          "19-02-02",
          "19-02-10",
          "19-02-15",
          "19-03-12",
          "19-03-12",
          "19-03-12",
          "19-04-10",
          "19-04-16",
          "19-04-27",
          "19-05-03",
          "19-08-31",
          "19-09-21",
          "19-09-28",
          "19-10-01",
          "19-10-19",
          "19-10-30",
          "19-12-01",
          "19-12-07",
          "19-12-11",
          "19-12-15",
          "19-12-15",
          "19-12-18",
          "20-01-06",
          "20-01-06",
          "20-01-06",
          "20-01-12",
          "20-01-19",
          "20-01-19",
          "20-01-22",
          "20-01-26",
          "20-02-02",
          "20-02-02",
          "20-02-08",
          "20-02-13",
          "20-02-22",
          "20-06-22",
          "20-06-26",
          "20-06-30",
          "20-07-04",
          "20-07-07",
          "20-07-11",
          "20-07-11",
          "20-07-20",
          "20-07-20",
          "20-07-26",
          "20-08-07",
          "20-08-07",
          "20-09-20",
          "20-09-27",
          "20-09-27",
          "20-11-01",
          "20-11-01",
          "20-11-08",
          "20-11-21",
          "20-11-21",
          "20-11-24",
          "20-12-02",
          "20-12-08",
          "20-12-08",
          "20-12-13",
          "20-12-13",
          "20-12-19",
          "20-12-19",
          "21-01-03",
          "21-01-03",
          "21-01-10",
          "21-01-20",
          "21-02-02",
          "21-02-02",
          "21-02-06",
          "21-02-22",
          "21-02-22",
          "21-02-27",
          "21-03-02",
          "21-03-14",
          "21-03-14",
          "21-03-14",
          "21-04-03",
          "21-04-07",
          "21-05-02",
          "21-05-02",
          "21-05-12",
          "21-05-15",
          "21-09-11",
          "21-09-11",
          "21-09-14",
          "21-09-19",
          "21-09-29",
          "21-10-20",
          "21-10-30",
          "21-11-02",
          "21-11-02",
          "21-11-23",
          "21-12-02",
          "21-12-02",
          "21-12-11",
          "21-12-30",
          "22-02-15",
          "22-03-12",
          "22-03-12",
          "22-03-12",
          "22-04-16",
          "22-04-16",
          "22-04-16",
          "22-04-23",
          "22-04-28",
          "22-05-02",
          "22-09-15"
         ],
         "y": [
          1,
          2,
          3,
          4,
          5,
          6,
          7,
          8,
          9,
          10,
          11,
          12,
          13,
          14,
          15,
          16,
          17,
          18,
          19,
          20,
          21,
          22,
          23,
          24,
          25,
          26,
          27,
          28,
          29,
          30,
          31,
          32,
          33,
          34,
          35,
          36,
          37,
          38,
          39,
          40,
          41,
          42,
          43,
          44,
          45,
          46,
          47,
          48,
          49,
          50,
          51,
          52,
          53,
          54,
          55,
          56,
          57,
          58,
          59,
          60,
          61,
          62,
          63,
          64,
          65,
          66,
          67,
          68,
          69,
          70,
          71,
          72,
          73,
          74,
          75,
          76,
          77,
          78,
          79,
          80,
          81,
          82,
          83,
          84,
          85,
          86,
          87,
          88,
          89,
          90,
          91,
          92,
          93,
          94,
          95,
          96,
          97,
          98,
          99,
          100,
          101,
          102,
          103,
          104,
          105,
          106,
          107,
          108,
          109,
          110,
          111,
          112,
          113,
          114,
          115,
          116,
          117,
          118,
          119,
          120,
          121,
          122,
          123,
          124,
          125,
          126,
          127,
          128,
          129,
          130,
          131,
          132,
          133,
          134,
          135,
          136,
          137,
          138,
          139,
          140,
          141,
          142,
          143,
          144,
          145,
          146,
          147,
          148,
          149,
          150,
          151,
          152,
          153,
          154,
          155,
          156,
          157,
          158,
          159,
          160,
          161,
          162,
          163,
          164,
          165,
          166,
          167,
          168,
          169,
          170,
          171,
          172,
          173,
          174,
          175,
          176,
          177,
          178,
          179,
          180,
          181,
          182,
          183,
          184,
          185,
          186,
          187,
          188,
          189,
          190,
          191,
          192,
          193,
          194,
          195,
          196,
          197,
          198,
          199,
          200,
          201,
          202,
          203,
          204,
          205,
          206,
          207,
          208,
          209,
          210,
          211,
          212,
          213,
          214,
          215,
          216,
          217,
          218,
          219,
          220,
          221,
          222,
          223,
          224,
          225,
          226,
          227,
          228,
          229,
          230,
          231,
          232,
          233,
          234,
          235,
          236,
          237,
          238,
          239,
          240,
          241,
          242,
          243,
          244,
          245,
          246,
          247,
          248,
          249,
          250,
          251,
          252,
          253,
          254,
          255,
          256,
          257,
          258,
          259,
          260,
          261,
          262,
          263,
          264,
          265,
          266,
          267,
          268,
          269,
          270,
          271,
          272,
          273,
          274,
          275,
          276,
          277,
          278,
          279,
          280,
          281,
          282,
          283,
          284,
          285,
          286,
          287,
          288,
          289,
          290,
          291,
          292,
          293,
          294,
          295,
          296,
          297,
          298,
          299,
          300,
          301,
          302,
          303,
          304,
          305,
          306,
          307,
          308,
          309,
          310,
          311,
          312,
          313,
          314,
          315,
          316,
          317,
          318,
          319,
          320,
          321,
          322,
          323,
          324,
          325,
          326,
          327,
          328,
          329,
          330,
          331,
          332,
          333,
          334,
          335,
          336,
          337,
          338,
          339,
          340,
          341,
          342,
          343,
          344,
          345,
          346,
          347,
          348,
          349,
          350,
          351,
          352,
          353,
          354,
          355,
          356,
          357,
          358,
          359,
          360,
          361,
          362,
          363,
          364,
          365,
          366,
          367,
          368,
          369,
          370,
          371,
          372,
          373,
          374,
          375,
          376,
          377,
          378,
          379,
          380,
          381,
          382,
          383,
          384,
          385,
          386,
          387,
          388,
          389,
          390,
          391,
          392,
          393,
          394,
          395,
          396,
          397,
          398,
          399,
          400,
          401,
          402,
          403,
          404,
          405,
          406,
          407,
          408,
          409,
          410,
          411,
          412,
          413,
          414,
          415,
          416,
          417,
          418,
          419,
          420,
          421,
          422,
          423,
          424,
          425,
          426,
          427,
          428,
          429,
          430,
          431,
          432,
          433,
          434,
          435,
          436,
          437,
          438,
          439,
          440,
          441,
          442,
          443,
          444,
          445,
          446,
          447,
          448,
          449,
          450,
          451,
          452,
          453,
          454,
          455,
          456,
          457,
          458,
          459,
          460,
          461,
          462,
          463,
          464,
          465,
          466,
          467,
          468,
          469,
          470,
          471,
          472,
          473,
          474,
          475,
          476,
          477,
          478,
          479,
          480,
          481,
          482,
          483,
          484,
          485,
          486,
          487,
          488,
          489,
          490,
          491,
          492,
          493,
          494,
          495,
          496,
          497,
          498,
          499,
          500,
          501,
          502,
          503,
          504,
          505,
          506,
          507,
          508,
          509,
          510,
          511,
          512,
          513,
          514,
          515,
          516,
          517,
          518,
          519,
          520,
          521,
          522,
          523,
          524,
          525,
          526,
          527,
          528,
          529,
          530,
          531,
          532,
          533,
          534,
          535,
          536,
          537,
          538,
          539,
          540,
          541,
          542,
          543,
          544,
          545,
          546,
          547,
          548,
          549,
          550,
          551,
          552,
          553,
          554,
          555,
          556,
          557,
          558,
          559,
          560,
          561,
          562,
          563,
          564,
          565,
          566,
          567,
          568,
          569,
          570,
          571,
          572,
          573,
          574,
          575,
          576,
          577,
          578,
          579,
          580,
          581,
          582,
          583,
          584,
          585,
          586,
          587,
          588,
          589,
          590,
          591,
          592,
          593,
          594,
          595,
          596,
          597,
          598,
          599,
          600,
          601,
          602,
          603,
          604,
          605,
          606,
          607,
          608,
          609,
          610,
          611,
          612,
          613,
          614,
          615,
          616,
          617,
          618,
          619,
          620,
          621,
          622,
          623,
          624,
          625,
          626,
          627,
          628,
          629,
          630,
          631,
          632,
          633,
          634,
          635,
          636,
          637,
          638,
          639,
          640,
          641,
          642,
          643,
          644,
          645,
          646,
          647,
          648,
          649,
          650,
          651,
          652,
          653,
          654,
          655,
          656,
          657,
          658,
          659,
          660,
          661,
          662,
          663,
          664,
          665,
          666,
          667,
          668,
          669,
          670,
          671,
          672,
          673,
          674,
          675,
          676,
          677,
          678,
          679,
          680,
          681,
          682,
          683,
          684,
          685,
          686,
          687,
          688,
          689,
          690,
          691,
          692,
          693,
          694,
          695,
          696,
          697,
          698,
          699
         ]
        }
       ],
       "layout": {
        "template": {
         "data": {
          "bar": [
           {
            "error_x": {
             "color": "#2a3f5f"
            },
            "error_y": {
             "color": "#2a3f5f"
            },
            "marker": {
             "line": {
              "color": "#E5ECF6",
              "width": 0.5
             },
             "pattern": {
              "fillmode": "overlay",
              "size": 10,
              "solidity": 0.2
             }
            },
            "type": "bar"
           }
          ],
          "barpolar": [
           {
            "marker": {
             "line": {
              "color": "#E5ECF6",
              "width": 0.5
             },
             "pattern": {
              "fillmode": "overlay",
              "size": 10,
              "solidity": 0.2
             }
            },
            "type": "barpolar"
           }
          ],
          "carpet": [
           {
            "aaxis": {
             "endlinecolor": "#2a3f5f",
             "gridcolor": "white",
             "linecolor": "white",
             "minorgridcolor": "white",
             "startlinecolor": "#2a3f5f"
            },
            "baxis": {
             "endlinecolor": "#2a3f5f",
             "gridcolor": "white",
             "linecolor": "white",
             "minorgridcolor": "white",
             "startlinecolor": "#2a3f5f"
            },
            "type": "carpet"
           }
          ],
          "choropleth": [
           {
            "colorbar": {
             "outlinewidth": 0,
             "ticks": ""
            },
            "type": "choropleth"
           }
          ],
          "contour": [
           {
            "colorbar": {
             "outlinewidth": 0,
             "ticks": ""
            },
            "colorscale": [
             [
              0,
              "#0d0887"
             ],
             [
              0.1111111111111111,
              "#46039f"
             ],
             [
              0.2222222222222222,
              "#7201a8"
             ],
             [
              0.3333333333333333,
              "#9c179e"
             ],
             [
              0.4444444444444444,
              "#bd3786"
             ],
             [
              0.5555555555555556,
              "#d8576b"
             ],
             [
              0.6666666666666666,
              "#ed7953"
             ],
             [
              0.7777777777777778,
              "#fb9f3a"
             ],
             [
              0.8888888888888888,
              "#fdca26"
             ],
             [
              1,
              "#f0f921"
             ]
            ],
            "type": "contour"
           }
          ],
          "contourcarpet": [
           {
            "colorbar": {
             "outlinewidth": 0,
             "ticks": ""
            },
            "type": "contourcarpet"
           }
          ],
          "heatmap": [
           {
            "colorbar": {
             "outlinewidth": 0,
             "ticks": ""
            },
            "colorscale": [
             [
              0,
              "#0d0887"
             ],
             [
              0.1111111111111111,
              "#46039f"
             ],
             [
              0.2222222222222222,
              "#7201a8"
             ],
             [
              0.3333333333333333,
              "#9c179e"
             ],
             [
              0.4444444444444444,
              "#bd3786"
             ],
             [
              0.5555555555555556,
              "#d8576b"
             ],
             [
              0.6666666666666666,
              "#ed7953"
             ],
             [
              0.7777777777777778,
              "#fb9f3a"
             ],
             [
              0.8888888888888888,
              "#fdca26"
             ],
             [
              1,
              "#f0f921"
             ]
            ],
            "type": "heatmap"
           }
          ],
          "heatmapgl": [
           {
            "colorbar": {
             "outlinewidth": 0,
             "ticks": ""
            },
            "colorscale": [
             [
              0,
              "#0d0887"
             ],
             [
              0.1111111111111111,
              "#46039f"
             ],
             [
              0.2222222222222222,
              "#7201a8"
             ],
             [
              0.3333333333333333,
              "#9c179e"
             ],
             [
              0.4444444444444444,
              "#bd3786"
             ],
             [
              0.5555555555555556,
              "#d8576b"
             ],
             [
              0.6666666666666666,
              "#ed7953"
             ],
             [
              0.7777777777777778,
              "#fb9f3a"
             ],
             [
              0.8888888888888888,
              "#fdca26"
             ],
             [
              1,
              "#f0f921"
             ]
            ],
            "type": "heatmapgl"
           }
          ],
          "histogram": [
           {
            "marker": {
             "pattern": {
              "fillmode": "overlay",
              "size": 10,
              "solidity": 0.2
             }
            },
            "type": "histogram"
           }
          ],
          "histogram2d": [
           {
            "colorbar": {
             "outlinewidth": 0,
             "ticks": ""
            },
            "colorscale": [
             [
              0,
              "#0d0887"
             ],
             [
              0.1111111111111111,
              "#46039f"
             ],
             [
              0.2222222222222222,
              "#7201a8"
             ],
             [
              0.3333333333333333,
              "#9c179e"
             ],
             [
              0.4444444444444444,
              "#bd3786"
             ],
             [
              0.5555555555555556,
              "#d8576b"
             ],
             [
              0.6666666666666666,
              "#ed7953"
             ],
             [
              0.7777777777777778,
              "#fb9f3a"
             ],
             [
              0.8888888888888888,
              "#fdca26"
             ],
             [
              1,
              "#f0f921"
             ]
            ],
            "type": "histogram2d"
           }
          ],
          "histogram2dcontour": [
           {
            "colorbar": {
             "outlinewidth": 0,
             "ticks": ""
            },
            "colorscale": [
             [
              0,
              "#0d0887"
             ],
             [
              0.1111111111111111,
              "#46039f"
             ],
             [
              0.2222222222222222,
              "#7201a8"
             ],
             [
              0.3333333333333333,
              "#9c179e"
             ],
             [
              0.4444444444444444,
              "#bd3786"
             ],
             [
              0.5555555555555556,
              "#d8576b"
             ],
             [
              0.6666666666666666,
              "#ed7953"
             ],
             [
              0.7777777777777778,
              "#fb9f3a"
             ],
             [
              0.8888888888888888,
              "#fdca26"
             ],
             [
              1,
              "#f0f921"
             ]
            ],
            "type": "histogram2dcontour"
           }
          ],
          "mesh3d": [
           {
            "colorbar": {
             "outlinewidth": 0,
             "ticks": ""
            },
            "type": "mesh3d"
           }
          ],
          "parcoords": [
           {
            "line": {
             "colorbar": {
              "outlinewidth": 0,
              "ticks": ""
             }
            },
            "type": "parcoords"
           }
          ],
          "pie": [
           {
            "automargin": true,
            "type": "pie"
           }
          ],
          "scatter": [
           {
            "fillpattern": {
             "fillmode": "overlay",
             "size": 10,
             "solidity": 0.2
            },
            "type": "scatter"
           }
          ],
          "scatter3d": [
           {
            "line": {
             "colorbar": {
              "outlinewidth": 0,
              "ticks": ""
             }
            },
            "marker": {
             "colorbar": {
              "outlinewidth": 0,
              "ticks": ""
             }
            },
            "type": "scatter3d"
           }
          ],
          "scattercarpet": [
           {
            "marker": {
             "colorbar": {
              "outlinewidth": 0,
              "ticks": ""
             }
            },
            "type": "scattercarpet"
           }
          ],
          "scattergeo": [
           {
            "marker": {
             "colorbar": {
              "outlinewidth": 0,
              "ticks": ""
             }
            },
            "type": "scattergeo"
           }
          ],
          "scattergl": [
           {
            "marker": {
             "colorbar": {
              "outlinewidth": 0,
              "ticks": ""
             }
            },
            "type": "scattergl"
           }
          ],
          "scattermapbox": [
           {
            "marker": {
             "colorbar": {
              "outlinewidth": 0,
              "ticks": ""
             }
            },
            "type": "scattermapbox"
           }
          ],
          "scatterpolar": [
           {
            "marker": {
             "colorbar": {
              "outlinewidth": 0,
              "ticks": ""
             }
            },
            "type": "scatterpolar"
           }
          ],
          "scatterpolargl": [
           {
            "marker": {
             "colorbar": {
              "outlinewidth": 0,
              "ticks": ""
             }
            },
            "type": "scatterpolargl"
           }
          ],
          "scatterternary": [
           {
            "marker": {
             "colorbar": {
              "outlinewidth": 0,
              "ticks": ""
             }
            },
            "type": "scatterternary"
           }
          ],
          "surface": [
           {
            "colorbar": {
             "outlinewidth": 0,
             "ticks": ""
            },
            "colorscale": [
             [
              0,
              "#0d0887"
             ],
             [
              0.1111111111111111,
              "#46039f"
             ],
             [
              0.2222222222222222,
              "#7201a8"
             ],
             [
              0.3333333333333333,
              "#9c179e"
             ],
             [
              0.4444444444444444,
              "#bd3786"
             ],
             [
              0.5555555555555556,
              "#d8576b"
             ],
             [
              0.6666666666666666,
              "#ed7953"
             ],
             [
              0.7777777777777778,
              "#fb9f3a"
             ],
             [
              0.8888888888888888,
              "#fdca26"
             ],
             [
              1,
              "#f0f921"
             ]
            ],
            "type": "surface"
           }
          ],
          "table": [
           {
            "cells": {
             "fill": {
              "color": "#EBF0F8"
             },
             "line": {
              "color": "white"
             }
            },
            "header": {
             "fill": {
              "color": "#C8D4E3"
             },
             "line": {
              "color": "white"
             }
            },
            "type": "table"
           }
          ]
         },
         "layout": {
          "annotationdefaults": {
           "arrowcolor": "#2a3f5f",
           "arrowhead": 0,
           "arrowwidth": 1
          },
          "autotypenumbers": "strict",
          "coloraxis": {
           "colorbar": {
            "outlinewidth": 0,
            "ticks": ""
           }
          },
          "colorscale": {
           "diverging": [
            [
             0,
             "#8e0152"
            ],
            [
             0.1,
             "#c51b7d"
            ],
            [
             0.2,
             "#de77ae"
            ],
            [
             0.3,
             "#f1b6da"
            ],
            [
             0.4,
             "#fde0ef"
            ],
            [
             0.5,
             "#f7f7f7"
            ],
            [
             0.6,
             "#e6f5d0"
            ],
            [
             0.7,
             "#b8e186"
            ],
            [
             0.8,
             "#7fbc41"
            ],
            [
             0.9,
             "#4d9221"
            ],
            [
             1,
             "#276419"
            ]
           ],
           "sequential": [
            [
             0,
             "#0d0887"
            ],
            [
             0.1111111111111111,
             "#46039f"
            ],
            [
             0.2222222222222222,
             "#7201a8"
            ],
            [
             0.3333333333333333,
             "#9c179e"
            ],
            [
             0.4444444444444444,
             "#bd3786"
            ],
            [
             0.5555555555555556,
             "#d8576b"
            ],
            [
             0.6666666666666666,
             "#ed7953"
            ],
            [
             0.7777777777777778,
             "#fb9f3a"
            ],
            [
             0.8888888888888888,
             "#fdca26"
            ],
            [
             1,
             "#f0f921"
            ]
           ],
           "sequentialminus": [
            [
             0,
             "#0d0887"
            ],
            [
             0.1111111111111111,
             "#46039f"
            ],
            [
             0.2222222222222222,
             "#7201a8"
            ],
            [
             0.3333333333333333,
             "#9c179e"
            ],
            [
             0.4444444444444444,
             "#bd3786"
            ],
            [
             0.5555555555555556,
             "#d8576b"
            ],
            [
             0.6666666666666666,
             "#ed7953"
            ],
            [
             0.7777777777777778,
             "#fb9f3a"
            ],
            [
             0.8888888888888888,
             "#fdca26"
            ],
            [
             1,
             "#f0f921"
            ]
           ]
          },
          "colorway": [
           "#636efa",
           "#EF553B",
           "#00cc96",
           "#ab63fa",
           "#FFA15A",
           "#19d3f3",
           "#FF6692",
           "#B6E880",
           "#FF97FF",
           "#FECB52"
          ],
          "font": {
           "color": "#2a3f5f"
          },
          "geo": {
           "bgcolor": "white",
           "lakecolor": "white",
           "landcolor": "#E5ECF6",
           "showlakes": true,
           "showland": true,
           "subunitcolor": "white"
          },
          "hoverlabel": {
           "align": "left"
          },
          "hovermode": "closest",
          "mapbox": {
           "style": "light"
          },
          "paper_bgcolor": "white",
          "plot_bgcolor": "#E5ECF6",
          "polar": {
           "angularaxis": {
            "gridcolor": "white",
            "linecolor": "white",
            "ticks": ""
           },
           "bgcolor": "#E5ECF6",
           "radialaxis": {
            "gridcolor": "white",
            "linecolor": "white",
            "ticks": ""
           }
          },
          "scene": {
           "xaxis": {
            "backgroundcolor": "#E5ECF6",
            "gridcolor": "white",
            "gridwidth": 2,
            "linecolor": "white",
            "showbackground": true,
            "ticks": "",
            "zerolinecolor": "white"
           },
           "yaxis": {
            "backgroundcolor": "#E5ECF6",
            "gridcolor": "white",
            "gridwidth": 2,
            "linecolor": "white",
            "showbackground": true,
            "ticks": "",
            "zerolinecolor": "white"
           },
           "zaxis": {
            "backgroundcolor": "#E5ECF6",
            "gridcolor": "white",
            "gridwidth": 2,
            "linecolor": "white",
            "showbackground": true,
            "ticks": "",
            "zerolinecolor": "white"
           }
          },
          "shapedefaults": {
           "line": {
            "color": "#2a3f5f"
           }
          },
          "ternary": {
           "aaxis": {
            "gridcolor": "white",
            "linecolor": "white",
            "ticks": ""
           },
           "baxis": {
            "gridcolor": "white",
            "linecolor": "white",
            "ticks": ""
           },
           "bgcolor": "#E5ECF6",
           "caxis": {
            "gridcolor": "white",
            "linecolor": "white",
            "ticks": ""
           }
          },
          "title": {
           "x": 0.05
          },
          "xaxis": {
           "automargin": true,
           "gridcolor": "white",
           "linecolor": "white",
           "ticks": "",
           "title": {
            "standoff": 15
           },
           "zerolinecolor": "white",
           "zerolinewidth": 2
          },
          "yaxis": {
           "automargin": true,
           "gridcolor": "white",
           "linecolor": "white",
           "ticks": "",
           "title": {
            "standoff": 15
           },
           "zerolinecolor": "white",
           "zerolinewidth": 2
          }
         }
        },
        "title": {
         "text": "CR7 Goals"
        }
       }
      },
      "text/html": [
       "<div>                            <div id=\"5fdcc352-78ba-4005-8f2a-efcfc56a65da\" class=\"plotly-graph-div\" style=\"height:525px; width:100%;\"></div>            <script type=\"text/javascript\">                require([\"plotly\"], function(Plotly) {                    window.PLOTLYENV=window.PLOTLYENV || {};                                    if (document.getElementById(\"5fdcc352-78ba-4005-8f2a-efcfc56a65da\")) {                    Plotly.newPlot(                        \"5fdcc352-78ba-4005-8f2a-efcfc56a65da\",                        [{\"line\":{\"color\":\"blue\"},\"name\":\"CR7 Total Goals Time graph\",\"opacity\":0.4,\"x\":[\"02-10-07\",\"02-10-07\",\"02-10-26\",\"02-11-24\",\"02-12-18\",\"03-11-01\",\"04-02-14\",\"04-03-20\",\"04-04-10\",\"04-05-15\",\"04-05-22\",\"04-12-04\",\"05-01-19\",\"05-01-22\",\"05-02-01\",\"05-02-01\",\"05-02-19\",\"05-03-12\",\"05-03-19\",\"05-04-17\",\"05-08-09\",\"05-10-29\",\"05-11-30\",\"05-12-31\",\"05-12-31\",\"06-02-04\",\"06-02-04\",\"06-02-11\",\"06-02-11\",\"06-02-26\",\"06-03-06\",\"06-05-07\",\"06-08-20\",\"06-09-23\",\"06-10-28\",\"06-11-04\",\"06-11-29\",\"06-12-09\",\"06-12-23\",\"06-12-23\",\"06-12-26\",\"06-12-26\",\"06-12-30\",\"06-12-30\",\"07-01-13\",\"07-01-31\",\"07-02-03\",\"07-02-24\",\"07-03-10\",\"07-03-19\",\"07-04-10\",\"07-04-10\",\"07-04-14\",\"07-04-24\",\"07-05-05\",\"07-09-19\",\"07-09-29\",\"07-10-06\",\"07-10-06\",\"07-10-23\",\"07-10-23\",\"07-11-03\",\"07-11-07\",\"07-11-11\",\"07-11-11\",\"07-11-27\",\"07-12-03\",\"07-12-03\",\"07-12-08\",\"07-12-23\",\"07-12-23\",\"07-12-26\",\"07-12-29\",\"08-01-05\",\"08-01-12\",\"08-01-12\",\"08-01-12\",\"08-01-19\",\"08-01-27\",\"08-01-27\",\"08-01-30\",\"08-01-30\",\"08-02-23\",\"08-02-23\",\"08-03-04\",\"08-03-15\",\"08-03-19\",\"08-03-19\",\"08-03-23\",\"08-03-29\",\"08-04-01\",\"08-04-06\",\"08-04-13\",\"08-05-03\",\"08-05-03\",\"08-05-11\",\"08-05-21\",\"08-09-23\",\"08-09-27\",\"08-10-18\",\"08-10-29\",\"08-10-29\",\"08-11-01\",\"08-11-01\",\"08-11-15\",\"08-11-15\",\"08-12-18\",\"09-01-20\",\"09-01-27\",\"09-01-27\",\"09-01-31\",\"09-02-15\",\"09-02-21\",\"09-03-11\",\"09-03-14\",\"09-04-05\",\"09-04-05\",\"09-04-15\",\"09-04-25\",\"09-04-25\",\"09-05-05\",\"09-05-05\",\"09-05-10\",\"09-08-29\",\"09-09-12\",\"09-09-15\",\"09-09-15\",\"09-09-20\",\"09-09-20\",\"09-09-23\",\"09-09-30\",\"09-09-30\",\"09-12-05\",\"09-12-08\",\"09-12-08\",\"09-12-19\",\"10-01-24\",\"10-01-24\",\"10-02-13\",\"10-02-13\",\"10-02-21\",\"10-02-27\",\"10-03-06\",\"10-03-10\",\"10-03-14\",\"10-03-25\",\"10-03-25\",\"10-04-04\",\"10-04-15\",\"10-04-18\",\"10-05-02\",\"10-05-02\",\"10-05-05\",\"10-05-05\",\"10-05-05\",\"10-05-08\",\"10-09-21\",\"10-10-03\",\"10-10-03\",\"10-10-16\",\"10-10-16\",\"10-10-19\",\"10-10-23\",\"10-10-23\",\"10-10-23\",\"10-10-23\",\"10-10-30\",\"10-10-30\",\"10-11-10\",\"10-11-20\",\"10-11-20\",\"10-11-20\",\"10-11-23\",\"10-11-23\",\"10-12-04\",\"10-12-04\",\"10-12-08\",\"10-12-12\",\"10-12-22\",\"10-12-22\",\"10-12-22\",\"11-01-03\",\"11-01-03\",\"11-01-09\",\"11-01-09\",\"11-01-09\",\"11-01-13\",\"11-01-20\",\"11-02-06\",\"11-02-06\",\"11-03-03\",\"11-03-03\",\"11-03-03\",\"11-04-05\",\"11-04-09\",\"11-04-13\",\"11-04-16\",\"11-04-20\",\"11-05-07\",\"11-05-07\",\"11-05-07\",\"11-05-07\",\"11-05-10\",\"11-05-10\",\"11-05-10\",\"11-05-15\",\"11-05-15\",\"11-05-21\",\"11-05-21\",\"11-08-17\",\"11-08-28\",\"11-08-28\",\"11-08-28\",\"11-09-10\",\"11-09-24\",\"11-09-24\",\"11-09-24\",\"11-09-27\",\"11-10-22\",\"11-10-22\",\"11-10-22\",\"11-11-02\",\"11-11-02\",\"11-11-06\",\"11-11-06\",\"11-11-06\",\"11-11-19\",\"11-11-26\",\"11-11-26\",\"11-12-03\",\"11-12-13\",\"11-12-17\",\"11-12-17\",\"11-12-17\",\"12-01-07\",\"12-01-18\",\"12-01-22\",\"12-01-22\",\"12-01-25\",\"12-01-28\",\"12-02-12\",\"12-02-12\",\"12-02-12\",\"12-02-18\",\"12-02-21\",\"12-02-26\",\"12-03-04\",\"12-03-10\",\"12-03-10\",\"12-03-14\",\"12-03-14\",\"12-03-21\",\"12-03-24\",\"12-03-24\",\"12-03-31\",\"12-03-31\",\"12-04-04\",\"12-04-04\",\"12-04-11\",\"12-04-11\",\"12-04-11\",\"12-04-14\",\"12-04-21\",\"12-04-25\",\"12-04-25\",\"12-04-29\",\"12-05-02\",\"12-05-05\",\"12-05-13\",\"12-08-23\",\"12-08-29\",\"12-09-02\",\"12-09-02\",\"12-09-18\",\"12-09-24\",\"12-09-30\",\"12-09-30\",\"12-09-30\",\"12-10-03\",\"12-10-03\",\"12-10-03\",\"12-10-07\",\"12-10-07\",\"12-10-20\",\"12-10-24\",\"12-10-28\",\"12-10-28\",\"12-11-11\",\"12-12-01\",\"12-12-04\",\"12-12-12\",\"12-12-16\",\"13-01-06\",\"13-01-06\",\"13-01-09\",\"13-01-09\",\"13-01-09\",\"13-01-20\",\"13-01-20\",\"13-01-27\",\"13-01-27\",\"13-01-27\",\"13-02-09\",\"13-02-09\",\"13-02-09\",\"13-02-13\",\"13-02-26\",\"13-02-26\",\"13-03-05\",\"13-03-10\",\"13-03-10\",\"13-03-16\",\"13-03-30\",\"13-04-03\",\"13-04-06\",\"13-04-09\",\"13-04-09\",\"13-04-14\",\"13-04-14\",\"13-04-24\",\"13-05-04\",\"13-05-04\",\"13-05-08\",\"13-05-17\",\"13-09-01\",\"13-09-14\",\"13-09-17\",\"13-09-17\",\"13-09-17\",\"13-09-22\",\"13-09-22\",\"13-09-25\",\"13-09-25\",\"13-10-02\",\"13-10-02\",\"13-10-05\",\"13-10-19\",\"13-10-23\",\"13-10-23\",\"13-10-30\",\"13-10-30\",\"13-10-30\",\"13-11-02\",\"13-11-02\",\"13-11-05\",\"13-11-09\",\"13-11-09\",\"13-11-09\",\"13-11-23\",\"13-12-10\",\"13-12-22\",\"14-01-06\",\"14-01-06\",\"14-01-15\",\"14-01-18\",\"14-01-25\",\"14-02-11\",\"14-02-11\",\"14-02-26\",\"14-02-26\",\"14-03-02\",\"14-03-09\",\"14-03-15\",\"14-03-18\",\"14-03-18\",\"14-03-23\",\"14-03-26\",\"14-03-29\",\"14-04-02\",\"14-04-26\",\"14-04-26\",\"14-04-29\",\"14-04-29\",\"14-05-04\",\"14-05-24\",\"14-08-12\",\"14-08-12\",\"14-08-25\",\"14-09-13\",\"14-09-16\",\"14-09-20\",\"14-09-20\",\"14-09-20\",\"14-09-23\",\"14-09-23\",\"14-09-23\",\"14-09-23\",\"14-09-27\",\"14-10-01\",\"14-10-05\",\"14-10-05\",\"14-10-05\",\"14-10-18\",\"14-10-18\",\"14-10-22\",\"14-10-25\",\"14-11-01\",\"14-11-08\",\"14-11-22\",\"14-11-22\",\"14-11-26\",\"14-12-06\",\"14-12-06\",\"14-12-06\",\"14-12-09\",\"14-12-12\",\"14-12-12\",\"15-01-04\",\"15-01-15\",\"15-01-18\",\"15-01-18\",\"15-02-18\",\"15-02-22\",\"15-03-01\",\"15-03-10\",\"15-03-10\",\"15-03-22\",\"15-04-05\",\"15-04-05\",\"15-04-05\",\"15-04-05\",\"15-04-05\",\"15-04-08\",\"15-04-11\",\"15-04-18\",\"15-05-02\",\"15-05-02\",\"15-05-02\",\"15-05-05\",\"15-05-13\",\"15-05-17\",\"15-05-17\",\"15-05-17\",\"15-05-23\",\"15-05-23\",\"15-05-23\",\"15-09-12\",\"15-09-12\",\"15-09-12\",\"15-09-12\",\"15-09-12\",\"15-09-15\",\"15-09-15\",\"15-09-15\",\"15-09-30\",\"15-09-30\",\"15-10-17\",\"15-10-24\",\"15-10-31\",\"15-11-25\",\"15-11-25\",\"15-11-29\",\"15-12-05\",\"15-12-08\",\"15-12-08\",\"15-12-08\",\"15-12-08\",\"15-12-20\",\"15-12-20\",\"15-12-30\",\"15-12-30\",\"16-01-17\",\"16-01-17\",\"16-01-31\",\"16-01-31\",\"16-01-31\",\"16-02-13\",\"16-02-13\",\"16-02-17\",\"16-02-21\",\"16-03-02\",\"16-03-05\",\"16-03-05\",\"16-03-05\",\"16-03-05\",\"16-03-08\",\"16-03-20\",\"16-04-02\",\"16-04-09\",\"16-04-12\",\"16-04-12\",\"16-04-12\",\"16-04-16\",\"16-05-08\",\"16-05-08\",\"16-05-14\",\"16-05-14\",\"16-09-10\",\"16-09-14\",\"16-09-27\",\"16-10-15\",\"16-10-29\",\"16-10-29\",\"16-10-29\",\"16-11-19\",\"16-11-19\",\"16-11-19\",\"16-11-26\",\"16-11-26\",\"16-12-15\",\"16-12-18\",\"16-12-18\",\"16-12-18\",\"17-01-07\",\"17-01-15\",\"17-01-25\",\"17-01-29\",\"17-02-11\",\"17-02-22\",\"17-02-26\",\"17-03-01\",\"17-03-01\",\"17-03-12\",\"17-04-12\",\"17-04-12\",\"17-04-18\",\"17-04-18\",\"17-04-18\",\"17-04-29\",\"17-05-02\",\"17-05-02\",\"17-05-02\",\"17-05-14\",\"17-05-14\",\"17-05-17\",\"17-05-17\",\"17-05-21\",\"17-06-03\",\"17-06-03\",\"17-08-13\",\"17-09-13\",\"17-09-13\",\"17-09-26\",\"17-09-26\",\"17-10-14\",\"17-10-17\",\"17-11-01\",\"17-11-21\",\"17-11-21\",\"17-11-25\",\"17-12-06\",\"17-12-09\",\"17-12-09\",\"17-12-13\",\"17-12-16\",\"18-01-21\",\"18-01-21\",\"18-01-27\",\"18-01-27\",\"18-02-10\",\"18-02-10\",\"18-02-10\",\"18-02-14\",\"18-02-14\",\"18-02-18\",\"18-02-24\",\"18-02-24\",\"18-03-03\",\"18-03-03\",\"18-03-06\",\"18-03-10\",\"18-03-10\",\"18-03-18\",\"18-03-18\",\"18-03-18\",\"18-03-18\",\"18-04-03\",\"18-04-03\",\"18-04-08\",\"18-04-11\",\"18-04-18\",\"18-05-06\",\"18-05-19\",\"18-09-16\",\"18-09-16\",\"18-09-23\",\"18-10-06\",\"18-10-20\",\"18-10-27\",\"18-10-27\",\"18-11-07\",\"18-11-11\",\"18-11-24\",\"18-12-01\",\"18-12-15\",\"18-12-26\",\"18-12-29\",\"18-12-29\",\"19-01-16\",\"19-01-27\",\"19-02-02\",\"19-02-02\",\"19-02-10\",\"19-02-15\",\"19-03-12\",\"19-03-12\",\"19-03-12\",\"19-04-10\",\"19-04-16\",\"19-04-27\",\"19-05-03\",\"19-08-31\",\"19-09-21\",\"19-09-28\",\"19-10-01\",\"19-10-19\",\"19-10-30\",\"19-12-01\",\"19-12-07\",\"19-12-11\",\"19-12-15\",\"19-12-15\",\"19-12-18\",\"20-01-06\",\"20-01-06\",\"20-01-06\",\"20-01-12\",\"20-01-19\",\"20-01-19\",\"20-01-22\",\"20-01-26\",\"20-02-02\",\"20-02-02\",\"20-02-08\",\"20-02-13\",\"20-02-22\",\"20-06-22\",\"20-06-26\",\"20-06-30\",\"20-07-04\",\"20-07-07\",\"20-07-11\",\"20-07-11\",\"20-07-20\",\"20-07-20\",\"20-07-26\",\"20-08-07\",\"20-08-07\",\"20-09-20\",\"20-09-27\",\"20-09-27\",\"20-11-01\",\"20-11-01\",\"20-11-08\",\"20-11-21\",\"20-11-21\",\"20-11-24\",\"20-12-02\",\"20-12-08\",\"20-12-08\",\"20-12-13\",\"20-12-13\",\"20-12-19\",\"20-12-19\",\"21-01-03\",\"21-01-03\",\"21-01-10\",\"21-01-20\",\"21-02-02\",\"21-02-02\",\"21-02-06\",\"21-02-22\",\"21-02-22\",\"21-02-27\",\"21-03-02\",\"21-03-14\",\"21-03-14\",\"21-03-14\",\"21-04-03\",\"21-04-07\",\"21-05-02\",\"21-05-02\",\"21-05-12\",\"21-05-15\",\"21-09-11\",\"21-09-11\",\"21-09-14\",\"21-09-19\",\"21-09-29\",\"21-10-20\",\"21-10-30\",\"21-11-02\",\"21-11-02\",\"21-11-23\",\"21-12-02\",\"21-12-02\",\"21-12-11\",\"21-12-30\",\"22-02-15\",\"22-03-12\",\"22-03-12\",\"22-03-12\",\"22-04-16\",\"22-04-16\",\"22-04-16\",\"22-04-23\",\"22-04-28\",\"22-05-02\",\"22-09-15\"],\"y\":[1,2,3,4,5,6,7,8,9,10,11,12,13,14,15,16,17,18,19,20,21,22,23,24,25,26,27,28,29,30,31,32,33,34,35,36,37,38,39,40,41,42,43,44,45,46,47,48,49,50,51,52,53,54,55,56,57,58,59,60,61,62,63,64,65,66,67,68,69,70,71,72,73,74,75,76,77,78,79,80,81,82,83,84,85,86,87,88,89,90,91,92,93,94,95,96,97,98,99,100,101,102,103,104,105,106,107,108,109,110,111,112,113,114,115,116,117,118,119,120,121,122,123,124,125,126,127,128,129,130,131,132,133,134,135,136,137,138,139,140,141,142,143,144,145,146,147,148,149,150,151,152,153,154,155,156,157,158,159,160,161,162,163,164,165,166,167,168,169,170,171,172,173,174,175,176,177,178,179,180,181,182,183,184,185,186,187,188,189,190,191,192,193,194,195,196,197,198,199,200,201,202,203,204,205,206,207,208,209,210,211,212,213,214,215,216,217,218,219,220,221,222,223,224,225,226,227,228,229,230,231,232,233,234,235,236,237,238,239,240,241,242,243,244,245,246,247,248,249,250,251,252,253,254,255,256,257,258,259,260,261,262,263,264,265,266,267,268,269,270,271,272,273,274,275,276,277,278,279,280,281,282,283,284,285,286,287,288,289,290,291,292,293,294,295,296,297,298,299,300,301,302,303,304,305,306,307,308,309,310,311,312,313,314,315,316,317,318,319,320,321,322,323,324,325,326,327,328,329,330,331,332,333,334,335,336,337,338,339,340,341,342,343,344,345,346,347,348,349,350,351,352,353,354,355,356,357,358,359,360,361,362,363,364,365,366,367,368,369,370,371,372,373,374,375,376,377,378,379,380,381,382,383,384,385,386,387,388,389,390,391,392,393,394,395,396,397,398,399,400,401,402,403,404,405,406,407,408,409,410,411,412,413,414,415,416,417,418,419,420,421,422,423,424,425,426,427,428,429,430,431,432,433,434,435,436,437,438,439,440,441,442,443,444,445,446,447,448,449,450,451,452,453,454,455,456,457,458,459,460,461,462,463,464,465,466,467,468,469,470,471,472,473,474,475,476,477,478,479,480,481,482,483,484,485,486,487,488,489,490,491,492,493,494,495,496,497,498,499,500,501,502,503,504,505,506,507,508,509,510,511,512,513,514,515,516,517,518,519,520,521,522,523,524,525,526,527,528,529,530,531,532,533,534,535,536,537,538,539,540,541,542,543,544,545,546,547,548,549,550,551,552,553,554,555,556,557,558,559,560,561,562,563,564,565,566,567,568,569,570,571,572,573,574,575,576,577,578,579,580,581,582,583,584,585,586,587,588,589,590,591,592,593,594,595,596,597,598,599,600,601,602,603,604,605,606,607,608,609,610,611,612,613,614,615,616,617,618,619,620,621,622,623,624,625,626,627,628,629,630,631,632,633,634,635,636,637,638,639,640,641,642,643,644,645,646,647,648,649,650,651,652,653,654,655,656,657,658,659,660,661,662,663,664,665,666,667,668,669,670,671,672,673,674,675,676,677,678,679,680,681,682,683,684,685,686,687,688,689,690,691,692,693,694,695,696,697,698,699],\"type\":\"scatter\"}],                        {\"template\":{\"data\":{\"barpolar\":[{\"marker\":{\"line\":{\"color\":\"#E5ECF6\",\"width\":0.5},\"pattern\":{\"fillmode\":\"overlay\",\"size\":10,\"solidity\":0.2}},\"type\":\"barpolar\"}],\"bar\":[{\"error_x\":{\"color\":\"#2a3f5f\"},\"error_y\":{\"color\":\"#2a3f5f\"},\"marker\":{\"line\":{\"color\":\"#E5ECF6\",\"width\":0.5},\"pattern\":{\"fillmode\":\"overlay\",\"size\":10,\"solidity\":0.2}},\"type\":\"bar\"}],\"carpet\":[{\"aaxis\":{\"endlinecolor\":\"#2a3f5f\",\"gridcolor\":\"white\",\"linecolor\":\"white\",\"minorgridcolor\":\"white\",\"startlinecolor\":\"#2a3f5f\"},\"baxis\":{\"endlinecolor\":\"#2a3f5f\",\"gridcolor\":\"white\",\"linecolor\":\"white\",\"minorgridcolor\":\"white\",\"startlinecolor\":\"#2a3f5f\"},\"type\":\"carpet\"}],\"choropleth\":[{\"colorbar\":{\"outlinewidth\":0,\"ticks\":\"\"},\"type\":\"choropleth\"}],\"contourcarpet\":[{\"colorbar\":{\"outlinewidth\":0,\"ticks\":\"\"},\"type\":\"contourcarpet\"}],\"contour\":[{\"colorbar\":{\"outlinewidth\":0,\"ticks\":\"\"},\"colorscale\":[[0.0,\"#0d0887\"],[0.1111111111111111,\"#46039f\"],[0.2222222222222222,\"#7201a8\"],[0.3333333333333333,\"#9c179e\"],[0.4444444444444444,\"#bd3786\"],[0.5555555555555556,\"#d8576b\"],[0.6666666666666666,\"#ed7953\"],[0.7777777777777778,\"#fb9f3a\"],[0.8888888888888888,\"#fdca26\"],[1.0,\"#f0f921\"]],\"type\":\"contour\"}],\"heatmapgl\":[{\"colorbar\":{\"outlinewidth\":0,\"ticks\":\"\"},\"colorscale\":[[0.0,\"#0d0887\"],[0.1111111111111111,\"#46039f\"],[0.2222222222222222,\"#7201a8\"],[0.3333333333333333,\"#9c179e\"],[0.4444444444444444,\"#bd3786\"],[0.5555555555555556,\"#d8576b\"],[0.6666666666666666,\"#ed7953\"],[0.7777777777777778,\"#fb9f3a\"],[0.8888888888888888,\"#fdca26\"],[1.0,\"#f0f921\"]],\"type\":\"heatmapgl\"}],\"heatmap\":[{\"colorbar\":{\"outlinewidth\":0,\"ticks\":\"\"},\"colorscale\":[[0.0,\"#0d0887\"],[0.1111111111111111,\"#46039f\"],[0.2222222222222222,\"#7201a8\"],[0.3333333333333333,\"#9c179e\"],[0.4444444444444444,\"#bd3786\"],[0.5555555555555556,\"#d8576b\"],[0.6666666666666666,\"#ed7953\"],[0.7777777777777778,\"#fb9f3a\"],[0.8888888888888888,\"#fdca26\"],[1.0,\"#f0f921\"]],\"type\":\"heatmap\"}],\"histogram2dcontour\":[{\"colorbar\":{\"outlinewidth\":0,\"ticks\":\"\"},\"colorscale\":[[0.0,\"#0d0887\"],[0.1111111111111111,\"#46039f\"],[0.2222222222222222,\"#7201a8\"],[0.3333333333333333,\"#9c179e\"],[0.4444444444444444,\"#bd3786\"],[0.5555555555555556,\"#d8576b\"],[0.6666666666666666,\"#ed7953\"],[0.7777777777777778,\"#fb9f3a\"],[0.8888888888888888,\"#fdca26\"],[1.0,\"#f0f921\"]],\"type\":\"histogram2dcontour\"}],\"histogram2d\":[{\"colorbar\":{\"outlinewidth\":0,\"ticks\":\"\"},\"colorscale\":[[0.0,\"#0d0887\"],[0.1111111111111111,\"#46039f\"],[0.2222222222222222,\"#7201a8\"],[0.3333333333333333,\"#9c179e\"],[0.4444444444444444,\"#bd3786\"],[0.5555555555555556,\"#d8576b\"],[0.6666666666666666,\"#ed7953\"],[0.7777777777777778,\"#fb9f3a\"],[0.8888888888888888,\"#fdca26\"],[1.0,\"#f0f921\"]],\"type\":\"histogram2d\"}],\"histogram\":[{\"marker\":{\"pattern\":{\"fillmode\":\"overlay\",\"size\":10,\"solidity\":0.2}},\"type\":\"histogram\"}],\"mesh3d\":[{\"colorbar\":{\"outlinewidth\":0,\"ticks\":\"\"},\"type\":\"mesh3d\"}],\"parcoords\":[{\"line\":{\"colorbar\":{\"outlinewidth\":0,\"ticks\":\"\"}},\"type\":\"parcoords\"}],\"pie\":[{\"automargin\":true,\"type\":\"pie\"}],\"scatter3d\":[{\"line\":{\"colorbar\":{\"outlinewidth\":0,\"ticks\":\"\"}},\"marker\":{\"colorbar\":{\"outlinewidth\":0,\"ticks\":\"\"}},\"type\":\"scatter3d\"}],\"scattercarpet\":[{\"marker\":{\"colorbar\":{\"outlinewidth\":0,\"ticks\":\"\"}},\"type\":\"scattercarpet\"}],\"scattergeo\":[{\"marker\":{\"colorbar\":{\"outlinewidth\":0,\"ticks\":\"\"}},\"type\":\"scattergeo\"}],\"scattergl\":[{\"marker\":{\"colorbar\":{\"outlinewidth\":0,\"ticks\":\"\"}},\"type\":\"scattergl\"}],\"scattermapbox\":[{\"marker\":{\"colorbar\":{\"outlinewidth\":0,\"ticks\":\"\"}},\"type\":\"scattermapbox\"}],\"scatterpolargl\":[{\"marker\":{\"colorbar\":{\"outlinewidth\":0,\"ticks\":\"\"}},\"type\":\"scatterpolargl\"}],\"scatterpolar\":[{\"marker\":{\"colorbar\":{\"outlinewidth\":0,\"ticks\":\"\"}},\"type\":\"scatterpolar\"}],\"scatter\":[{\"fillpattern\":{\"fillmode\":\"overlay\",\"size\":10,\"solidity\":0.2},\"type\":\"scatter\"}],\"scatterternary\":[{\"marker\":{\"colorbar\":{\"outlinewidth\":0,\"ticks\":\"\"}},\"type\":\"scatterternary\"}],\"surface\":[{\"colorbar\":{\"outlinewidth\":0,\"ticks\":\"\"},\"colorscale\":[[0.0,\"#0d0887\"],[0.1111111111111111,\"#46039f\"],[0.2222222222222222,\"#7201a8\"],[0.3333333333333333,\"#9c179e\"],[0.4444444444444444,\"#bd3786\"],[0.5555555555555556,\"#d8576b\"],[0.6666666666666666,\"#ed7953\"],[0.7777777777777778,\"#fb9f3a\"],[0.8888888888888888,\"#fdca26\"],[1.0,\"#f0f921\"]],\"type\":\"surface\"}],\"table\":[{\"cells\":{\"fill\":{\"color\":\"#EBF0F8\"},\"line\":{\"color\":\"white\"}},\"header\":{\"fill\":{\"color\":\"#C8D4E3\"},\"line\":{\"color\":\"white\"}},\"type\":\"table\"}]},\"layout\":{\"annotationdefaults\":{\"arrowcolor\":\"#2a3f5f\",\"arrowhead\":0,\"arrowwidth\":1},\"autotypenumbers\":\"strict\",\"coloraxis\":{\"colorbar\":{\"outlinewidth\":0,\"ticks\":\"\"}},\"colorscale\":{\"diverging\":[[0,\"#8e0152\"],[0.1,\"#c51b7d\"],[0.2,\"#de77ae\"],[0.3,\"#f1b6da\"],[0.4,\"#fde0ef\"],[0.5,\"#f7f7f7\"],[0.6,\"#e6f5d0\"],[0.7,\"#b8e186\"],[0.8,\"#7fbc41\"],[0.9,\"#4d9221\"],[1,\"#276419\"]],\"sequential\":[[0.0,\"#0d0887\"],[0.1111111111111111,\"#46039f\"],[0.2222222222222222,\"#7201a8\"],[0.3333333333333333,\"#9c179e\"],[0.4444444444444444,\"#bd3786\"],[0.5555555555555556,\"#d8576b\"],[0.6666666666666666,\"#ed7953\"],[0.7777777777777778,\"#fb9f3a\"],[0.8888888888888888,\"#fdca26\"],[1.0,\"#f0f921\"]],\"sequentialminus\":[[0.0,\"#0d0887\"],[0.1111111111111111,\"#46039f\"],[0.2222222222222222,\"#7201a8\"],[0.3333333333333333,\"#9c179e\"],[0.4444444444444444,\"#bd3786\"],[0.5555555555555556,\"#d8576b\"],[0.6666666666666666,\"#ed7953\"],[0.7777777777777778,\"#fb9f3a\"],[0.8888888888888888,\"#fdca26\"],[1.0,\"#f0f921\"]]},\"colorway\":[\"#636efa\",\"#EF553B\",\"#00cc96\",\"#ab63fa\",\"#FFA15A\",\"#19d3f3\",\"#FF6692\",\"#B6E880\",\"#FF97FF\",\"#FECB52\"],\"font\":{\"color\":\"#2a3f5f\"},\"geo\":{\"bgcolor\":\"white\",\"lakecolor\":\"white\",\"landcolor\":\"#E5ECF6\",\"showlakes\":true,\"showland\":true,\"subunitcolor\":\"white\"},\"hoverlabel\":{\"align\":\"left\"},\"hovermode\":\"closest\",\"mapbox\":{\"style\":\"light\"},\"paper_bgcolor\":\"white\",\"plot_bgcolor\":\"#E5ECF6\",\"polar\":{\"angularaxis\":{\"gridcolor\":\"white\",\"linecolor\":\"white\",\"ticks\":\"\"},\"bgcolor\":\"#E5ECF6\",\"radialaxis\":{\"gridcolor\":\"white\",\"linecolor\":\"white\",\"ticks\":\"\"}},\"scene\":{\"xaxis\":{\"backgroundcolor\":\"#E5ECF6\",\"gridcolor\":\"white\",\"gridwidth\":2,\"linecolor\":\"white\",\"showbackground\":true,\"ticks\":\"\",\"zerolinecolor\":\"white\"},\"yaxis\":{\"backgroundcolor\":\"#E5ECF6\",\"gridcolor\":\"white\",\"gridwidth\":2,\"linecolor\":\"white\",\"showbackground\":true,\"ticks\":\"\",\"zerolinecolor\":\"white\"},\"zaxis\":{\"backgroundcolor\":\"#E5ECF6\",\"gridcolor\":\"white\",\"gridwidth\":2,\"linecolor\":\"white\",\"showbackground\":true,\"ticks\":\"\",\"zerolinecolor\":\"white\"}},\"shapedefaults\":{\"line\":{\"color\":\"#2a3f5f\"}},\"ternary\":{\"aaxis\":{\"gridcolor\":\"white\",\"linecolor\":\"white\",\"ticks\":\"\"},\"baxis\":{\"gridcolor\":\"white\",\"linecolor\":\"white\",\"ticks\":\"\"},\"bgcolor\":\"#E5ECF6\",\"caxis\":{\"gridcolor\":\"white\",\"linecolor\":\"white\",\"ticks\":\"\"}},\"title\":{\"x\":0.05},\"xaxis\":{\"automargin\":true,\"gridcolor\":\"white\",\"linecolor\":\"white\",\"ticks\":\"\",\"title\":{\"standoff\":15},\"zerolinecolor\":\"white\",\"zerolinewidth\":2},\"yaxis\":{\"automargin\":true,\"gridcolor\":\"white\",\"linecolor\":\"white\",\"ticks\":\"\",\"title\":{\"standoff\":15},\"zerolinecolor\":\"white\",\"zerolinewidth\":2}}},\"title\":{\"text\":\"CR7 Goals\"}},                        {\"responsive\": true}                    ).then(function(){\n",
       "                            \n",
       "var gd = document.getElementById('5fdcc352-78ba-4005-8f2a-efcfc56a65da');\n",
       "var x = new MutationObserver(function (mutations, observer) {{\n",
       "        var display = window.getComputedStyle(gd).display;\n",
       "        if (!display || display === 'none') {{\n",
       "            console.log([gd, 'removed!']);\n",
       "            Plotly.purge(gd);\n",
       "            observer.disconnect();\n",
       "        }}\n",
       "}});\n",
       "\n",
       "// Listen for the removal of the full notebook cells\n",
       "var notebookContainer = gd.closest('#notebook-container');\n",
       "if (notebookContainer) {{\n",
       "    x.observe(notebookContainer, {childList: true});\n",
       "}}\n",
       "\n",
       "// Listen for the clearing of the current output cell\n",
       "var outputEl = gd.closest('.output');\n",
       "if (outputEl) {{\n",
       "    x.observe(outputEl, {childList: true});\n",
       "}}\n",
       "\n",
       "                        })                };                });            </script>        </div>"
      ]
     },
     "metadata": {},
     "output_type": "display_data"
    }
   ],
   "source": [
    "\n",
    "trace1 = go.Scatter(x=dfl.Date,\n",
    "                    y=dfl.Goal_no,\n",
    "                    name = \"CR7 Total Goals Time graph\",\n",
    "                    line = dict(color = 'blue'),\n",
    "                    opacity = 0.4)\n",
    "\n",
    "layout = dict(title='CR7 Goals',)\n",
    "\n",
    "fig = dict(data=[trace1], layout=layout)\n",
    "iplot(fig)"
   ]
  },
  {
   "cell_type": "markdown",
   "id": "0e1c879f",
   "metadata": {},
   "source": [
    "### Evet veri bilimi yolculuğunda bir projenin daha sonuna geldik. Bu projede benim de çok sevdiğim tarihin en iyi futbolcularından Cristiano Ronaldonun kariyer analizini gerçekleştirdik. Siz de farklı grafikler ve veri setleri ile bu çalışmayı genişletebilirsiniz. Beğenmeyi ve fork etmeyi unutmayın. Sağlıklı günler dilerim."
   ]
  },
  {
   "cell_type": "code",
   "execution_count": null,
   "id": "b64c3ae7",
   "metadata": {},
   "outputs": [],
   "source": []
  }
 ],
 "metadata": {
  "kernelspec": {
   "display_name": "Python 3",
   "language": "python",
   "name": "python3"
  },
  "language_info": {
   "codemirror_mode": {
    "name": "ipython",
    "version": 3
   },
   "file_extension": ".py",
   "mimetype": "text/x-python",
   "name": "python",
   "nbconvert_exporter": "python",
   "pygments_lexer": "ipython3",
   "version": "3.10.6"
  }
 },
 "nbformat": 4,
 "nbformat_minor": 5
}
